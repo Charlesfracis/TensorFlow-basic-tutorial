{
 "cells": [
  {
   "cell_type": "markdown",
   "metadata": {},
   "source": [
    "## 模块导入"
   ]
  },
  {
   "cell_type": "code",
   "execution_count": 1,
   "metadata": {},
   "outputs": [
    {
     "data": {
      "text/plain": [
       "'1.15.2'"
      ]
     },
     "execution_count": 1,
     "metadata": {},
     "output_type": "execute_result"
    }
   ],
   "source": [
    "import tensorflow as tf\n",
    "import gzip\n",
    "import numpy as np\n",
    "from tensorflow.examples.tutorials.mnist import input_data\n",
    "import matplotlib.pyplot as plt\n",
    "import os\n",
    "\n",
    "tf.__version__"
   ]
  },
  {
   "cell_type": "markdown",
   "metadata": {},
   "source": [
    "## gzip 使用"
   ]
  },
  {
   "cell_type": "code",
   "execution_count": 2,
   "metadata": {},
   "outputs": [],
   "source": [
    "with open('gzip_demo/demo', 'rb') as plain_file:\n",
    "    with gzip.open('gzip_demo/demo.gz', 'wb') as zip_file:\n",
    "        zip_file.writelines(plain_file)"
   ]
  },
  {
   "cell_type": "code",
   "execution_count": 3,
   "metadata": {},
   "outputs": [
    {
     "name": "stdout",
     "output_type": "stream",
     "text": [
      "读取 gz 文件: how to use gzip\n"
     ]
    }
   ],
   "source": [
    "with gzip.open('gzip_demo/demo.gz') as g:\n",
    "    print('读取 gz 文件:', g.read().decode('utf-8'))"
   ]
  },
  {
   "cell_type": "markdown",
   "metadata": {},
   "source": [
    "## 数据读取方式一\n",
    "**官网读取方式**"
   ]
  },
  {
   "cell_type": "code",
   "execution_count": 4,
   "metadata": {},
   "outputs": [
    {
     "name": "stdout",
     "output_type": "stream",
     "text": [
      "WARNING:tensorflow:From <ipython-input-4-279dd6d6ae8b>:1: read_data_sets (from tensorflow.examples.tutorials.mnist.input_data) is deprecated and will be removed in a future version.\n",
      "Instructions for updating:\n",
      "Please use alternatives such as: tensorflow_datasets.load('mnist')\n",
      "WARNING:tensorflow:From e:\\anaconda3\\envs\\tensorflow1.x\\lib\\site-packages\\tensorflow_core\\examples\\tutorials\\mnist\\input_data.py:297: _maybe_download (from tensorflow.examples.tutorials.mnist.input_data) is deprecated and will be removed in a future version.\n",
      "Instructions for updating:\n",
      "Please write your own downloading logic.\n",
      "WARNING:tensorflow:From e:\\anaconda3\\envs\\tensorflow1.x\\lib\\site-packages\\tensorflow_core\\examples\\tutorials\\mnist\\input_data.py:299: _extract_images (from tensorflow.examples.tutorials.mnist.input_data) is deprecated and will be removed in a future version.\n",
      "Instructions for updating:\n",
      "Please use tf.data to implement this functionality.\n",
      "Extracting ./dataset_download/mnist/train-images-idx3-ubyte.gz\n",
      "WARNING:tensorflow:From e:\\anaconda3\\envs\\tensorflow1.x\\lib\\site-packages\\tensorflow_core\\examples\\tutorials\\mnist\\input_data.py:304: _extract_labels (from tensorflow.examples.tutorials.mnist.input_data) is deprecated and will be removed in a future version.\n",
      "Instructions for updating:\n",
      "Please use tf.data to implement this functionality.\n",
      "Extracting ./dataset_download/mnist/train-labels-idx1-ubyte.gz\n",
      "Extracting ./dataset_download/mnist/t10k-images-idx3-ubyte.gz\n",
      "Extracting ./dataset_download/mnist/t10k-labels-idx1-ubyte.gz\n",
      "WARNING:tensorflow:From e:\\anaconda3\\envs\\tensorflow1.x\\lib\\site-packages\\tensorflow_core\\examples\\tutorials\\mnist\\input_data.py:328: _DataSet.__init__ (from tensorflow.examples.tutorials.mnist.input_data) is deprecated and will be removed in a future version.\n",
      "Instructions for updating:\n",
      "Please use alternatives such as official/mnist/_DataSet.py from tensorflow/models.\n",
      "train images shape: (55000, 784) \n",
      "train labels shape: (55000,)\n"
     ]
    },
    {
     "data": {
      "image/png": "[encoded data removed]",
      "text/plain": [
       "<Figure size 432x288 with 1 Axes>"
      ]
     },
     "metadata": {
      "needs_background": "light"
     },
     "output_type": "display_data"
    }
   ],
   "source": [
    "mnist = input_data.read_data_sets('./dataset_download/mnist/', one_hot=False)\n",
    "\n",
    "print('train images shape:', mnist.train.images.shape,\n",
    "      '\\ntrain labels shape:', mnist.train.labels.shape)\n",
    "\n",
    "plt.imshow(mnist.train.images[0].reshape(28, 28), cmap='binary')\n",
    "plt.title(str(mnist.train.labels[0]))\n",
    "\n",
    "plt.show()"
   ]
  },
  {
   "cell_type": "markdown",
   "metadata": {},
   "source": [
    "可以利用 fake_data=True 来 返回空列表数据"
   ]
  },
  {
   "cell_type": "code",
   "execution_count": 5,
   "metadata": {},
   "outputs": [
    {
     "name": "stdout",
     "output_type": "stream",
     "text": [
      "train images: [] \n",
      "train labels: [] \n",
      "validation images: [] \n",
      "validation labels: [] \n",
      "test images: [] \n",
      "test labels: []\n"
     ]
    }
   ],
   "source": [
    "mnist = input_data.read_data_sets('./dataset_download/mnist/', fake_data=True, one_hot=False)\n",
    "print('train images:', mnist.train.images,\n",
    "      '\\ntrain labels:', mnist.train.labels,\n",
    "      '\\nvalidation images:', mnist.validation.images,\n",
    "      '\\nvalidation labels:', mnist.validation.labels,\n",
    "      '\\ntest images:', mnist.test.images,\n",
    "      '\\ntest labels:', mnist.test.labels)"
   ]
  },
  {
   "cell_type": "markdown",
   "metadata": {},
   "source": [
    "## 数据获取方式二"
   ]
  },
  {
   "cell_type": "markdown",
   "metadata": {},
   "source": [
    "定义大尾（big endian）存放方式"
   ]
  },
  {
   "cell_type": "code",
   "execution_count": 6,
   "metadata": {},
   "outputs": [],
   "source": [
    "def read32(bytestream):\n",
    "    dt = np.dtype(np.uint32).newbyteorder('>')\n",
    "    \n",
    "    return np.frombuffer(bytestream.read(4), dtype=dt)[0]"
   ]
  },
  {
   "cell_type": "markdown",
   "metadata": {},
   "source": [
    "将 magic number=2051 作为图像文件在读取时的判断条件，读取的数据通过 `data = np.frombuffer(buf, dtype=np.uint8)` 转换成 numpy 数组，这是只有一个维度的数据，通过 `data = data.reshape(num_images, rows, cols, 1)` 获取 28×28 形式的数据"
   ]
  },
  {
   "cell_type": "code",
   "execution_count": 7,
   "metadata": {},
   "outputs": [],
   "source": [
    "def extract_images(f):\n",
    "\n",
    "    print('Extracting', f.name)\n",
    "    with gzip.GzipFile(fileobj=f) as bytestream:\n",
    "        magic = read32(bytestream)\n",
    "        if magic != 2051:\n",
    "            raise ValueError('Invalid magic number %d in MNIST image file: %s' %\n",
    "                             (magic, f.name))\n",
    "        num_images = read32(bytestream)\n",
    "        rows = read32(bytestream)\n",
    "        cols = read32(bytestream)\n",
    "        buf = bytestream.read(rows * cols * num_images)\n",
    "        data = np.frombuffer(buf, dtype=np.uint8)\n",
    "        data = data.reshape(num_images, rows, cols, 1)\n",
    "\n",
    "        return data"
   ]
  },
  {
   "cell_type": "markdown",
   "metadata": {},
   "source": [
    "one_hot 编码\n",
    "dense_to_one_hot() 是官网使用的独热编码函数，one_hot() 则是重新定义的独热编码函数"
   ]
  },
  {
   "cell_type": "code",
   "execution_count": 8,
   "metadata": {},
   "outputs": [],
   "source": [
    "def dense_to_one_hot(labels_dense, num_classes):\n",
    "    num_labels = labels_dense.shape[0]\n",
    "    index_offset = np.arange(num_labels) * num_classes\n",
    "    labels_one_hot = np.zeros((num_labels, num_classes))\n",
    "    labels_one_hot.flat[index_offset + labels_dense.ravel()] = 1\n",
    "\n",
    "    return labels_one_hot"
   ]
  },
  {
   "cell_type": "code",
   "execution_count": 9,
   "metadata": {},
   "outputs": [],
   "source": [
    "from sklearn.preprocessing import OneHotEncoder\n",
    "\n",
    "def one_hot(labels):\n",
    "    encoder = OneHotEncoder(sparse=False)\n",
    "\n",
    "    one_hot = [[0],[1],[2],[3],[4],[5],[6],[7],[8],[9]]\n",
    "    encoder.fit(one_hot)\n",
    "    labels_reshape = labels.reshape(-1, 1)\n",
    "    labels_onehot = encoder.transform(labels_reshape)\n",
    "    \n",
    "    return labels_onehot"
   ]
  },
  {
   "cell_type": "markdown",
   "metadata": {},
   "source": [
    "将 magic number=2049 作为标签文件在读取时的判断条件  \n",
    "这里在 `if not_hot`: 判定中使用 `one_hot()` 函数代替 `dense_to_one_hot()`"
   ]
  },
  {
   "cell_type": "code",
   "execution_count": 10,
   "metadata": {},
   "outputs": [],
   "source": [
    "def extract_labels(f, one_hot=False):\n",
    "\n",
    "    print('Extracting', f.name)\n",
    "    with gzip.GzipFile(fileobj=f) as bytestream:\n",
    "        magic = read32(bytestream)\n",
    "        if magic != 2049:\n",
    "            raise ValueError('Invalid magic number %d in MNIST label file: %s' %\n",
    "                             (magic, f.name))\n",
    "        num_items = read32(bytestream)\n",
    "        buf = bytestream.read(num_items)\n",
    "        labels = np.frombuffer(buf, dtype=np.uint8)\n",
    "\n",
    "        if one_hot:\n",
    "            return one_hot(labels)\n",
    "\n",
    "        return labels"
   ]
  },
  {
   "cell_type": "markdown",
   "metadata": {},
   "source": [
    "读取单个图像文件与单个标签文件\n",
    "也可以不导入 gfile 包，将下面的 with 结构如下调换也能运转\n",
    "\n",
    "`with open(local_file, 'rb') as f:`   \n",
    "&ensp;&ensp;&ensp;&ensp;`train_images = extract_images(f)`"
   ]
  },
  {
   "cell_type": "code",
   "execution_count": 11,
   "metadata": {},
   "outputs": [],
   "source": [
    "from tensorflow.python.framework import dtypes\n",
    "from tensorflow.python.platform import gfile\n",
    "\n",
    "def read_data_sets(one_hot=False,\n",
    "                   dtype=dtypes.float32,\n",
    "                   reshape=True,\n",
    "                   seed=None):\n",
    "\n",
    "    local_image_file = 'dataset_download/mnist/train-images-idx3-ubyte.gz'\n",
    "    with gfile.Open(local_image_file, 'rb') as f:\n",
    "        train_images = extract_images(f)\n",
    "    \n",
    "    local_label_file = 'dataset_download/mnist/train-labels-idx1-ubyte.gz'\n",
    "    with gfile.Open(local_label_file, 'rb') as f:\n",
    "        train_labels = extract_labels(f)\n",
    "\n",
    "    return train_images, train_labels"
   ]
  },
  {
   "cell_type": "code",
   "execution_count": 12,
   "metadata": {},
   "outputs": [
    {
     "name": "stdout",
     "output_type": "stream",
     "text": [
      "Extracting dataset_download/mnist/train-images-idx3-ubyte.gz\n",
      "Extracting dataset_download/mnist/train-labels-idx1-ubyte.gz\n"
     ]
    }
   ],
   "source": [
    "train_images, train_labels = read_data_sets()"
   ]
  },
  {
   "cell_type": "code",
   "execution_count": 13,
   "metadata": {},
   "outputs": [
    {
     "data": {
      "image/png": "[encoded data removed]",
      "text/plain": [
       "<Figure size 432x288 with 1 Axes>"
      ]
     },
     "metadata": {
      "needs_background": "light"
     },
     "output_type": "display_data"
    }
   ],
   "source": [
    "plt.imshow(train_images[0].reshape(28, 28), cmap='gray')\n",
    "plt.title(train_labels[0], fontsize=20)\n",
    "plt.axis('off')\n",
    "\n",
    "plt.show()"
   ]
  },
  {
   "cell_type": "code",
   "execution_count": 14,
   "metadata": {},
   "outputs": [
    {
     "data": {
      "text/plain": [
       "array([[0., 0., 0., ..., 0., 0., 0.],\n",
       "       [1., 0., 0., ..., 0., 0., 0.],\n",
       "       [0., 0., 0., ..., 0., 0., 0.],\n",
       "       ...,\n",
       "       [0., 0., 0., ..., 0., 0., 0.],\n",
       "       [0., 0., 0., ..., 0., 0., 0.],\n",
       "       [0., 0., 0., ..., 0., 1., 0.]])"
      ]
     },
     "execution_count": 14,
     "metadata": {},
     "output_type": "execute_result"
    }
   ],
   "source": [
    "train_labels_onehot = one_hot(train_labels)\n",
    "train_labels_onehot"
   ]
  },
  {
   "cell_type": "code",
   "execution_count": 15,
   "metadata": {},
   "outputs": [
    {
     "data": {
      "text/plain": [
       "array([[0., 0., 0., ..., 0., 0., 0.],\n",
       "       [1., 0., 0., ..., 0., 0., 0.],\n",
       "       [0., 0., 0., ..., 0., 0., 0.],\n",
       "       ...,\n",
       "       [0., 0., 0., ..., 0., 0., 0.],\n",
       "       [0., 0., 0., ..., 0., 0., 0.],\n",
       "       [0., 0., 0., ..., 0., 1., 0.]])"
      ]
     },
     "execution_count": 15,
     "metadata": {},
     "output_type": "execute_result"
    }
   ],
   "source": [
    "train_labels_dense_to_one_hot = dense_to_one_hot(train_labels, 10)\n",
    "train_labels_dense_to_one_hot"
   ]
  },
  {
   "cell_type": "markdown",
   "metadata": {},
   "source": [
    "### 获取整个Mnist训练集、测试集与验证集"
   ]
  },
  {
   "cell_type": "code",
   "execution_count": 16,
   "metadata": {},
   "outputs": [],
   "source": [
    "def get_dataset(one_hot=False,\n",
    "                dtype=dtypes.float32,\n",
    "                reshape=True,\n",
    "                validation_size=5000,\n",
    "                seed=None):\n",
    "\n",
    "    train_image_file = 'dataset_download/mnist/train-images-idx3-ubyte.gz'\n",
    "    with gfile.Open(train_image_file, 'rb') as f:\n",
    "        train_images = extract_images(f)\n",
    "    \n",
    "    train_label_file = 'dataset_download/mnist/train-labels-idx1-ubyte.gz'\n",
    "    with gfile.Open(train_label_file, 'rb') as f:\n",
    "        train_labels = extract_labels(f)\n",
    "        \n",
    "    test_image_file = 'dataset_download/mnist/t10k-images-idx3-ubyte.gz'\n",
    "    with gfile.Open(test_image_file, 'rb') as f:\n",
    "        test_images = extract_images(f)    \n",
    "        \n",
    "    test_label_file = 'dataset_download/mnist/t10k-labels-idx1-ubyte.gz'\n",
    "    with gfile.Open(test_label_file, 'rb') as f:\n",
    "        test_labels = extract_labels(f)    \n",
    "    \n",
    "    validation_images = train_images[:validation_size]\n",
    "    validation_labels = train_labels[:validation_size]\n",
    "    train_images = train_images[validation_size:]\n",
    "    train_labels = train_labels[validation_size:]\n",
    "\n",
    "    return (train_images, train_labels), (test_images, test_labels), (validation_images, validation_labels)"
   ]
  },
  {
   "cell_type": "code",
   "execution_count": 17,
   "metadata": {},
   "outputs": [
    {
     "name": "stdout",
     "output_type": "stream",
     "text": [
      "Extracting dataset_download/mnist/train-images-idx3-ubyte.gz\n",
      "Extracting dataset_download/mnist/train-labels-idx1-ubyte.gz\n",
      "Extracting dataset_download/mnist/t10k-images-idx3-ubyte.gz\n",
      "Extracting dataset_download/mnist/t10k-labels-idx1-ubyte.gz\n"
     ]
    }
   ],
   "source": [
    "(train_images, train_labels), (test_images, test_labels), (validation_images, validation_labels) = get_dataset()"
   ]
  },
  {
   "cell_type": "code",
   "execution_count": 18,
   "metadata": {},
   "outputs": [
    {
     "data": {
      "image/png": "[encoded data removed]",
      "text/plain": [
       "<Figure size 1440x360 with 3 Axes>"
      ]
     },
     "metadata": {
      "needs_background": "light"
     },
     "output_type": "display_data"
    }
   ],
   "source": [
    "fig = plt.figure(figsize=(20, 5))\n",
    "image_list = [train_images[0].reshape(28, 28),\n",
    "              test_images[0].reshape(28, 28),\n",
    "              validation_images[0].reshape(28, 28)]\n",
    "\n",
    "label_list = [str(train_labels[0]),\n",
    "              str(test_labels[0]),\n",
    "              str(validation_labels[0])]\n",
    "\n",
    "for i in range(3):\n",
    "    plt.subplot(1, 3, i + 1)\n",
    "    plt.imshow(image_list[i], cmap='gray')\n",
    "    plt.title(label_list[i], fontsize=20)\n",
    "    plt.axis('off')\n",
    "\n",
    "plt.show()"
   ]
  },
  {
   "cell_type": "markdown",
   "metadata": {},
   "source": [
    "### 获取整个 Fashion-Mnist 训练集、测试集与验证集"
   ]
  },
  {
   "cell_type": "code",
   "execution_count": 19,
   "metadata": {},
   "outputs": [],
   "source": [
    "def get_dataset(one_hot=False,\n",
    "                dtype=dtypes.float32,\n",
    "                reshape=True,\n",
    "                validation_size=5000,\n",
    "                seed=None):\n",
    "\n",
    "    train_image_file = 'dataset_download/fashion_mnist/train-images-idx3-ubyte.gz'\n",
    "    with gfile.Open(train_image_file, 'rb') as f:\n",
    "        train_images = extract_images(f)\n",
    "    \n",
    "    train_label_file = 'dataset_download/fashion_mnist/train-labels-idx1-ubyte.gz'\n",
    "    with gfile.Open(train_label_file, 'rb') as f:\n",
    "        train_labels = extract_labels(f)\n",
    "        \n",
    "    test_image_file = 'dataset_download/fashion_mnist/t10k-images-idx3-ubyte.gz'\n",
    "    with gfile.Open(test_image_file, 'rb') as f:\n",
    "        test_images = extract_images(f)    \n",
    "        \n",
    "    test_label_file = 'dataset_download/fashion_mnist/t10k-labels-idx1-ubyte.gz'\n",
    "    with gfile.Open(test_label_file, 'rb') as f:\n",
    "        test_labels = extract_labels(f)    \n",
    "    \n",
    "    validation_images = train_images[:validation_size]\n",
    "    validation_labels = train_labels[:validation_size]\n",
    "    train_images = train_images[validation_size:]\n",
    "    train_labels = train_labels[validation_size:]\n",
    "\n",
    "    return (train_images, train_labels), (test_images, test_labels), (validation_images, validation_labels)"
   ]
  },
  {
   "cell_type": "code",
   "execution_count": 20,
   "metadata": {},
   "outputs": [
    {
     "name": "stdout",
     "output_type": "stream",
     "text": [
      "Extracting dataset_download/fashion_mnist/train-images-idx3-ubyte.gz\n",
      "Extracting dataset_download/fashion_mnist/train-labels-idx1-ubyte.gz\n",
      "Extracting dataset_download/fashion_mnist/t10k-images-idx3-ubyte.gz\n",
      "Extracting dataset_download/fashion_mnist/t10k-labels-idx1-ubyte.gz\n"
     ]
    }
   ],
   "source": [
    "(train_images, train_labels), (test_images, test_labels), (validation_images, validation_labels) = get_dataset()"
   ]
  },
  {
   "cell_type": "markdown",
   "metadata": {},
   "source": [
    "| 标注编号 | 描述 |\n",
    "| --- | --- |\n",
    "| 0 | T-shirt/top（T恤）|\n",
    "| 1 | Trouser（裤子）|\n",
    "| 2 | Pullover（套衫）|\n",
    "| 3 | Dress（裙子）|\n",
    "| 4 | Coat（外套）|\n",
    "| 5 | Sandal（凉鞋）|\n",
    "| 6 | Shirt（汗衫）|\n",
    "| 7 | Sneaker（运动鞋）|\n",
    "| 8 | Bag（包）|\n",
    "| 9 | Ankle boot（踝靴）|"
   ]
  },
  {
   "cell_type": "code",
   "execution_count": 21,
   "metadata": {},
   "outputs": [
    {
     "data": {
      "image/png": "[encoded data removed]",
      "text/plain": [
       "<Figure size 1440x360 with 3 Axes>"
      ]
     },
     "metadata": {
      "needs_background": "light"
     },
     "output_type": "display_data"
    }
   ],
   "source": [
    "class_dict = {0:'T-shirt', 1:'Trouser', 2:'Pullover', 3:'Dress', 4:'Coat',\n",
    "              5:'Sandal', 6:'Shirt', 7:'Sneaker', 8:'Bag', 9:'Ankle boot'}\n",
    "\n",
    "fig = plt.figure(figsize=(20, 5))\n",
    "image_list = [train_images[0].reshape(28, 28),\n",
    "              test_images[0].reshape(28, 28),\n",
    "              validation_images[0].reshape(28, 28)]\n",
    "\n",
    "label_list = [train_labels[0],\n",
    "              test_labels[0],\n",
    "              validation_labels[0]]\n",
    "\n",
    "for i in range(3):\n",
    "    plt.subplot(1, 3, i + 1)\n",
    "    plt.imshow(image_list[i], cmap='gray')\n",
    "    plt.title(class_dict[label_list[i]], fontsize=20)\n",
    "    plt.axis('off')\n",
    "\n",
    "plt.show()"
   ]
  },
  {
   "cell_type": "markdown",
   "metadata": {},
   "source": [
    "## 数据获取方式三\n",
    "**本次直接将所有数据串在一起，为后期做 GAN 与 CGAN 做数据读取处理用**，直接在函数内部将文件夹定位到 `dataset_download`，在定义解压函数中，并未使用 magic number 获取数据的方式，而是使用 head_size 即 [offset] 0008 与 0016 的方式获取"
   ]
  },
  {
   "cell_type": "code",
   "execution_count": 22,
   "metadata": {},
   "outputs": [],
   "source": [
    "def extract_data(filename, num_data, head_size, data_size):\n",
    "    with gzip.open(filename) as bytestream:\n",
    "        bytestream.read(head_size)\n",
    "        buf = bytestream.read(data_size * num_data)\n",
    "        data = np.frombuffer(buf, dtype=np.uint8).astype(np.float)\n",
    "    return data"
   ]
  },
  {
   "cell_type": "markdown",
   "metadata": {},
   "source": [
    "获取 mnist 图像数据，与上面相同，获取的数据只有一个维度，我们需要将其 reshape 成 28×28 的形式"
   ]
  },
  {
   "cell_type": "code",
   "execution_count": 23,
   "metadata": {},
   "outputs": [
    {
     "name": "stdout",
     "output_type": "stream",
     "text": [
      "train_images_data shape: (47040000,)\n"
     ]
    }
   ],
   "source": [
    "dataset_name = 'mnist'\n",
    "data_dir = os.path.join(\"./dataset_download\", dataset_name)\n",
    "train_images_data = extract_data(data_dir + '/train-images-idx3-ubyte.gz', 60000, 16, 28 * 28)\n",
    "\n",
    "print('train_images_data shape:', train_images_data.shape)"
   ]
  },
  {
   "cell_type": "code",
   "execution_count": 24,
   "metadata": {},
   "outputs": [
    {
     "name": "stdout",
     "output_type": "stream",
     "text": [
      "train_images shape: (60000, 28, 28, 1)\n"
     ]
    }
   ],
   "source": [
    "train_images = train_images_data.reshape(-1, 28, 28, 1)\n",
    "print('train_images shape:', train_images.shape)"
   ]
  },
  {
   "cell_type": "markdown",
   "metadata": {},
   "source": [
    "解析下方 load_data() 创建 one_hot 的方法，以 10 个类别为例，先创建一个暂存的零矩阵，在遍历修改零矩阵的值"
   ]
  },
  {
   "cell_type": "code",
   "execution_count": 25,
   "metadata": {},
   "outputs": [
    {
     "name": "stdout",
     "output_type": "stream",
     "text": [
      "a:\n",
      " [5 4 8 6 3 2 4 7 8 1] \n",
      "a_one_hot: [[0. 0. 0. 0. 0. 1. 0. 0. 0. 0.]\n",
      " [0. 0. 0. 0. 1. 0. 0. 0. 0. 0.]\n",
      " [0. 0. 0. 0. 0. 0. 0. 0. 1. 0.]\n",
      " [0. 0. 0. 0. 0. 0. 1. 0. 0. 0.]\n",
      " [0. 0. 0. 1. 0. 0. 0. 0. 0. 0.]\n",
      " [0. 0. 1. 0. 0. 0. 0. 0. 0. 0.]\n",
      " [0. 0. 0. 0. 1. 0. 0. 0. 0. 0.]\n",
      " [0. 0. 0. 0. 0. 0. 0. 1. 0. 0.]\n",
      " [0. 0. 0. 0. 0. 0. 0. 0. 1. 0.]\n",
      " [0. 1. 0. 0. 0. 0. 0. 0. 0. 0.]]\n"
     ]
    }
   ],
   "source": [
    "a = np.array([5, 4, 8, 6, 3, 2, 4, 7, 8, 1])\n",
    "a_one_hot = np.zeros((len(a), 10), dtype=float)\n",
    "\n",
    "for i, label in enumerate(a):\n",
    "    a_one_hot[i, label] = 1.0\n",
    "\n",
    "print('a:\\n', a,\n",
    "      '\\na_one_hot:', a_one_hot)"
   ]
  },
  {
   "cell_type": "code",
   "execution_count": 26,
   "metadata": {},
   "outputs": [],
   "source": [
    "def load_data(dataset_name, onehot=False):\n",
    "    data_dir = os.path.join(\"./dataset_download\", dataset_name)\n",
    "\n",
    "    data = extract_data(data_dir + '/train-images-idx3-ubyte.gz', 60000, 16, 28 * 28)\n",
    "    train_images = data.reshape((-1, 28, 28, 1))\n",
    "\n",
    "    data = extract_data(data_dir + '/train-labels-idx1-ubyte.gz', 60000, 8, 1)\n",
    "    train_labels = data.reshape((-1))\n",
    "\n",
    "    data = extract_data(data_dir + '/t10k-images-idx3-ubyte.gz', 10000, 16, 28 * 28)\n",
    "    test_images = data.reshape((-1, 28, 28, 1))\n",
    "\n",
    "    data = extract_data(data_dir + '/t10k-labels-idx1-ubyte.gz', 10000, 8, 1)\n",
    "    test_labels = data.reshape((-1))\n",
    "\n",
    "    train_images = np.asarray(train_images)\n",
    "    test_labels = np.asarray(test_labels)\n",
    "\n",
    "    X = np.concatenate((train_images, test_images), axis=0)\n",
    "    y = np.concatenate((train_labels, test_labels), axis=0).astype(np.int)\n",
    "\n",
    "    seed = 547\n",
    "    np.random.seed(seed)\n",
    "    np.random.shuffle(X)\n",
    "    np.random.seed(seed)\n",
    "    np.random.shuffle(y)\n",
    "    \n",
    "    if onehot== True:\n",
    "        y_vec = np.zeros((len(y), 10), dtype=np.float)\n",
    "        for i, label in enumerate(y):\n",
    "            y_vec[i, y[i]] = 1.0\n",
    "        \n",
    "        return X, y_vec\n",
    "\n",
    "    return X, y"
   ]
  },
  {
   "cell_type": "markdown",
   "metadata": {},
   "source": [
    "### 读取整个 Mnist 数据集"
   ]
  },
  {
   "cell_type": "code",
   "execution_count": 27,
   "metadata": {},
   "outputs": [
    {
     "data": {
      "image/png": "[encoded data removed]",
      "text/plain": [
       "<Figure size 432x288 with 1 Axes>"
      ]
     },
     "metadata": {
      "needs_background": "light"
     },
     "output_type": "display_data"
    }
   ],
   "source": [
    "images, labels = load_data('mnist')\n",
    "plt.imshow(images[520].reshape(28, 28), cmap='gray')\n",
    "plt.title(str(labels[520]), fontsize=20)\n",
    "plt.axis('off')\n",
    "plt.show()"
   ]
  },
  {
   "cell_type": "markdown",
   "metadata": {},
   "source": [
    "### 读取整个 Fashion-Mnist 数据集"
   ]
  },
  {
   "cell_type": "code",
   "execution_count": 28,
   "metadata": {},
   "outputs": [
    {
     "data": {
      "image/png": "[encoded data removed]",
      "text/plain": [
       "<Figure size 432x288 with 1 Axes>"
      ]
     },
     "metadata": {
      "needs_background": "light"
     },
     "output_type": "display_data"
    }
   ],
   "source": [
    "class_dict = {0:'T-shirt', 1:'Trouser', 2:'Pullover', 3:'Dress', 4:'Coat',\n",
    "              5:'Sandal', 6:'Shirt', 7:'Sneaker', 8:'Bag', 9:'Ankle boot'}\n",
    "\n",
    "images, labels = load_data('fashion_mnist')\n",
    "plt.imshow(images[1314].reshape(28, 28), cmap='gray')\n",
    "plt.title(class_dict[labels[1314]], fontsize=20)\n",
    "plt.axis('off')\n",
    "plt.show()"
   ]
  }
 ],
 "metadata": {
  "kernelspec": {
   "display_name": "Python 3",
   "language": "python",
   "name": "python3"
  },
  "language_info": {
   "codemirror_mode": {
    "name": "ipython",
    "version": 3
   },
   "file_extension": ".py",
   "mimetype": "text/x-python",
   "name": "python",
   "nbconvert_exporter": "python",
   "pygments_lexer": "ipython3",
   "version": "3.6.2"
  },
  "toc": {
   "base_numbering": 1,
   "nav_menu": {},
   "number_sections": true,
   "sideBar": true,
   "skip_h1_title": false,
   "title_cell": "Table of Contents",
   "title_sidebar": "Contents",
   "toc_cell": false,
   "toc_position": {},
   "toc_section_display": true,
   "toc_window_display": true
  }
 },
 "nbformat": 4,
 "nbformat_minor": 4
}
