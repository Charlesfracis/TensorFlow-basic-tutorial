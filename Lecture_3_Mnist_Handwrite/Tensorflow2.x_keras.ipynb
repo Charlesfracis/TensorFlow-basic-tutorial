{
 "cells": [
  {
   "cell_type": "markdown",
   "metadata": {},
   "source": [
    "## Keras 序列模型建模\n",
    "### 基于 onehot 编码"
   ]
  },
  {
   "cell_type": "code",
   "execution_count": 1,
   "metadata": {},
   "outputs": [
    {
     "data": {
      "text/plain": [
       "'2.0.0'"
      ]
     },
     "execution_count": 1,
     "metadata": {},
     "output_type": "execute_result"
    }
   ],
   "source": [
    "import tensorflow as tf\n",
    "import numpy as np\n",
    "import matplotlib.pyplot as plt\n",
    "import math\n",
    "\n",
    "\n",
    "tf.__version__"
   ]
  },
  {
   "cell_type": "code",
   "execution_count": 2,
   "metadata": {},
   "outputs": [],
   "source": [
    "mnist = tf.keras.datasets.mnist\n",
    "(train_images, train_labels), (test_images, test_labels) = mnist.load_data()"
   ]
  },
  {
   "cell_type": "code",
   "execution_count": 3,
   "metadata": {},
   "outputs": [],
   "source": [
    "train_images = train_images / 255.0\n",
    "test_images = test_images / 255.0"
   ]
  },
  {
   "cell_type": "code",
   "execution_count": 4,
   "metadata": {},
   "outputs": [],
   "source": [
    "train_labels_onehot = tf.one_hot(train_labels, depth=10).numpy()\n",
    "test_labels_onehot = tf.one_hot(test_labels, depth=10).numpy()"
   ]
  },
  {
   "cell_type": "markdown",
   "metadata": {},
   "source": [
    "#### 模型建立"
   ]
  },
  {
   "cell_type": "code",
   "execution_count": 5,
   "metadata": {},
   "outputs": [],
   "source": [
    "model = tf.keras.models.Sequential()"
   ]
  },
  {
   "cell_type": "code",
   "execution_count": 6,
   "metadata": {},
   "outputs": [],
   "source": [
    "model.add(tf.keras.layers.Flatten(input_shape=(28, 28)))"
   ]
  },
  {
   "cell_type": "code",
   "execution_count": 7,
   "metadata": {},
   "outputs": [],
   "source": [
    "model.add(tf.keras.layers.Dense(units=256,\n",
    "                                kernel_initializer='normal',\n",
    "                                activation='relu'))"
   ]
  },
  {
   "cell_type": "code",
   "execution_count": 8,
   "metadata": {},
   "outputs": [],
   "source": [
    "model.add(tf.keras.layers.Dense(units=128,\n",
    "                                kernel_initializer='normal',\n",
    "                                activation='relu'))"
   ]
  },
  {
   "cell_type": "code",
   "execution_count": 9,
   "metadata": {},
   "outputs": [],
   "source": [
    "model.add(tf.keras.layers.Dense(units=64,\n",
    "                                kernel_initializer='normal',\n",
    "                                activation='relu'))"
   ]
  },
  {
   "cell_type": "code",
   "execution_count": 10,
   "metadata": {},
   "outputs": [],
   "source": [
    "model.add(tf.keras.layers.Dense(units=32,\n",
    "                                kernel_initializer='normal',\n",
    "                                activation='relu'))"
   ]
  },
  {
   "cell_type": "code",
   "execution_count": 11,
   "metadata": {},
   "outputs": [],
   "source": [
    "model.add(tf.keras.layers.Dense(10, activation='softmax'))"
   ]
  },
  {
   "cell_type": "markdown",
   "metadata": {},
   "source": [
    "#### 模型摘要"
   ]
  },
  {
   "cell_type": "code",
   "execution_count": 12,
   "metadata": {},
   "outputs": [
    {
     "name": "stdout",
     "output_type": "stream",
     "text": [
      "Model: \"sequential\"\n",
      "_________________________________________________________________\n",
      "Layer (type)                 Output Shape              Param #   \n",
      "=================================================================\n",
      "flatten (Flatten)            (None, 784)               0         \n",
      "_________________________________________________________________\n",
      "dense (Dense)                (None, 256)               200960    \n",
      "_________________________________________________________________\n",
      "dense_1 (Dense)              (None, 128)               32896     \n",
      "_________________________________________________________________\n",
      "dense_2 (Dense)              (None, 64)                8256      \n",
      "_________________________________________________________________\n",
      "dense_3 (Dense)              (None, 32)                2080      \n",
      "_________________________________________________________________\n",
      "dense_4 (Dense)              (None, 10)                330       \n",
      "=================================================================\n",
      "Total params: 244,522\n",
      "Trainable params: 244,522\n",
      "Non-trainable params: 0\n",
      "_________________________________________________________________\n"
     ]
    }
   ],
   "source": [
    "model.summary()"
   ]
  },
  {
   "cell_type": "markdown",
   "metadata": {},
   "source": [
    "### 参数设置及训练"
   ]
  },
  {
   "cell_type": "code",
   "execution_count": 13,
   "metadata": {},
   "outputs": [],
   "source": [
    "model.compile(optimizer='adam',\n",
    "              loss='categorical_crossentropy',\n",
    "              metrics=['accuracy'])"
   ]
  },
  {
   "cell_type": "code",
   "execution_count": 14,
   "metadata": {},
   "outputs": [],
   "source": [
    "train_epochs = 10\n",
    "batch_size = 40"
   ]
  },
  {
   "cell_type": "code",
   "execution_count": 15,
   "metadata": {},
   "outputs": [
    {
     "name": "stdout",
     "output_type": "stream",
     "text": [
      "Train on 48000 samples, validate on 12000 samples\n",
      "Epoch 1/10\n",
      "48000/48000 [==============================] - 145s 3ms/sample - loss: 0.3239 - accuracy: 0.9032 - val_loss: 0.1386 - val_accuracy: 0.9586\n",
      "Epoch 2/10\n",
      "48000/48000 [==============================] - 141s 3ms/sample - loss: 0.1158 - accuracy: 0.9654 - val_loss: 0.1302 - val_accuracy: 0.9592\n",
      "Epoch 3/10\n",
      "48000/48000 [==============================] - 142s 3ms/sample - loss: 0.0807 - accuracy: 0.9758 - val_loss: 0.1019 - val_accuracy: 0.9699\n",
      "Epoch 4/10\n",
      "48000/48000 [==============================] - 142s 3ms/sample - loss: 0.0575 - accuracy: 0.9824 - val_loss: 0.0994 - val_accuracy: 0.9714\n",
      "Epoch 5/10\n",
      "48000/48000 [==============================] - 141s 3ms/sample - loss: 0.0468 - accuracy: 0.9853 - val_loss: 0.1204 - val_accuracy: 0.9672\n",
      "Epoch 6/10\n",
      "48000/48000 [==============================] - 142s 3ms/sample - loss: 0.0386 - accuracy: 0.9883 - val_loss: 0.1029 - val_accuracy: 0.9723\n",
      "Epoch 7/10\n",
      "48000/48000 [==============================] - 143s 3ms/sample - loss: 0.0313 - accuracy: 0.9898 - val_loss: 0.1074 - val_accuracy: 0.9737\n",
      "Epoch 8/10\n",
      "48000/48000 [==============================] - 141s 3ms/sample - loss: 0.0298 - accuracy: 0.9906 - val_loss: 0.1065 - val_accuracy: 0.9740\n",
      "Epoch 9/10\n",
      "48000/48000 [==============================] - 142s 3ms/sample - loss: 0.0248 - accuracy: 0.9920 - val_loss: 0.0963 - val_accuracy: 0.9778\n",
      "Epoch 10/10\n",
      "48000/48000 [==============================] - 143s 3ms/sample - loss: 0.0221 - accuracy: 0.9929 - val_loss: 0.1000 - val_accuracy: 0.9753\n"
     ]
    }
   ],
   "source": [
    "train_history = model.fit(train_images, train_labels_onehot,\n",
    "                          validation_split=0.2,\n",
    "                          epochs=train_epochs,\n",
    "                          batch_size=batch_size,\n",
    "                          verbose=1)"
   ]
  },
  {
   "cell_type": "markdown",
   "metadata": {},
   "source": [
    "train_history.history 保存了训练中，四种基本数据 loss，accuracy，val_loss，val_accuracy 的值，并以字典形式存储"
   ]
  },
  {
   "cell_type": "code",
   "execution_count": 16,
   "metadata": {},
   "outputs": [
    {
     "data": {
      "text/plain": [
       "{'loss': [0.32386956638656555,\n",
       "  0.11580678951577283,\n",
       "  0.08069420200908402,\n",
       "  0.057474158356781116,\n",
       "  0.046842153635103995,\n",
       "  0.03864645366907401,\n",
       "  0.03133942916045271,\n",
       "  0.02975376448806249,\n",
       "  0.02482963896606937,\n",
       "  0.02210053606606228],\n",
       " 'accuracy': [0.90316665,\n",
       "  0.9653958,\n",
       "  0.97577083,\n",
       "  0.982375,\n",
       "  0.9853333,\n",
       "  0.98833334,\n",
       "  0.9897708,\n",
       "  0.99058336,\n",
       "  0.992,\n",
       "  0.99291664],\n",
       " 'val_loss': [0.1386103215805876,\n",
       "  0.13024117694740805,\n",
       "  0.10186999143411715,\n",
       "  0.09937536970265985,\n",
       "  0.1203663934887542,\n",
       "  0.10294981063261123,\n",
       "  0.10740806087201539,\n",
       "  0.10651071226072721,\n",
       "  0.09627585080283704,\n",
       "  0.10002141902339645],\n",
       " 'val_accuracy': [0.95858335,\n",
       "  0.95925,\n",
       "  0.96991664,\n",
       "  0.97141665,\n",
       "  0.96716666,\n",
       "  0.9723333,\n",
       "  0.97375,\n",
       "  0.974,\n",
       "  0.97783333,\n",
       "  0.97533333]}"
      ]
     },
     "execution_count": 16,
     "metadata": {},
     "output_type": "execute_result"
    }
   ],
   "source": [
    "train_history.history"
   ]
  },
  {
   "cell_type": "code",
   "execution_count": 17,
   "metadata": {},
   "outputs": [
    {
     "data": {
      "image/png": "[encoded data removed]",
      "text/plain": [
       "<Figure size 720x360 with 2 Axes>"
      ]
     },
     "metadata": {
      "needs_background": "light"
     },
     "output_type": "display_data"
    }
   ],
   "source": [
    "fig = plt.gcf()\n",
    "fig.set_size_inches(10, 5)\n",
    "ax1 = fig.add_subplot(111)\n",
    "ax1.set_title('Train and Validation Picture')\n",
    "ax1.set_ylabel('Loss value')\n",
    "line1, = ax1.plot(train_history.history['loss'], color=(0.5, 0.5, 1.0), label='Loss train')\n",
    "line2, = ax1.plot(train_history.history['val_loss'], color=(0.5, 1.0, 0.5), label='Loss valid')\n",
    "ax2 = ax1.twinx()\n",
    "ax2.set_ylabel('Accuracy value')\n",
    "line3, = ax2.plot(train_history.history['accuracy'], color=(0.5, 0.5, 0.5), label='Accuracy train')\n",
    "line4, = ax2.plot(train_history.history['val_accuracy'], color=(1, 0, 0), label='Accuracy valid')\n",
    "plt.legend(handles=(line1, line2, line3, line4), loc='best')\n",
    "plt.show()"
   ]
  },
  {
   "cell_type": "markdown",
   "metadata": {},
   "source": [
    "#### 模型评估\n",
    "返回值为一个列表，分别赋值给 test_loss，test_acc"
   ]
  },
  {
   "cell_type": "code",
   "execution_count": 18,
   "metadata": {},
   "outputs": [
    {
     "name": "stdout",
     "output_type": "stream",
     "text": [
      "10000/1 - 25s - loss: 0.0496 - accuracy: 0.9759\n",
      "test_loss: 0.09910532588202041 \n",
      "test_acc: 0.9759 \n",
      "metrics_names: ['loss', 'accuracy']\n"
     ]
    }
   ],
   "source": [
    "test_loss, test_acc = model.evaluate(test_images, test_labels_onehot, verbose=2)\n",
    "print('test_loss:', test_loss,\n",
    "      '\\ntest_acc:', test_acc,\n",
    "      '\\nmetrics_names:', model.metrics_names)"
   ]
  },
  {
   "cell_type": "markdown",
   "metadata": {},
   "source": [
    "#### 模型预测"
   ]
  },
  {
   "cell_type": "code",
   "execution_count": 19,
   "metadata": {},
   "outputs": [],
   "source": [
    "def plot_apply_images(num):\n",
    "    if num < 1:\n",
    "        print('INFO:The number of input pictures must be greater than zero!')\n",
    "    else:\n",
    "        test_pred = model.predict_classes(test_images)\n",
    "        choose_list = []\n",
    "        for i in range(num):\n",
    "            choose_n = np.random.randint(len(test_images))\n",
    "            choose_list.append(choose_n)\n",
    "        fig = plt.gcf()\n",
    "        fig.set_size_inches(18, 5 * math.ceil(num / 3))\n",
    "\n",
    "        for i in range(num):\n",
    "            ax_img = plt.subplot(math.ceil(num / 3), 3, i + 1)\n",
    "            plt_img = test_images[choose_list[i]]\n",
    "            ax_img.imshow(plt_img, cmap='binary')\n",
    "            ax_img.set_title('Original label:' \\\n",
    "                             + str(test_labels[choose_list[i]]) \\\n",
    "                             + ' Predict label:' \\\n",
    "                             + str(test_pred[choose_list[i]]),\n",
    "                             fontsize=10)\n",
    "            ax_img.set_xticks([])\n",
    "            ax_img.set_yticks([])\n",
    "        plt.show()"
   ]
  },
  {
   "cell_type": "code",
   "execution_count": 20,
   "metadata": {},
   "outputs": [
    {
     "data": {
      "image/png": "[encoded data removed]",
      "text/plain": [
       "<Figure size 1296x1080 with 9 Axes>"
      ]
     },
     "metadata": {},
     "output_type": "display_data"
    }
   ],
   "source": [
    "plot_apply_images(9)"
   ]
  },
  {
   "cell_type": "markdown",
   "metadata": {},
   "source": [
    "#### 注意  \n",
    "以下两个 cell 等价，predict_classes 能直接预测整数分类值，predict返回 onehot 预测值"
   ]
  },
  {
   "cell_type": "code",
   "execution_count": 21,
   "metadata": {},
   "outputs": [
    {
     "name": "stdout",
     "output_type": "stream",
     "text": [
      "test_pred.shape (10000, 10) \n",
      "test_pred[0] 7\n",
      "test_pred.shape (10000,) \n",
      "test_pred[0] 7 \n",
      "test_labels[0] 7\n"
     ]
    }
   ],
   "source": [
    "test_pred = model.predict(test_images)\n",
    "print('test_pred.shape', test_pred.shape,\n",
    "      '\\ntest_pred[0]', np.argmax(test_pred[0]))\n",
    "\n",
    "test_pred = model.predict_classes(test_images)\n",
    "print('test_pred.shape', test_pred.shape,\n",
    "      '\\ntest_pred[0]', test_pred[0],\n",
    "      '\\ntest_labels[0]', test_labels[0])"
   ]
  },
  {
   "cell_type": "markdown",
   "metadata": {},
   "source": [
    "### 基于整数型编码"
   ]
  },
  {
   "cell_type": "code",
   "execution_count": 22,
   "metadata": {},
   "outputs": [],
   "source": [
    "mnist = tf.keras.datasets.mnist\n",
    "(train_images, train_labels), (test_images, test_labels) = mnist.load_data()"
   ]
  },
  {
   "cell_type": "code",
   "execution_count": 23,
   "metadata": {},
   "outputs": [],
   "source": [
    "train_images = train_images / 255.0\n",
    "test_images = test_images / 255.0"
   ]
  },
  {
   "cell_type": "code",
   "execution_count": 24,
   "metadata": {},
   "outputs": [],
   "source": [
    "model = tf.keras.models.Sequential([\n",
    "    tf.keras.layers.Flatten(input_shape=(28, 28)),\n",
    "    tf.keras.layers.Dense(units=64,\n",
    "                                kernel_initializer='normal',\n",
    "                                activation='relu'),\n",
    "    tf.keras.layers.Dense(units=32,\n",
    "                                kernel_initializer='normal',\n",
    "                                activation='relu'),\n",
    "    tf.keras.layers.Dense(10, activation='softmax')\n",
    "])"
   ]
  },
  {
   "cell_type": "code",
   "execution_count": 25,
   "metadata": {},
   "outputs": [
    {
     "name": "stdout",
     "output_type": "stream",
     "text": [
      "Model: \"sequential_1\"\n",
      "_________________________________________________________________\n",
      "Layer (type)                 Output Shape              Param #   \n",
      "=================================================================\n",
      "flatten_1 (Flatten)          (None, 784)               0         \n",
      "_________________________________________________________________\n",
      "dense_5 (Dense)              (None, 64)                50240     \n",
      "_________________________________________________________________\n",
      "dense_6 (Dense)              (None, 32)                2080      \n",
      "_________________________________________________________________\n",
      "dense_7 (Dense)              (None, 10)                330       \n",
      "=================================================================\n",
      "Total params: 52,650\n",
      "Trainable params: 52,650\n",
      "Non-trainable params: 0\n",
      "_________________________________________________________________\n"
     ]
    }
   ],
   "source": [
    "model.summary()"
   ]
  },
  {
   "cell_type": "code",
   "execution_count": 26,
   "metadata": {},
   "outputs": [],
   "source": [
    "model.compile(optimizer='adam',\n",
    "              loss='sparse_categorical_crossentropy',\n",
    "              metrics=['accuracy'])"
   ]
  },
  {
   "cell_type": "code",
   "execution_count": 27,
   "metadata": {},
   "outputs": [],
   "source": [
    "train_epochs = 10\n",
    "batch_size = 40"
   ]
  },
  {
   "cell_type": "code",
   "execution_count": 28,
   "metadata": {},
   "outputs": [
    {
     "name": "stdout",
     "output_type": "stream",
     "text": [
      "Train on 48000 samples, validate on 12000 samples\n",
      "Epoch 1/10\n",
      "48000/48000 [==============================] - 5s 99us/sample - loss: 0.3811 - accuracy: 0.8907 - val_loss: 0.1879 - val_accuracy: 0.9455\n",
      "Epoch 2/10\n",
      "48000/48000 [==============================] - 4s 88us/sample - loss: 0.1703 - accuracy: 0.9496 - val_loss: 0.1588 - val_accuracy: 0.9517\n",
      "Epoch 3/10\n",
      "48000/48000 [==============================] - 4s 85us/sample - loss: 0.1252 - accuracy: 0.9621 - val_loss: 0.1207 - val_accuracy: 0.9653\n",
      "Epoch 4/10\n",
      "48000/48000 [==============================] - 4s 85us/sample - loss: 0.1004 - accuracy: 0.9698 - val_loss: 0.1209 - val_accuracy: 0.9644\n",
      "Epoch 5/10\n",
      "48000/48000 [==============================] - 4s 85us/sample - loss: 0.0806 - accuracy: 0.9752 - val_loss: 0.1053 - val_accuracy: 0.9693\n",
      "Epoch 6/10\n",
      "48000/48000 [==============================] - 4s 85us/sample - loss: 0.0673 - accuracy: 0.9789 - val_loss: 0.1070 - val_accuracy: 0.9668\n",
      "Epoch 7/10\n",
      "48000/48000 [==============================] - 4s 87us/sample - loss: 0.0572 - accuracy: 0.9825 - val_loss: 0.1037 - val_accuracy: 0.9701\n",
      "Epoch 8/10\n",
      "48000/48000 [==============================] - 4s 85us/sample - loss: 0.0481 - accuracy: 0.9851 - val_loss: 0.1038 - val_accuracy: 0.9701\n",
      "Epoch 9/10\n",
      "48000/48000 [==============================] - 4s 85us/sample - loss: 0.0440 - accuracy: 0.9861 - val_loss: 0.1091 - val_accuracy: 0.9694\n",
      "Epoch 10/10\n",
      "48000/48000 [==============================] - 4s 85us/sample - loss: 0.0351 - accuracy: 0.9884 - val_loss: 0.1005 - val_accuracy: 0.9722\n"
     ]
    }
   ],
   "source": [
    "train_history = model.fit(train_images, train_labels,\n",
    "                          validation_split=0.2,\n",
    "                          epochs=train_epochs,\n",
    "                          batch_size=batch_size,\n",
    "                          verbose=1)"
   ]
  },
  {
   "cell_type": "markdown",
   "metadata": {},
   "source": [
    "#### 训练可视化"
   ]
  },
  {
   "cell_type": "code",
   "execution_count": 29,
   "metadata": {},
   "outputs": [
    {
     "data": {
      "image/png": "[encoded data removed]",
      "text/plain": [
       "<Figure size 720x360 with 2 Axes>"
      ]
     },
     "metadata": {
      "needs_background": "light"
     },
     "output_type": "display_data"
    }
   ],
   "source": [
    "fig = plt.gcf()\n",
    "fig.set_size_inches(10, 5)\n",
    "ax1 = fig.add_subplot(111)\n",
    "ax1.set_title('Train and Validation Picture')\n",
    "ax1.set_ylabel('Loss value')\n",
    "line1, = ax1.plot(train_history.history['loss'], color=(0.5, 0.5, 1.0), label='Loss train')\n",
    "line2, = ax1.plot(train_history.history['val_loss'], color=(0.5, 1.0, 0.5), label='Loss valid')\n",
    "ax2 = ax1.twinx()\n",
    "ax2.set_ylabel('Accuracy value')\n",
    "line3, = ax2.plot(train_history.history['accuracy'], color=(0.5, 0.5, 0.5), label='Accuracy train')\n",
    "line4, = ax2.plot(train_history.history['val_accuracy'], color=(1, 0, 0), label='Accuracy valid')\n",
    "plt.legend(handles=(line1, line2, line3, line4), loc='best')\n",
    "plt.show()"
   ]
  },
  {
   "cell_type": "markdown",
   "metadata": {},
   "source": [
    "#### 模型预测"
   ]
  },
  {
   "cell_type": "code",
   "execution_count": 30,
   "metadata": {},
   "outputs": [],
   "source": [
    "def plot_apply_images(num):\n",
    "    if num < 1:\n",
    "        print('INFO:The number of input pictures must be greater than zero!')\n",
    "    else:\n",
    "        test_pred = model.predict_classes(test_images)\n",
    "        choose_list = []\n",
    "        for i in range(num):\n",
    "            choose_n = np.random.randint(len(test_images))\n",
    "            choose_list.append(choose_n)\n",
    "        fig = plt.gcf()\n",
    "        fig.set_size_inches(18, 5 * math.ceil(num / 3))\n",
    "\n",
    "        for i in range(num):\n",
    "            ax_img = plt.subplot(math.ceil(num / 3), 3, i + 1)\n",
    "            plt_img = test_images[choose_list[i]]\n",
    "            ax_img.imshow(plt_img, cmap='binary')\n",
    "            ax_img.set_title('Original label:' \\\n",
    "                             + str(test_labels[choose_list[i]]) \\\n",
    "                             + ' Predict label:' \\\n",
    "                             + str(test_pred[choose_list[i]]),\n",
    "                             fontsize=10)\n",
    "            ax_img.set_xticks([])\n",
    "            ax_img.set_yticks([])\n",
    "        plt.show()"
   ]
  },
  {
   "cell_type": "code",
   "execution_count": 31,
   "metadata": {},
   "outputs": [
    {
     "data": {
      "image/png": "[encoded data removed]",
      "text/plain": [
       "<Figure size 1296x1080 with 9 Axes>"
      ]
     },
     "metadata": {},
     "output_type": "display_data"
    }
   ],
   "source": [
    "plot_apply_images(9)"
   ]
  }
 ],
 "metadata": {
  "kernelspec": {
   "display_name": "Python 3",
   "language": "python",
   "name": "python3"
  },
  "language_info": {
   "codemirror_mode": {
    "name": "ipython",
    "version": 3
   },
   "file_extension": ".py",
   "mimetype": "text/x-python",
   "name": "python",
   "nbconvert_exporter": "python",
   "pygments_lexer": "ipython3",
   "version": "3.6.2"
  }
 },
 "nbformat": 4,
 "nbformat_minor": 4
}
