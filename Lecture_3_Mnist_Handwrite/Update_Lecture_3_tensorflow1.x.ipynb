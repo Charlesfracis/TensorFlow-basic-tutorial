{
 "cells": [
  {
   "cell_type": "markdown",
   "metadata": {},
   "source": [
    "## 全连接神经网络建模实现\n",
    "### 使用多层神经元进行模型构建  "
   ]
  },
  {
   "cell_type": "markdown",
   "metadata": {},
   "source": [
    "<img style=\"float:left;zoom:60%\" src=\"pic/more.png\">本次将使用四隐藏层神经元进行模型构建，每层神经元个数为 256、128、64、32，其中我们将首次引入 dropout 层来防止多层神经元带来的过拟合问题，dropout 层是通过随机放弃部分神经元参与模型训练，让每次神经元之间的连接不同，关于具体的 drop out层将在博客中详细讲解<br><br><br>采用的激活函数仍是 softmax<br><br><br>$output = f(z) = f(\\sum_{i=1}^nx_i*w_i+b)$ "
   ]
  },
  {
   "cell_type": "markdown",
   "metadata": {},
   "source": [
    "### 导入必要模块"
   ]
  },
  {
   "cell_type": "code",
   "execution_count": 1,
   "metadata": {},
   "outputs": [
    {
     "name": "stdout",
     "output_type": "stream",
     "text": [
      "WARNING:tensorflow:From <ipython-input-1-e5b16ffbade9>:10: read_data_sets (from tensorflow.examples.tutorials.mnist.input_data) is deprecated and will be removed in a future version.\n",
      "Instructions for updating:\n",
      "Please use alternatives such as: tensorflow_datasets.load('mnist')\n",
      "WARNING:tensorflow:From e:\\anaconda3\\envs\\tensorflow1.x\\lib\\site-packages\\tensorflow_core\\examples\\tutorials\\mnist\\input_data.py:297: _maybe_download (from tensorflow.examples.tutorials.mnist.input_data) is deprecated and will be removed in a future version.\n",
      "Instructions for updating:\n",
      "Please write your own downloading logic.\n",
      "WARNING:tensorflow:From e:\\anaconda3\\envs\\tensorflow1.x\\lib\\site-packages\\tensorflow_core\\examples\\tutorials\\mnist\\input_data.py:299: _extract_images (from tensorflow.examples.tutorials.mnist.input_data) is deprecated and will be removed in a future version.\n",
      "Instructions for updating:\n",
      "Please use tf.data to implement this functionality.\n",
      "Extracting ./mnist_dataset/train-images-idx3-ubyte.gz\n",
      "WARNING:tensorflow:From e:\\anaconda3\\envs\\tensorflow1.x\\lib\\site-packages\\tensorflow_core\\examples\\tutorials\\mnist\\input_data.py:304: _extract_labels (from tensorflow.examples.tutorials.mnist.input_data) is deprecated and will be removed in a future version.\n",
      "Instructions for updating:\n",
      "Please use tf.data to implement this functionality.\n",
      "Extracting ./mnist_dataset/train-labels-idx1-ubyte.gz\n",
      "WARNING:tensorflow:From e:\\anaconda3\\envs\\tensorflow1.x\\lib\\site-packages\\tensorflow_core\\examples\\tutorials\\mnist\\input_data.py:112: _dense_to_one_hot (from tensorflow.examples.tutorials.mnist.input_data) is deprecated and will be removed in a future version.\n",
      "Instructions for updating:\n",
      "Please use tf.one_hot on tensors.\n",
      "Extracting ./mnist_dataset/t10k-images-idx3-ubyte.gz\n",
      "Extracting ./mnist_dataset/t10k-labels-idx1-ubyte.gz\n",
      "WARNING:tensorflow:From e:\\anaconda3\\envs\\tensorflow1.x\\lib\\site-packages\\tensorflow_core\\examples\\tutorials\\mnist\\input_data.py:328: _DataSet.__init__ (from tensorflow.examples.tutorials.mnist.input_data) is deprecated and will be removed in a future version.\n",
      "Instructions for updating:\n",
      "Please use alternatives such as official/mnist/_DataSet.py from tensorflow/models.\n"
     ]
    }
   ],
   "source": [
    "import tensorflow as tf\n",
    "import numpy as np\n",
    "from tensorflow.examples.tutorials.mnist import input_data\n",
    "import math\n",
    "import matplotlib.pyplot as plt\n",
    "import time\n",
    "import os\n",
    "\n",
    "\n",
    "mnist = input_data.read_data_sets('./mnist_dataset/', one_hot=True)"
   ]
  },
  {
   "cell_type": "markdown",
   "metadata": {},
   "source": [
    "### 构建输入层"
   ]
  },
  {
   "cell_type": "code",
   "execution_count": 2,
   "metadata": {},
   "outputs": [],
   "source": [
    "x = tf.placeholder(tf.float32, [None, 784], name='X')\n",
    "y = tf.placeholder(tf.float32, [None, 10], name='Y')"
   ]
  },
  {
   "cell_type": "markdown",
   "metadata": {},
   "source": [
    "### 第 1 ~ 4 隐藏层\n",
    "注意，多层神经网络中，生成权值不适用完全随机数，使用截断的方法 tf.truncated_normal() 生成随机数，否则容易造成 Loss = Nan 情况"
   ]
  },
  {
   "cell_type": "code",
   "execution_count": 3,
   "metadata": {},
   "outputs": [],
   "source": [
    "H1_NN = 256\n",
    "\n",
    "W1 = tf.Variable(tf.truncated_normal([784, H1_NN], stddev=0.1))\n",
    "b1 = tf.Variable(tf.zeros([H1_NN]))\n",
    "\n",
    "Y1 = tf.nn.relu(tf.matmul(x, W1) + b1)\n",
    "Y1 = tf.nn.dropout(Y1, rate=0.2)"
   ]
  },
  {
   "cell_type": "code",
   "execution_count": 4,
   "metadata": {},
   "outputs": [],
   "source": [
    "H2_NN = 128\n",
    "\n",
    "W2 = tf.Variable(tf.truncated_normal([H1_NN, H2_NN], stddev=0.1))\n",
    "b2 = tf.Variable(tf.zeros([H2_NN]))\n",
    "\n",
    "Y2 = tf.nn.relu(tf.matmul(Y1, W2) + b2)\n",
    "Y2 = tf.nn.dropout(Y2, rate=0.2)"
   ]
  },
  {
   "cell_type": "code",
   "execution_count": 5,
   "metadata": {},
   "outputs": [],
   "source": [
    "H3_NN = 64\n",
    "\n",
    "W3 = tf.Variable(tf.truncated_normal([H2_NN, H3_NN], stddev=0.1))\n",
    "b3 = tf.Variable(tf.zeros([H3_NN]))\n",
    "\n",
    "Y3 = tf.nn.relu(tf.matmul(Y2, W3) + b3)\n",
    "Y3 = tf.nn.dropout(Y3, rate=0.2)"
   ]
  },
  {
   "cell_type": "code",
   "execution_count": 6,
   "metadata": {},
   "outputs": [],
   "source": [
    "H4_NN = 32\n",
    "\n",
    "W4 = tf.Variable(tf.truncated_normal([H3_NN, H4_NN], stddev=0.1))\n",
    "b4 = tf.Variable(tf.zeros([H4_NN]))\n",
    "\n",
    "Y4 = tf.nn.relu(tf.matmul(Y3, W4) + b4)\n",
    "Y4 = tf.nn.dropout(Y4, rate=0.2)"
   ]
  },
  {
   "cell_type": "markdown",
   "metadata": {},
   "source": [
    "### 构建输出层"
   ]
  },
  {
   "cell_type": "code",
   "execution_count": 7,
   "metadata": {},
   "outputs": [],
   "source": [
    "W_out = tf.Variable(tf.truncated_normal([H4_NN, 10], stddev=0.1))\n",
    "b_out = tf.Variable(tf.zeros([10]))\n",
    "\n",
    "forward = tf.matmul(Y4, W_out) + b_out\n",
    "pred = tf.nn.softmax(forward)"
   ]
  },
  {
   "cell_type": "markdown",
   "metadata": {},
   "source": [
    "### 定义损失函数\n",
    "原始定义方式：<br>&ensp;&ensp;&ensp;&ensp;`loss_function = tf.reduce_mean(-tf.reduce_sum(y * tf.log(pred), reduction_indices=1))`  \n",
    "为了避免&ensp;$\\lim_{x\\to0}log(x)$&ensp;造成值趋于无穷大，使得最终的 loss 值超出认可范围，将使用 TensorFlow 1.x 自带的 Softmax 交叉熵损失函数定义方法"
   ]
  },
  {
   "cell_type": "code",
   "execution_count": 8,
   "metadata": {},
   "outputs": [],
   "source": [
    "loss_function = tf.reduce_mean(tf.nn.softmax_cross_entropy_with_logits_v2(logits=forward, labels=y))"
   ]
  },
  {
   "cell_type": "markdown",
   "metadata": {},
   "source": [
    "### 设置训练参数"
   ]
  },
  {
   "cell_type": "code",
   "execution_count": 9,
   "metadata": {},
   "outputs": [],
   "source": [
    "epochs = 150\n",
    "batch_size = 100\n",
    "total_batch = int(mnist.train.num_examples / batch_size)\n",
    "display_step = 1\n",
    "learning_rate = 0.01"
   ]
  },
  {
   "cell_type": "markdown",
   "metadata": {},
   "source": [
    "### 选择优化器"
   ]
  },
  {
   "cell_type": "code",
   "execution_count": 10,
   "metadata": {},
   "outputs": [],
   "source": [
    "optimizer = tf.train.GradientDescentOptimizer(learning_rate).minimize(loss_function)"
   ]
  },
  {
   "cell_type": "markdown",
   "metadata": {},
   "source": [
    "### 定义准确率"
   ]
  },
  {
   "cell_type": "code",
   "execution_count": 11,
   "metadata": {},
   "outputs": [],
   "source": [
    "correct_prediction = tf.equal(tf.argmax(pred, 1), tf.argmax(y, 1))\n",
    "accuracy = tf.reduce_mean(tf.cast(correct_prediction, tf.float32))"
   ]
  },
  {
   "cell_type": "markdown",
   "metadata": {},
   "source": [
    "### 开始训练"
   ]
  },
  {
   "cell_type": "code",
   "execution_count": 12,
   "metadata": {},
   "outputs": [
    {
     "name": "stdout",
     "output_type": "stream",
     "text": [
      "Epoch:   1 train_loss=1.922020 train_accuracy=0.378764 val_loss=1.915097 val_accuracy=0.383000 learning_rate=0.0100\n",
      "Epoch:   2 train_loss=1.111546 train_accuracy=0.613345 val_loss=1.092543 val_accuracy=0.623600 learning_rate=0.0100\n",
      "Epoch:   3 train_loss=0.857992 train_accuracy=0.712182 val_loss=0.827349 val_accuracy=0.722600 learning_rate=0.0100\n",
      "Epoch:   4 train_loss=0.724654 train_accuracy=0.763800 val_loss=0.699354 val_accuracy=0.782800 learning_rate=0.0100\n",
      "Epoch:   5 train_loss=0.635854 train_accuracy=0.798491 val_loss=0.623432 val_accuracy=0.808600 learning_rate=0.0100\n",
      "Epoch:   6 train_loss=0.570143 train_accuracy=0.824236 val_loss=0.565459 val_accuracy=0.825800 learning_rate=0.0100\n",
      "Epoch:   7 train_loss=0.525712 train_accuracy=0.838855 val_loss=0.509384 val_accuracy=0.846400 learning_rate=0.0100\n",
      "Epoch:   8 train_loss=0.486234 train_accuracy=0.855655 val_loss=0.473201 val_accuracy=0.861800 learning_rate=0.0100\n",
      "Epoch:   9 train_loss=0.447248 train_accuracy=0.866909 val_loss=0.455480 val_accuracy=0.867200 learning_rate=0.0100\n",
      "Epoch:  10 train_loss=0.425171 train_accuracy=0.874109 val_loss=0.405910 val_accuracy=0.880200 learning_rate=0.0100\n",
      "Epoch:  11 train_loss=0.402653 train_accuracy=0.880709 val_loss=0.387751 val_accuracy=0.888800 learning_rate=0.0100\n",
      "Epoch:  12 train_loss=0.384030 train_accuracy=0.887109 val_loss=0.368802 val_accuracy=0.889200 learning_rate=0.0100\n",
      "Epoch:  13 train_loss=0.366507 train_accuracy=0.893618 val_loss=0.351481 val_accuracy=0.897800 learning_rate=0.0100\n",
      "Epoch:  14 train_loss=0.347237 train_accuracy=0.900255 val_loss=0.328941 val_accuracy=0.905800 learning_rate=0.0100\n",
      "Epoch:  15 train_loss=0.328913 train_accuracy=0.905527 val_loss=0.324966 val_accuracy=0.909600 learning_rate=0.0100\n",
      "Epoch:  16 train_loss=0.325026 train_accuracy=0.906945 val_loss=0.309738 val_accuracy=0.911600 learning_rate=0.0100\n",
      "Epoch:  17 train_loss=0.307118 train_accuracy=0.912364 val_loss=0.293556 val_accuracy=0.915000 learning_rate=0.0100\n",
      "Epoch:  18 train_loss=0.299687 train_accuracy=0.914709 val_loss=0.281332 val_accuracy=0.921000 learning_rate=0.0100\n",
      "Epoch:  19 train_loss=0.285672 train_accuracy=0.918200 val_loss=0.281238 val_accuracy=0.920800 learning_rate=0.0100\n",
      "Epoch:  20 train_loss=0.274241 train_accuracy=0.920855 val_loss=0.263023 val_accuracy=0.928400 learning_rate=0.0100\n",
      "Epoch:  21 train_loss=0.269844 train_accuracy=0.923873 val_loss=0.267458 val_accuracy=0.925200 learning_rate=0.0100\n",
      "Epoch:  22 train_loss=0.258718 train_accuracy=0.926218 val_loss=0.268373 val_accuracy=0.925200 learning_rate=0.0100\n",
      "Epoch:  23 train_loss=0.251777 train_accuracy=0.928018 val_loss=0.243529 val_accuracy=0.931800 learning_rate=0.0100\n",
      "Epoch:  24 train_loss=0.245982 train_accuracy=0.930182 val_loss=0.241028 val_accuracy=0.929600 learning_rate=0.0100\n",
      "Epoch:  25 train_loss=0.238685 train_accuracy=0.932545 val_loss=0.246461 val_accuracy=0.932800 learning_rate=0.0100\n",
      "Epoch:  26 train_loss=0.235742 train_accuracy=0.934073 val_loss=0.230147 val_accuracy=0.939000 learning_rate=0.0100\n",
      "Epoch:  27 train_loss=0.232180 train_accuracy=0.933636 val_loss=0.229249 val_accuracy=0.937000 learning_rate=0.0100\n",
      "Epoch:  28 train_loss=0.223157 train_accuracy=0.937309 val_loss=0.232430 val_accuracy=0.940200 learning_rate=0.0100\n",
      "Epoch:  29 train_loss=0.220352 train_accuracy=0.938655 val_loss=0.204565 val_accuracy=0.945800 learning_rate=0.0100\n",
      "Epoch:  30 train_loss=0.211900 train_accuracy=0.940745 val_loss=0.208365 val_accuracy=0.941800 learning_rate=0.0100\n",
      "Epoch:  31 train_loss=0.209499 train_accuracy=0.940527 val_loss=0.219435 val_accuracy=0.942600 learning_rate=0.0100\n",
      "Epoch:  32 train_loss=0.207786 train_accuracy=0.941509 val_loss=0.217685 val_accuracy=0.941800 learning_rate=0.0100\n",
      "Epoch:  33 train_loss=0.200144 train_accuracy=0.944073 val_loss=0.206001 val_accuracy=0.945000 learning_rate=0.0100\n",
      "Epoch:  34 train_loss=0.196703 train_accuracy=0.945182 val_loss=0.201838 val_accuracy=0.942400 learning_rate=0.0100\n",
      "Epoch:  35 train_loss=0.193429 train_accuracy=0.945709 val_loss=0.198177 val_accuracy=0.949800 learning_rate=0.0100\n",
      "Epoch:  36 train_loss=0.186295 train_accuracy=0.948200 val_loss=0.206631 val_accuracy=0.943000 learning_rate=0.0100\n",
      "Epoch:  37 train_loss=0.185343 train_accuracy=0.948145 val_loss=0.198420 val_accuracy=0.946600 learning_rate=0.0100\n",
      "Epoch:  38 train_loss=0.183862 train_accuracy=0.949055 val_loss=0.188325 val_accuracy=0.947600 learning_rate=0.0100\n",
      "Epoch:  39 train_loss=0.177494 train_accuracy=0.949727 val_loss=0.178383 val_accuracy=0.950800 learning_rate=0.0100\n",
      "Epoch:  40 train_loss=0.173800 train_accuracy=0.951655 val_loss=0.193040 val_accuracy=0.949200 learning_rate=0.0100\n",
      "Epoch:  41 train_loss=0.175251 train_accuracy=0.950618 val_loss=0.180357 val_accuracy=0.951800 learning_rate=0.0100\n",
      "Epoch:  42 train_loss=0.171570 train_accuracy=0.952364 val_loss=0.182371 val_accuracy=0.952600 learning_rate=0.0100\n",
      "Epoch:  43 train_loss=0.167336 train_accuracy=0.953291 val_loss=0.176919 val_accuracy=0.950600 learning_rate=0.0100\n",
      "Epoch:  44 train_loss=0.163710 train_accuracy=0.953564 val_loss=0.173872 val_accuracy=0.954800 learning_rate=0.0100\n",
      "Epoch:  45 train_loss=0.162048 train_accuracy=0.954855 val_loss=0.183448 val_accuracy=0.951600 learning_rate=0.0100\n",
      "Epoch:  46 train_loss=0.157070 train_accuracy=0.955309 val_loss=0.175951 val_accuracy=0.953200 learning_rate=0.0100\n",
      "Epoch:  47 train_loss=0.156065 train_accuracy=0.956655 val_loss=0.173449 val_accuracy=0.954000 learning_rate=0.0100\n",
      "Epoch:  48 train_loss=0.152759 train_accuracy=0.956491 val_loss=0.168283 val_accuracy=0.954800 learning_rate=0.0100\n",
      "Epoch:  49 train_loss=0.150486 train_accuracy=0.958127 val_loss=0.171924 val_accuracy=0.952400 learning_rate=0.0100\n",
      "Epoch:  50 train_loss=0.148292 train_accuracy=0.958473 val_loss=0.167161 val_accuracy=0.953200 learning_rate=0.0100\n",
      "Epoch:  51 train_loss=0.149501 train_accuracy=0.958382 val_loss=0.154884 val_accuracy=0.957200 learning_rate=0.0100\n",
      "Epoch:  52 train_loss=0.143593 train_accuracy=0.960855 val_loss=0.157689 val_accuracy=0.956200 learning_rate=0.0100\n",
      "Epoch:  53 train_loss=0.142924 train_accuracy=0.960364 val_loss=0.150808 val_accuracy=0.959200 learning_rate=0.0100\n",
      "Epoch:  54 train_loss=0.140048 train_accuracy=0.960455 val_loss=0.170056 val_accuracy=0.955400 learning_rate=0.0100\n",
      "Epoch:  55 train_loss=0.138010 train_accuracy=0.961091 val_loss=0.150125 val_accuracy=0.960000 learning_rate=0.0100\n",
      "Epoch:  56 train_loss=0.135740 train_accuracy=0.962964 val_loss=0.157924 val_accuracy=0.958200 learning_rate=0.0100\n",
      "Epoch:  57 train_loss=0.132320 train_accuracy=0.962509 val_loss=0.157545 val_accuracy=0.957200 learning_rate=0.0100\n",
      "Epoch:  58 train_loss=0.132433 train_accuracy=0.963164 val_loss=0.156650 val_accuracy=0.958000 learning_rate=0.0100\n",
      "Epoch:  59 train_loss=0.130223 train_accuracy=0.963618 val_loss=0.156707 val_accuracy=0.955400 learning_rate=0.0100\n",
      "Epoch:  60 train_loss=0.126870 train_accuracy=0.964836 val_loss=0.160018 val_accuracy=0.957600 learning_rate=0.0100\n",
      "Epoch:  61 train_loss=0.126225 train_accuracy=0.964655 val_loss=0.150894 val_accuracy=0.956800 learning_rate=0.0100\n",
      "Epoch:  62 train_loss=0.125161 train_accuracy=0.965382 val_loss=0.151727 val_accuracy=0.961000 learning_rate=0.0100\n",
      "Epoch:  63 train_loss=0.123196 train_accuracy=0.965091 val_loss=0.155333 val_accuracy=0.958000 learning_rate=0.0100\n",
      "Epoch:  64 train_loss=0.121100 train_accuracy=0.966236 val_loss=0.151712 val_accuracy=0.959200 learning_rate=0.0100\n",
      "Epoch:  65 train_loss=0.119488 train_accuracy=0.967055 val_loss=0.149491 val_accuracy=0.960400 learning_rate=0.0100\n",
      "Epoch:  66 train_loss=0.119272 train_accuracy=0.966982 val_loss=0.144873 val_accuracy=0.962200 learning_rate=0.0100\n",
      "Epoch:  67 train_loss=0.116903 train_accuracy=0.967764 val_loss=0.152231 val_accuracy=0.960200 learning_rate=0.0100\n",
      "Epoch:  68 train_loss=0.119049 train_accuracy=0.965964 val_loss=0.144133 val_accuracy=0.959800 learning_rate=0.0100\n",
      "Epoch:  69 train_loss=0.113161 train_accuracy=0.968909 val_loss=0.152459 val_accuracy=0.961800 learning_rate=0.0100\n",
      "Epoch:  70 train_loss=0.111154 train_accuracy=0.967745 val_loss=0.147652 val_accuracy=0.959800 learning_rate=0.0100\n",
      "Epoch:  71 train_loss=0.111466 train_accuracy=0.967982 val_loss=0.155214 val_accuracy=0.961200 learning_rate=0.0100\n"
     ]
    },
    {
     "name": "stdout",
     "output_type": "stream",
     "text": [
      "Epoch:  72 train_loss=0.110719 train_accuracy=0.968855 val_loss=0.143827 val_accuracy=0.962600 learning_rate=0.0100\n",
      "Epoch:  73 train_loss=0.106527 train_accuracy=0.970436 val_loss=0.141202 val_accuracy=0.965400 learning_rate=0.0100\n",
      "Epoch:  74 train_loss=0.108354 train_accuracy=0.969455 val_loss=0.146456 val_accuracy=0.961600 learning_rate=0.0100\n",
      "Epoch:  75 train_loss=0.107008 train_accuracy=0.970073 val_loss=0.133718 val_accuracy=0.965600 learning_rate=0.0100\n",
      "Epoch:  76 train_loss=0.105954 train_accuracy=0.969618 val_loss=0.134113 val_accuracy=0.964200 learning_rate=0.0100\n",
      "Epoch:  77 train_loss=0.103651 train_accuracy=0.970964 val_loss=0.142134 val_accuracy=0.966400 learning_rate=0.0100\n",
      "Epoch:  78 train_loss=0.101910 train_accuracy=0.971509 val_loss=0.150881 val_accuracy=0.962400 learning_rate=0.0100\n",
      "Epoch:  79 train_loss=0.102776 train_accuracy=0.970691 val_loss=0.142525 val_accuracy=0.966400 learning_rate=0.0100\n",
      "Epoch:  80 train_loss=0.100929 train_accuracy=0.971455 val_loss=0.137160 val_accuracy=0.964000 learning_rate=0.0100\n",
      "Epoch:  81 train_loss=0.102223 train_accuracy=0.970982 val_loss=0.136940 val_accuracy=0.962800 learning_rate=0.0100\n",
      "Epoch:  82 train_loss=0.097670 train_accuracy=0.973182 val_loss=0.146235 val_accuracy=0.965800 learning_rate=0.0100\n",
      "Epoch:  83 train_loss=0.096599 train_accuracy=0.971800 val_loss=0.151360 val_accuracy=0.962400 learning_rate=0.0100\n",
      "Epoch:  84 train_loss=0.094877 train_accuracy=0.972782 val_loss=0.139712 val_accuracy=0.963800 learning_rate=0.0100\n",
      "Epoch:  85 train_loss=0.096929 train_accuracy=0.973164 val_loss=0.148025 val_accuracy=0.961600 learning_rate=0.0100\n",
      "Epoch:  86 train_loss=0.095355 train_accuracy=0.973473 val_loss=0.130617 val_accuracy=0.965200 learning_rate=0.0100\n",
      "Epoch:  87 train_loss=0.092779 train_accuracy=0.973582 val_loss=0.129816 val_accuracy=0.965800 learning_rate=0.0100\n",
      "Epoch:  88 train_loss=0.091545 train_accuracy=0.974018 val_loss=0.125937 val_accuracy=0.968200 learning_rate=0.0100\n",
      "Epoch:  89 train_loss=0.088953 train_accuracy=0.974600 val_loss=0.149185 val_accuracy=0.963200 learning_rate=0.0100\n",
      "Epoch:  90 train_loss=0.092319 train_accuracy=0.973273 val_loss=0.143597 val_accuracy=0.962000 learning_rate=0.0100\n",
      "Epoch:  91 train_loss=0.091265 train_accuracy=0.974309 val_loss=0.132262 val_accuracy=0.964800 learning_rate=0.0100\n",
      "Epoch:  92 train_loss=0.087905 train_accuracy=0.974891 val_loss=0.135121 val_accuracy=0.966400 learning_rate=0.0100\n",
      "Epoch:  93 train_loss=0.088602 train_accuracy=0.974291 val_loss=0.135383 val_accuracy=0.963800 learning_rate=0.0100\n",
      "Epoch:  94 train_loss=0.083746 train_accuracy=0.976164 val_loss=0.146169 val_accuracy=0.963600 learning_rate=0.0100\n",
      "Epoch:  95 train_loss=0.083257 train_accuracy=0.975927 val_loss=0.132297 val_accuracy=0.964400 learning_rate=0.0100\n",
      "Epoch:  96 train_loss=0.085250 train_accuracy=0.976545 val_loss=0.134924 val_accuracy=0.964200 learning_rate=0.0100\n",
      "Epoch:  97 train_loss=0.084399 train_accuracy=0.976109 val_loss=0.142522 val_accuracy=0.965400 learning_rate=0.0100\n",
      "Epoch:  98 train_loss=0.085365 train_accuracy=0.975018 val_loss=0.146689 val_accuracy=0.964000 learning_rate=0.0100\n",
      "Epoch:  99 train_loss=0.079211 train_accuracy=0.977400 val_loss=0.132762 val_accuracy=0.963800 learning_rate=0.0100\n",
      "Epoch: 100 train_loss=0.082557 train_accuracy=0.976400 val_loss=0.132215 val_accuracy=0.967800 learning_rate=0.0100\n",
      "Epoch: 101 train_loss=0.078126 train_accuracy=0.977745 val_loss=0.139532 val_accuracy=0.963600 learning_rate=0.0010\n",
      "Epoch: 102 train_loss=0.082998 train_accuracy=0.977000 val_loss=0.139091 val_accuracy=0.966200 learning_rate=0.0010\n",
      "Epoch: 103 train_loss=0.077333 train_accuracy=0.977400 val_loss=0.141397 val_accuracy=0.965800 learning_rate=0.0010\n",
      "Epoch: 104 train_loss=0.077203 train_accuracy=0.978036 val_loss=0.130867 val_accuracy=0.967000 learning_rate=0.0010\n",
      "Epoch: 105 train_loss=0.078475 train_accuracy=0.978018 val_loss=0.140689 val_accuracy=0.964600 learning_rate=0.0010\n",
      "Epoch: 106 train_loss=0.075229 train_accuracy=0.978491 val_loss=0.132355 val_accuracy=0.965200 learning_rate=0.0010\n",
      "Epoch: 107 train_loss=0.074950 train_accuracy=0.978455 val_loss=0.138102 val_accuracy=0.964200 learning_rate=0.0010\n",
      "Epoch: 108 train_loss=0.075004 train_accuracy=0.978636 val_loss=0.129199 val_accuracy=0.967000 learning_rate=0.0010\n",
      "Epoch: 109 train_loss=0.072480 train_accuracy=0.979364 val_loss=0.137124 val_accuracy=0.962400 learning_rate=0.0010\n",
      "Epoch: 110 train_loss=0.073886 train_accuracy=0.979127 val_loss=0.133708 val_accuracy=0.966800 learning_rate=0.0010\n",
      "Epoch: 111 train_loss=0.072785 train_accuracy=0.979309 val_loss=0.121673 val_accuracy=0.969800 learning_rate=0.0010\n",
      "Epoch: 112 train_loss=0.070165 train_accuracy=0.980000 val_loss=0.127352 val_accuracy=0.965000 learning_rate=0.0010\n",
      "Epoch: 113 train_loss=0.072360 train_accuracy=0.979255 val_loss=0.131019 val_accuracy=0.965800 learning_rate=0.0010\n",
      "Epoch: 114 train_loss=0.070879 train_accuracy=0.979564 val_loss=0.128743 val_accuracy=0.966400 learning_rate=0.0010\n",
      "Epoch: 115 train_loss=0.071456 train_accuracy=0.979255 val_loss=0.124898 val_accuracy=0.969400 learning_rate=0.0010\n",
      "Epoch: 116 train_loss=0.068297 train_accuracy=0.980673 val_loss=0.138844 val_accuracy=0.966800 learning_rate=0.0010\n",
      "Epoch: 117 train_loss=0.068387 train_accuracy=0.980182 val_loss=0.127632 val_accuracy=0.969200 learning_rate=0.0010\n",
      "Epoch: 118 train_loss=0.067606 train_accuracy=0.980782 val_loss=0.130762 val_accuracy=0.968600 learning_rate=0.0010\n",
      "Epoch: 119 train_loss=0.067500 train_accuracy=0.980600 val_loss=0.132959 val_accuracy=0.969000 learning_rate=0.0010\n",
      "Epoch: 120 train_loss=0.065860 train_accuracy=0.981527 val_loss=0.132282 val_accuracy=0.965000 learning_rate=0.0010\n",
      "Epoch: 121 train_loss=0.064610 train_accuracy=0.982327 val_loss=0.125659 val_accuracy=0.966600 learning_rate=0.0010\n",
      "Epoch: 122 train_loss=0.068193 train_accuracy=0.980200 val_loss=0.128001 val_accuracy=0.964800 learning_rate=0.0010\n",
      "Epoch: 123 train_loss=0.062760 train_accuracy=0.982182 val_loss=0.132810 val_accuracy=0.969000 learning_rate=0.0010\n",
      "Epoch: 124 train_loss=0.065039 train_accuracy=0.981309 val_loss=0.132855 val_accuracy=0.967800 learning_rate=0.0010\n",
      "Epoch: 125 train_loss=0.063242 train_accuracy=0.981782 val_loss=0.127155 val_accuracy=0.971200 learning_rate=0.0010\n",
      "Epoch: 126 train_loss=0.064617 train_accuracy=0.981655 val_loss=0.130808 val_accuracy=0.968800 learning_rate=0.0010\n",
      "Epoch: 127 train_loss=0.062583 train_accuracy=0.982545 val_loss=0.124542 val_accuracy=0.967800 learning_rate=0.0010\n",
      "Epoch: 128 train_loss=0.061034 train_accuracy=0.982873 val_loss=0.114629 val_accuracy=0.971200 learning_rate=0.0010\n",
      "Epoch: 129 train_loss=0.062726 train_accuracy=0.982455 val_loss=0.124787 val_accuracy=0.969800 learning_rate=0.0010\n",
      "Epoch: 130 train_loss=0.059900 train_accuracy=0.982818 val_loss=0.129608 val_accuracy=0.967800 learning_rate=0.0010\n",
      "Epoch: 131 train_loss=0.059676 train_accuracy=0.982400 val_loss=0.128246 val_accuracy=0.970400 learning_rate=0.0010\n",
      "Epoch: 132 train_loss=0.060196 train_accuracy=0.982491 val_loss=0.117495 val_accuracy=0.970600 learning_rate=0.0010\n",
      "Epoch: 133 train_loss=0.059927 train_accuracy=0.982473 val_loss=0.125890 val_accuracy=0.971400 learning_rate=0.0010\n",
      "Epoch: 134 train_loss=0.061151 train_accuracy=0.982855 val_loss=0.127866 val_accuracy=0.969600 learning_rate=0.0010\n",
      "Epoch: 135 train_loss=0.059084 train_accuracy=0.982327 val_loss=0.136047 val_accuracy=0.965600 learning_rate=0.0010\n",
      "Epoch: 136 train_loss=0.059557 train_accuracy=0.983018 val_loss=0.126029 val_accuracy=0.968600 learning_rate=0.0010\n",
      "Epoch: 137 train_loss=0.054957 train_accuracy=0.984564 val_loss=0.119716 val_accuracy=0.970000 learning_rate=0.0010\n",
      "Epoch: 138 train_loss=0.058328 train_accuracy=0.983000 val_loss=0.126019 val_accuracy=0.969600 learning_rate=0.0010\n",
      "Epoch: 139 train_loss=0.054724 train_accuracy=0.984727 val_loss=0.140184 val_accuracy=0.967400 learning_rate=0.0010\n",
      "Epoch: 140 train_loss=0.057109 train_accuracy=0.984309 val_loss=0.117697 val_accuracy=0.966800 learning_rate=0.0010\n",
      "Epoch: 141 train_loss=0.054068 train_accuracy=0.984127 val_loss=0.130676 val_accuracy=0.970800 learning_rate=0.0010\n",
      "Epoch: 142 train_loss=0.055419 train_accuracy=0.984455 val_loss=0.131557 val_accuracy=0.968200 learning_rate=0.0010\n"
     ]
    },
    {
     "name": "stdout",
     "output_type": "stream",
     "text": [
      "Epoch: 143 train_loss=0.053236 train_accuracy=0.984491 val_loss=0.120054 val_accuracy=0.971600 learning_rate=0.0010\n",
      "Epoch: 144 train_loss=0.055174 train_accuracy=0.984273 val_loss=0.128828 val_accuracy=0.969400 learning_rate=0.0010\n",
      "Epoch: 145 train_loss=0.051997 train_accuracy=0.985164 val_loss=0.128098 val_accuracy=0.970000 learning_rate=0.0010\n",
      "Epoch: 146 train_loss=0.052802 train_accuracy=0.984127 val_loss=0.133567 val_accuracy=0.969400 learning_rate=0.0010\n",
      "Epoch: 147 train_loss=0.052215 train_accuracy=0.984691 val_loss=0.131717 val_accuracy=0.970400 learning_rate=0.0010\n",
      "Epoch: 148 train_loss=0.050656 train_accuracy=0.985600 val_loss=0.138663 val_accuracy=0.968600 learning_rate=0.0010\n",
      "Epoch: 149 train_loss=0.051594 train_accuracy=0.985455 val_loss=0.130331 val_accuracy=0.967800 learning_rate=0.0010\n",
      "Epoch: 150 train_loss=0.049943 train_accuracy=0.985691 val_loss=0.125346 val_accuracy=0.970800 learning_rate=0.0010\n",
      "INFO:Train Finished!\n",
      "Taking for 254 seconds!\n"
     ]
    }
   ],
   "source": [
    "startTime = time.time()\n",
    "\n",
    "sess = tf.Session()\n",
    "\n",
    "train_loss_list = []\n",
    "train_acc_list = []\n",
    "val_loss_list = []\n",
    "val_acc_list = []\n",
    "\n",
    "sess.run(tf.global_variables_initializer())\n",
    "for epoch in range(epochs):\n",
    "    if epoch > 99:\n",
    "        learning_rate = 0.001\n",
    "    for batch in range(total_batch):\n",
    "        xs, ys = mnist.train.next_batch(batch_size)\n",
    "        sess.run(optimizer, feed_dict={x:xs, y:ys})\n",
    "    train_loss, train_acc = sess.run([loss_function, accuracy],\n",
    "                         feed_dict={x:mnist.train.images, y:mnist.train.labels})\n",
    "    val_loss, val_acc = sess.run([loss_function, accuracy],\n",
    "                         feed_dict={x:mnist.validation.images, y:mnist.validation.labels})\n",
    "    train_loss_list.append(train_loss)\n",
    "    train_acc_list.append(train_acc)\n",
    "    val_loss_list.append(val_loss)\n",
    "    val_acc_list.append(val_acc)\n",
    "    if (epoch + 1) % display_step == 0:\n",
    "        print('Epoch: %3d' % (epoch + 1), \n",
    "              'train_loss=%6f' % train_loss, \n",
    "              'train_accuracy=%4f' % train_acc,\n",
    "              'val_loss=%6f' % val_loss, \n",
    "              'val_accuracy=%4f' % val_acc,\n",
    "              'learning_rate=%.4f' % learning_rate)\n",
    "\n",
    "duration = time.time() - startTime\n",
    "print('INFO:Train Finished!\\nTaking for %d seconds!' % duration)"
   ]
  },
  {
   "cell_type": "code",
   "execution_count": 13,
   "metadata": {},
   "outputs": [
    {
     "name": "stdout",
     "output_type": "stream",
     "text": [
      "Test dataset accuracy: 0.969800\n"
     ]
    }
   ],
   "source": [
    "test_acc = sess.run(accuracy, feed_dict={x:mnist.test.images, y:mnist.test.labels})\n",
    "print('Test dataset accuracy: %f' % test_acc)"
   ]
  },
  {
   "cell_type": "markdown",
   "metadata": {},
   "source": [
    "### 损失与准确率可视化"
   ]
  },
  {
   "cell_type": "code",
   "execution_count": 14,
   "metadata": {},
   "outputs": [
    {
     "data": {
      "image/png": "[encoded data removed]",
      "text/plain": [
       "<Figure size 720x360 with 2 Axes>"
      ]
     },
     "metadata": {
      "needs_background": "light"
     },
     "output_type": "display_data"
    }
   ],
   "source": [
    "fig = plt.gcf()\n",
    "fig.set_size_inches(10, 5)\n",
    "ax1 = fig.add_subplot(111)\n",
    "ax1.set_title('Train and Validation Picture')\n",
    "ax1.set_ylabel('Loss value')\n",
    "line1, = ax1.plot(train_loss_list, color=(0.5, 0.5, 1.0), label='Loss train')\n",
    "line2, = ax1.plot(val_loss_list, color=(0.5, 1.0, 0.5), label='Loss valid')\n",
    "ax2 = ax1.twinx()\n",
    "ax2.set_ylabel('Accuracy value')\n",
    "line3, = ax2.plot(train_acc_list, color=(0.5, 0.5, 0.5), label='Accuracy train')\n",
    "line4, = ax2.plot(val_acc_list, color=(1, 0, 0), label='Accuracy valid')\n",
    "plt.legend(handles=(line1, line2, line3, line4), loc='best')\n",
    "plt.show()"
   ]
  },
  {
   "cell_type": "code",
   "execution_count": 15,
   "metadata": {},
   "outputs": [],
   "source": [
    "sess.close()"
   ]
  },
  {
   "cell_type": "markdown",
   "metadata": {},
   "source": [
    "### 定义全连接函数简化网络定义代码并保存模型"
   ]
  },
  {
   "cell_type": "code",
   "execution_count": 16,
   "metadata": {},
   "outputs": [],
   "source": [
    "def fcn_layer(inputs,\n",
    "              input_dim,\n",
    "              output_dim,\n",
    "              activation=None):\n",
    "    W = tf.Variable(tf.truncated_normal([input_dim, output_dim], stddev=0.1))\n",
    "    b = tf.Variable(tf.zeros([output_dim]))\n",
    "    XWb = tf.matmul(inputs, W) + b\n",
    "    if activation is None:\n",
    "        outputs = XWb\n",
    "    else:\n",
    "        outputs = activation(XWb)\n",
    "        outputs = tf.nn.dropout(outputs, rate=0.2)\n",
    "    \n",
    "    return outputs"
   ]
  },
  {
   "cell_type": "code",
   "execution_count": 17,
   "metadata": {},
   "outputs": [],
   "source": [
    "x = tf.placeholder(tf.float32, [None, 784], name='X')\n",
    "\n",
    "h1 = fcn_layer(x, 784, 256, tf.nn.relu)\n",
    "h2 = fcn_layer(h1, 256, 128, tf.nn.relu)\n",
    "h3 = fcn_layer(h2, 128, 64, tf.nn.relu)\n",
    "h4 = fcn_layer(h3, 64, 32, tf.nn.relu)\n",
    "\n",
    "forward = fcn_layer(h4, 32, 10, None)\n",
    "pred = tf.nn.softmax(forward)"
   ]
  },
  {
   "cell_type": "code",
   "execution_count": 18,
   "metadata": {},
   "outputs": [],
   "source": [
    "epochs = 201\n",
    "batch_size = 100\n",
    "total_batch = int(mnist.train.num_examples / batch_size)\n",
    "display_step = 1\n",
    "learning_rate = 0.01\n",
    "save_step = 5\n",
    "\n",
    "ckpt_dir = './mnist_ckpt'\n",
    "if not os.path.exists(ckpt_dir):\n",
    "    os.makedirs(ckpt_dir)\n",
    "\n",
    "loss_function = tf.reduce_mean(tf.nn.softmax_cross_entropy_with_logits_v2(logits=forward, labels=y))\n",
    "\n",
    "optimizer = tf.train.GradientDescentOptimizer(learning_rate).minimize(loss_function)\n",
    "\n",
    "correct_prediction = tf.equal(tf.argmax(pred, 1), tf.argmax(y, 1))\n",
    "accuracy = tf.reduce_mean(tf.cast(correct_prediction, tf.float32))"
   ]
  },
  {
   "cell_type": "code",
   "execution_count": 19,
   "metadata": {},
   "outputs": [
    {
     "name": "stdout",
     "output_type": "stream",
     "text": [
      "Epoch:   1 train_loss=2.021841 train_accuracy=0.281473 val_loss=2.032084 val_accuracy=0.273000 learning_rate=0.0100\n",
      "Epoch:   2 train_loss=1.347954 train_accuracy=0.523127 val_loss=1.334656 val_accuracy=0.525200 learning_rate=0.0100\n",
      "Epoch:   3 train_loss=0.962488 train_accuracy=0.674509 val_loss=0.936619 val_accuracy=0.687000 learning_rate=0.0100\n",
      "Epoch:   4 train_loss=0.787442 train_accuracy=0.744200 val_loss=0.764963 val_accuracy=0.751000 learning_rate=0.0100\n",
      "Epoch:   5 train_loss=0.678399 train_accuracy=0.785745 val_loss=0.660025 val_accuracy=0.798600 learning_rate=0.0100\n",
      "INFO:mnist_model_005.ckpt saved\n",
      "Epoch:   6 train_loss=0.609951 train_accuracy=0.810818 val_loss=0.588995 val_accuracy=0.821800 learning_rate=0.0100\n",
      "Epoch:   7 train_loss=0.550840 train_accuracy=0.833709 val_loss=0.514423 val_accuracy=0.850200 learning_rate=0.0100\n",
      "Epoch:   8 train_loss=0.510812 train_accuracy=0.846000 val_loss=0.494456 val_accuracy=0.858800 learning_rate=0.0100\n",
      "Epoch:   9 train_loss=0.476533 train_accuracy=0.856164 val_loss=0.457468 val_accuracy=0.864400 learning_rate=0.0100\n",
      "Epoch:  10 train_loss=0.440085 train_accuracy=0.869818 val_loss=0.449313 val_accuracy=0.871200 learning_rate=0.0100\n",
      "INFO:mnist_model_010.ckpt saved\n",
      "Epoch:  11 train_loss=0.420543 train_accuracy=0.878655 val_loss=0.406321 val_accuracy=0.884600 learning_rate=0.0100\n",
      "Epoch:  12 train_loss=0.396426 train_accuracy=0.885400 val_loss=0.391025 val_accuracy=0.888800 learning_rate=0.0100\n",
      "Epoch:  13 train_loss=0.378125 train_accuracy=0.890618 val_loss=0.367967 val_accuracy=0.897000 learning_rate=0.0100\n",
      "Epoch:  14 train_loss=0.359430 train_accuracy=0.896873 val_loss=0.352383 val_accuracy=0.902000 learning_rate=0.0100\n",
      "Epoch:  15 train_loss=0.343901 train_accuracy=0.902345 val_loss=0.341199 val_accuracy=0.905800 learning_rate=0.0100\n",
      "INFO:mnist_model_015.ckpt saved\n",
      "Epoch:  16 train_loss=0.330975 train_accuracy=0.904418 val_loss=0.314847 val_accuracy=0.913400 learning_rate=0.0100\n",
      "Epoch:  17 train_loss=0.317940 train_accuracy=0.909636 val_loss=0.324705 val_accuracy=0.914200 learning_rate=0.0100\n",
      "Epoch:  18 train_loss=0.305785 train_accuracy=0.912600 val_loss=0.301742 val_accuracy=0.918600 learning_rate=0.0100\n",
      "Epoch:  19 train_loss=0.295776 train_accuracy=0.915800 val_loss=0.280448 val_accuracy=0.924400 learning_rate=0.0100\n",
      "Epoch:  20 train_loss=0.285892 train_accuracy=0.918982 val_loss=0.284700 val_accuracy=0.922800 learning_rate=0.0100\n",
      "INFO:mnist_model_020.ckpt saved\n",
      "Epoch:  21 train_loss=0.276188 train_accuracy=0.922309 val_loss=0.279264 val_accuracy=0.921000 learning_rate=0.0100\n",
      "Epoch:  22 train_loss=0.269201 train_accuracy=0.924145 val_loss=0.271981 val_accuracy=0.924800 learning_rate=0.0100\n",
      "Epoch:  23 train_loss=0.256410 train_accuracy=0.927655 val_loss=0.264795 val_accuracy=0.929600 learning_rate=0.0100\n",
      "Epoch:  24 train_loss=0.256239 train_accuracy=0.928800 val_loss=0.250791 val_accuracy=0.930000 learning_rate=0.0100\n",
      "Epoch:  25 train_loss=0.246585 train_accuracy=0.930564 val_loss=0.250971 val_accuracy=0.934200 learning_rate=0.0100\n",
      "INFO:mnist_model_025.ckpt saved\n",
      "Epoch:  26 train_loss=0.239976 train_accuracy=0.932673 val_loss=0.249978 val_accuracy=0.933200 learning_rate=0.0100\n",
      "Epoch:  27 train_loss=0.237209 train_accuracy=0.934309 val_loss=0.234813 val_accuracy=0.938000 learning_rate=0.0100\n",
      "Epoch:  28 train_loss=0.228064 train_accuracy=0.937182 val_loss=0.230089 val_accuracy=0.938400 learning_rate=0.0100\n",
      "Epoch:  29 train_loss=0.226597 train_accuracy=0.936836 val_loss=0.229285 val_accuracy=0.939400 learning_rate=0.0100\n",
      "Epoch:  30 train_loss=0.218646 train_accuracy=0.938909 val_loss=0.222773 val_accuracy=0.940000 learning_rate=0.0100\n",
      "WARNING:tensorflow:From e:\\anaconda3\\envs\\tensorflow1.x\\lib\\site-packages\\tensorflow_core\\python\\training\\saver.py:963: remove_checkpoint (from tensorflow.python.training.checkpoint_management) is deprecated and will be removed in a future version.\n",
      "Instructions for updating:\n",
      "Use standard file APIs to delete files with this prefix.\n",
      "INFO:mnist_model_030.ckpt saved\n",
      "Epoch:  31 train_loss=0.212430 train_accuracy=0.940345 val_loss=0.223825 val_accuracy=0.943200 learning_rate=0.0100\n",
      "Epoch:  32 train_loss=0.207724 train_accuracy=0.942236 val_loss=0.211973 val_accuracy=0.941600 learning_rate=0.0100\n",
      "Epoch:  33 train_loss=0.206137 train_accuracy=0.941745 val_loss=0.223119 val_accuracy=0.941600 learning_rate=0.0100\n",
      "Epoch:  34 train_loss=0.199135 train_accuracy=0.944527 val_loss=0.213266 val_accuracy=0.944600 learning_rate=0.0100\n",
      "Epoch:  35 train_loss=0.195733 train_accuracy=0.945473 val_loss=0.201821 val_accuracy=0.947400 learning_rate=0.0100\n",
      "INFO:mnist_model_035.ckpt saved\n",
      "Epoch:  36 train_loss=0.191475 train_accuracy=0.945345 val_loss=0.207026 val_accuracy=0.943800 learning_rate=0.0100\n",
      "Epoch:  37 train_loss=0.191577 train_accuracy=0.946455 val_loss=0.210824 val_accuracy=0.948200 learning_rate=0.0100\n",
      "Epoch:  38 train_loss=0.185076 train_accuracy=0.947418 val_loss=0.205024 val_accuracy=0.946400 learning_rate=0.0100\n",
      "Epoch:  39 train_loss=0.184953 train_accuracy=0.948127 val_loss=0.205967 val_accuracy=0.947200 learning_rate=0.0100\n",
      "Epoch:  40 train_loss=0.182397 train_accuracy=0.949327 val_loss=0.198701 val_accuracy=0.948200 learning_rate=0.0100\n",
      "INFO:mnist_model_040.ckpt saved\n",
      "Epoch:  41 train_loss=0.173287 train_accuracy=0.951218 val_loss=0.199110 val_accuracy=0.950400 learning_rate=0.0100\n",
      "Epoch:  42 train_loss=0.173291 train_accuracy=0.951182 val_loss=0.187065 val_accuracy=0.948000 learning_rate=0.0100\n",
      "Epoch:  43 train_loss=0.172713 train_accuracy=0.952709 val_loss=0.189379 val_accuracy=0.948600 learning_rate=0.0100\n",
      "Epoch:  44 train_loss=0.166924 train_accuracy=0.953564 val_loss=0.187567 val_accuracy=0.947800 learning_rate=0.0100\n",
      "Epoch:  45 train_loss=0.163542 train_accuracy=0.954800 val_loss=0.187434 val_accuracy=0.950000 learning_rate=0.0100\n",
      "INFO:mnist_model_045.ckpt saved\n",
      "Epoch:  46 train_loss=0.161596 train_accuracy=0.956018 val_loss=0.175659 val_accuracy=0.955800 learning_rate=0.0100\n",
      "Epoch:  47 train_loss=0.156312 train_accuracy=0.956182 val_loss=0.174638 val_accuracy=0.951200 learning_rate=0.0100\n",
      "Epoch:  48 train_loss=0.156074 train_accuracy=0.956473 val_loss=0.188348 val_accuracy=0.948800 learning_rate=0.0100\n",
      "Epoch:  49 train_loss=0.154175 train_accuracy=0.957055 val_loss=0.180624 val_accuracy=0.951200 learning_rate=0.0100\n",
      "Epoch:  50 train_loss=0.152889 train_accuracy=0.957873 val_loss=0.165651 val_accuracy=0.951200 learning_rate=0.0100\n",
      "INFO:mnist_model_050.ckpt saved\n",
      "Epoch:  51 train_loss=0.150728 train_accuracy=0.958782 val_loss=0.179851 val_accuracy=0.950600 learning_rate=0.0100\n",
      "Epoch:  52 train_loss=0.148077 train_accuracy=0.958709 val_loss=0.177065 val_accuracy=0.954000 learning_rate=0.0100\n",
      "Epoch:  53 train_loss=0.146443 train_accuracy=0.959364 val_loss=0.178269 val_accuracy=0.951800 learning_rate=0.0100\n",
      "Epoch:  54 train_loss=0.142846 train_accuracy=0.960400 val_loss=0.169961 val_accuracy=0.956200 learning_rate=0.0100\n",
      "Epoch:  55 train_loss=0.140903 train_accuracy=0.961436 val_loss=0.177559 val_accuracy=0.953800 learning_rate=0.0100\n",
      "INFO:mnist_model_055.ckpt saved\n",
      "Epoch:  56 train_loss=0.138141 train_accuracy=0.961618 val_loss=0.154873 val_accuracy=0.960400 learning_rate=0.0100\n",
      "Epoch:  57 train_loss=0.138416 train_accuracy=0.962400 val_loss=0.164436 val_accuracy=0.956800 learning_rate=0.0100\n",
      "Epoch:  58 train_loss=0.133208 train_accuracy=0.963891 val_loss=0.156558 val_accuracy=0.960200 learning_rate=0.0100\n",
      "Epoch:  59 train_loss=0.132977 train_accuracy=0.963527 val_loss=0.164003 val_accuracy=0.954600 learning_rate=0.0100\n",
      "Epoch:  60 train_loss=0.133866 train_accuracy=0.963218 val_loss=0.168216 val_accuracy=0.955000 learning_rate=0.0100\n",
      "INFO:mnist_model_060.ckpt saved\n",
      "Epoch:  61 train_loss=0.127561 train_accuracy=0.964255 val_loss=0.156941 val_accuracy=0.957600 learning_rate=0.0100\n",
      "Epoch:  62 train_loss=0.127522 train_accuracy=0.964218 val_loss=0.164600 val_accuracy=0.959200 learning_rate=0.0100\n",
      "Epoch:  63 train_loss=0.126295 train_accuracy=0.965418 val_loss=0.151611 val_accuracy=0.961600 learning_rate=0.0100\n",
      "Epoch:  64 train_loss=0.127374 train_accuracy=0.965109 val_loss=0.165389 val_accuracy=0.957400 learning_rate=0.0100\n",
      "Epoch:  65 train_loss=0.123919 train_accuracy=0.966400 val_loss=0.168239 val_accuracy=0.957000 learning_rate=0.0100\n"
     ]
    },
    {
     "name": "stdout",
     "output_type": "stream",
     "text": [
      "INFO:mnist_model_065.ckpt saved\n",
      "Epoch:  66 train_loss=0.122726 train_accuracy=0.966127 val_loss=0.178846 val_accuracy=0.955600 learning_rate=0.0100\n",
      "Epoch:  67 train_loss=0.121295 train_accuracy=0.966327 val_loss=0.154882 val_accuracy=0.961000 learning_rate=0.0100\n",
      "Epoch:  68 train_loss=0.117183 train_accuracy=0.966127 val_loss=0.156866 val_accuracy=0.960600 learning_rate=0.0100\n",
      "Epoch:  69 train_loss=0.116543 train_accuracy=0.968327 val_loss=0.154183 val_accuracy=0.961200 learning_rate=0.0100\n",
      "Epoch:  70 train_loss=0.115000 train_accuracy=0.968582 val_loss=0.153154 val_accuracy=0.960600 learning_rate=0.0100\n",
      "INFO:mnist_model_070.ckpt saved\n",
      "Epoch:  71 train_loss=0.115551 train_accuracy=0.968000 val_loss=0.161871 val_accuracy=0.956400 learning_rate=0.0100\n",
      "Epoch:  72 train_loss=0.113663 train_accuracy=0.968364 val_loss=0.154091 val_accuracy=0.963000 learning_rate=0.0100\n",
      "Epoch:  73 train_loss=0.113486 train_accuracy=0.968691 val_loss=0.146906 val_accuracy=0.959600 learning_rate=0.0100\n",
      "Epoch:  74 train_loss=0.109539 train_accuracy=0.969436 val_loss=0.153280 val_accuracy=0.961400 learning_rate=0.0100\n",
      "Epoch:  75 train_loss=0.108580 train_accuracy=0.969636 val_loss=0.153414 val_accuracy=0.962200 learning_rate=0.0100\n",
      "INFO:mnist_model_075.ckpt saved\n",
      "Epoch:  76 train_loss=0.106174 train_accuracy=0.971182 val_loss=0.144767 val_accuracy=0.962600 learning_rate=0.0100\n",
      "Epoch:  77 train_loss=0.104388 train_accuracy=0.971145 val_loss=0.152440 val_accuracy=0.959000 learning_rate=0.0100\n",
      "Epoch:  78 train_loss=0.109711 train_accuracy=0.969891 val_loss=0.150756 val_accuracy=0.962000 learning_rate=0.0100\n",
      "Epoch:  79 train_loss=0.101529 train_accuracy=0.971855 val_loss=0.142856 val_accuracy=0.963400 learning_rate=0.0100\n",
      "Epoch:  80 train_loss=0.102006 train_accuracy=0.971545 val_loss=0.152462 val_accuracy=0.962400 learning_rate=0.0100\n",
      "INFO:mnist_model_080.ckpt saved\n",
      "Epoch:  81 train_loss=0.101598 train_accuracy=0.971327 val_loss=0.144147 val_accuracy=0.962800 learning_rate=0.0100\n",
      "Epoch:  82 train_loss=0.103204 train_accuracy=0.970655 val_loss=0.156325 val_accuracy=0.960000 learning_rate=0.0100\n",
      "Epoch:  83 train_loss=0.097999 train_accuracy=0.972291 val_loss=0.148026 val_accuracy=0.964200 learning_rate=0.0100\n",
      "Epoch:  84 train_loss=0.099297 train_accuracy=0.972764 val_loss=0.157123 val_accuracy=0.959600 learning_rate=0.0100\n",
      "Epoch:  85 train_loss=0.096529 train_accuracy=0.973000 val_loss=0.148726 val_accuracy=0.962400 learning_rate=0.0100\n",
      "INFO:mnist_model_085.ckpt saved\n",
      "Epoch:  86 train_loss=0.098044 train_accuracy=0.972964 val_loss=0.137380 val_accuracy=0.965000 learning_rate=0.0100\n",
      "Epoch:  87 train_loss=0.097461 train_accuracy=0.972236 val_loss=0.136714 val_accuracy=0.967000 learning_rate=0.0100\n",
      "Epoch:  88 train_loss=0.096646 train_accuracy=0.972673 val_loss=0.152000 val_accuracy=0.964400 learning_rate=0.0100\n",
      "Epoch:  89 train_loss=0.094684 train_accuracy=0.973618 val_loss=0.146661 val_accuracy=0.965200 learning_rate=0.0100\n",
      "Epoch:  90 train_loss=0.093259 train_accuracy=0.973673 val_loss=0.138742 val_accuracy=0.963000 learning_rate=0.0100\n",
      "INFO:mnist_model_090.ckpt saved\n",
      "Epoch:  91 train_loss=0.093466 train_accuracy=0.973927 val_loss=0.147627 val_accuracy=0.960800 learning_rate=0.0100\n",
      "Epoch:  92 train_loss=0.088204 train_accuracy=0.975836 val_loss=0.141251 val_accuracy=0.964600 learning_rate=0.0100\n",
      "Epoch:  93 train_loss=0.090213 train_accuracy=0.974564 val_loss=0.150619 val_accuracy=0.965200 learning_rate=0.0100\n",
      "Epoch:  94 train_loss=0.088436 train_accuracy=0.975436 val_loss=0.149874 val_accuracy=0.962400 learning_rate=0.0100\n",
      "Epoch:  95 train_loss=0.088332 train_accuracy=0.975218 val_loss=0.140737 val_accuracy=0.967800 learning_rate=0.0100\n",
      "INFO:mnist_model_095.ckpt saved\n",
      "Epoch:  96 train_loss=0.086743 train_accuracy=0.975745 val_loss=0.134490 val_accuracy=0.967000 learning_rate=0.0100\n",
      "Epoch:  97 train_loss=0.082954 train_accuracy=0.976655 val_loss=0.134102 val_accuracy=0.964600 learning_rate=0.0100\n",
      "Epoch:  98 train_loss=0.083519 train_accuracy=0.976200 val_loss=0.144517 val_accuracy=0.963800 learning_rate=0.0100\n",
      "Epoch:  99 train_loss=0.083624 train_accuracy=0.976818 val_loss=0.138458 val_accuracy=0.966600 learning_rate=0.0100\n",
      "Epoch: 100 train_loss=0.083203 train_accuracy=0.976945 val_loss=0.131870 val_accuracy=0.968000 learning_rate=0.0100\n",
      "INFO:mnist_model_100.ckpt saved\n",
      "Epoch: 101 train_loss=0.084536 train_accuracy=0.976673 val_loss=0.140653 val_accuracy=0.965800 learning_rate=0.0010\n",
      "Epoch: 102 train_loss=0.083505 train_accuracy=0.976455 val_loss=0.147174 val_accuracy=0.964200 learning_rate=0.0010\n",
      "Epoch: 103 train_loss=0.082901 train_accuracy=0.977018 val_loss=0.130048 val_accuracy=0.968400 learning_rate=0.0010\n",
      "Epoch: 104 train_loss=0.082433 train_accuracy=0.976855 val_loss=0.142308 val_accuracy=0.964400 learning_rate=0.0010\n",
      "Epoch: 105 train_loss=0.078061 train_accuracy=0.978727 val_loss=0.130680 val_accuracy=0.967600 learning_rate=0.0010\n",
      "INFO:mnist_model_105.ckpt saved\n",
      "Epoch: 106 train_loss=0.080065 train_accuracy=0.977545 val_loss=0.145494 val_accuracy=0.965400 learning_rate=0.0010\n",
      "Epoch: 107 train_loss=0.078339 train_accuracy=0.977982 val_loss=0.147860 val_accuracy=0.963600 learning_rate=0.0010\n",
      "Epoch: 108 train_loss=0.076608 train_accuracy=0.978382 val_loss=0.134221 val_accuracy=0.964800 learning_rate=0.0010\n",
      "Epoch: 109 train_loss=0.077256 train_accuracy=0.979218 val_loss=0.134199 val_accuracy=0.964600 learning_rate=0.0010\n",
      "Epoch: 110 train_loss=0.074813 train_accuracy=0.979091 val_loss=0.146040 val_accuracy=0.964000 learning_rate=0.0010\n",
      "INFO:mnist_model_110.ckpt saved\n",
      "Epoch: 111 train_loss=0.073373 train_accuracy=0.979691 val_loss=0.147579 val_accuracy=0.967800 learning_rate=0.0010\n",
      "Epoch: 112 train_loss=0.074967 train_accuracy=0.978927 val_loss=0.147666 val_accuracy=0.964800 learning_rate=0.0010\n",
      "Epoch: 113 train_loss=0.073444 train_accuracy=0.979164 val_loss=0.149675 val_accuracy=0.964000 learning_rate=0.0010\n",
      "Epoch: 114 train_loss=0.073698 train_accuracy=0.979636 val_loss=0.137637 val_accuracy=0.967200 learning_rate=0.0010\n",
      "Epoch: 115 train_loss=0.074827 train_accuracy=0.979127 val_loss=0.137141 val_accuracy=0.968200 learning_rate=0.0010\n",
      "INFO:mnist_model_115.ckpt saved\n",
      "Epoch: 116 train_loss=0.072817 train_accuracy=0.979382 val_loss=0.140057 val_accuracy=0.966400 learning_rate=0.0010\n",
      "Epoch: 117 train_loss=0.071222 train_accuracy=0.979636 val_loss=0.137126 val_accuracy=0.966600 learning_rate=0.0010\n",
      "Epoch: 118 train_loss=0.069962 train_accuracy=0.980018 val_loss=0.144987 val_accuracy=0.965200 learning_rate=0.0010\n",
      "Epoch: 119 train_loss=0.070220 train_accuracy=0.980364 val_loss=0.141890 val_accuracy=0.964000 learning_rate=0.0010\n",
      "Epoch: 120 train_loss=0.070028 train_accuracy=0.980309 val_loss=0.133771 val_accuracy=0.965200 learning_rate=0.0010\n",
      "INFO:mnist_model_120.ckpt saved\n",
      "Epoch: 121 train_loss=0.068447 train_accuracy=0.981018 val_loss=0.129763 val_accuracy=0.967000 learning_rate=0.0010\n",
      "Epoch: 122 train_loss=0.068837 train_accuracy=0.980600 val_loss=0.132061 val_accuracy=0.968800 learning_rate=0.0010\n",
      "Epoch: 123 train_loss=0.066737 train_accuracy=0.981182 val_loss=0.141290 val_accuracy=0.965600 learning_rate=0.0010\n",
      "Epoch: 124 train_loss=0.066696 train_accuracy=0.981291 val_loss=0.134004 val_accuracy=0.968200 learning_rate=0.0010\n",
      "Epoch: 125 train_loss=0.065208 train_accuracy=0.982000 val_loss=0.132480 val_accuracy=0.966400 learning_rate=0.0010\n",
      "INFO:mnist_model_125.ckpt saved\n",
      "Epoch: 126 train_loss=0.068708 train_accuracy=0.980218 val_loss=0.148096 val_accuracy=0.966200 learning_rate=0.0010\n",
      "Epoch: 127 train_loss=0.063569 train_accuracy=0.981891 val_loss=0.134904 val_accuracy=0.967200 learning_rate=0.0010\n",
      "Epoch: 128 train_loss=0.064008 train_accuracy=0.981800 val_loss=0.137309 val_accuracy=0.963800 learning_rate=0.0010\n",
      "Epoch: 129 train_loss=0.064829 train_accuracy=0.981182 val_loss=0.129943 val_accuracy=0.969200 learning_rate=0.0010\n",
      "Epoch: 130 train_loss=0.062310 train_accuracy=0.982436 val_loss=0.130905 val_accuracy=0.966600 learning_rate=0.0010\n",
      "INFO:mnist_model_130.ckpt saved\n",
      "Epoch: 131 train_loss=0.062800 train_accuracy=0.982018 val_loss=0.126884 val_accuracy=0.970000 learning_rate=0.0010\n",
      "Epoch: 132 train_loss=0.063408 train_accuracy=0.981945 val_loss=0.134587 val_accuracy=0.965400 learning_rate=0.0010\n"
     ]
    },
    {
     "name": "stdout",
     "output_type": "stream",
     "text": [
      "Epoch: 133 train_loss=0.061274 train_accuracy=0.982491 val_loss=0.129707 val_accuracy=0.968400 learning_rate=0.0010\n",
      "Epoch: 134 train_loss=0.060931 train_accuracy=0.982364 val_loss=0.129673 val_accuracy=0.969600 learning_rate=0.0010\n",
      "Epoch: 135 train_loss=0.061236 train_accuracy=0.982764 val_loss=0.136298 val_accuracy=0.967600 learning_rate=0.0010\n",
      "INFO:mnist_model_135.ckpt saved\n",
      "Epoch: 136 train_loss=0.060791 train_accuracy=0.983200 val_loss=0.125774 val_accuracy=0.967000 learning_rate=0.0010\n",
      "Epoch: 137 train_loss=0.058076 train_accuracy=0.983982 val_loss=0.137354 val_accuracy=0.965200 learning_rate=0.0010\n",
      "Epoch: 138 train_loss=0.061820 train_accuracy=0.982145 val_loss=0.140498 val_accuracy=0.966600 learning_rate=0.0010\n",
      "Epoch: 139 train_loss=0.059868 train_accuracy=0.982691 val_loss=0.132194 val_accuracy=0.966600 learning_rate=0.0010\n",
      "Epoch: 140 train_loss=0.056358 train_accuracy=0.984745 val_loss=0.151459 val_accuracy=0.967400 learning_rate=0.0010\n",
      "INFO:mnist_model_140.ckpt saved\n",
      "Epoch: 141 train_loss=0.055450 train_accuracy=0.983891 val_loss=0.137443 val_accuracy=0.967200 learning_rate=0.0010\n",
      "Epoch: 142 train_loss=0.058695 train_accuracy=0.983091 val_loss=0.134031 val_accuracy=0.964600 learning_rate=0.0010\n",
      "Epoch: 143 train_loss=0.056062 train_accuracy=0.983364 val_loss=0.129048 val_accuracy=0.969800 learning_rate=0.0010\n",
      "Epoch: 144 train_loss=0.056872 train_accuracy=0.983655 val_loss=0.140251 val_accuracy=0.966600 learning_rate=0.0010\n",
      "Epoch: 145 train_loss=0.057138 train_accuracy=0.983964 val_loss=0.145085 val_accuracy=0.966000 learning_rate=0.0010\n",
      "INFO:mnist_model_145.ckpt saved\n",
      "Epoch: 146 train_loss=0.053831 train_accuracy=0.984109 val_loss=0.139001 val_accuracy=0.968600 learning_rate=0.0010\n",
      "Epoch: 147 train_loss=0.053804 train_accuracy=0.984655 val_loss=0.131224 val_accuracy=0.969400 learning_rate=0.0010\n",
      "Epoch: 148 train_loss=0.055926 train_accuracy=0.983891 val_loss=0.129106 val_accuracy=0.968400 learning_rate=0.0010\n",
      "Epoch: 149 train_loss=0.053761 train_accuracy=0.984673 val_loss=0.136574 val_accuracy=0.967400 learning_rate=0.0010\n",
      "Epoch: 150 train_loss=0.054505 train_accuracy=0.984855 val_loss=0.126600 val_accuracy=0.970200 learning_rate=0.0010\n",
      "INFO:mnist_model_150.ckpt saved\n",
      "Epoch: 151 train_loss=0.054130 train_accuracy=0.984545 val_loss=0.144948 val_accuracy=0.967600 learning_rate=0.0010\n",
      "Epoch: 152 train_loss=0.052828 train_accuracy=0.984836 val_loss=0.139993 val_accuracy=0.968600 learning_rate=0.0010\n",
      "Epoch: 153 train_loss=0.053001 train_accuracy=0.985000 val_loss=0.134923 val_accuracy=0.968400 learning_rate=0.0010\n",
      "Epoch: 154 train_loss=0.050298 train_accuracy=0.985691 val_loss=0.124502 val_accuracy=0.970200 learning_rate=0.0010\n",
      "Epoch: 155 train_loss=0.051582 train_accuracy=0.985073 val_loss=0.137823 val_accuracy=0.969000 learning_rate=0.0010\n",
      "INFO:mnist_model_155.ckpt saved\n",
      "Epoch: 156 train_loss=0.050725 train_accuracy=0.985636 val_loss=0.140018 val_accuracy=0.967800 learning_rate=0.0010\n",
      "Epoch: 157 train_loss=0.050724 train_accuracy=0.986018 val_loss=0.134779 val_accuracy=0.967400 learning_rate=0.0010\n",
      "Epoch: 158 train_loss=0.050027 train_accuracy=0.985400 val_loss=0.122299 val_accuracy=0.970600 learning_rate=0.0010\n",
      "Epoch: 159 train_loss=0.051491 train_accuracy=0.984982 val_loss=0.123135 val_accuracy=0.970200 learning_rate=0.0010\n",
      "Epoch: 160 train_loss=0.050849 train_accuracy=0.985236 val_loss=0.139669 val_accuracy=0.969000 learning_rate=0.0010\n",
      "INFO:mnist_model_160.ckpt saved\n",
      "Epoch: 161 train_loss=0.047448 train_accuracy=0.986491 val_loss=0.146053 val_accuracy=0.968000 learning_rate=0.0010\n",
      "Epoch: 162 train_loss=0.048211 train_accuracy=0.986400 val_loss=0.132111 val_accuracy=0.969200 learning_rate=0.0010\n",
      "Epoch: 163 train_loss=0.047789 train_accuracy=0.986000 val_loss=0.123973 val_accuracy=0.971600 learning_rate=0.0010\n",
      "Epoch: 164 train_loss=0.049497 train_accuracy=0.986255 val_loss=0.143032 val_accuracy=0.967800 learning_rate=0.0010\n",
      "Epoch: 165 train_loss=0.049070 train_accuracy=0.986673 val_loss=0.133764 val_accuracy=0.969800 learning_rate=0.0010\n",
      "INFO:mnist_model_165.ckpt saved\n",
      "Epoch: 166 train_loss=0.048010 train_accuracy=0.985891 val_loss=0.131455 val_accuracy=0.968000 learning_rate=0.0010\n",
      "Epoch: 167 train_loss=0.048543 train_accuracy=0.985855 val_loss=0.143793 val_accuracy=0.967400 learning_rate=0.0010\n",
      "Epoch: 168 train_loss=0.045738 train_accuracy=0.986945 val_loss=0.127459 val_accuracy=0.970000 learning_rate=0.0010\n",
      "Epoch: 169 train_loss=0.046492 train_accuracy=0.986109 val_loss=0.137217 val_accuracy=0.970200 learning_rate=0.0010\n",
      "Epoch: 170 train_loss=0.047924 train_accuracy=0.986727 val_loss=0.143139 val_accuracy=0.967800 learning_rate=0.0010\n",
      "INFO:mnist_model_170.ckpt saved\n",
      "Epoch: 171 train_loss=0.046000 train_accuracy=0.986945 val_loss=0.129642 val_accuracy=0.969600 learning_rate=0.0010\n",
      "Epoch: 172 train_loss=0.046999 train_accuracy=0.986545 val_loss=0.140125 val_accuracy=0.969400 learning_rate=0.0010\n",
      "Epoch: 173 train_loss=0.046358 train_accuracy=0.986164 val_loss=0.142431 val_accuracy=0.967800 learning_rate=0.0010\n",
      "Epoch: 174 train_loss=0.043411 train_accuracy=0.987309 val_loss=0.146161 val_accuracy=0.966400 learning_rate=0.0010\n",
      "Epoch: 175 train_loss=0.043761 train_accuracy=0.987618 val_loss=0.129242 val_accuracy=0.970200 learning_rate=0.0010\n",
      "INFO:mnist_model_175.ckpt saved\n",
      "Epoch: 176 train_loss=0.048354 train_accuracy=0.986545 val_loss=0.145663 val_accuracy=0.968600 learning_rate=0.0010\n",
      "Epoch: 177 train_loss=0.044273 train_accuracy=0.987364 val_loss=0.137549 val_accuracy=0.968600 learning_rate=0.0010\n",
      "Epoch: 178 train_loss=0.043369 train_accuracy=0.987345 val_loss=0.131956 val_accuracy=0.970000 learning_rate=0.0010\n",
      "Epoch: 179 train_loss=0.044234 train_accuracy=0.987636 val_loss=0.119460 val_accuracy=0.972000 learning_rate=0.0010\n",
      "Epoch: 180 train_loss=0.044205 train_accuracy=0.987273 val_loss=0.141515 val_accuracy=0.969000 learning_rate=0.0010\n",
      "INFO:mnist_model_180.ckpt saved\n",
      "Epoch: 181 train_loss=0.042262 train_accuracy=0.987473 val_loss=0.129795 val_accuracy=0.972400 learning_rate=0.0010\n",
      "Epoch: 182 train_loss=0.040721 train_accuracy=0.988127 val_loss=0.141154 val_accuracy=0.969200 learning_rate=0.0010\n",
      "Epoch: 183 train_loss=0.041534 train_accuracy=0.987800 val_loss=0.135395 val_accuracy=0.969800 learning_rate=0.0010\n",
      "Epoch: 184 train_loss=0.041826 train_accuracy=0.987873 val_loss=0.133711 val_accuracy=0.971600 learning_rate=0.0010\n",
      "Epoch: 185 train_loss=0.042363 train_accuracy=0.988218 val_loss=0.137348 val_accuracy=0.970800 learning_rate=0.0010\n",
      "INFO:mnist_model_185.ckpt saved\n",
      "Epoch: 186 train_loss=0.041273 train_accuracy=0.988145 val_loss=0.139761 val_accuracy=0.968400 learning_rate=0.0010\n",
      "Epoch: 187 train_loss=0.041105 train_accuracy=0.987873 val_loss=0.131214 val_accuracy=0.972200 learning_rate=0.0010\n",
      "Epoch: 188 train_loss=0.038462 train_accuracy=0.988927 val_loss=0.116528 val_accuracy=0.972000 learning_rate=0.0010\n",
      "Epoch: 189 train_loss=0.040760 train_accuracy=0.988255 val_loss=0.136059 val_accuracy=0.969800 learning_rate=0.0010\n",
      "Epoch: 190 train_loss=0.039955 train_accuracy=0.988545 val_loss=0.130248 val_accuracy=0.970600 learning_rate=0.0010\n",
      "INFO:mnist_model_190.ckpt saved\n",
      "Epoch: 191 train_loss=0.040176 train_accuracy=0.988982 val_loss=0.136247 val_accuracy=0.971000 learning_rate=0.0010\n",
      "Epoch: 192 train_loss=0.036810 train_accuracy=0.989509 val_loss=0.139191 val_accuracy=0.970000 learning_rate=0.0010\n",
      "Epoch: 193 train_loss=0.039340 train_accuracy=0.988782 val_loss=0.139221 val_accuracy=0.967800 learning_rate=0.0010\n",
      "Epoch: 194 train_loss=0.038176 train_accuracy=0.988709 val_loss=0.119204 val_accuracy=0.972800 learning_rate=0.0010\n",
      "Epoch: 195 train_loss=0.039080 train_accuracy=0.988709 val_loss=0.138383 val_accuracy=0.968600 learning_rate=0.0010\n",
      "INFO:mnist_model_195.ckpt saved\n",
      "Epoch: 196 train_loss=0.039176 train_accuracy=0.988945 val_loss=0.127481 val_accuracy=0.972000 learning_rate=0.0010\n",
      "Epoch: 197 train_loss=0.038120 train_accuracy=0.988545 val_loss=0.128279 val_accuracy=0.973200 learning_rate=0.0010\n",
      "Epoch: 198 train_loss=0.035479 train_accuracy=0.989873 val_loss=0.138994 val_accuracy=0.967800 learning_rate=0.0010\n",
      "Epoch: 199 train_loss=0.037645 train_accuracy=0.989036 val_loss=0.134254 val_accuracy=0.967200 learning_rate=0.0010\n",
      "Epoch: 200 train_loss=0.035901 train_accuracy=0.989291 val_loss=0.133777 val_accuracy=0.968600 learning_rate=0.0010\n"
     ]
    },
    {
     "name": "stdout",
     "output_type": "stream",
     "text": [
      "INFO:mnist_model_200.ckpt saved\n",
      "Epoch: 201 train_loss=0.036870 train_accuracy=0.989473 val_loss=0.128872 val_accuracy=0.969800 learning_rate=0.0010\n",
      "INFO:mnist_model_201.ckpt saved\n",
      "INFO:Model saved\n",
      " INFO:Train Finished!\n",
      "Taking for 335 seconds!\n"
     ]
    }
   ],
   "source": [
    "startTime = time.time()\n",
    "\n",
    "saver = tf.train.Saver()\n",
    "sess = tf.Session()\n",
    "\n",
    "train_loss_list = []\n",
    "train_acc_list = []\n",
    "val_loss_list = []\n",
    "val_acc_list = []\n",
    "\n",
    "sess.run(tf.global_variables_initializer())\n",
    "for epoch in range(epochs):\n",
    "    if epoch > 99:\n",
    "        learning_rate = 0.001\n",
    "    for batch in range(total_batch):\n",
    "        xs, ys = mnist.train.next_batch(batch_size)\n",
    "        sess.run(optimizer, feed_dict={x:xs, y:ys})\n",
    "    train_loss, train_acc = sess.run([loss_function, accuracy],\n",
    "                         feed_dict={x:mnist.train.images, y:mnist.train.labels})\n",
    "    val_loss, val_acc = sess.run([loss_function, accuracy],\n",
    "                         feed_dict={x:mnist.validation.images, y:mnist.validation.labels})\n",
    "    train_loss_list.append(train_loss)\n",
    "    train_acc_list.append(train_acc)\n",
    "    val_loss_list.append(val_loss)\n",
    "    val_acc_list.append(val_acc)\n",
    "    if (epoch + 1) % display_step == 0:\n",
    "        print('Epoch: %3d' % (epoch + 1), \n",
    "              'train_loss=%6f' % train_loss, \n",
    "              'train_accuracy=%4f' % train_acc,\n",
    "              'val_loss=%6f' % val_loss, \n",
    "              'val_accuracy=%4f' % val_acc,\n",
    "              'learning_rate=%.4f' % learning_rate)\n",
    "    if (epoch + 1) % save_step == 0 or (epoch + 1) == epochs:\n",
    "        saver.save(sess, os.path.join(ckpt_dir, 'mnist_model_{0:03d}.ckpt'.format(epoch + 1)))\n",
    "        print('INFO:mnist_model_{0:03d}.ckpt saved'.format(epoch + 1))\n",
    "\n",
    "duration = time.time() - startTime\n",
    "print('INFO:Model saved\\n', 'INFO:Train Finished!\\nTaking for %d seconds!' % duration)"
   ]
  },
  {
   "cell_type": "code",
   "execution_count": 20,
   "metadata": {},
   "outputs": [
    {
     "name": "stdout",
     "output_type": "stream",
     "text": [
      "Test dataset accuracy: 0.970000\n"
     ]
    }
   ],
   "source": [
    "test_acc = sess.run(accuracy, feed_dict={x:mnist.test.images, y:mnist.test.labels})\n",
    "print('Test dataset accuracy: %f' % test_acc)"
   ]
  },
  {
   "cell_type": "code",
   "execution_count": 21,
   "metadata": {},
   "outputs": [
    {
     "data": {
      "image/png": "[encoded data removed]",
      "text/plain": [
       "<Figure size 720x360 with 2 Axes>"
      ]
     },
     "metadata": {
      "needs_background": "light"
     },
     "output_type": "display_data"
    }
   ],
   "source": [
    "fig = plt.gcf()\n",
    "fig.set_size_inches(10, 5)\n",
    "ax1 = fig.add_subplot(111)\n",
    "ax1.set_title('Train and Validation Picture')\n",
    "ax1.set_ylabel('Loss value')\n",
    "line1, = ax1.plot(train_loss_list, color=(0.5, 0.5, 1.0), label='Loss train')\n",
    "line2, = ax1.plot(val_loss_list, color=(0.5, 1.0, 0.5), label='Loss valid')\n",
    "ax2 = ax1.twinx()\n",
    "ax2.set_ylabel('Accuracy value')\n",
    "line3, = ax2.plot(train_acc_list, color=(0.5, 0.5, 0.5), label='Accuracy train')\n",
    "line4, = ax2.plot(val_acc_list, color=(1, 0, 0), label='Accuracy valid')\n",
    "plt.legend(handles=(line1, line2, line3, line4), loc='best')\n",
    "plt.show()"
   ]
  },
  {
   "cell_type": "code",
   "execution_count": 22,
   "metadata": {},
   "outputs": [],
   "source": [
    "sess.close()"
   ]
  },
  {
   "cell_type": "markdown",
   "metadata": {},
   "source": [
    "### 恢复模型进行预测\n",
    "模型仅仅保存着训练出的权重参数，并未定义网络结构，需要定义网络结构，读取模型，在这里由于前面已运行网络结构，这里就不再重新定义"
   ]
  },
  {
   "cell_type": "code",
   "execution_count": 23,
   "metadata": {},
   "outputs": [
    {
     "name": "stdout",
     "output_type": "stream",
     "text": [
      "INFO:tensorflow:Restoring parameters from ./mnist_ckpt\\mnist_model_201.ckpt\n",
      "Restore model from ./mnist_ckpt\\mnist_model_201.ckpt\n"
     ]
    }
   ],
   "source": [
    "saver = tf.train.Saver()\n",
    "\n",
    "sess = tf.Session()\n",
    "sess.run(tf.global_variables_initializer())\n",
    "\n",
    "ckpt_dir = './mnist_ckpt'\n",
    "ckpt = tf.train.get_checkpoint_state(ckpt_dir)\n",
    "\n",
    "if ckpt and ckpt.model_checkpoint_path:\n",
    "    saver.restore(sess, ckpt.model_checkpoint_path)\n",
    "    print('Restore model from ' + ckpt.model_checkpoint_path)"
   ]
  },
  {
   "cell_type": "markdown",
   "metadata": {},
   "source": [
    "### 准确率不同缘由\n",
    "因为只保存了模型权重，并未保存网络结构，网络含有 dropout 层，每次读入的权重一样，但网络结构会因为 dropout 层不同，去掉 dropout 层，准确率就会跟前面测试集准确率一样，或者将网络结构一并保存"
   ]
  },
  {
   "cell_type": "code",
   "execution_count": 24,
   "metadata": {},
   "outputs": [
    {
     "name": "stdout",
     "output_type": "stream",
     "text": [
      "Test dataset accuracy: 0.969300\n"
     ]
    }
   ],
   "source": [
    "test_acc = sess.run(accuracy, feed_dict={x:mnist.test.images, y:mnist.test.labels})\n",
    "print('Test dataset accuracy: %f' % test_acc)"
   ]
  },
  {
   "cell_type": "markdown",
   "metadata": {},
   "source": [
    "### 随机可视化显示预测值与标签值"
   ]
  },
  {
   "cell_type": "code",
   "execution_count": 25,
   "metadata": {},
   "outputs": [],
   "source": [
    "def plot_apply_images(num):\n",
    "    if num < 1:\n",
    "        print('INFO:The number of input pictures must be greater than zero!')\n",
    "    else:\n",
    "        choose_list = []\n",
    "        for i in range(num):\n",
    "            choose_n = np.random.randint(len(mnist.test.images))\n",
    "            choose_list.append(choose_n)\n",
    "        fig = plt.gcf()\n",
    "        fig.set_size_inches(18, 5 * math.ceil(num / 3))\n",
    "        prediction_result = sess.run(tf.argmax(pred, 1), feed_dict={x:mnist.test.images})\n",
    "        for i in range(num):\n",
    "            ax_img = plt.subplot(math.ceil(num / 3), 3, i + 1)\n",
    "            plt_img = mnist.test.images[choose_list[i]].reshape(28, 28)\n",
    "            ax_img.imshow(plt_img, cmap='binary')\n",
    "            ax_img.set_title('Original label:' \\\n",
    "                             + str(np.argmax(mnist.test.labels[choose_list[i]])) \\\n",
    "                             + ' Predict label:' \\\n",
    "                             + str(prediction_result[choose_list[i]]),\n",
    "                             fontsize=10)\n",
    "            ax_img.set_xticks([])\n",
    "            ax_img.set_yticks([])\n",
    "        plt.show()"
   ]
  },
  {
   "cell_type": "code",
   "execution_count": 26,
   "metadata": {},
   "outputs": [
    {
     "data": {
      "image/png": "[encoded data removed]",
      "text/plain": [
       "<Figure size 1296x1080 with 9 Axes>"
      ]
     },
     "metadata": {},
     "output_type": "display_data"
    }
   ],
   "source": [
    "plot_apply_images(9)"
   ]
  },
  {
   "cell_type": "markdown",
   "metadata": {},
   "source": [
    "### 随机从预测错误中图像"
   ]
  },
  {
   "cell_type": "code",
   "execution_count": 48,
   "metadata": {},
   "outputs": [
    {
     "name": "stdout",
     "output_type": "stream",
     "text": [
      "There are 313 images that are misrecongnized\n"
     ]
    }
   ],
   "source": [
    "prediction_result = sess.run(tf.argmax(pred, 1), feed_dict={x:mnist.test.images})\n",
    "predict_bool = (prediction_result == np.argmax(mnist.test.labels, 1))\n",
    "predict_bool_list = list(predict_bool)\n",
    "err_list = []\n",
    "for i in range(len(predict_bool_list)):\n",
    "    if not predict_bool_list[i]:\n",
    "        err_list.append(i)\n",
    "print('There are %d images that are misrecongnized' % len(err_list))"
   ]
  },
  {
   "cell_type": "code",
   "execution_count": 54,
   "metadata": {},
   "outputs": [],
   "source": [
    "def plot_wrong_images(num):\n",
    "    prediction_result = sess.run(tf.argmax(pred, 1), feed_dict={x:mnist.test.images})\n",
    "    predict_bool = (prediction_result == np.argmax(mnist.test.labels, 1))\n",
    "    predict_bool_list = list(predict_bool)\n",
    "    err_list = []\n",
    "    for i in range(len(predict_bool_list)):\n",
    "        if not predict_bool_list[i]:\n",
    "            err_list.append(i)\n",
    "    print('There are %d images that are misrecongnized' % len(err_list))\n",
    "    if num < 1:\n",
    "        print('INFO:The number of input pictures must be greater than zero!')\n",
    "    else:\n",
    "        choose_list = []\n",
    "        for i in range(num):\n",
    "            choose_n = np.random.randint(len(err_list))\n",
    "            choose_list.append(err_list[choose_n])\n",
    "        fig = plt.gcf()\n",
    "        fig.set_size_inches(18, 5 * math.ceil(num / 3))\n",
    "        for i in range(num):\n",
    "            ax_img = plt.subplot(math.ceil(num / 3), 3, i + 1)\n",
    "            plt_img = mnist.test.images[choose_list[i]].reshape(28, 28)\n",
    "            ax_img.imshow(plt_img, cmap='binary')\n",
    "            ax_img.set_title('Original label:' \\\n",
    "                             + str(np.argmax(mnist.test.labels[choose_list[i]])) \\\n",
    "                             + ' Predict label:' \\\n",
    "                             + str(prediction_result[choose_list[i]]),\n",
    "                             fontsize=10)\n",
    "            ax_img.set_xticks([])\n",
    "            ax_img.set_yticks([])\n",
    "        plt.show()"
   ]
  },
  {
   "cell_type": "code",
   "execution_count": 55,
   "metadata": {},
   "outputs": [
    {
     "name": "stdout",
     "output_type": "stream",
     "text": [
      "There are 282 images that are misrecongnized\n"
     ]
    },
    {
     "data": {
      "image/png": "[encoded data removed]",
      "text/plain": [
       "<Figure size 1296x1080 with 9 Axes>"
      ]
     },
     "metadata": {},
     "output_type": "display_data"
    }
   ],
   "source": [
    "plot_wrong_images(9)"
   ]
  }
 ],
 "metadata": {
  "kernelspec": {
   "display_name": "Python 3",
   "language": "python",
   "name": "python3"
  },
  "language_info": {
   "codemirror_mode": {
    "name": "ipython",
    "version": 3
   },
   "file_extension": ".py",
   "mimetype": "text/x-python",
   "name": "python",
   "nbconvert_exporter": "python",
   "pygments_lexer": "ipython3",
   "version": "3.6.2"
  }
 },
 "nbformat": 4,
 "nbformat_minor": 4
}
