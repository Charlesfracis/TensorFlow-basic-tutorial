{
 "cells": [
  {
   "cell_type": "markdown",
   "metadata": {},
   "source": [
    "## 前情函数\n",
    "### reshape  \n",
    "reshape 是对数组整形，对于一个**数组 array**  \n",
    "array.reshape([d0, d1,...,dn])  或  array.reshape((d0, d1,...,dn))  \n",
    "这种带有负号 reshape((-1,4,2)) 三维数组，根据 numpy 库官网的介绍，这里的-1被理解为unspecified value，意思是未指定为给定的。由计算机自动计算 -1 维度的填充，例如下面 64 长度的数组，reshape((-1,4,2)) 则 -1 维度值为 $64 / 4 / 2 = 8$，最终维度为 (8, 4, 2)，参数优先级按顺序执行  \n",
    "重整维度，如下"
   ]
  },
  {
   "cell_type": "code",
   "execution_count": 1,
   "metadata": {},
   "outputs": [
    {
     "name": "stdout",
     "output_type": "stream",
     "text": [
      "array value:\n",
      " [ 0.  1.  2.  3.  4.  5.  6.  7.  8.  9. 10. 11. 12. 13. 14. 15. 16. 17.\n",
      " 18. 19. 20. 21. 22. 23. 24. 25. 26. 27. 28. 29. 30. 31. 32. 33. 34. 35.\n",
      " 36. 37. 38. 39. 40. 41. 42. 43. 44. 45. 46. 47. 48. 49. 50. 51. 52. 53.\n",
      " 54. 55. 56. 57. 58. 59. 60. 61. 62. 63.] \n",
      "array shape (64,)\n"
     ]
    }
   ],
   "source": [
    "import numpy as np\n",
    "\n",
    "\n",
    "array = np.array([i for i in range(64)], dtype=float)\n",
    "print('array value:\\n', array,\n",
    "      '\\narray shape', array.shape)"
   ]
  },
  {
   "cell_type": "markdown",
   "metadata": {},
   "source": [
    "#### 重整为 8x8，4x4x4 维度"
   ]
  },
  {
   "cell_type": "code",
   "execution_count": 2,
   "metadata": {},
   "outputs": [
    {
     "name": "stdout",
     "output_type": "stream",
     "text": [
      "array_8_8 value:\n",
      " [[ 0.  1.  2.  3.  4.  5.  6.  7.]\n",
      " [ 8.  9. 10. 11. 12. 13. 14. 15.]\n",
      " [16. 17. 18. 19. 20. 21. 22. 23.]\n",
      " [24. 25. 26. 27. 28. 29. 30. 31.]\n",
      " [32. 33. 34. 35. 36. 37. 38. 39.]\n",
      " [40. 41. 42. 43. 44. 45. 46. 47.]\n",
      " [48. 49. 50. 51. 52. 53. 54. 55.]\n",
      " [56. 57. 58. 59. 60. 61. 62. 63.]] \n",
      "array_8_8 shape: (8, 8) \n",
      "array_4_4_4 value:\n",
      " [[[ 0.  1.  2.  3.]\n",
      "  [ 4.  5.  6.  7.]\n",
      "  [ 8.  9. 10. 11.]\n",
      "  [12. 13. 14. 15.]]\n",
      "\n",
      " [[16. 17. 18. 19.]\n",
      "  [20. 21. 22. 23.]\n",
      "  [24. 25. 26. 27.]\n",
      "  [28. 29. 30. 31.]]\n",
      "\n",
      " [[32. 33. 34. 35.]\n",
      "  [36. 37. 38. 39.]\n",
      "  [40. 41. 42. 43.]\n",
      "  [44. 45. 46. 47.]]\n",
      "\n",
      " [[48. 49. 50. 51.]\n",
      "  [52. 53. 54. 55.]\n",
      "  [56. 57. 58. 59.]\n",
      "  [60. 61. 62. 63.]]] \n",
      "array_4_4_4 shape: (4, 4, 4) \n",
      "array_unspecified value:\n",
      " [[[ 0.  1.]\n",
      "  [ 2.  3.]\n",
      "  [ 4.  5.]\n",
      "  [ 6.  7.]]\n",
      "\n",
      " [[ 8.  9.]\n",
      "  [10. 11.]\n",
      "  [12. 13.]\n",
      "  [14. 15.]]\n",
      "\n",
      " [[16. 17.]\n",
      "  [18. 19.]\n",
      "  [20. 21.]\n",
      "  [22. 23.]]\n",
      "\n",
      " [[24. 25.]\n",
      "  [26. 27.]\n",
      "  [28. 29.]\n",
      "  [30. 31.]]\n",
      "\n",
      " [[32. 33.]\n",
      "  [34. 35.]\n",
      "  [36. 37.]\n",
      "  [38. 39.]]\n",
      "\n",
      " [[40. 41.]\n",
      "  [42. 43.]\n",
      "  [44. 45.]\n",
      "  [46. 47.]]\n",
      "\n",
      " [[48. 49.]\n",
      "  [50. 51.]\n",
      "  [52. 53.]\n",
      "  [54. 55.]]\n",
      "\n",
      " [[56. 57.]\n",
      "  [58. 59.]\n",
      "  [60. 61.]\n",
      "  [62. 63.]]] \n",
      "array_unspecified shape: (8, 4, 2)\n"
     ]
    }
   ],
   "source": [
    "array_8_8 = array.reshape([8, 8])\n",
    "array_4_4_4 = array.reshape((4, 4, 4))\n",
    "array_unspecified = array.reshape((-1, 4, 2))\n",
    "print('array_8_8 value:\\n', array_8_8,\n",
    "      '\\narray_8_8 shape:', array_8_8.shape,\n",
    "      '\\narray_4_4_4 value:\\n', array_4_4_4,\n",
    "      '\\narray_4_4_4 shape:', array_4_4_4.shape,\n",
    "      '\\narray_unspecified value:\\n', array_unspecified,\n",
    "      '\\narray_unspecified shape:', array_unspecified.shape)"
   ]
  },
  {
   "cell_type": "markdown",
   "metadata": {},
   "source": [
    "**reshape新生成数组和原数组公用一个内存，不管改变哪个都会互相影响**  \n",
    "将 array[0] 修改为 520"
   ]
  },
  {
   "cell_type": "code",
   "execution_count": 3,
   "metadata": {},
   "outputs": [
    {
     "name": "stdout",
     "output_type": "stream",
     "text": [
      "array_8_8 value:\n",
      " [[520.   1.   2.   3.   4.   5.   6.   7.]\n",
      " [  8.   9.  10.  11.  12.  13.  14.  15.]\n",
      " [ 16.  17.  18.  19.  20.  21.  22.  23.]\n",
      " [ 24.  25.  26.  27.  28.  29.  30.  31.]\n",
      " [ 32.  33.  34.  35.  36.  37.  38.  39.]\n",
      " [ 40.  41.  42.  43.  44.  45.  46.  47.]\n",
      " [ 48.  49.  50.  51.  52.  53.  54.  55.]\n",
      " [ 56.  57.  58.  59.  60.  61.  62.  63.]] \n",
      "array_8_8 shape: (8, 8) \n",
      "array_4_4_4 value:\n",
      " [[[520.   1.   2.   3.]\n",
      "  [  4.   5.   6.   7.]\n",
      "  [  8.   9.  10.  11.]\n",
      "  [ 12.  13.  14.  15.]]\n",
      "\n",
      " [[ 16.  17.  18.  19.]\n",
      "  [ 20.  21.  22.  23.]\n",
      "  [ 24.  25.  26.  27.]\n",
      "  [ 28.  29.  30.  31.]]\n",
      "\n",
      " [[ 32.  33.  34.  35.]\n",
      "  [ 36.  37.  38.  39.]\n",
      "  [ 40.  41.  42.  43.]\n",
      "  [ 44.  45.  46.  47.]]\n",
      "\n",
      " [[ 48.  49.  50.  51.]\n",
      "  [ 52.  53.  54.  55.]\n",
      "  [ 56.  57.  58.  59.]\n",
      "  [ 60.  61.  62.  63.]]] \n",
      "array_4_4_4 shape: (4, 4, 4) \n",
      "array_unspecified value:\n",
      " [[[520.   1.]\n",
      "  [  2.   3.]\n",
      "  [  4.   5.]\n",
      "  [  6.   7.]]\n",
      "\n",
      " [[  8.   9.]\n",
      "  [ 10.  11.]\n",
      "  [ 12.  13.]\n",
      "  [ 14.  15.]]\n",
      "\n",
      " [[ 16.  17.]\n",
      "  [ 18.  19.]\n",
      "  [ 20.  21.]\n",
      "  [ 22.  23.]]\n",
      "\n",
      " [[ 24.  25.]\n",
      "  [ 26.  27.]\n",
      "  [ 28.  29.]\n",
      "  [ 30.  31.]]\n",
      "\n",
      " [[ 32.  33.]\n",
      "  [ 34.  35.]\n",
      "  [ 36.  37.]\n",
      "  [ 38.  39.]]\n",
      "\n",
      " [[ 40.  41.]\n",
      "  [ 42.  43.]\n",
      "  [ 44.  45.]\n",
      "  [ 46.  47.]]\n",
      "\n",
      " [[ 48.  49.]\n",
      "  [ 50.  51.]\n",
      "  [ 52.  53.]\n",
      "  [ 54.  55.]]\n",
      "\n",
      " [[ 56.  57.]\n",
      "  [ 58.  59.]\n",
      "  [ 60.  61.]\n",
      "  [ 62.  63.]]] \n",
      "array_unspecified shape: (8, 4, 2)\n"
     ]
    }
   ],
   "source": [
    "array[0] = 520\n",
    "print('array_8_8 value:\\n', array_8_8,\n",
    "      '\\narray_8_8 shape:', array_8_8.shape,\n",
    "      '\\narray_4_4_4 value:\\n', array_4_4_4,\n",
    "      '\\narray_4_4_4 shape:', array_4_4_4.shape,\n",
    "      '\\narray_unspecified value:\\n', array_unspecified,\n",
    "      '\\narray_unspecified shape:', array_unspecified.shape)"
   ]
  },
  {
   "cell_type": "markdown",
   "metadata": {},
   "source": [
    "将 array_8_8[0][0] 修改为 521"
   ]
  },
  {
   "cell_type": "code",
   "execution_count": 4,
   "metadata": {},
   "outputs": [
    {
     "name": "stdout",
     "output_type": "stream",
     "text": [
      "array_8_8 value:\n",
      " [[521.   1.   2.   3.   4.   5.   6.   7.]\n",
      " [  8.   9.  10.  11.  12.  13.  14.  15.]\n",
      " [ 16.  17.  18.  19.  20.  21.  22.  23.]\n",
      " [ 24.  25.  26.  27.  28.  29.  30.  31.]\n",
      " [ 32.  33.  34.  35.  36.  37.  38.  39.]\n",
      " [ 40.  41.  42.  43.  44.  45.  46.  47.]\n",
      " [ 48.  49.  50.  51.  52.  53.  54.  55.]\n",
      " [ 56.  57.  58.  59.  60.  61.  62.  63.]] \n",
      "array_8_8 shape: (8, 8) \n",
      "array_4_4_4 value:\n",
      " [[[521.   1.   2.   3.]\n",
      "  [  4.   5.   6.   7.]\n",
      "  [  8.   9.  10.  11.]\n",
      "  [ 12.  13.  14.  15.]]\n",
      "\n",
      " [[ 16.  17.  18.  19.]\n",
      "  [ 20.  21.  22.  23.]\n",
      "  [ 24.  25.  26.  27.]\n",
      "  [ 28.  29.  30.  31.]]\n",
      "\n",
      " [[ 32.  33.  34.  35.]\n",
      "  [ 36.  37.  38.  39.]\n",
      "  [ 40.  41.  42.  43.]\n",
      "  [ 44.  45.  46.  47.]]\n",
      "\n",
      " [[ 48.  49.  50.  51.]\n",
      "  [ 52.  53.  54.  55.]\n",
      "  [ 56.  57.  58.  59.]\n",
      "  [ 60.  61.  62.  63.]]] \n",
      "array_4_4_4 shape: (4, 4, 4) \n",
      "array_unspecified value:\n",
      " [[[521.   1.]\n",
      "  [  2.   3.]\n",
      "  [  4.   5.]\n",
      "  [  6.   7.]]\n",
      "\n",
      " [[  8.   9.]\n",
      "  [ 10.  11.]\n",
      "  [ 12.  13.]\n",
      "  [ 14.  15.]]\n",
      "\n",
      " [[ 16.  17.]\n",
      "  [ 18.  19.]\n",
      "  [ 20.  21.]\n",
      "  [ 22.  23.]]\n",
      "\n",
      " [[ 24.  25.]\n",
      "  [ 26.  27.]\n",
      "  [ 28.  29.]\n",
      "  [ 30.  31.]]\n",
      "\n",
      " [[ 32.  33.]\n",
      "  [ 34.  35.]\n",
      "  [ 36.  37.]\n",
      "  [ 38.  39.]]\n",
      "\n",
      " [[ 40.  41.]\n",
      "  [ 42.  43.]\n",
      "  [ 44.  45.]\n",
      "  [ 46.  47.]]\n",
      "\n",
      " [[ 48.  49.]\n",
      "  [ 50.  51.]\n",
      "  [ 52.  53.]\n",
      "  [ 54.  55.]]\n",
      "\n",
      " [[ 56.  57.]\n",
      "  [ 58.  59.]\n",
      "  [ 60.  61.]\n",
      "  [ 62.  63.]]] \n",
      "array_unspecified shape: (8, 4, 2)\n"
     ]
    }
   ],
   "source": [
    "array_8_8[0][0] = 521\n",
    "print('array_8_8 value:\\n', array_8_8,\n",
    "      '\\narray_8_8 shape:', array_8_8.shape,\n",
    "      '\\narray_4_4_4 value:\\n', array_4_4_4,\n",
    "      '\\narray_4_4_4 shape:', array_4_4_4.shape,\n",
    "      '\\narray_unspecified value:\\n', array_unspecified,\n",
    "      '\\narray_unspecified shape:', array_unspecified.shape)"
   ]
  },
  {
   "cell_type": "markdown",
   "metadata": {},
   "source": [
    "### numpy.argmax(a, axis=None, out=None)\n",
    "返回沿轴的最大值的索引  \n",
    "a：输入数组、axis：选择轴、out：不涉及  \n",
    "对于二维矩阵：  \n",
    "&ensp;&ensp;&ensp;&ensp;axis = 0 ：表示同列每一行最大值  \n",
    "&ensp;&ensp;&ensp;&ensp;axis = 1 ：表示同行每一列最大值  \n",
    "&ensp;&ensp;&ensp;&ensp;axis = -1：表示取最后一个维度最大值  \n",
    "numpy.argmin同理"
   ]
  },
  {
   "cell_type": "code",
   "execution_count": 5,
   "metadata": {},
   "outputs": [
    {
     "name": "stdout",
     "output_type": "stream",
     "text": [
      "array value:\n",
      " [[10 11 12]\n",
      " [13 14 15]] \n",
      "array type: (2, 3) \n",
      "1-D[every column max index] max index: [1 1 1] \n",
      "2-D[every row max index] max index: [2 2] \n",
      "2-D[every row max index] max index: [2 2] \n",
      "1-D[every column min index] min index: [0 0 0] \n",
      "2-D[every row min index] min index: [0 0] \n",
      "2-D[every row max index] max index: [0 0]\n",
      "*******line*******\n",
      "array value:\n",
      " [[[10 11 12]\n",
      "  [13 14 15]]\n",
      "\n",
      " [[ 2  9  4]\n",
      "  [ 7  3  5]]\n",
      "\n",
      " [[ 9  6  4]\n",
      "  [ 8  7  7]]] \n",
      "array type: (3, 2, 3) \n",
      "1-D:\n",
      " [[0 0 0]\n",
      " [0 0 0]] \n",
      "2-D:\n",
      " [[1 1 1]\n",
      " [1 0 1]\n",
      " [0 1 1]] \n",
      "3-D:\n",
      " [[2 2]\n",
      " [1 0]\n",
      " [0 0]] \n",
      "3-D:\n",
      " [[2 2]\n",
      " [1 0]\n",
      " [0 0]] \n",
      "1-D:\n",
      " [[1 2 1]\n",
      " [1 1 1]] \n",
      "2-D:\n",
      " [[0 0 0]\n",
      " [0 1 0]\n",
      " [1 0 0]] \n",
      "2-D:\n",
      " [[0 0]\n",
      " [0 1]\n",
      " [2 1]] \n",
      "3-D:\n",
      " [[0 0]\n",
      " [0 1]\n",
      " [2 1]]\n"
     ]
    }
   ],
   "source": [
    "array = np.array([[10, 11, 12], [13, 14, 15]])\n",
    "print('array value:\\n', array,\n",
    "      '\\narray type:', array.shape,\n",
    "      '\\n1-D[every column max index] max index:', np.argmax(array, 0),\n",
    "      '\\n2-D[every row max index] max index:', np.argmax(array, 1),\n",
    "      '\\n2-D[every row max index] max index:', np.argmax(array, -1),\n",
    "      '\\n1-D[every column min index] min index:', np.argmin(array, 0),\n",
    "      '\\n2-D[every row min index] min index:', np.argmin(array, 1),\n",
    "      '\\n2-D[every row max index] max index:', np.argmin(array, -1))\n",
    "\n",
    "print('*******line*******')\n",
    "\n",
    "array = np.array([[[10, 11, 12], [13, 14, 15]], [[2, 9, 4], [7, 3, 5]], [[9, 6, 4], [8, 7, 7]]])\n",
    "print('array value:\\n', array,\n",
    "      '\\narray type:', array.shape,\n",
    "      '\\n1-D:\\n', np.argmax(array, 0),\n",
    "      '\\n2-D:\\n', np.argmax(array, 1),\n",
    "      '\\n3-D:\\n', np.argmax(array, 2),\n",
    "      '\\n3-D:\\n', np.argmax(array, -1),\n",
    "      '\\n1-D:\\n', np.argmin(array, 0),\n",
    "      '\\n2-D:\\n', np.argmin(array, 1),\n",
    "      '\\n2-D:\\n', np.argmin(array, 2),\n",
    "      '\\n3-D:\\n', np.argmin(array, -1))"
   ]
  },
  {
   "cell_type": "markdown",
   "metadata": {},
   "source": [
    "### tensorflow.argmax 与 numpy.argmax 效果一样  \n",
    "示例如下"
   ]
  },
  {
   "cell_type": "code",
   "execution_count": 6,
   "metadata": {},
   "outputs": [
    {
     "name": "stdout",
     "output_type": "stream",
     "text": [
      "array value:\n",
      " [[[10 11 12]\n",
      "  [13 14 15]]\n",
      "\n",
      " [[ 2  9  4]\n",
      "  [ 7  3  5]]\n",
      "\n",
      " [[ 9  6  4]\n",
      "  [ 8  7  7]]] \n",
      "array type: (3, 2, 3) \n",
      "1-D[every column max index] max index: [1 1 1] \n",
      "2-D[every row max index] max index: [2 2] \n",
      "2-D[every row max index] max index: [2 2] \n",
      "1-D[every column min index] min index: [1 1 1] \n",
      "2-D[every row min index] min index: [2 2] \n",
      "2-D[every row max index] max index: [2 2]\n",
      "array value:\n",
      " [[[10 11 12]\n",
      "  [13 14 15]]\n",
      "\n",
      " [[ 2  9  4]\n",
      "  [ 7  3  5]]\n",
      "\n",
      " [[ 9  6  4]\n",
      "  [ 8  7  7]]] \n",
      "array type: (3, 2, 3) \n",
      "1-D:\n",
      " [[0 0 0]\n",
      " [0 0 0]] \n",
      "2-D:\n",
      " [[1 1 1]\n",
      " [1 0 1]\n",
      " [0 1 1]] \n",
      "3-D:\n",
      " [[2 2]\n",
      " [1 0]\n",
      " [0 0]] \n",
      "3-D:\n",
      " [[2 2]\n",
      " [1 0]\n",
      " [0 0]] \n",
      "1-D:\n",
      " [[1 2 1]\n",
      " [1 1 1]] \n",
      "2-D:\n",
      " [[0 0 0]\n",
      " [0 1 0]\n",
      " [1 0 0]] \n",
      "2-D:\n",
      " [[0 0]\n",
      " [0 1]\n",
      " [2 1]] \n",
      "3-D:\n",
      " [[0 0]\n",
      " [0 1]\n",
      " [2 1]]\n"
     ]
    }
   ],
   "source": [
    "import tensorflow as tf\n",
    "\n",
    "\n",
    "array_1 = np.array([[10, 11, 12], [13, 14, 15]])\n",
    "array_2 = np.array([[[10, 11, 12], [13, 14, 15]], [[2, 9, 4], [7, 3, 5]], [[9, 6, 4], [8, 7, 7]]])\n",
    "with tf.Session() as sess:\n",
    "    print('array value:\\n', array,\n",
    "      '\\narray type:', array.shape,\n",
    "      '\\n1-D[every column max index] max index:', tf.argmax(array_1, 0).eval(),\n",
    "      '\\n2-D[every row max index] max index:', tf.argmax(array_1, 1).eval(),\n",
    "      '\\n2-D[every row max index] max index:', tf.argmax(array_1, -1).eval(),\n",
    "      '\\n1-D[every column min index] min index:', tf.argmax(array_1, 0).eval(),\n",
    "      '\\n2-D[every row min index] min index:', tf.argmax(array_1, 1).eval(),\n",
    "      '\\n2-D[every row max index] max index:', tf.argmax(array_1, -1).eval(),)\n",
    "    print('array value:\\n', array,\n",
    "      '\\narray type:', array.shape,\n",
    "      '\\n1-D:\\n', tf.argmax(array_2, 0).eval(),\n",
    "      '\\n2-D:\\n', tf.argmax(array_2, 1).eval(),\n",
    "      '\\n3-D:\\n', tf.argmax(array_2, 2).eval(),\n",
    "      '\\n3-D:\\n', tf.argmax(array_2, -1).eval(),\n",
    "      '\\n1-D:\\n', tf.argmin(array_2, 0).eval(),\n",
    "      '\\n2-D:\\n', tf.argmin(array_2, 1).eval(),\n",
    "      '\\n2-D:\\n', tf.argmin(array_2, 2).eval(),\n",
    "      '\\n3-D:\\n', tf.argmin(array_2, -1).eval())"
   ]
  },
  {
   "cell_type": "markdown",
   "metadata": {},
   "source": [
    "### 适用于 mnist 数据集 onehot 编码获取数字标签"
   ]
  },
  {
   "cell_type": "code",
   "execution_count": 7,
   "metadata": {},
   "outputs": [
    {
     "name": "stdout",
     "output_type": "stream",
     "text": [
      "array value:\n",
      " [0 0 0 0 0 1 0 0 0 0] \n",
      "array type: (10,) \n",
      "array max index: 5\n"
     ]
    }
   ],
   "source": [
    "array = np.array([0, 0, 0, 0, 0, 1, 0, 0, 0, 0])\n",
    "print('array value:\\n', array,\n",
    "      '\\narray type:', array.shape,\n",
    "      '\\narray max index:', np.argmax(array))"
   ]
  },
  {
   "cell_type": "markdown",
   "metadata": {},
   "source": [
    "### tensorflow.random_normal()\n",
    "前面系列已经解析，此处大致再走一遍"
   ]
  },
  {
   "cell_type": "code",
   "execution_count": 8,
   "metadata": {},
   "outputs": [
    {
     "data": {
      "image/png": "[encoded data removed]",
      "text/plain": [
       "<Figure size 432x288 with 1 Axes>"
      ]
     },
     "metadata": {
      "needs_background": "light"
     },
     "output_type": "display_data"
    }
   ],
   "source": [
    "import matplotlib.pyplot as plt\n",
    "\n",
    "\n",
    "norm = tf.random_normal([1000])\n",
    "with tf.Session() as sess:\n",
    "    norm_data=norm.eval()\n",
    "plt.hist(norm_data, bins=50)\n",
    "plt.show()"
   ]
  },
  {
   "cell_type": "markdown",
   "metadata": {},
   "source": [
    "### matplotlib.pyplot.hist  \n",
    "matplotlib.pyplot.hist(x, bins=None, range=None, density=False, weights=None, cumulative=False, bottom=None, histtype='bar', align='mid', orientation='vertical', rwidth=None, log=False, color=None, label=None, stacked=False, \\*, data=None, \\*\\*kwargs)  \n",
    "[plt.hist 官网解释地址](https://matplotlib.org/api/_as_gen/matplotlib.pyplot.hist.html?highlight=hist#matplotlib.pyplot.hist)  \n",
    "<table>\n",
    "<thead>\n",
    "<tr>\n",
    "<th>属性</th>\n",
    "<th>说明</th>\n",
    "<th>类型</th>\n",
    "</tr>\n",
    "</thead>\n",
    "<tbody>\n",
    "<tr>\n",
    "<td>x</td>\n",
    "<td>数据</td>\n",
    "<td>数值类型</td>\n",
    "</tr>\n",
    "<tr>\n",
    "<td>bins</td>\n",
    "<td>条形数</td>\n",
    "<td>int</td>\n",
    "</tr>\n",
    "<tr>\n",
    "<td>color</td>\n",
    "<td>颜色</td>\n",
    "<td>\"r\",\"g\",\"y\",\"c\"</td>\n",
    "</tr>\n",
    "<tr>\n",
    "<td>density</td>\n",
    "<td>是否以密度的形式显示</td>\n",
    "<td>bool</td>\n",
    "</tr>\n",
    "<tr>\n",
    "<td>range</td>\n",
    "<td>x轴的范围</td>\n",
    "<td>数值元组（起，终）</td>\n",
    "</tr>\n",
    "<tr>\n",
    "<td>bottom</td>\n",
    "<td>y轴的起始位置</td>\n",
    "<td>数值类型</td>\n",
    "</tr>\n",
    "<tr>\n",
    "<td>histtype</td>\n",
    "<td>线条的类型</td>\n",
    "<td>\"bar\":方形，\"barstacked\":柱形,&lt;br /&gt;\"step\":\"未填充线条\"&lt;br /&gt;\"stepfilled\":\"填充线条\"</td>\n",
    "</tr>\n",
    "<tr>\n",
    "<td>align</td>\n",
    "<td>对齐方式</td>\n",
    "<td>\"left\":左，\"mid\":中间，\"right\":右</td>\n",
    "</tr>\n",
    "<tr>\n",
    "<td>orientation</td>\n",
    "<td>orientation</td>\n",
    "<td>\"horizontal\":水平，\"vertical\":垂直</td>\n",
    "</tr>\n",
    "<tr>\n",
    "<td>log</td>\n",
    "<td>单位是否以科学计术法</td>\n",
    "<td>bool</td>\n",
    "</tr>\n",
    "</tbody>\n",
    "</table>\n",
    "示例如下"
   ]
  },
  {
   "cell_type": "code",
   "execution_count": 9,
   "metadata": {},
   "outputs": [
    {
     "data": {
      "image/png": "[encoded data removed]",
      "text/plain": [
       "<Figure size 432x288 with 1 Axes>"
      ]
     },
     "metadata": {
      "needs_background": "light"
     },
     "output_type": "display_data"
    }
   ],
   "source": [
    "mu = 100\n",
    "sigma = 20 \n",
    "x = mu + sigma * np.random.randn(2000)\n",
    "plt.hist(x=x, bins=10)\n",
    "plt.show()"
   ]
  },
  {
   "cell_type": "markdown",
   "metadata": {},
   "source": [
    "### tensorflow 中 softmax() 函数  \n",
    "将输入值在整个值列表中映射到 0~1之间"
   ]
  },
  {
   "cell_type": "code",
   "execution_count": 10,
   "metadata": {},
   "outputs": [
    {
     "name": "stdout",
     "output_type": "stream",
     "text": [
      "x value:\n",
      " [-1.1  2.2  3.3  9.6] \n",
      "after softmax value:\n",
      " [2.24893868e-05 6.09746624e-04 1.83178009e-03 9.97535984e-01] \n",
      "sum of probability: 1.0\n"
     ]
    }
   ],
   "source": [
    "x = np.array([-1.1, 2.2, 3.3, 9.6])\n",
    "pred = tf.nn.softmax(x)\n",
    "with tf.Session() as sess:\n",
    "    probability = sess.run(pred)\n",
    "print('x value:\\n', x,\n",
    "      '\\nafter softmax value:\\n', probability,\n",
    "      '\\nsum of probability:', sum(probability))"
   ]
  },
  {
   "cell_type": "markdown",
   "metadata": {},
   "source": [
    "## 正式开始\n",
    "**本次模型为图像分类  \n",
    "从预测问题到分类问题  \n",
    "从线性回归到逻辑回归**"
   ]
  },
  {
   "cell_type": "code",
   "execution_count": 11,
   "metadata": {},
   "outputs": [
    {
     "name": "stdout",
     "output_type": "stream",
     "text": [
      "WARNING:tensorflow:From <ipython-input-11-748fede43741>:8: read_data_sets (from tensorflow.examples.tutorials.mnist.input_data) is deprecated and will be removed in a future version.\n",
      "Instructions for updating:\n",
      "Please use alternatives such as: tensorflow_datasets.load('mnist')\n",
      "WARNING:tensorflow:From e:\\anaconda3\\envs\\tensorflow1.x\\lib\\site-packages\\tensorflow_core\\examples\\tutorials\\mnist\\input_data.py:297: _maybe_download (from tensorflow.examples.tutorials.mnist.input_data) is deprecated and will be removed in a future version.\n",
      "Instructions for updating:\n",
      "Please write your own downloading logic.\n",
      "WARNING:tensorflow:From e:\\anaconda3\\envs\\tensorflow1.x\\lib\\site-packages\\tensorflow_core\\examples\\tutorials\\mnist\\input_data.py:299: _extract_images (from tensorflow.examples.tutorials.mnist.input_data) is deprecated and will be removed in a future version.\n",
      "Instructions for updating:\n",
      "Please use tf.data to implement this functionality.\n",
      "Extracting ./mnist_dataset/train-images-idx3-ubyte.gz\n",
      "WARNING:tensorflow:From e:\\anaconda3\\envs\\tensorflow1.x\\lib\\site-packages\\tensorflow_core\\examples\\tutorials\\mnist\\input_data.py:304: _extract_labels (from tensorflow.examples.tutorials.mnist.input_data) is deprecated and will be removed in a future version.\n",
      "Instructions for updating:\n",
      "Please use tf.data to implement this functionality.\n",
      "Extracting ./mnist_dataset/train-labels-idx1-ubyte.gz\n",
      "WARNING:tensorflow:From e:\\anaconda3\\envs\\tensorflow1.x\\lib\\site-packages\\tensorflow_core\\examples\\tutorials\\mnist\\input_data.py:112: _dense_to_one_hot (from tensorflow.examples.tutorials.mnist.input_data) is deprecated and will be removed in a future version.\n",
      "Instructions for updating:\n",
      "Please use tf.one_hot on tensors.\n",
      "Extracting ./mnist_dataset/t10k-images-idx3-ubyte.gz\n",
      "Extracting ./mnist_dataset/t10k-labels-idx1-ubyte.gz\n",
      "WARNING:tensorflow:From e:\\anaconda3\\envs\\tensorflow1.x\\lib\\site-packages\\tensorflow_core\\examples\\tutorials\\mnist\\input_data.py:328: _DataSet.__init__ (from tensorflow.examples.tutorials.mnist.input_data) is deprecated and will be removed in a future version.\n",
      "Instructions for updating:\n",
      "Please use alternatives such as official/mnist/_DataSet.py from tensorflow/models.\n"
     ]
    }
   ],
   "source": [
    "import tensorflow as tf\n",
    "import numpy as np\n",
    "from tensorflow.examples.tutorials.mnist import input_data\n",
    "import math\n",
    "import matplotlib.pyplot as plt\n",
    "\n",
    "\n",
    "mnist = input_data.read_data_sets('./mnist_dataset/', one_hot=True)"
   ]
  },
  {
   "cell_type": "code",
   "execution_count": 12,
   "metadata": {},
   "outputs": [
    {
     "name": "stdout",
     "output_type": "stream",
     "text": [
      "Number of training sets: 55000 \n",
      "Number of validation sets: 5000 \n",
      "Number of test sets: 10000\n"
     ]
    }
   ],
   "source": [
    "print('Number of training sets:', mnist.train.num_examples,\n",
    "      '\\nNumber of validation sets:', mnist.validation.num_examples,\n",
    "      '\\nNumber of test sets:', mnist.test.num_examples)"
   ]
  },
  {
   "cell_type": "markdown",
   "metadata": {},
   "source": [
    "### 查看 train data"
   ]
  },
  {
   "cell_type": "code",
   "execution_count": 13,
   "metadata": {},
   "outputs": [
    {
     "name": "stdout",
     "output_type": "stream",
     "text": [
      "train images shape: (55000, 784) \n",
      "labels shape: (55000, 10)\n"
     ]
    }
   ],
   "source": [
    "print('train images shape:', mnist.train.images.shape,\n",
    "      '\\nlabels shape:', mnist.train.labels.shape)"
   ]
  },
  {
   "cell_type": "markdown",
   "metadata": {},
   "source": [
    "一幅图像的维度与其值"
   ]
  },
  {
   "cell_type": "code",
   "execution_count": 14,
   "metadata": {},
   "outputs": [
    {
     "name": "stdout",
     "output_type": "stream",
     "text": [
      "Shape: (784,)\n",
      "Value: [0.         0.         0.         0.         0.         0.\n",
      " 0.         0.         0.         0.         0.         0.\n",
      " 0.         0.         0.         0.         0.         0.\n",
      " 0.         0.         0.         0.         0.         0.\n",
      " 0.         0.         0.         0.         0.         0.\n",
      " 0.         0.         0.         0.         0.         0.\n",
      " 0.         0.         0.         0.         0.         0.\n",
      " 0.         0.         0.         0.         0.         0.\n",
      " 0.         0.         0.         0.         0.         0.\n",
      " 0.         0.         0.         0.         0.         0.\n",
      " 0.         0.         0.         0.         0.         0.\n",
      " 0.         0.         0.         0.         0.         0.\n",
      " 0.         0.         0.         0.         0.         0.\n",
      " 0.         0.         0.         0.         0.         0.\n",
      " 0.         0.         0.         0.         0.         0.\n",
      " 0.         0.         0.         0.         0.         0.\n",
      " 0.         0.         0.         0.         0.         0.\n",
      " 0.         0.         0.         0.         0.         0.\n",
      " 0.         0.         0.         0.         0.         0.\n",
      " 0.         0.         0.         0.         0.         0.\n",
      " 0.         0.         0.         0.         0.         0.21960786\n",
      " 0.7568628  0.65882355 0.         0.         0.         0.\n",
      " 0.         0.         0.         0.         0.         0.\n",
      " 0.         0.         0.         0.         0.         0.\n",
      " 0.         0.         0.         0.         0.         0.\n",
      " 0.         0.         0.         0.5254902  0.9921569  0.8313726\n",
      " 0.         0.         0.         0.         0.         0.\n",
      " 0.         0.         0.         0.         0.         0.\n",
      " 0.         0.         0.         0.         0.         0.\n",
      " 0.         0.         0.         0.         0.         0.\n",
      " 0.         0.2509804  0.9921569  0.8313726  0.         0.\n",
      " 0.         0.         0.         0.         0.         0.\n",
      " 0.         0.         0.         0.         0.         0.\n",
      " 0.         0.         0.         0.         0.         0.\n",
      " 0.         0.         0.         0.         0.         0.14901961\n",
      " 0.92549026 0.94117653 0.16470589 0.         0.         0.\n",
      " 0.         0.         0.         0.         0.         0.\n",
      " 0.         0.         0.         0.         0.         0.\n",
      " 0.         0.         0.         0.         0.         0.\n",
      " 0.         0.         0.         0.427451   0.9921569  0.8588236\n",
      " 0.04313726 0.         0.         0.         0.         0.\n",
      " 0.         0.         0.         0.         0.         0.\n",
      " 0.         0.         0.         0.         0.         0.\n",
      " 0.         0.         0.         0.         0.         0.\n",
      " 0.         0.6666667  0.9960785  0.8352942  0.         0.\n",
      " 0.         0.         0.         0.         0.         0.\n",
      " 0.         0.         0.         0.         0.         0.\n",
      " 0.         0.         0.         0.         0.         0.\n",
      " 0.         0.         0.         0.         0.         0.6627451\n",
      " 0.9921569  0.8313726  0.         0.         0.         0.\n",
      " 0.         0.         0.         0.         0.         0.\n",
      " 0.         0.         0.         0.         0.         0.\n",
      " 0.         0.         0.         0.         0.         0.\n",
      " 0.         0.         0.         0.6627451  0.9921569  0.8313726\n",
      " 0.         0.         0.         0.         0.         0.\n",
      " 0.         0.         0.         0.         0.         0.\n",
      " 0.         0.         0.         0.         0.         0.\n",
      " 0.         0.         0.         0.         0.         0.\n",
      " 0.         0.6666667  0.9921569  0.8313726  0.         0.\n",
      " 0.         0.         0.         0.         0.         0.\n",
      " 0.         0.         0.         0.         0.         0.\n",
      " 0.         0.         0.         0.         0.         0.\n",
      " 0.         0.         0.         0.         0.         0.6627451\n",
      " 0.9921569  0.8313726  0.         0.         0.         0.\n",
      " 0.         0.         0.         0.         0.         0.\n",
      " 0.         0.         0.         0.         0.         0.\n",
      " 0.         0.         0.         0.         0.         0.\n",
      " 0.         0.         0.         0.6666667  1.         0.8352942\n",
      " 0.         0.         0.         0.         0.         0.\n",
      " 0.         0.         0.         0.         0.         0.\n",
      " 0.         0.         0.         0.         0.         0.\n",
      " 0.         0.         0.         0.         0.         0.\n",
      " 0.         0.6627451  0.9921569  0.8313726  0.         0.\n",
      " 0.         0.         0.         0.         0.         0.\n",
      " 0.         0.         0.         0.         0.         0.\n",
      " 0.         0.         0.         0.         0.         0.\n",
      " 0.         0.         0.         0.         0.         0.6666667\n",
      " 0.9921569  0.8313726  0.         0.         0.         0.\n",
      " 0.         0.         0.         0.         0.         0.\n",
      " 0.         0.         0.         0.         0.         0.\n",
      " 0.         0.         0.         0.         0.         0.\n",
      " 0.         0.         0.         0.6627451  0.9921569  0.8313726\n",
      " 0.         0.         0.         0.         0.         0.\n",
      " 0.         0.         0.         0.         0.         0.\n",
      " 0.         0.         0.         0.         0.         0.\n",
      " 0.         0.         0.         0.         0.         0.\n",
      " 0.         0.6627451  0.9921569  0.8313726  0.         0.\n",
      " 0.         0.         0.         0.         0.         0.\n",
      " 0.         0.         0.         0.         0.         0.\n",
      " 0.         0.         0.         0.         0.         0.\n",
      " 0.         0.         0.         0.         0.         0.6666667\n",
      " 1.         0.8352942  0.         0.         0.         0.\n",
      " 0.         0.         0.         0.         0.         0.\n",
      " 0.         0.         0.         0.         0.         0.\n",
      " 0.         0.         0.         0.         0.         0.\n",
      " 0.         0.         0.         0.6627451  0.9921569  0.8313726\n",
      " 0.         0.         0.         0.         0.         0.\n",
      " 0.         0.         0.         0.         0.         0.\n",
      " 0.         0.         0.         0.         0.         0.\n",
      " 0.         0.         0.         0.         0.         0.\n",
      " 0.         0.6313726  0.9921569  0.8470589  0.02352941 0.\n",
      " 0.         0.         0.         0.         0.         0.\n",
      " 0.         0.         0.         0.         0.         0.\n",
      " 0.         0.         0.         0.         0.         0.\n",
      " 0.         0.         0.         0.         0.         0.2509804\n",
      " 0.9921569  0.9960785  0.24705884 0.         0.         0.\n",
      " 0.         0.         0.         0.         0.         0.\n",
      " 0.         0.         0.         0.         0.         0.\n",
      " 0.         0.         0.         0.         0.         0.\n",
      " 0.         0.         0.         0.04313726 0.68235296 0.9294118\n",
      " 0.14509805 0.         0.         0.         0.         0.\n",
      " 0.         0.         0.         0.         0.         0.\n",
      " 0.         0.         0.         0.         0.         0.\n",
      " 0.         0.         0.         0.         0.         0.\n",
      " 0.         0.         0.         0.         0.         0.\n",
      " 0.         0.         0.         0.         0.         0.\n",
      " 0.         0.         0.         0.         0.         0.\n",
      " 0.         0.         0.         0.         0.         0.\n",
      " 0.         0.         0.         0.         0.         0.\n",
      " 0.         0.         0.         0.         0.         0.\n",
      " 0.         0.         0.         0.         0.         0.\n",
      " 0.         0.         0.         0.         0.         0.\n",
      " 0.         0.         0.         0.         0.         0.\n",
      " 0.         0.         0.         0.         0.         0.\n",
      " 0.         0.         0.         0.         0.         0.\n",
      " 0.         0.         0.         0.         0.         0.\n",
      " 0.         0.         0.         0.         0.         0.\n",
      " 0.         0.         0.         0.         0.         0.\n",
      " 0.         0.         0.         0.         0.         0.\n",
      " 0.         0.         0.         0.         0.         0.\n",
      " 0.         0.         0.         0.        ]\n"
     ]
    }
   ],
   "source": [
    "print('Shape:', mnist.train.images[520].shape)\n",
    "print('Value:', mnist.train.images[520])"
   ]
  },
  {
   "cell_type": "markdown",
   "metadata": {},
   "source": [
    "随机显示图像 9 幅图像"
   ]
  },
  {
   "cell_type": "code",
   "execution_count": 15,
   "metadata": {},
   "outputs": [],
   "source": [
    "def plot_num_images(num):\n",
    "    if num < 1:\n",
    "        print('INFO:The number of input pictures must be greater than zero!')\n",
    "    else:\n",
    "        choose_list = []\n",
    "        for i in range(num):\n",
    "            choose_n = np.random.randint(len(mnist.train.images))\n",
    "            choose_list.append(choose_n)\n",
    "        fig = plt.gcf()\n",
    "        fig.set_size_inches(18, 5 * math.ceil(num / 3))\n",
    "        for i in range(num):\n",
    "            ax_img = plt.subplot(math.ceil(num / 3), 3, i + 1)\n",
    "            plt_img = mnist.train.images[choose_list[i]].reshape(28, 28)\n",
    "            ax_img.imshow(plt_img, cmap='binary')\n",
    "            ax_img.set_title('label:' + str(np.argmax(mnist.train.labels[choose_list[i]])),\n",
    "                             fontsize=10)\n",
    "        plt.show()"
   ]
  },
  {
   "cell_type": "code",
   "execution_count": 16,
   "metadata": {},
   "outputs": [
    {
     "data": {
      "image/png": "[encoded data removed]",
      "text/plain": [
       "<Figure size 1296x1080 with 9 Axes>"
      ]
     },
     "metadata": {
      "needs_background": "light"
     },
     "output_type": "display_data"
    }
   ],
   "source": [
    "plot_num_images(9)"
   ]
  },
  {
   "cell_type": "markdown",
   "metadata": {},
   "source": [
    "mnist 提供真实标签读取，显示 10 个数据"
   ]
  },
  {
   "cell_type": "code",
   "execution_count": 17,
   "metadata": {},
   "outputs": [
    {
     "name": "stdout",
     "output_type": "stream",
     "text": [
      "Extracting ./mnist_dataset/train-images-idx3-ubyte.gz\n",
      "Extracting ./mnist_dataset/train-labels-idx1-ubyte.gz\n",
      "Extracting ./mnist_dataset/t10k-images-idx3-ubyte.gz\n",
      "Extracting ./mnist_dataset/t10k-labels-idx1-ubyte.gz\n",
      "[7 3 4 6 1 8 1 0 9 8]\n"
     ]
    }
   ],
   "source": [
    "mnist_no_one_hot = input_data.read_data_sets('./mnist_dataset/', one_hot=False)\n",
    "print(mnist_no_one_hot.train.labels[0:10])"
   ]
  },
  {
   "cell_type": "markdown",
   "metadata": {},
   "source": [
    "### 模型构建\n",
    "<img style=\"float: left;zoom:80%\" src=\"pic/Neurons.png\">\n",
    "<img style=\"float: right;zoom:70%\" src=\"pic/softmax.png\">\n",
    "<br/><br/><br/><br/><br/><br/><br/><br/><br/><br/><br/><br/><br/><br/>\n",
    "使用单个神经元构建模型，将神经元的输出经过 softmax 层分类<br/><br/>\n",
    "占位符"
   ]
  },
  {
   "cell_type": "code",
   "execution_count": 18,
   "metadata": {},
   "outputs": [],
   "source": [
    "x = tf.placeholder(tf.float32, [None, 784], name='X')\n",
    "y = tf.placeholder(tf.float32, [None, 10], name='Y')"
   ]
  },
  {
   "cell_type": "markdown",
   "metadata": {},
   "source": [
    "变量"
   ]
  },
  {
   "cell_type": "code",
   "execution_count": 19,
   "metadata": {},
   "outputs": [],
   "source": [
    "W = tf.Variable(tf.random_normal([784, 10]), name='W')\n",
    "b = tf.Variable(tf.zeros([10]), name='b')"
   ]
  },
  {
   "cell_type": "code",
   "execution_count": 20,
   "metadata": {},
   "outputs": [],
   "source": [
    "forward = tf.matmul(x, W) + b\n",
    "pred = tf.nn.softmax(forward)"
   ]
  },
  {
   "cell_type": "markdown",
   "metadata": {},
   "source": [
    "### 训练模型\n",
    "#### 设置训练参数"
   ]
  },
  {
   "cell_type": "code",
   "execution_count": 21,
   "metadata": {},
   "outputs": [],
   "source": [
    "epochs = 50\n",
    "batch_size = 100\n",
    "total_batch = int(mnist.train.num_examples / batch_size)\n",
    "display_step = 1\n",
    "learning_rate = 0.01"
   ]
  },
  {
   "cell_type": "markdown",
   "metadata": {},
   "source": [
    "#### 定义损失函数"
   ]
  },
  {
   "cell_type": "code",
   "execution_count": 22,
   "metadata": {},
   "outputs": [],
   "source": [
    "loss_function = tf.reduce_mean(-tf.reduce_sum(y * tf.log(pred), reduction_indices=1))"
   ]
  },
  {
   "cell_type": "markdown",
   "metadata": {},
   "source": [
    "#### 选择优化器"
   ]
  },
  {
   "cell_type": "code",
   "execution_count": 23,
   "metadata": {},
   "outputs": [],
   "source": [
    "optimizer = tf.train.GradientDescentOptimizer(learning_rate).minimize(loss_function)"
   ]
  },
  {
   "cell_type": "markdown",
   "metadata": {},
   "source": [
    "#### 定义准确率"
   ]
  },
  {
   "cell_type": "code",
   "execution_count": 24,
   "metadata": {},
   "outputs": [],
   "source": [
    "correct_prediction = tf.equal(tf.argmax(pred, 1), tf.argmax(y, 1))\n",
    "accuracy = tf.reduce_mean(tf.cast(correct_prediction, tf.float32))"
   ]
  },
  {
   "cell_type": "code",
   "execution_count": 25,
   "metadata": {},
   "outputs": [
    {
     "name": "stdout",
     "output_type": "stream",
     "text": [
      "Epoch:  1 Loss= 5.181013 Accuracy=0.289400\n",
      "Epoch:  2 Loss= 3.226336 Accuracy=0.463000\n",
      "Epoch:  3 Loss= 2.442250 Accuracy=0.557600\n",
      "Epoch:  4 Loss= 2.023449 Accuracy=0.615400\n",
      "Epoch:  5 Loss= 1.761311 Accuracy=0.662400\n",
      "Epoch:  6 Loss= 1.580896 Accuracy=0.687800\n",
      "Epoch:  7 Loss= 1.448330 Accuracy=0.714400\n",
      "Epoch:  8 Loss= 1.344897 Accuracy=0.732200\n",
      "Epoch:  9 Loss= 1.263207 Accuracy=0.748000\n",
      "Epoch: 10 Loss= 1.195717 Accuracy=0.759400\n",
      "Epoch: 11 Loss= 1.139762 Accuracy=0.770400\n",
      "Epoch: 12 Loss= 1.091881 Accuracy=0.776400\n",
      "Epoch: 13 Loss= 1.050353 Accuracy=0.783200\n",
      "Epoch: 14 Loss= 1.014509 Accuracy=0.789000\n",
      "Epoch: 15 Loss= 0.983110 Accuracy=0.794000\n",
      "Epoch: 16 Loss= 0.954650 Accuracy=0.799000\n",
      "Epoch: 17 Loss= 0.929542 Accuracy=0.804800\n",
      "Epoch: 18 Loss= 0.906525 Accuracy=0.808400\n",
      "Epoch: 19 Loss= 0.885733 Accuracy=0.811800\n",
      "Epoch: 20 Loss= 0.866608 Accuracy=0.815400\n",
      "Epoch: 21 Loss= 0.849514 Accuracy=0.819400\n",
      "Epoch: 22 Loss= 0.833153 Accuracy=0.821600\n",
      "Epoch: 23 Loss= 0.818339 Accuracy=0.826200\n",
      "Epoch: 24 Loss= 0.804542 Accuracy=0.828200\n",
      "Epoch: 25 Loss= 0.791879 Accuracy=0.832000\n",
      "Epoch: 26 Loss= 0.779769 Accuracy=0.832400\n",
      "Epoch: 27 Loss= 0.768629 Accuracy=0.834600\n",
      "Epoch: 28 Loss= 0.758255 Accuracy=0.835400\n",
      "Epoch: 29 Loss= 0.748280 Accuracy=0.837400\n",
      "Epoch: 30 Loss= 0.738828 Accuracy=0.840000\n",
      "Epoch: 31 Loss= 0.730522 Accuracy=0.841800\n",
      "Epoch: 32 Loss= 0.721803 Accuracy=0.843400\n",
      "Epoch: 33 Loss= 0.713824 Accuracy=0.844000\n",
      "Epoch: 34 Loss= 0.706201 Accuracy=0.845800\n",
      "Epoch: 35 Loss= 0.699364 Accuracy=0.847600\n",
      "Epoch: 36 Loss= 0.692261 Accuracy=0.849000\n",
      "Epoch: 37 Loss= 0.685300 Accuracy=0.850600\n",
      "Epoch: 38 Loss= 0.679159 Accuracy=0.852000\n",
      "Epoch: 39 Loss= 0.673282 Accuracy=0.853000\n",
      "Epoch: 40 Loss= 0.667670 Accuracy=0.853000\n",
      "Epoch: 41 Loss= 0.661976 Accuracy=0.854600\n",
      "Epoch: 42 Loss= 0.656577 Accuracy=0.855800\n",
      "Epoch: 43 Loss= 0.651724 Accuracy=0.857200\n",
      "Epoch: 44 Loss= 0.646391 Accuracy=0.858400\n",
      "Epoch: 45 Loss= 0.641690 Accuracy=0.859000\n",
      "Epoch: 46 Loss= 0.637001 Accuracy=0.859600\n",
      "Epoch: 47 Loss= 0.632599 Accuracy=0.860400\n",
      "Epoch: 48 Loss= 0.628048 Accuracy=0.861800\n",
      "Epoch: 49 Loss= 0.623791 Accuracy=0.863800\n",
      "Epoch: 50 Loss= 0.620104 Accuracy=0.863800\n",
      "INFO:Train Finished!\n"
     ]
    }
   ],
   "source": [
    "sess = tf.Session()\n",
    "loss_list = []\n",
    "acc_list = []\n",
    "sess.run(tf.global_variables_initializer())\n",
    "for epoch in range(epochs):\n",
    "    for batch in range(total_batch):\n",
    "        xs, ys = mnist.train.next_batch(batch_size)\n",
    "        sess.run(optimizer, feed_dict={x:xs, y:ys})\n",
    "    loss, acc = sess.run([loss_function, accuracy],\n",
    "                         feed_dict={x:mnist.validation.images, y:mnist.validation.labels})\n",
    "    loss_list.append(loss)\n",
    "    acc_list.append(acc)\n",
    "    if (epoch + 1) % display_step == 0:\n",
    "        print('Epoch: %2d' % (epoch + 1), 'Loss= %6f' % loss, 'Accuracy=%4f' % acc)\n",
    "print('INFO:Train Finished!')"
   ]
  },
  {
   "cell_type": "markdown",
   "metadata": {},
   "source": [
    "#### 损失与准确率可视化"
   ]
  },
  {
   "cell_type": "code",
   "execution_count": 26,
   "metadata": {},
   "outputs": [
    {
     "data": {
      "image/png": "[encoded data removed]",
      "text/plain": [
       "<Figure size 432x288 with 2 Axes>"
      ]
     },
     "metadata": {
      "needs_background": "light"
     },
     "output_type": "display_data"
    }
   ],
   "source": [
    "fig = plt.figure()\n",
    "ax1 = fig.add_subplot(111)\n",
    "ax1.set_title('Train Picture')\n",
    "ax1.set_ylabel('Loss value')\n",
    "line1, = ax1.plot(loss_list, color='b', label='Loss')\n",
    "ax2 = ax1.twinx()\n",
    "ax2.set_ylabel('Accuracy value')\n",
    "line2, = ax2.plot(acc_list, color='r', label='Accuracy')\n",
    "plt.legend(handles=(line1, line2), loc='best')\n",
    "plt.show()"
   ]
  },
  {
   "cell_type": "markdown",
   "metadata": {},
   "source": [
    "### 模型评估\n",
    "#### 测试集测试"
   ]
  },
  {
   "cell_type": "code",
   "execution_count": 27,
   "metadata": {},
   "outputs": [
    {
     "name": "stdout",
     "output_type": "stream",
     "text": [
      "Test Accuracy: 0.8624\n"
     ]
    }
   ],
   "source": [
    "acc_test = sess.run(accuracy, feed_dict={x:mnist.test.images, y:mnist.test.labels})\n",
    "print('Test Accuracy:', acc_test)"
   ]
  },
  {
   "cell_type": "markdown",
   "metadata": {},
   "source": [
    "#### 验证集测试"
   ]
  },
  {
   "cell_type": "code",
   "execution_count": 28,
   "metadata": {},
   "outputs": [
    {
     "name": "stdout",
     "output_type": "stream",
     "text": [
      "Test Accuracy: 0.8638\n"
     ]
    }
   ],
   "source": [
    "acc_valid = sess.run(accuracy, feed_dict={x:mnist.validation.images, y:mnist.validation.labels})\n",
    "print('Test Accuracy:', acc_valid)"
   ]
  },
  {
   "cell_type": "markdown",
   "metadata": {},
   "source": [
    "#### 训练集测试"
   ]
  },
  {
   "cell_type": "code",
   "execution_count": 29,
   "metadata": {},
   "outputs": [
    {
     "name": "stdout",
     "output_type": "stream",
     "text": [
      "Test Accuracy: 0.85856366\n"
     ]
    }
   ],
   "source": [
    "acc_train = sess.run(accuracy, feed_dict={x:mnist.train.images, y:mnist.train.labels})\n",
    "print('Test Accuracy:', acc_train)"
   ]
  },
  {
   "cell_type": "markdown",
   "metadata": {},
   "source": [
    "### 模型应用"
   ]
  },
  {
   "cell_type": "code",
   "execution_count": 30,
   "metadata": {},
   "outputs": [],
   "source": [
    "def plot_apply_images(num):\n",
    "    if num < 1:\n",
    "        print('INFO:The number of input pictures must be greater than zero!')\n",
    "    else:\n",
    "        choose_list = []\n",
    "        for i in range(num):\n",
    "            choose_n = np.random.randint(len(mnist.test.images))\n",
    "            choose_list.append(choose_n)\n",
    "        fig = plt.gcf()\n",
    "        fig.set_size_inches(18, 5 * math.ceil(num / 3))\n",
    "        prediction_result = sess.run(tf.argmax(pred, 1), feed_dict={x:mnist.test.images})\n",
    "        for i in range(num):\n",
    "            ax_img = plt.subplot(math.ceil(num / 3), 3, i + 1)\n",
    "            plt_img = mnist.test.images[choose_list[i]].reshape(28, 28)\n",
    "            ax_img.imshow(plt_img, cmap='binary')\n",
    "            ax_img.set_title('Original label:' \\\n",
    "                             + str(np.argmax(mnist.test.labels[choose_list[i]])) \\\n",
    "                             + ' Predict label:' \\\n",
    "                             + str(prediction_result[choose_list[i]]),\n",
    "                             fontsize=10)\n",
    "            ax_img.set_xticks([])\n",
    "            ax_img.set_yticks([])\n",
    "        plt.show()"
   ]
  },
  {
   "cell_type": "code",
   "execution_count": 31,
   "metadata": {},
   "outputs": [
    {
     "data": {
      "image/png": "[encoded data removed]",
      "text/plain": [
       "<Figure size 1296x1080 with 9 Axes>"
      ]
     },
     "metadata": {},
     "output_type": "display_data"
    }
   ],
   "source": [
    "plot_apply_images(9)"
   ]
  }
 ],
 "metadata": {
  "kernelspec": {
   "display_name": "Python 3",
   "language": "python",
   "name": "python3"
  },
  "language_info": {
   "codemirror_mode": {
    "name": "ipython",
    "version": 3
   },
   "file_extension": ".py",
   "mimetype": "text/x-python",
   "name": "python",
   "nbconvert_exporter": "python",
   "pygments_lexer": "ipython3",
   "version": "3.6.2"
  }
 },
 "nbformat": 4,
 "nbformat_minor": 4
}
