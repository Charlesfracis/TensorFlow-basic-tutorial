{
 "cells": [
  {
   "cell_type": "markdown",
   "metadata": {},
   "source": [
    "## 前情函数\n",
    "### tensorflow.one_hot\n",
    "tf.one_hot(\n",
    "indices,<br>\n",
    "&ensp;&ensp;&ensp;&ensp;&ensp;&ensp;&ensp;&ensp;&ensp;&ensp;depth,<br>\n",
    "&ensp;&ensp;&ensp;&ensp;&ensp;&ensp;&ensp;&ensp;&ensp;&ensp;on_value=None,<br>\n",
    "&ensp;&ensp;&ensp;&ensp;&ensp;&ensp;&ensp;&ensp;&ensp;&ensp;off_value=None,<br>\n",
    "&ensp;&ensp;&ensp;&ensp;&ensp;&ensp;&ensp;&ensp;&ensp;&ensp;axis=None,<br>\n",
    "&ensp;&ensp;&ensp;&ensp;&ensp;&ensp;&ensp;&ensp;&ensp;&ensp;dtype=None,<br>\n",
    "&ensp;&ensp;&ensp;&ensp;&ensp;&ensp;&ensp;&ensp;&ensp;&ensp;name=None<br>\n",
    ")  \n",
    "仅介绍最常用的使用方法  \n",
    "depth：表示独热编码的向量长度  \n",
    "indices：输入的数据，可以是列表，数组，矩阵等  \n",
    "dtype：数据类型，整型或者浮点型"
   ]
  },
  {
   "cell_type": "code",
   "execution_count": 1,
   "metadata": {},
   "outputs": [
    {
     "name": "stdout",
     "output_type": "stream",
     "text": [
      "x_list type: <class 'list'> \n",
      "x_list: [3, 4] \n",
      "x_list_onehot:\n",
      " [[0. 0. 0. 1. 0. 0. 0. 0. 0. 0.]\n",
      " [0. 0. 0. 0. 1. 0. 0. 0. 0. 0.]]\n",
      "x_array type: <class 'numpy.ndarray'> \n",
      "x_array: [3 4] \n",
      "x_array_onehot:\n",
      " [[0 0 0 1 0 0 0 0 0 0]\n",
      " [0 0 0 0 1 0 0 0 0 0]]\n"
     ]
    }
   ],
   "source": [
    "import tensorflow as tf\n",
    "import numpy as np\n",
    "\n",
    "\n",
    "x_list = [3, 4]\n",
    "x_list_onehot = tf.one_hot(x_list, depth=10)\n",
    "print('x_list type:', type(x_list),\n",
    "      '\\nx_list:', x_list,\n",
    "      '\\nx_list_onehot:\\n',x_list_onehot.numpy())\n",
    "\n",
    "x_array = np.array([3, 4])\n",
    "x_array_onehot = tf.one_hot(x_array, depth=10, dtype=tf.int32)\n",
    "print('x_array type:', type(x_array),\n",
    "      '\\nx_array:', x_array,\n",
    "      '\\nx_array_onehot:\\n',x_array_onehot.numpy())"
   ]
  },
  {
   "cell_type": "markdown",
   "metadata": {},
   "source": [
    "## 基于 onehot 编码"
   ]
  },
  {
   "cell_type": "code",
   "execution_count": 2,
   "metadata": {},
   "outputs": [
    {
     "data": {
      "text/plain": [
       "'2.0.0'"
      ]
     },
     "execution_count": 2,
     "metadata": {},
     "output_type": "execute_result"
    }
   ],
   "source": [
    "import tensorflow as tf\n",
    "import numpy as np\n",
    "import matplotlib.pyplot as plt\n",
    "import math\n",
    "\n",
    "\n",
    "tf.__version__"
   ]
  },
  {
   "cell_type": "markdown",
   "metadata": {},
   "source": [
    "### 读取文件  \n",
    "文件路径为 C:\\Users\\your_user_name\\.keras\\datasets"
   ]
  },
  {
   "cell_type": "code",
   "execution_count": 3,
   "metadata": {},
   "outputs": [],
   "source": [
    "mnist = tf.keras.datasets.mnist\n",
    "(train_images, train_labels), (test_images, test_labels) = mnist.load_data()"
   ]
  },
  {
   "cell_type": "markdown",
   "metadata": {},
   "source": [
    "### 显示数据维度  \n",
    "tensorflow2.x 与 tensorflow1.x 数据的形式不一样，在后面的显示图像函数将会与 tensorflow1.x 不同，数据集的存储的像素点格式是 unit8，范围是 0~255"
   ]
  },
  {
   "cell_type": "code",
   "execution_count": 4,
   "metadata": {},
   "outputs": [
    {
     "name": "stdout",
     "output_type": "stream",
     "text": [
      "Train image shape: (60000, 28, 28) Train label shape: (60000,)\n",
      "Test image shape: (10000, 28, 28) Test label shape: (10000,)\n",
      "images dtype: <class 'numpy.uint8'>\n"
     ]
    }
   ],
   "source": [
    "print('Train image shape:', train_images.shape, 'Train label shape:', train_labels.shape)\n",
    "print('Test image shape:', test_images.shape, 'Test label shape:', test_labels.shape)\n",
    "print('images dtype:', type(train_images[0, 0, 0]))"
   ]
  },
  {
   "cell_type": "markdown",
   "metadata": {},
   "source": [
    "### 显示训练集图像"
   ]
  },
  {
   "cell_type": "code",
   "execution_count": 5,
   "metadata": {},
   "outputs": [],
   "source": [
    "def plot_num_images(num):\n",
    "    if num < 1:\n",
    "        print('INFO:The number of input pictures must be greater than zero!')\n",
    "    else:\n",
    "        choose_list = []\n",
    "        for i in range(num):\n",
    "            choose_n = np.random.randint(train_images.shape[0])\n",
    "            choose_list.append(choose_n)\n",
    "        fig = plt.gcf()\n",
    "        fig.set_size_inches(18, 5 * math.ceil(num / 3))\n",
    "        for i in range(num):\n",
    "            ax_img = plt.subplot(math.ceil(num / 3), 3, i + 1)\n",
    "            plt_img = train_images[choose_list[i]]\n",
    "            ax_img.imshow(plt_img, cmap='binary')\n",
    "            ax_img.set_title('label:' + str(train_labels[choose_list[i]]),\n",
    "                             fontsize=10)\n",
    "        plt.show()"
   ]
  },
  {
   "cell_type": "code",
   "execution_count": 6,
   "metadata": {},
   "outputs": [
    {
     "data": {
      "image/png": "[encoded data removed]",
      "text/plain": [
       "<Figure size 1296x1080 with 9 Axes>"
      ]
     },
     "metadata": {
      "needs_background": "light"
     },
     "output_type": "display_data"
    }
   ],
   "source": [
    "plot_num_images(9)"
   ]
  },
  {
   "cell_type": "markdown",
   "metadata": {},
   "source": [
    "### 划分验证集"
   ]
  },
  {
   "cell_type": "code",
   "execution_count": 7,
   "metadata": {},
   "outputs": [],
   "source": [
    "total_num = len(train_images)\n",
    "valid_split = 0.2\n",
    "train_num = int(total_num * (1 - valid_split))\n",
    "\n",
    "train_x = train_images[:train_num]\n",
    "train_y = train_labels[:train_num]\n",
    "\n",
    "valid_x = train_images[train_num:]\n",
    "valid_y = train_labels[train_num:]\n",
    "\n",
    "test_x = test_images\n",
    "test_y = test_labels"
   ]
  },
  {
   "cell_type": "markdown",
   "metadata": {},
   "source": [
    "### 查看验证集 scale"
   ]
  },
  {
   "cell_type": "code",
   "execution_count": 8,
   "metadata": {},
   "outputs": [
    {
     "name": "stdout",
     "output_type": "stream",
     "text": [
      "validation dataset scale: (12000, 28, 28)\n"
     ]
    }
   ],
   "source": [
    "print('validation dataset scale:', valid_x.shape)"
   ]
  },
  {
   "cell_type": "markdown",
   "metadata": {},
   "source": [
    "### 数据 flattern"
   ]
  },
  {
   "cell_type": "code",
   "execution_count": 9,
   "metadata": {},
   "outputs": [],
   "source": [
    "train_x = train_x.reshape(-1, 784)\n",
    "valid_x = valid_x.reshape(-1, 784)\n",
    "test_x = test_x.reshape(-1, 784)"
   ]
  },
  {
   "cell_type": "markdown",
   "metadata": {},
   "source": [
    "### 数据归一化与独热码"
   ]
  },
  {
   "cell_type": "code",
   "execution_count": 10,
   "metadata": {},
   "outputs": [
    {
     "name": "stdout",
     "output_type": "stream",
     "text": [
      "*******demo*******\n"
     ]
    },
    {
     "data": {
      "text/plain": [
       "<tf.Tensor: id=25, shape=(12000, 10), dtype=float32, numpy=\n",
       "array([[0., 0., 0., ..., 0., 0., 0.],\n",
       "       [0., 0., 0., ..., 1., 0., 0.],\n",
       "       [0., 0., 0., ..., 0., 1., 0.],\n",
       "       ...,\n",
       "       [0., 0., 0., ..., 0., 0., 0.],\n",
       "       [0., 0., 0., ..., 0., 0., 0.],\n",
       "       [0., 0., 0., ..., 0., 1., 0.]], dtype=float32)>"
      ]
     },
     "execution_count": 10,
     "metadata": {},
     "output_type": "execute_result"
    }
   ],
   "source": [
    "train_x = tf.cast(train_x / 255.0, tf.float32)\n",
    "valid_x = tf.cast(valid_x / 255.0, tf.float32)\n",
    "test_x = tf.cast(test_x / 255.0, tf.float32)\n",
    "\n",
    "train_y = tf.one_hot(train_y, depth=10)\n",
    "valid_y = tf.one_hot(valid_y, depth=10)\n",
    "test_y = tf.one_hot(test_y, depth=10)\n",
    "\n",
    "print('*******demo*******')\n",
    "valid_y"
   ]
  },
  {
   "cell_type": "markdown",
   "metadata": {},
   "source": [
    "### 模型定义\n",
    "前向计算"
   ]
  },
  {
   "cell_type": "code",
   "execution_count": 11,
   "metadata": {},
   "outputs": [],
   "source": [
    "def model(x, w, b):\n",
    "    pred = tf.matmul(x, w) + b\n",
    "    return tf.nn.softmax(pred)"
   ]
  },
  {
   "cell_type": "markdown",
   "metadata": {},
   "source": [
    "### 创建变量"
   ]
  },
  {
   "cell_type": "code",
   "execution_count": 12,
   "metadata": {},
   "outputs": [],
   "source": [
    "W = tf.Variable(tf.random.normal([784, 10], mean=0.0, stddev=1.0, dtype=tf.float32))\n",
    "B = tf.Variable(tf.zeros([10]), name='B')"
   ]
  },
  {
   "cell_type": "markdown",
   "metadata": {},
   "source": [
    "### 定义损失函数"
   ]
  },
  {
   "cell_type": "code",
   "execution_count": 13,
   "metadata": {},
   "outputs": [],
   "source": [
    "def loss(x, y, w, b):\n",
    "    pred = model(x, w, b)\n",
    "    loss_ = tf.keras.losses.categorical_crossentropy(y_true=y, y_pred=pred)\n",
    "    return tf.reduce_mean(loss_)"
   ]
  },
  {
   "cell_type": "markdown",
   "metadata": {},
   "source": [
    "### 模型训练参数设置"
   ]
  },
  {
   "cell_type": "code",
   "execution_count": 14,
   "metadata": {},
   "outputs": [],
   "source": [
    "epochs = 40\n",
    "batch_size = 50\n",
    "learning_rate = 0.001"
   ]
  },
  {
   "cell_type": "markdown",
   "metadata": {},
   "source": [
    "### 定义梯度计算函数"
   ]
  },
  {
   "cell_type": "code",
   "execution_count": 15,
   "metadata": {},
   "outputs": [],
   "source": [
    "def grad(x, y, w, b):\n",
    "    with tf.GradientTape() as tape:\n",
    "        loss_ = loss(x, y, w, b)\n",
    "    return tape.gradient(loss_, [w, b])"
   ]
  },
  {
   "cell_type": "markdown",
   "metadata": {},
   "source": [
    "### 设置优化器"
   ]
  },
  {
   "cell_type": "code",
   "execution_count": 16,
   "metadata": {},
   "outputs": [],
   "source": [
    "optimizer = tf.keras.optimizers.Adam(learning_rate=learning_rate)"
   ]
  },
  {
   "cell_type": "markdown",
   "metadata": {},
   "source": [
    "### 定义准确率"
   ]
  },
  {
   "cell_type": "code",
   "execution_count": 17,
   "metadata": {},
   "outputs": [],
   "source": [
    "def accuracy(x, y, w, b):\n",
    "    pred = model(x, w, b)\n",
    "    correct_prediction = tf.equal(tf.argmax(pred, 1), tf.argmax(y, 1))\n",
    "    return tf.reduce_mean(tf.cast(correct_prediction, tf.float32))"
   ]
  },
  {
   "cell_type": "markdown",
   "metadata": {},
   "source": [
    "### 模型训练"
   ]
  },
  {
   "cell_type": "code",
   "execution_count": 18,
   "metadata": {},
   "outputs": [
    {
     "name": "stdout",
     "output_type": "stream",
     "text": [
      "Epoch:  1 train_loss= 1.794028 train_acc=0.663083 val_loss= 1.688922 val_acc=0.675667\n",
      "Epoch:  2 train_loss= 1.026453 train_acc=0.787437 val_loss= 0.956573 val_acc=0.796583\n",
      "Epoch:  3 train_loss= 0.784511 train_acc=0.833396 val_loss= 0.735276 val_acc=0.839833\n",
      "Epoch:  4 train_loss= 0.665004 train_acc=0.856875 val_loss= 0.629650 val_acc=0.864167\n",
      "Epoch:  5 train_loss= 0.592476 train_acc=0.871167 val_loss= 0.567846 val_acc=0.875583\n",
      "Epoch:  6 train_loss= 0.543093 train_acc=0.880000 val_loss= 0.526859 val_acc=0.883833\n",
      "Epoch:  7 train_loss= 0.506531 train_acc=0.886771 val_loss= 0.497269 val_acc=0.889583\n",
      "Epoch:  8 train_loss= 0.478374 train_acc=0.891437 val_loss= 0.474750 val_acc=0.893000\n",
      "Epoch:  9 train_loss= 0.455545 train_acc=0.894813 val_loss= 0.456882 val_acc=0.895000\n",
      "Epoch: 10 train_loss= 0.436355 train_acc=0.898396 val_loss= 0.442191 val_acc=0.898250\n",
      "Epoch: 11 train_loss= 0.420245 train_acc=0.901312 val_loss= 0.429889 val_acc=0.900250\n",
      "Epoch: 12 train_loss= 0.406171 train_acc=0.903313 val_loss= 0.419219 val_acc=0.901833\n",
      "Epoch: 13 train_loss= 0.393859 train_acc=0.905500 val_loss= 0.410134 val_acc=0.902167\n",
      "Epoch: 14 train_loss= 0.383010 train_acc=0.907292 val_loss= 0.401944 val_acc=0.903417\n",
      "Epoch: 15 train_loss= 0.373411 train_acc=0.909083 val_loss= 0.394878 val_acc=0.904167\n",
      "Epoch: 16 train_loss= 0.364686 train_acc=0.910500 val_loss= 0.388374 val_acc=0.905333\n",
      "Epoch: 17 train_loss= 0.356754 train_acc=0.911667 val_loss= 0.382529 val_acc=0.906333\n",
      "Epoch: 18 train_loss= 0.349559 train_acc=0.912833 val_loss= 0.377245 val_acc=0.907083\n",
      "Epoch: 19 train_loss= 0.342927 train_acc=0.914021 val_loss= 0.372456 val_acc=0.907417\n",
      "Epoch: 20 train_loss= 0.336870 train_acc=0.914729 val_loss= 0.368039 val_acc=0.908333\n",
      "Epoch: 21 train_loss= 0.331268 train_acc=0.916083 val_loss= 0.364073 val_acc=0.908667\n",
      "Epoch: 22 train_loss= 0.326073 train_acc=0.917188 val_loss= 0.360308 val_acc=0.909500\n",
      "Epoch: 23 train_loss= 0.321280 train_acc=0.918042 val_loss= 0.356898 val_acc=0.910583\n",
      "Epoch: 24 train_loss= 0.316829 train_acc=0.918854 val_loss= 0.353810 val_acc=0.911167\n",
      "Epoch: 25 train_loss= 0.312685 train_acc=0.919375 val_loss= 0.351033 val_acc=0.912667\n",
      "Epoch: 26 train_loss= 0.308808 train_acc=0.919667 val_loss= 0.348400 val_acc=0.912667\n",
      "Epoch: 27 train_loss= 0.305181 train_acc=0.920479 val_loss= 0.345925 val_acc=0.913083\n",
      "Epoch: 28 train_loss= 0.301788 train_acc=0.921229 val_loss= 0.343634 val_acc=0.913333\n",
      "Epoch: 29 train_loss= 0.298610 train_acc=0.921792 val_loss= 0.341496 val_acc=0.913750\n",
      "Epoch: 30 train_loss= 0.295608 train_acc=0.922375 val_loss= 0.339517 val_acc=0.913833\n",
      "Epoch: 31 train_loss= 0.292766 train_acc=0.923021 val_loss= 0.337612 val_acc=0.914250\n",
      "Epoch: 32 train_loss= 0.290099 train_acc=0.923458 val_loss= 0.335835 val_acc=0.915000\n",
      "Epoch: 33 train_loss= 0.287562 train_acc=0.923813 val_loss= 0.334138 val_acc=0.915333\n",
      "Epoch: 34 train_loss= 0.285154 train_acc=0.924458 val_loss= 0.332562 val_acc=0.915750\n",
      "Epoch: 35 train_loss= 0.282870 train_acc=0.924750 val_loss= 0.331062 val_acc=0.915583\n",
      "Epoch: 36 train_loss= 0.280705 train_acc=0.925313 val_loss= 0.329646 val_acc=0.915583\n",
      "Epoch: 37 train_loss= 0.278647 train_acc=0.925646 val_loss= 0.328310 val_acc=0.916083\n",
      "Epoch: 38 train_loss= 0.276685 train_acc=0.925958 val_loss= 0.327048 val_acc=0.916583\n",
      "Epoch: 39 train_loss= 0.274815 train_acc=0.926458 val_loss= 0.325852 val_acc=0.916750\n",
      "Epoch: 40 train_loss= 0.273008 train_acc=0.926813 val_loss= 0.324666 val_acc=0.916583\n",
      "INFO:Train Finished!\n"
     ]
    }
   ],
   "source": [
    "total_step = int(train_num / batch_size)\n",
    "\n",
    "loss_list_train = []\n",
    "loss_list_valid = []\n",
    "acc_list_train = []\n",
    "acc_list_valid = []\n",
    "\n",
    "for epoch in range(epochs):\n",
    "    for step in range(total_step):\n",
    "        xs = train_x[step * batch_size:(step + 1) * batch_size]\n",
    "        ys = train_y[step * batch_size:(step + 1) * batch_size]\n",
    "        \n",
    "        grads = grad(xs, ys, W, B)\n",
    "        optimizer.apply_gradients(zip(grads, [W, B]))\n",
    "    loss_train = loss(train_x, train_y, W, B).numpy()\n",
    "    loss_valid = loss(valid_x, valid_y, W, B).numpy()\n",
    "    acc_train = accuracy(train_x, train_y, W, B).numpy()\n",
    "    acc_valid = accuracy(valid_x, valid_y, W, B).numpy()\n",
    "    loss_list_train.append(loss_train)\n",
    "    loss_list_valid.append(loss_valid)\n",
    "    acc_list_train.append(acc_train)\n",
    "    acc_list_valid.append(acc_valid)\n",
    "    print('Epoch: %2d' % (epoch + 1),\n",
    "          'train_loss= %6f' % loss_train,\n",
    "          'train_acc=%6f' % acc_train,\n",
    "          'val_loss= %6f' % loss_valid,\n",
    "          'val_acc=%4f' % acc_valid)\n",
    "print('INFO:Train Finished!')"
   ]
  },
  {
   "cell_type": "markdown",
   "metadata": {},
   "source": [
    "### 损失率与准确率可视化"
   ]
  },
  {
   "cell_type": "code",
   "execution_count": 19,
   "metadata": {},
   "outputs": [
    {
     "data": {
      "image/png": "[encoded data removed]",
      "text/plain": [
       "<Figure size 720x360 with 2 Axes>"
      ]
     },
     "metadata": {
      "needs_background": "light"
     },
     "output_type": "display_data"
    }
   ],
   "source": [
    "fig = plt.gcf()\n",
    "fig.set_size_inches(10, 5)\n",
    "ax1 = fig.add_subplot(111)\n",
    "ax1.set_title('Train and Validation Picture')\n",
    "ax1.set_ylabel('Loss value')\n",
    "line1, = ax1.plot(loss_list_train, color=(0.5, 0.5, 1.0), label='Loss train')\n",
    "line2, = ax1.plot(loss_list_valid, color=(0.5, 1.0, 0.5), label='Loss valid')\n",
    "ax2 = ax1.twinx()\n",
    "ax2.set_ylabel('Accuracy value')\n",
    "line3, = ax2.plot(acc_list_train, color=(0.5, 0.5, 0.5), label='Accuracy train')\n",
    "line4, = ax2.plot(acc_list_valid, color=(1, 0, 0), label='Accuracy valid')\n",
    "plt.legend(handles=(line1, line2, line3, line4), loc='best')\n",
    "plt.show()"
   ]
  },
  {
   "cell_type": "markdown",
   "metadata": {},
   "source": [
    "### 模型评估"
   ]
  },
  {
   "cell_type": "code",
   "execution_count": 20,
   "metadata": {},
   "outputs": [
    {
     "name": "stdout",
     "output_type": "stream",
     "text": [
      "Test Accuracy: 0.9162\n"
     ]
    }
   ],
   "source": [
    "acc_test = accuracy(test_x, test_y, W, B).numpy()\n",
    "print('Test Accuracy:', acc_test)"
   ]
  },
  {
   "cell_type": "markdown",
   "metadata": {},
   "source": [
    "### 模型应用"
   ]
  },
  {
   "cell_type": "code",
   "execution_count": 21,
   "metadata": {},
   "outputs": [],
   "source": [
    "def plot_apply_images(num):\n",
    "    if num < 1:\n",
    "        print('INFO:The number of input pictures must be greater than zero!')\n",
    "    else:\n",
    "        choose_list = []\n",
    "        for i in range(num):\n",
    "            choose_n = np.random.randint(len(test_x))\n",
    "            choose_list.append(choose_n)\n",
    "        fig = plt.gcf()\n",
    "        fig.set_size_inches(18, 5 * math.ceil(num / 3))\n",
    "        \n",
    "        pred = model(test_x, W, B)\n",
    "        prediction_result = tf.argmax(pred, 1).numpy()\n",
    "\n",
    "        for i in range(num):\n",
    "            ax_img = plt.subplot(math.ceil(num / 3), 3, i + 1)\n",
    "            plt_img = test_images[choose_list[i]]\n",
    "            ax_img.imshow(plt_img, cmap='binary')\n",
    "            ax_img.set_title('Original label:' \\\n",
    "                             + str(test_labels[choose_list[i]]) \\\n",
    "                             + ' Predict label:' \\\n",
    "                             + str(prediction_result[choose_list[i]]),\n",
    "                             fontsize=10)\n",
    "            ax_img.set_xticks([])\n",
    "            ax_img.set_yticks([])\n",
    "        plt.show()"
   ]
  },
  {
   "cell_type": "code",
   "execution_count": 22,
   "metadata": {},
   "outputs": [
    {
     "data": {
      "image/png": "[encoded data removed]",
      "text/plain": [
       "<Figure size 1296x1080 with 9 Axes>"
      ]
     },
     "metadata": {},
     "output_type": "display_data"
    }
   ],
   "source": [
    "plot_apply_images(9)"
   ]
  },
  {
   "cell_type": "markdown",
   "metadata": {},
   "source": [
    "## 基于整数型标签"
   ]
  },
  {
   "cell_type": "code",
   "execution_count": 23,
   "metadata": {},
   "outputs": [],
   "source": [
    "mnist = tf.keras.datasets.mnist\n",
    "(train_images, train_labels), (test_images, test_labels) = mnist.load_data()"
   ]
  },
  {
   "cell_type": "code",
   "execution_count": 24,
   "metadata": {},
   "outputs": [],
   "source": [
    "total_num = len(train_images)\n",
    "valid_split = 0.2\n",
    "train_num = int(total_num * (1 - valid_split))\n",
    "\n",
    "train_x = train_images[:train_num]\n",
    "train_y = train_labels[:train_num]\n",
    "\n",
    "valid_x = train_images[train_num:]\n",
    "valid_y = train_labels[train_num:]\n",
    "\n",
    "test_x = test_images\n",
    "test_y = test_labels"
   ]
  },
  {
   "cell_type": "code",
   "execution_count": 25,
   "metadata": {},
   "outputs": [],
   "source": [
    "train_x = train_x.reshape(-1, 784)\n",
    "valid_x = valid_x.reshape(-1, 784)\n",
    "test_x = test_x.reshape(-1, 784)"
   ]
  },
  {
   "cell_type": "code",
   "execution_count": 26,
   "metadata": {},
   "outputs": [],
   "source": [
    "train_x = tf.cast(train_x / 255.0, tf.float32)\n",
    "valid_x = tf.cast(valid_x / 255.0, tf.float32)\n",
    "test_x = tf.cast(test_x / 255.0, tf.float32)"
   ]
  },
  {
   "cell_type": "code",
   "execution_count": 27,
   "metadata": {},
   "outputs": [],
   "source": [
    "def model(x, w, b):\n",
    "    pred = tf.matmul(x, w) + b\n",
    "    return tf.nn.softmax(pred)"
   ]
  },
  {
   "cell_type": "code",
   "execution_count": 28,
   "metadata": {},
   "outputs": [],
   "source": [
    "W = tf.Variable(tf.random.normal([784, 10], mean=0.0, stddev=1.0, dtype=tf.float32))\n",
    "B = tf.Variable(tf.zeros([10]), name='B')"
   ]
  },
  {
   "cell_type": "code",
   "execution_count": 29,
   "metadata": {},
   "outputs": [],
   "source": [
    "def loss(x, y, w, b):\n",
    "    pred = model(x, w, b)\n",
    "    loss_ = tf.keras.losses.sparse_categorical_crossentropy(y_true=y, y_pred=pred)\n",
    "    return tf.reduce_mean(loss_)"
   ]
  },
  {
   "cell_type": "code",
   "execution_count": 30,
   "metadata": {},
   "outputs": [],
   "source": [
    "epochs = 40\n",
    "batch_size = 50\n",
    "learning_rate = 0.001"
   ]
  },
  {
   "cell_type": "code",
   "execution_count": 31,
   "metadata": {},
   "outputs": [],
   "source": [
    "def grad(x, y, w, b):\n",
    "    with tf.GradientTape() as tape:\n",
    "        loss_ = loss(x, y, w, b)\n",
    "    return tape.gradient(loss_, [w, b])"
   ]
  },
  {
   "cell_type": "code",
   "execution_count": 32,
   "metadata": {},
   "outputs": [],
   "source": [
    "optimizer = tf.keras.optimizers.Adam(learning_rate=learning_rate)"
   ]
  },
  {
   "cell_type": "code",
   "execution_count": 33,
   "metadata": {},
   "outputs": [],
   "source": [
    "def accuracy(x, y, w, b):\n",
    "    pred = model(x, w, b)\n",
    "    correct_prediction = tf.equal(tf.argmax(pred, 1), y)\n",
    "    return tf.reduce_mean(tf.cast(correct_prediction, tf.float32))"
   ]
  },
  {
   "cell_type": "code",
   "execution_count": 34,
   "metadata": {},
   "outputs": [
    {
     "name": "stdout",
     "output_type": "stream",
     "text": [
      "Epoch:  1 train_loss= 1.630926 train_acc=0.684563 val_loss= 1.520867 val_acc=0.700000\n",
      "Epoch:  2 train_loss= 1.012482 train_acc=0.790854 val_loss= 0.959439 val_acc=0.802167\n",
      "Epoch:  3 train_loss= 0.793968 train_acc=0.833063 val_loss= 0.764571 val_acc=0.839833\n",
      "Epoch:  4 train_loss= 0.678524 train_acc=0.853562 val_loss= 0.661618 val_acc=0.858167\n",
      "Epoch:  5 train_loss= 0.604963 train_acc=0.865708 val_loss= 0.595957 val_acc=0.870250\n",
      "Epoch:  6 train_loss= 0.553632 train_acc=0.875583 val_loss= 0.550357 val_acc=0.876667\n",
      "Epoch:  7 train_loss= 0.515726 train_acc=0.882583 val_loss= 0.516921 val_acc=0.882417\n",
      "Epoch:  8 train_loss= 0.486057 train_acc=0.887333 val_loss= 0.491046 val_acc=0.886333\n",
      "Epoch:  9 train_loss= 0.462157 train_acc=0.890958 val_loss= 0.470663 val_acc=0.889917\n",
      "Epoch: 10 train_loss= 0.442267 train_acc=0.893729 val_loss= 0.453869 val_acc=0.893250\n",
      "Epoch: 11 train_loss= 0.425563 train_acc=0.896375 val_loss= 0.439977 val_acc=0.895083\n",
      "Epoch: 12 train_loss= 0.411025 train_acc=0.899437 val_loss= 0.427945 val_acc=0.897250\n",
      "Epoch: 13 train_loss= 0.398382 train_acc=0.901667 val_loss= 0.417644 val_acc=0.899000\n",
      "Epoch: 14 train_loss= 0.387267 train_acc=0.903792 val_loss= 0.408653 val_acc=0.899750\n",
      "Epoch: 15 train_loss= 0.377387 train_acc=0.905229 val_loss= 0.400638 val_acc=0.901250\n",
      "Epoch: 16 train_loss= 0.368553 train_acc=0.907229 val_loss= 0.393522 val_acc=0.902583\n",
      "Epoch: 17 train_loss= 0.360529 train_acc=0.908813 val_loss= 0.387201 val_acc=0.902833\n",
      "Epoch: 18 train_loss= 0.353216 train_acc=0.910312 val_loss= 0.381401 val_acc=0.903583\n",
      "Epoch: 19 train_loss= 0.346536 train_acc=0.911604 val_loss= 0.376152 val_acc=0.904667\n",
      "Epoch: 20 train_loss= 0.340360 train_acc=0.912938 val_loss= 0.371333 val_acc=0.905667\n",
      "Epoch: 21 train_loss= 0.334666 train_acc=0.914521 val_loss= 0.367024 val_acc=0.905917\n",
      "Epoch: 22 train_loss= 0.329405 train_acc=0.915313 val_loss= 0.363046 val_acc=0.906167\n",
      "Epoch: 23 train_loss= 0.324505 train_acc=0.916396 val_loss= 0.359412 val_acc=0.907333\n",
      "Epoch: 24 train_loss= 0.319910 train_acc=0.917125 val_loss= 0.356028 val_acc=0.908083\n",
      "Epoch: 25 train_loss= 0.315597 train_acc=0.918187 val_loss= 0.352929 val_acc=0.909250\n",
      "Epoch: 26 train_loss= 0.311598 train_acc=0.918771 val_loss= 0.349997 val_acc=0.909833\n",
      "Epoch: 27 train_loss= 0.307848 train_acc=0.919583 val_loss= 0.347245 val_acc=0.910250\n",
      "Epoch: 28 train_loss= 0.304321 train_acc=0.920458 val_loss= 0.344667 val_acc=0.910833\n",
      "Epoch: 29 train_loss= 0.301005 train_acc=0.921229 val_loss= 0.342330 val_acc=0.911500\n",
      "Epoch: 30 train_loss= 0.297862 train_acc=0.921792 val_loss= 0.340088 val_acc=0.912083\n",
      "Epoch: 31 train_loss= 0.294898 train_acc=0.922333 val_loss= 0.337978 val_acc=0.912417\n",
      "Epoch: 32 train_loss= 0.292092 train_acc=0.922896 val_loss= 0.336003 val_acc=0.912667\n",
      "Epoch: 33 train_loss= 0.289436 train_acc=0.923396 val_loss= 0.334153 val_acc=0.912917\n",
      "Epoch: 34 train_loss= 0.286909 train_acc=0.924062 val_loss= 0.332400 val_acc=0.913500\n",
      "Epoch: 35 train_loss= 0.284467 train_acc=0.924646 val_loss= 0.330701 val_acc=0.914167\n",
      "Epoch: 36 train_loss= 0.282164 train_acc=0.925083 val_loss= 0.329103 val_acc=0.914583\n",
      "Epoch: 37 train_loss= 0.279960 train_acc=0.925812 val_loss= 0.327613 val_acc=0.915000\n",
      "Epoch: 38 train_loss= 0.277867 train_acc=0.926104 val_loss= 0.326200 val_acc=0.915333\n",
      "Epoch: 39 train_loss= 0.275865 train_acc=0.926375 val_loss= 0.324861 val_acc=0.915833\n",
      "Epoch: 40 train_loss= 0.273955 train_acc=0.926771 val_loss= 0.323592 val_acc=0.916000\n",
      "INFO:Train Finished!\n"
     ]
    }
   ],
   "source": [
    "total_step = int(train_num / batch_size)\n",
    "\n",
    "loss_list_train = []\n",
    "loss_list_valid = []\n",
    "acc_list_train = []\n",
    "acc_list_valid = []\n",
    "\n",
    "for epoch in range(epochs):\n",
    "    for step in range(total_step):\n",
    "        xs = train_x[step * batch_size:(step + 1) * batch_size]\n",
    "        ys = train_y[step * batch_size:(step + 1) * batch_size]\n",
    "        \n",
    "        grads = grad(xs, ys, W, B)\n",
    "        optimizer.apply_gradients(zip(grads, [W, B]))\n",
    "    loss_train = loss(train_x, train_y, W, B).numpy()\n",
    "    loss_valid = loss(valid_x, valid_y, W, B).numpy()\n",
    "    acc_train = accuracy(train_x, train_y, W, B).numpy()\n",
    "    acc_valid = accuracy(valid_x, valid_y, W, B).numpy()\n",
    "    loss_list_train.append(loss_train)\n",
    "    loss_list_valid.append(loss_valid)\n",
    "    acc_list_train.append(acc_train)\n",
    "    acc_list_valid.append(acc_valid)\n",
    "    print('Epoch: %2d' % (epoch + 1),\n",
    "          'train_loss= %6f' % loss_train,\n",
    "          'train_acc=%6f' % acc_train,\n",
    "          'val_loss= %6f' % loss_valid,\n",
    "          'val_acc=%4f' % acc_valid)\n",
    "print('INFO:Train Finished!')"
   ]
  },
  {
   "cell_type": "code",
   "execution_count": 35,
   "metadata": {},
   "outputs": [
    {
     "data": {
      "image/png": "[encoded data removed]",
      "text/plain": [
       "<Figure size 720x360 with 2 Axes>"
      ]
     },
     "metadata": {
      "needs_background": "light"
     },
     "output_type": "display_data"
    }
   ],
   "source": [
    "fig = plt.gcf()\n",
    "fig.set_size_inches(10, 5)\n",
    "ax1 = fig.add_subplot(111)\n",
    "ax1.set_title('Train and Validation Picture')\n",
    "ax1.set_ylabel('Loss value')\n",
    "line1, = ax1.plot(loss_list_train, color=(0.5, 0.5, 1.0), label='Loss train')\n",
    "line2, = ax1.plot(loss_list_valid, color=(0.5, 1.0, 0.5), label='Loss valid')\n",
    "ax2 = ax1.twinx()\n",
    "ax2.set_ylabel('Accuracy value')\n",
    "line3, = ax2.plot(acc_list_train, color=(0.5, 0.5, 0.5), label='Accuracy train')\n",
    "line4, = ax2.plot(acc_list_valid, color=(1, 0, 0), label='Accuracy valid')\n",
    "plt.legend(handles=(line1, line2, line3, line4), loc='best')\n",
    "plt.show()"
   ]
  }
 ],
 "metadata": {
  "kernelspec": {
   "display_name": "Python 3",
   "language": "python",
   "name": "python3"
  },
  "language_info": {
   "codemirror_mode": {
    "name": "ipython",
    "version": 3
   },
   "file_extension": ".py",
   "mimetype": "text/x-python",
   "name": "python",
   "nbconvert_exporter": "python",
   "pygments_lexer": "ipython3",
   "version": "3.6.2"
  }
 },
 "nbformat": 4,
 "nbformat_minor": 4
}
