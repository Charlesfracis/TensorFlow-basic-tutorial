{
 "cells": [
  {
   "cell_type": "markdown",
   "metadata": {},
   "source": [
    "### 导入必要的包"
   ]
  },
  {
   "cell_type": "code",
   "execution_count": 1,
   "metadata": {},
   "outputs": [
    {
     "data": {
      "text/plain": [
       "'2.0.0'"
      ]
     },
     "execution_count": 1,
     "metadata": {},
     "output_type": "execute_result"
    }
   ],
   "source": [
    "import tensorflow as tf\n",
    "import numpy as np\n",
    "import matplotlib.pyplot as plt\n",
    "\n",
    "\n",
    "tf.__version__"
   ]
  },
  {
   "cell_type": "markdown",
   "metadata": {},
   "source": [
    "## 多层神经网络"
   ]
  },
  {
   "cell_type": "markdown",
   "metadata": {},
   "source": [
    "### 数据预处理"
   ]
  },
  {
   "cell_type": "code",
   "execution_count": 2,
   "metadata": {},
   "outputs": [],
   "source": [
    "mnist = tf.keras.datasets.mnist\n",
    "(train_images, train_labels), (test_images, test_labels) = mnist.load_data()"
   ]
  },
  {
   "cell_type": "code",
   "execution_count": 3,
   "metadata": {},
   "outputs": [],
   "source": [
    "total_num = len(train_images)\n",
    "valid_split = 0.2\n",
    "train_num = int(total_num * (1 - valid_split))\n",
    "\n",
    "train_x = train_images[:train_num]\n",
    "train_y = train_labels[:train_num]\n",
    "\n",
    "valid_x = train_images[train_num:]\n",
    "valid_y = train_labels[train_num:]\n",
    "\n",
    "test_x = test_images\n",
    "test_y = test_labels"
   ]
  },
  {
   "cell_type": "code",
   "execution_count": 4,
   "metadata": {},
   "outputs": [],
   "source": [
    "train_x = train_x.reshape(-1, 784)\n",
    "valid_x = valid_x.reshape(-1, 784)\n",
    "test_x = test_x.reshape(-1, 784)"
   ]
  },
  {
   "cell_type": "code",
   "execution_count": 5,
   "metadata": {},
   "outputs": [],
   "source": [
    "train_x = tf.cast(train_x / 255.0, tf.float32)\n",
    "valid_x = tf.cast(valid_x / 255.0, tf.float32)\n",
    "test_x = tf.cast(test_x / 255.0, tf.float32)\n",
    "\n",
    "train_y = tf.one_hot(train_y, depth=10)\n",
    "valid_y = tf.one_hot(valid_y, depth=10)\n",
    "test_y = tf.one_hot(test_y, depth=10)"
   ]
  },
  {
   "cell_type": "markdown",
   "metadata": {},
   "source": [
    "### 创建变量"
   ]
  },
  {
   "cell_type": "code",
   "execution_count": 6,
   "metadata": {},
   "outputs": [],
   "source": [
    "Input_dim = 784\n",
    "H1_NN = 64\n",
    "W1 = tf.Variable(tf.random.normal([Input_dim, H1_NN], mean=0.0, stddev=1.0, dtype=tf.float32))\n",
    "B1 = tf.Variable(tf.zeros([H1_NN]), dtype=tf.float32)\n",
    "\n",
    "H2_NN = 32\n",
    "W2 = tf.Variable(tf.random.normal([H1_NN, H2_NN], mean=0.0, stddev=1.0, dtype=tf.float32))\n",
    "B2 = tf.Variable(tf.zeros([H2_NN]), dtype=tf.float32)\n",
    "\n",
    "H3_NN = 10\n",
    "W3 = tf.Variable(tf.random.normal([H2_NN, H3_NN], mean=0.0, stddev=1.0, dtype=tf.float32))\n",
    "B3 = tf.Variable(tf.zeros([10]), dtype=tf.float32)"
   ]
  },
  {
   "cell_type": "markdown",
   "metadata": {},
   "source": [
    "### 建立待优化列表"
   ]
  },
  {
   "cell_type": "code",
   "execution_count": 7,
   "metadata": {},
   "outputs": [],
   "source": [
    "W = [W1, W2, W3]\n",
    "B = [B1, B2, B3]"
   ]
  },
  {
   "cell_type": "markdown",
   "metadata": {},
   "source": [
    "### 模型建立"
   ]
  },
  {
   "cell_type": "code",
   "execution_count": 8,
   "metadata": {},
   "outputs": [],
   "source": [
    "def model(x, w, b):\n",
    "    x = tf.matmul(x, w[0] + b[0])\n",
    "    x = tf.nn.relu(x)\n",
    "    x = tf.matmul(x, w[1] + b[1])\n",
    "    x = tf.nn.relu(x)\n",
    "    x = tf.matmul(x, w[2] + b[2])\n",
    "    pred = tf.nn.softmax(x)\n",
    "    \n",
    "    return pred"
   ]
  },
  {
   "cell_type": "markdown",
   "metadata": {},
   "source": [
    "### 定义损失函数"
   ]
  },
  {
   "cell_type": "code",
   "execution_count": 9,
   "metadata": {},
   "outputs": [],
   "source": [
    "def loss(x, y, w, b):\n",
    "    pred = model(x, w, b)\n",
    "    loss_ = tf.keras.losses.categorical_crossentropy(y_true=y, y_pred=pred)\n",
    "    return tf.reduce_mean(loss_)"
   ]
  },
  {
   "cell_type": "markdown",
   "metadata": {},
   "source": [
    "### 定义梯度下降"
   ]
  },
  {
   "cell_type": "code",
   "execution_count": 10,
   "metadata": {},
   "outputs": [],
   "source": [
    "def grad(x, y, w, b):\n",
    "    var_list = w + b\n",
    "    with tf.GradientTape() as tape:\n",
    "        loss_ = loss(x, y, w, b)\n",
    "    return tape.gradient(loss_, var_list)"
   ]
  },
  {
   "cell_type": "markdown",
   "metadata": {},
   "source": [
    "### 设置训练参数"
   ]
  },
  {
   "cell_type": "code",
   "execution_count": 11,
   "metadata": {},
   "outputs": [],
   "source": [
    "epochs = 400\n",
    "batch_size = 50\n",
    "learning_rate = 0.001"
   ]
  },
  {
   "cell_type": "markdown",
   "metadata": {},
   "source": [
    "### 定义优化器"
   ]
  },
  {
   "cell_type": "code",
   "execution_count": 12,
   "metadata": {},
   "outputs": [],
   "source": [
    "optimizer = tf.keras.optimizers.Adam(learning_rate=learning_rate)"
   ]
  },
  {
   "cell_type": "markdown",
   "metadata": {},
   "source": [
    "### 定义准确率"
   ]
  },
  {
   "cell_type": "code",
   "execution_count": 13,
   "metadata": {},
   "outputs": [],
   "source": [
    "def accuracy(x, y, w, b):\n",
    "    pred = model(x, w, b)\n",
    "    correct_prediction = tf.equal(tf.argmax(pred, 1), tf.argmax(y, 1))\n",
    "    return tf.reduce_mean(tf.cast(correct_prediction, tf.float32))"
   ]
  },
  {
   "cell_type": "code",
   "execution_count": 14,
   "metadata": {},
   "outputs": [
    {
     "name": "stdout",
     "output_type": "stream",
     "text": [
      "Epoch: 001 train_loss= 6.804303 train_acc=0.567979 val_loss= 6.769920 val_acc=0.571167 learning_rate=0.001000\n",
      "Epoch: 002 train_loss= 6.126986 train_acc=0.613604 val_loss= 6.156003 val_acc=0.612000 learning_rate=0.001000\n",
      "Epoch: 003 train_loss= 5.868060 train_acc=0.631354 val_loss= 5.914011 val_acc=0.628167 learning_rate=0.001000\n",
      "Epoch: 004 train_loss= 5.616409 train_acc=0.647771 val_loss= 5.690442 val_acc=0.643167 learning_rate=0.001000\n",
      "Epoch: 005 train_loss= 5.471682 train_acc=0.657438 val_loss= 5.589630 val_acc=0.650333 learning_rate=0.001000\n",
      "Epoch: 006 train_loss= 5.386223 train_acc=0.662958 val_loss= 5.499886 val_acc=0.655667 learning_rate=0.001000\n",
      "Epoch: 007 train_loss= 5.385835 train_acc=0.663125 val_loss= 5.483840 val_acc=0.656917 learning_rate=0.001000\n",
      "Epoch: 008 train_loss= 5.325708 train_acc=0.667000 val_loss= 5.425380 val_acc=0.660833 learning_rate=0.001000\n",
      "Epoch: 009 train_loss= 5.300063 train_acc=0.668479 val_loss= 5.392279 val_acc=0.662667 learning_rate=0.001000\n",
      "Epoch: 010 train_loss= 5.262004 train_acc=0.670958 val_loss= 5.371496 val_acc=0.664667 learning_rate=0.001000\n",
      "Epoch: 011 train_loss= 5.205808 train_acc=0.674958 val_loss= 5.344408 val_acc=0.665833 learning_rate=0.001000\n",
      "Epoch: 012 train_loss= 5.174476 train_acc=0.676771 val_loss= 5.294835 val_acc=0.669417 learning_rate=0.000010\n",
      "Epoch: 013 train_loss= 5.211142 train_acc=0.674354 val_loss= 5.330318 val_acc=0.667083 learning_rate=0.000010\n",
      "Epoch: 014 train_loss= 4.398788 train_acc=0.722167 val_loss= 4.356411 val_acc=0.724583 learning_rate=0.000010\n",
      "Epoch: 015 train_loss= 3.968868 train_acc=0.750208 val_loss= 3.986893 val_acc=0.748833 learning_rate=0.000010\n",
      "Epoch: 016 train_loss= 3.942678 train_acc=0.752042 val_loss= 3.972094 val_acc=0.750333 learning_rate=0.000010\n",
      "Epoch: 017 train_loss= 3.801967 train_acc=0.761563 val_loss= 3.845471 val_acc=0.758333 learning_rate=0.000010\n",
      "Epoch: 018 train_loss= 3.767276 train_acc=0.764021 val_loss= 3.826609 val_acc=0.759417 learning_rate=0.000010\n",
      "Epoch: 019 train_loss= 3.758938 train_acc=0.764000 val_loss= 3.818812 val_acc=0.759667 learning_rate=0.000010\n",
      "Epoch: 020 train_loss= 3.683967 train_acc=0.768812 val_loss= 3.802323 val_acc=0.761833 learning_rate=0.000010\n",
      "Epoch: 021 train_loss= 3.745199 train_acc=0.765104 val_loss= 3.823833 val_acc=0.760500 learning_rate=0.000010\n",
      "Epoch: 022 train_loss= 3.719167 train_acc=0.766813 val_loss= 3.779675 val_acc=0.763000 learning_rate=0.000010\n",
      "Epoch: 023 train_loss= 3.643556 train_acc=0.771854 val_loss= 3.723931 val_acc=0.766667 learning_rate=0.000010\n",
      "Epoch: 024 train_loss= 3.683867 train_acc=0.768875 val_loss= 3.754764 val_acc=0.764083 learning_rate=0.000010\n",
      "Epoch: 025 train_loss= 3.656744 train_acc=0.770625 val_loss= 3.738592 val_acc=0.765167 learning_rate=0.000010\n",
      "Epoch: 026 train_loss= 3.601152 train_acc=0.774583 val_loss= 3.720742 val_acc=0.766917 learning_rate=0.000010\n",
      "Epoch: 027 train_loss= 3.695318 train_acc=0.768104 val_loss= 3.773988 val_acc=0.762500 learning_rate=0.000010\n",
      "Epoch: 028 train_loss= 3.630880 train_acc=0.772875 val_loss= 3.729767 val_acc=0.766250 learning_rate=0.000010\n",
      "Epoch: 029 train_loss= 3.608840 train_acc=0.773979 val_loss= 3.702606 val_acc=0.769083 learning_rate=0.000010\n",
      "Epoch: 030 train_loss= 3.673321 train_acc=0.769729 val_loss= 3.748163 val_acc=0.764750 learning_rate=0.000010\n",
      "Epoch: 031 train_loss= 3.642849 train_acc=0.771521 val_loss= 3.722964 val_acc=0.767000 learning_rate=0.000010\n",
      "Epoch: 032 train_loss= 3.565885 train_acc=0.776917 val_loss= 3.677301 val_acc=0.769750 learning_rate=0.000010\n",
      "Epoch: 033 train_loss= 3.555404 train_acc=0.777625 val_loss= 3.658931 val_acc=0.770750 learning_rate=0.000010\n",
      "Epoch: 034 train_loss= 3.542673 train_acc=0.778562 val_loss= 3.684965 val_acc=0.769417 learning_rate=0.000010\n",
      "Epoch: 035 train_loss= 3.558540 train_acc=0.777313 val_loss= 3.679928 val_acc=0.769417 learning_rate=0.000010\n",
      "Epoch: 036 train_loss= 3.533210 train_acc=0.778917 val_loss= 3.657704 val_acc=0.770500 learning_rate=0.000010\n",
      "Epoch: 037 train_loss= 3.520421 train_acc=0.779854 val_loss= 3.635019 val_acc=0.771500 learning_rate=0.000010\n",
      "Epoch: 038 train_loss= 3.581166 train_acc=0.775792 val_loss= 3.714655 val_acc=0.767500 learning_rate=0.000010\n",
      "Epoch: 039 train_loss= 3.597954 train_acc=0.774208 val_loss= 3.718507 val_acc=0.767083 learning_rate=0.000010\n",
      "Epoch: 040 train_loss= 3.494449 train_acc=0.781479 val_loss= 3.618307 val_acc=0.773250 learning_rate=0.000010\n",
      "Epoch: 041 train_loss= 3.497024 train_acc=0.781521 val_loss= 3.613382 val_acc=0.774500 learning_rate=0.000010\n",
      "Epoch: 042 train_loss= 3.509098 train_acc=0.780563 val_loss= 3.652433 val_acc=0.771500 learning_rate=0.000010\n",
      "Epoch: 043 train_loss= 3.499067 train_acc=0.781187 val_loss= 3.626470 val_acc=0.773000 learning_rate=0.000010\n",
      "Epoch: 044 train_loss= 3.547674 train_acc=0.777917 val_loss= 3.694612 val_acc=0.768833 learning_rate=0.000010\n",
      "Epoch: 045 train_loss= 3.496228 train_acc=0.780958 val_loss= 3.630846 val_acc=0.772667 learning_rate=0.000010\n",
      "Epoch: 046 train_loss= 3.448014 train_acc=0.784938 val_loss= 3.594911 val_acc=0.775000 learning_rate=0.000010\n",
      "Epoch: 047 train_loss= 3.478527 train_acc=0.782313 val_loss= 3.619423 val_acc=0.773167 learning_rate=0.000010\n",
      "Epoch: 048 train_loss= 3.515347 train_acc=0.780021 val_loss= 3.658287 val_acc=0.770000 learning_rate=0.000010\n",
      "Epoch: 049 train_loss= 3.573071 train_acc=0.775875 val_loss= 3.710952 val_acc=0.767167 learning_rate=0.000010\n",
      "Epoch: 050 train_loss= 3.436015 train_acc=0.785375 val_loss= 3.560670 val_acc=0.777583 learning_rate=0.000010\n",
      "Epoch: 051 train_loss= 3.579080 train_acc=0.775958 val_loss= 3.696443 val_acc=0.768417 learning_rate=0.000010\n",
      "Epoch: 052 train_loss= 3.451756 train_acc=0.784083 val_loss= 3.589770 val_acc=0.775667 learning_rate=0.000010\n",
      "Epoch: 053 train_loss= 3.468066 train_acc=0.783396 val_loss= 3.617251 val_acc=0.773667 learning_rate=0.000010\n",
      "Epoch: 054 train_loss= 3.435618 train_acc=0.785521 val_loss= 3.596755 val_acc=0.774667 learning_rate=0.000010\n",
      "Epoch: 055 train_loss= 3.455698 train_acc=0.783979 val_loss= 3.580027 val_acc=0.775917 learning_rate=0.000010\n",
      "Epoch: 056 train_loss= 3.438948 train_acc=0.785396 val_loss= 3.609964 val_acc=0.773917 learning_rate=0.000010\n",
      "Epoch: 057 train_loss= 3.437083 train_acc=0.785354 val_loss= 3.591304 val_acc=0.775750 learning_rate=0.000010\n",
      "Epoch: 058 train_loss= 3.420139 train_acc=0.786563 val_loss= 3.599755 val_acc=0.774750 learning_rate=0.000010\n",
      "Epoch: 059 train_loss= 3.424724 train_acc=0.786354 val_loss= 3.589199 val_acc=0.775500 learning_rate=0.000010\n",
      "Epoch: 060 train_loss= 3.406468 train_acc=0.787396 val_loss= 3.568643 val_acc=0.777083 learning_rate=0.000010\n",
      "Epoch: 061 train_loss= 3.396925 train_acc=0.788125 val_loss= 3.532745 val_acc=0.778333 learning_rate=0.000010\n",
      "Epoch: 062 train_loss= 3.386081 train_acc=0.788875 val_loss= 3.561688 val_acc=0.777167 learning_rate=0.000010\n",
      "Epoch: 063 train_loss= 3.433660 train_acc=0.785229 val_loss= 3.588280 val_acc=0.775917 learning_rate=0.000010\n",
      "Epoch: 064 train_loss= 3.425421 train_acc=0.786062 val_loss= 3.597118 val_acc=0.775083 learning_rate=0.000010\n",
      "Epoch: 065 train_loss= 3.489406 train_acc=0.781708 val_loss= 3.637810 val_acc=0.772250 learning_rate=0.000010\n",
      "Epoch: 066 train_loss= 3.520058 train_acc=0.779938 val_loss= 3.690211 val_acc=0.769333 learning_rate=0.000010\n",
      "Epoch: 067 train_loss= 3.359092 train_acc=0.790292 val_loss= 3.525424 val_acc=0.779000 learning_rate=0.000010\n",
      "Epoch: 068 train_loss= 3.367988 train_acc=0.789583 val_loss= 3.548304 val_acc=0.777250 learning_rate=0.000010\n",
      "Epoch: 069 train_loss= 3.431184 train_acc=0.785292 val_loss= 3.606511 val_acc=0.773917 learning_rate=0.000010\n",
      "Epoch: 070 train_loss= 3.220408 train_acc=0.796917 val_loss= 3.359719 val_acc=0.787333 learning_rate=0.000010\n",
      "Epoch: 071 train_loss= 2.777614 train_acc=0.824833 val_loss= 2.839846 val_acc=0.821583 learning_rate=0.000010\n",
      "Epoch: 072 train_loss= 2.623431 train_acc=0.834437 val_loss= 2.727173 val_acc=0.827250 learning_rate=0.000010\n",
      "Epoch: 073 train_loss= 2.462872 train_acc=0.844604 val_loss= 2.488339 val_acc=0.842333 learning_rate=0.000010\n",
      "Epoch: 074 train_loss= 2.355093 train_acc=0.851062 val_loss= 2.453793 val_acc=0.845167 learning_rate=0.000010\n",
      "Epoch: 075 train_loss= 2.253863 train_acc=0.857875 val_loss= 2.402135 val_acc=0.848417 learning_rate=0.000010\n"
     ]
    },
    {
     "name": "stdout",
     "output_type": "stream",
     "text": [
      "Epoch: 076 train_loss= 2.196177 train_acc=0.861792 val_loss= 2.347700 val_acc=0.852083 learning_rate=0.000010\n",
      "Epoch: 077 train_loss= 2.164433 train_acc=0.863729 val_loss= 2.332640 val_acc=0.852917 learning_rate=0.000010\n",
      "Epoch: 078 train_loss= 2.202991 train_acc=0.860875 val_loss= 2.363327 val_acc=0.851000 learning_rate=0.000010\n",
      "Epoch: 079 train_loss= 2.129464 train_acc=0.866271 val_loss= 2.295933 val_acc=0.854667 learning_rate=0.000010\n",
      "Epoch: 080 train_loss= 2.146953 train_acc=0.865000 val_loss= 2.291079 val_acc=0.855917 learning_rate=0.000010\n",
      "Epoch: 081 train_loss= 2.126771 train_acc=0.866083 val_loss= 2.283351 val_acc=0.855833 learning_rate=0.000010\n",
      "Epoch: 082 train_loss= 2.136980 train_acc=0.865250 val_loss= 2.319687 val_acc=0.854083 learning_rate=0.000010\n",
      "Epoch: 083 train_loss= 2.143199 train_acc=0.864917 val_loss= 2.308061 val_acc=0.853750 learning_rate=0.000010\n",
      "Epoch: 084 train_loss= 2.069162 train_acc=0.869854 val_loss= 2.250002 val_acc=0.858667 learning_rate=0.000010\n",
      "Epoch: 085 train_loss= 2.090518 train_acc=0.868292 val_loss= 2.282089 val_acc=0.856250 learning_rate=0.000010\n",
      "Epoch: 086 train_loss= 2.034985 train_acc=0.872271 val_loss= 2.218636 val_acc=0.860583 learning_rate=0.000010\n",
      "Epoch: 087 train_loss= 2.054224 train_acc=0.871167 val_loss= 2.236253 val_acc=0.859583 learning_rate=0.000010\n",
      "Epoch: 088 train_loss= 2.066941 train_acc=0.870271 val_loss= 2.268478 val_acc=0.857417 learning_rate=0.000010\n",
      "Epoch: 089 train_loss= 2.008475 train_acc=0.874271 val_loss= 2.182072 val_acc=0.862333 learning_rate=0.000010\n",
      "Epoch: 090 train_loss= 2.071436 train_acc=0.869917 val_loss= 2.223253 val_acc=0.859417 learning_rate=0.000010\n",
      "Epoch: 091 train_loss= 2.004797 train_acc=0.874271 val_loss= 2.196273 val_acc=0.862250 learning_rate=0.000010\n",
      "Epoch: 092 train_loss= 2.043557 train_acc=0.871687 val_loss= 2.245433 val_acc=0.858333 learning_rate=0.000010\n",
      "Epoch: 093 train_loss= 2.059977 train_acc=0.870333 val_loss= 2.258881 val_acc=0.857667 learning_rate=0.000010\n",
      "Epoch: 094 train_loss= 2.040788 train_acc=0.871979 val_loss= 2.264814 val_acc=0.857500 learning_rate=0.000010\n",
      "Epoch: 095 train_loss= 2.035669 train_acc=0.872146 val_loss= 2.220016 val_acc=0.860250 learning_rate=0.000010\n",
      "Epoch: 096 train_loss= 1.988173 train_acc=0.875396 val_loss= 2.228747 val_acc=0.860250 learning_rate=0.000010\n",
      "Epoch: 097 train_loss= 1.998142 train_acc=0.874708 val_loss= 2.213511 val_acc=0.861167 learning_rate=0.000010\n",
      "Epoch: 098 train_loss= 2.086575 train_acc=0.868458 val_loss= 2.295063 val_acc=0.855750 learning_rate=0.000010\n",
      "Epoch: 099 train_loss= 2.012052 train_acc=0.873792 val_loss= 2.236907 val_acc=0.859500 learning_rate=0.000010\n",
      "Epoch: 100 train_loss= 1.959861 train_acc=0.877125 val_loss= 2.179406 val_acc=0.862667 learning_rate=0.000010\n",
      "Epoch: 101 train_loss= 2.009826 train_acc=0.873729 val_loss= 2.232412 val_acc=0.859083 learning_rate=0.000010\n",
      "Epoch: 102 train_loss= 1.982808 train_acc=0.875896 val_loss= 2.206876 val_acc=0.861250 learning_rate=0.000010\n",
      "Epoch: 103 train_loss= 1.973415 train_acc=0.876167 val_loss= 2.192444 val_acc=0.862000 learning_rate=0.000010\n",
      "Epoch: 104 train_loss= 2.134845 train_acc=0.865146 val_loss= 2.330479 val_acc=0.853583 learning_rate=0.000010\n",
      "Epoch: 105 train_loss= 1.952998 train_acc=0.877708 val_loss= 2.197953 val_acc=0.861917 learning_rate=0.000010\n",
      "Epoch: 106 train_loss= 1.983508 train_acc=0.875396 val_loss= 2.184852 val_acc=0.862417 learning_rate=0.000010\n",
      "Epoch: 107 train_loss= 1.963539 train_acc=0.877167 val_loss= 2.193025 val_acc=0.862000 learning_rate=0.000010\n",
      "Epoch: 108 train_loss= 1.948718 train_acc=0.877854 val_loss= 2.189249 val_acc=0.862833 learning_rate=0.000010\n",
      "Epoch: 109 train_loss= 2.218654 train_acc=0.860313 val_loss= 2.364217 val_acc=0.850917 learning_rate=0.000010\n",
      "Epoch: 110 train_loss= 1.940154 train_acc=0.878479 val_loss= 2.176292 val_acc=0.863417 learning_rate=0.000010\n",
      "Epoch: 111 train_loss= 1.980272 train_acc=0.875729 val_loss= 2.209908 val_acc=0.860667 learning_rate=0.000010\n",
      "Epoch: 112 train_loss= 1.932046 train_acc=0.879000 val_loss= 2.171918 val_acc=0.863667 learning_rate=0.000010\n",
      "Epoch: 113 train_loss= 2.002886 train_acc=0.874208 val_loss= 2.248839 val_acc=0.857667 learning_rate=0.000010\n",
      "Epoch: 114 train_loss= 1.953606 train_acc=0.877792 val_loss= 2.180321 val_acc=0.863000 learning_rate=0.000010\n",
      "Epoch: 115 train_loss= 1.972578 train_acc=0.876500 val_loss= 2.225454 val_acc=0.859917 learning_rate=0.000010\n",
      "Epoch: 116 train_loss= 1.953619 train_acc=0.877563 val_loss= 2.199050 val_acc=0.861250 learning_rate=0.000010\n",
      "Epoch: 117 train_loss= 1.926451 train_acc=0.879375 val_loss= 2.163543 val_acc=0.864500 learning_rate=0.000010\n",
      "Epoch: 118 train_loss= 1.951674 train_acc=0.877792 val_loss= 2.245642 val_acc=0.859000 learning_rate=0.000010\n",
      "Epoch: 119 train_loss= 1.961235 train_acc=0.877208 val_loss= 2.180363 val_acc=0.863083 learning_rate=0.000010\n",
      "Epoch: 120 train_loss= 1.921429 train_acc=0.879708 val_loss= 2.174500 val_acc=0.862917 learning_rate=0.000010\n",
      "Epoch: 121 train_loss= 1.936048 train_acc=0.878833 val_loss= 2.215192 val_acc=0.861083 learning_rate=0.000010\n",
      "Epoch: 122 train_loss= 1.932572 train_acc=0.878958 val_loss= 2.171032 val_acc=0.863250 learning_rate=0.000010\n",
      "Epoch: 123 train_loss= 1.899196 train_acc=0.881417 val_loss= 2.131464 val_acc=0.866333 learning_rate=0.000010\n",
      "Epoch: 124 train_loss= 1.916070 train_acc=0.880104 val_loss= 2.173966 val_acc=0.863333 learning_rate=0.000010\n",
      "Epoch: 125 train_loss= 1.911438 train_acc=0.880396 val_loss= 2.161965 val_acc=0.863833 learning_rate=0.000010\n",
      "Epoch: 126 train_loss= 1.894233 train_acc=0.881521 val_loss= 2.152601 val_acc=0.865000 learning_rate=0.000010\n",
      "Epoch: 127 train_loss= 1.960215 train_acc=0.877375 val_loss= 2.198907 val_acc=0.862333 learning_rate=0.000010\n",
      "Epoch: 128 train_loss= 1.904389 train_acc=0.880875 val_loss= 2.129144 val_acc=0.866417 learning_rate=0.000010\n",
      "Epoch: 129 train_loss= 1.950945 train_acc=0.877937 val_loss= 2.200555 val_acc=0.861583 learning_rate=0.000010\n",
      "Epoch: 130 train_loss= 1.988560 train_acc=0.874937 val_loss= 2.215451 val_acc=0.860833 learning_rate=0.000010\n",
      "Epoch: 131 train_loss= 1.957437 train_acc=0.877563 val_loss= 2.216185 val_acc=0.861000 learning_rate=0.000010\n",
      "Epoch: 132 train_loss= 1.928881 train_acc=0.879042 val_loss= 2.185910 val_acc=0.862167 learning_rate=0.000010\n",
      "Epoch: 133 train_loss= 1.929953 train_acc=0.879271 val_loss= 2.151339 val_acc=0.864667 learning_rate=0.000010\n",
      "Epoch: 134 train_loss= 1.888508 train_acc=0.881708 val_loss= 2.117954 val_acc=0.867167 learning_rate=0.000010\n",
      "Epoch: 135 train_loss= 1.899504 train_acc=0.881125 val_loss= 2.156377 val_acc=0.864833 learning_rate=0.000010\n",
      "Epoch: 136 train_loss= 1.929173 train_acc=0.879208 val_loss= 2.178201 val_acc=0.862000 learning_rate=0.000010\n",
      "Epoch: 137 train_loss= 1.920729 train_acc=0.879604 val_loss= 2.185100 val_acc=0.862833 learning_rate=0.000010\n",
      "Epoch: 138 train_loss= 1.901479 train_acc=0.880958 val_loss= 2.157421 val_acc=0.864083 learning_rate=0.000010\n",
      "Epoch: 139 train_loss= 1.971395 train_acc=0.876188 val_loss= 2.186183 val_acc=0.862750 learning_rate=0.000010\n",
      "Epoch: 140 train_loss= 1.896894 train_acc=0.881500 val_loss= 2.159319 val_acc=0.864500 learning_rate=0.000010\n",
      "Epoch: 141 train_loss= 1.873972 train_acc=0.882688 val_loss= 2.133009 val_acc=0.866250 learning_rate=0.000010\n",
      "Epoch: 142 train_loss= 1.066076 train_acc=0.930250 val_loss= 1.258622 val_acc=0.917250 learning_rate=0.000010\n",
      "Epoch: 143 train_loss= 0.950832 train_acc=0.938167 val_loss= 1.188107 val_acc=0.923000 learning_rate=0.000010\n",
      "Epoch: 144 train_loss= 0.734176 train_acc=0.952187 val_loss= 0.979236 val_acc=0.936500 learning_rate=0.000010\n",
      "Epoch: 145 train_loss= 0.628360 train_acc=0.958708 val_loss= 0.842698 val_acc=0.944417 learning_rate=0.000010\n",
      "Epoch: 146 train_loss= 0.630941 train_acc=0.958812 val_loss= 0.876538 val_acc=0.943667 learning_rate=0.000010\n",
      "Epoch: 147 train_loss= 0.597804 train_acc=0.960917 val_loss= 0.799146 val_acc=0.947917 learning_rate=0.000010\n",
      "Epoch: 148 train_loss= 0.544559 train_acc=0.964167 val_loss= 0.761646 val_acc=0.949417 learning_rate=0.000010\n",
      "Epoch: 149 train_loss= 0.536718 train_acc=0.965062 val_loss= 0.758190 val_acc=0.951167 learning_rate=0.000010\n",
      "Epoch: 150 train_loss= 0.497947 train_acc=0.967188 val_loss= 0.738692 val_acc=0.950667 learning_rate=0.000010\n"
     ]
    },
    {
     "name": "stdout",
     "output_type": "stream",
     "text": [
      "Epoch: 151 train_loss= 0.540667 train_acc=0.964354 val_loss= 0.772018 val_acc=0.949583 learning_rate=0.000010\n",
      "Epoch: 152 train_loss= 0.474870 train_acc=0.969042 val_loss= 0.737585 val_acc=0.952083 learning_rate=0.000010\n",
      "Epoch: 153 train_loss= 0.453052 train_acc=0.970333 val_loss= 0.704540 val_acc=0.954500 learning_rate=0.000010\n",
      "Epoch: 154 train_loss= 0.510229 train_acc=0.966438 val_loss= 0.730274 val_acc=0.952333 learning_rate=0.000010\n",
      "Epoch: 155 train_loss= 0.468518 train_acc=0.969354 val_loss= 0.710935 val_acc=0.953417 learning_rate=0.000010\n",
      "Epoch: 156 train_loss= 0.473141 train_acc=0.968979 val_loss= 0.737285 val_acc=0.952250 learning_rate=0.000010\n",
      "Epoch: 157 train_loss= 0.453784 train_acc=0.970104 val_loss= 0.697997 val_acc=0.954250 learning_rate=0.000010\n",
      "Epoch: 158 train_loss= 0.417418 train_acc=0.972396 val_loss= 0.657825 val_acc=0.956667 learning_rate=0.000010\n",
      "Epoch: 159 train_loss= 0.566127 train_acc=0.962604 val_loss= 0.772407 val_acc=0.949000 learning_rate=0.000010\n",
      "Epoch: 160 train_loss= 0.396635 train_acc=0.973771 val_loss= 0.644695 val_acc=0.957583 learning_rate=0.000010\n",
      "Epoch: 161 train_loss= 0.404460 train_acc=0.973500 val_loss= 0.663413 val_acc=0.956583 learning_rate=0.000010\n",
      "Epoch: 162 train_loss= 0.440728 train_acc=0.971083 val_loss= 0.656985 val_acc=0.956667 learning_rate=0.000010\n",
      "Epoch: 163 train_loss= 0.412767 train_acc=0.972958 val_loss= 0.638561 val_acc=0.958667 learning_rate=0.000010\n",
      "Epoch: 164 train_loss= 0.435667 train_acc=0.971271 val_loss= 0.631354 val_acc=0.957917 learning_rate=0.000010\n",
      "Epoch: 165 train_loss= 0.397392 train_acc=0.973958 val_loss= 0.616911 val_acc=0.960083 learning_rate=0.000010\n",
      "Epoch: 166 train_loss= 0.406783 train_acc=0.973063 val_loss= 0.640181 val_acc=0.958333 learning_rate=0.000010\n",
      "Epoch: 167 train_loss= 0.459668 train_acc=0.969750 val_loss= 0.708327 val_acc=0.953833 learning_rate=0.000010\n",
      "Epoch: 168 train_loss= 0.464925 train_acc=0.969229 val_loss= 0.673055 val_acc=0.955917 learning_rate=0.000010\n",
      "Epoch: 169 train_loss= 0.434941 train_acc=0.970937 val_loss= 0.660127 val_acc=0.956083 learning_rate=0.000010\n",
      "Epoch: 170 train_loss= 0.369749 train_acc=0.975729 val_loss= 0.619552 val_acc=0.959417 learning_rate=0.000010\n",
      "Epoch: 171 train_loss= 0.344347 train_acc=0.977542 val_loss= 0.602698 val_acc=0.960250 learning_rate=0.000010\n",
      "Epoch: 172 train_loss= 0.354386 train_acc=0.976604 val_loss= 0.587885 val_acc=0.961417 learning_rate=0.000010\n",
      "Epoch: 173 train_loss= 0.358589 train_acc=0.976583 val_loss= 0.594793 val_acc=0.960917 learning_rate=0.000010\n",
      "Epoch: 174 train_loss= 0.358335 train_acc=0.976313 val_loss= 0.611772 val_acc=0.959583 learning_rate=0.000010\n",
      "Epoch: 175 train_loss= 0.370192 train_acc=0.975854 val_loss= 0.627701 val_acc=0.959000 learning_rate=0.000010\n",
      "Epoch: 176 train_loss= 0.379754 train_acc=0.974937 val_loss= 0.625489 val_acc=0.959000 learning_rate=0.000010\n",
      "Epoch: 177 train_loss= 0.345778 train_acc=0.977208 val_loss= 0.614283 val_acc=0.959917 learning_rate=0.000010\n",
      "Epoch: 178 train_loss= 0.462285 train_acc=0.969562 val_loss= 0.737520 val_acc=0.951667 learning_rate=0.000010\n",
      "Epoch: 179 train_loss= 0.369071 train_acc=0.975563 val_loss= 0.609355 val_acc=0.959500 learning_rate=0.000010\n",
      "Epoch: 180 train_loss= 0.413659 train_acc=0.972792 val_loss= 0.678425 val_acc=0.956250 learning_rate=0.000010\n",
      "Epoch: 181 train_loss= 0.353442 train_acc=0.976667 val_loss= 0.595790 val_acc=0.961667 learning_rate=0.000010\n",
      "Epoch: 182 train_loss= 0.395883 train_acc=0.974042 val_loss= 0.612804 val_acc=0.959917 learning_rate=0.000010\n",
      "Epoch: 183 train_loss= 0.337831 train_acc=0.977667 val_loss= 0.630721 val_acc=0.959083 learning_rate=0.000010\n",
      "Epoch: 184 train_loss= 0.315535 train_acc=0.979563 val_loss= 0.595300 val_acc=0.960917 learning_rate=0.000010\n",
      "Epoch: 185 train_loss= 0.344707 train_acc=0.977333 val_loss= 0.614840 val_acc=0.959667 learning_rate=0.000010\n",
      "Epoch: 186 train_loss= 0.310516 train_acc=0.979771 val_loss= 0.595553 val_acc=0.961250 learning_rate=0.000010\n",
      "Epoch: 187 train_loss= 0.321065 train_acc=0.979062 val_loss= 0.547427 val_acc=0.964083 learning_rate=0.000010\n",
      "Epoch: 188 train_loss= 0.321240 train_acc=0.979000 val_loss= 0.596803 val_acc=0.961000 learning_rate=0.000010\n",
      "Epoch: 189 train_loss= 0.346277 train_acc=0.976958 val_loss= 0.610757 val_acc=0.959917 learning_rate=0.000010\n",
      "Epoch: 190 train_loss= 0.352244 train_acc=0.976792 val_loss= 0.602610 val_acc=0.960417 learning_rate=0.000010\n",
      "Epoch: 191 train_loss= 0.351021 train_acc=0.977167 val_loss= 0.589401 val_acc=0.961083 learning_rate=0.000010\n",
      "Epoch: 192 train_loss= 0.299753 train_acc=0.980333 val_loss= 0.587182 val_acc=0.961750 learning_rate=0.000010\n",
      "Epoch: 193 train_loss= 0.320978 train_acc=0.978896 val_loss= 0.616899 val_acc=0.959667 learning_rate=0.000010\n",
      "Epoch: 194 train_loss= 0.339354 train_acc=0.977896 val_loss= 0.611373 val_acc=0.959750 learning_rate=0.000010\n",
      "Epoch: 195 train_loss= 0.420886 train_acc=0.972208 val_loss= 0.649384 val_acc=0.957000 learning_rate=0.000010\n",
      "Epoch: 196 train_loss= 0.368528 train_acc=0.975312 val_loss= 0.653081 val_acc=0.957583 learning_rate=0.000010\n",
      "Epoch: 197 train_loss= 0.366458 train_acc=0.975750 val_loss= 0.646452 val_acc=0.957750 learning_rate=0.000010\n",
      "Epoch: 198 train_loss= 0.352535 train_acc=0.976667 val_loss= 0.649475 val_acc=0.957250 learning_rate=0.000010\n",
      "Epoch: 199 train_loss= 0.454380 train_acc=0.969875 val_loss= 0.748251 val_acc=0.951167 learning_rate=0.000010\n",
      "Epoch: 200 train_loss= 0.275134 train_acc=0.982167 val_loss= 0.558923 val_acc=0.963667 learning_rate=0.000010\n",
      "Epoch: 201 train_loss= 0.306208 train_acc=0.979792 val_loss= 0.587096 val_acc=0.961750 learning_rate=0.000010\n",
      "Epoch: 202 train_loss= 0.343358 train_acc=0.977542 val_loss= 0.617073 val_acc=0.959750 learning_rate=0.000010\n",
      "Epoch: 203 train_loss= 0.319020 train_acc=0.979146 val_loss= 0.606593 val_acc=0.960583 learning_rate=0.000010\n",
      "Epoch: 204 train_loss= 0.315188 train_acc=0.979396 val_loss= 0.578031 val_acc=0.961917 learning_rate=0.000010\n",
      "Epoch: 205 train_loss= 0.280702 train_acc=0.981625 val_loss= 0.565171 val_acc=0.963083 learning_rate=0.000010\n",
      "Epoch: 206 train_loss= 0.283392 train_acc=0.981333 val_loss= 0.583738 val_acc=0.962000 learning_rate=0.000010\n",
      "Epoch: 207 train_loss= 0.279737 train_acc=0.981833 val_loss= 0.517821 val_acc=0.966000 learning_rate=0.000010\n",
      "Epoch: 208 train_loss= 0.304012 train_acc=0.980167 val_loss= 0.564976 val_acc=0.963333 learning_rate=0.000010\n",
      "Epoch: 209 train_loss= 0.282954 train_acc=0.981646 val_loss= 0.557401 val_acc=0.963500 learning_rate=0.000010\n",
      "Epoch: 210 train_loss= 0.323952 train_acc=0.978458 val_loss= 0.627194 val_acc=0.958917 learning_rate=0.000010\n",
      "Epoch: 211 train_loss= 0.273658 train_acc=0.982167 val_loss= 0.530728 val_acc=0.965333 learning_rate=0.000010\n",
      "Epoch: 212 train_loss= 0.258419 train_acc=0.983167 val_loss= 0.534828 val_acc=0.965167 learning_rate=0.000010\n",
      "Epoch: 213 train_loss= 0.293579 train_acc=0.980687 val_loss= 0.564353 val_acc=0.962833 learning_rate=0.000010\n",
      "Epoch: 214 train_loss= 0.265230 train_acc=0.982813 val_loss= 0.550980 val_acc=0.964250 learning_rate=0.000010\n",
      "Epoch: 215 train_loss= 0.313901 train_acc=0.979396 val_loss= 0.599111 val_acc=0.960417 learning_rate=0.000010\n",
      "Epoch: 216 train_loss= 0.367481 train_acc=0.975646 val_loss= 0.650411 val_acc=0.956917 learning_rate=0.000010\n",
      "Epoch: 217 train_loss= 0.269264 train_acc=0.982458 val_loss= 0.560677 val_acc=0.963000 learning_rate=0.000010\n",
      "Epoch: 218 train_loss= 0.308706 train_acc=0.979646 val_loss= 0.584911 val_acc=0.961500 learning_rate=0.000010\n",
      "Epoch: 219 train_loss= 0.258975 train_acc=0.983479 val_loss= 0.585443 val_acc=0.961750 learning_rate=0.000010\n",
      "Epoch: 220 train_loss= 0.274373 train_acc=0.982104 val_loss= 0.590233 val_acc=0.961167 learning_rate=0.000010\n",
      "Epoch: 221 train_loss= 0.295125 train_acc=0.980896 val_loss= 0.559619 val_acc=0.963500 learning_rate=0.000010\n",
      "Epoch: 222 train_loss= 0.300528 train_acc=0.980208 val_loss= 0.591760 val_acc=0.961083 learning_rate=0.000010\n",
      "Epoch: 223 train_loss= 0.244669 train_acc=0.984167 val_loss= 0.547471 val_acc=0.964333 learning_rate=0.000010\n",
      "Epoch: 224 train_loss= 0.316872 train_acc=0.978562 val_loss= 0.602041 val_acc=0.960417 learning_rate=0.000010\n",
      "Epoch: 225 train_loss= 0.325145 train_acc=0.978229 val_loss= 0.605187 val_acc=0.960583 learning_rate=0.000010\n"
     ]
    },
    {
     "name": "stdout",
     "output_type": "stream",
     "text": [
      "Epoch: 226 train_loss= 0.275468 train_acc=0.982063 val_loss= 0.573077 val_acc=0.962917 learning_rate=0.000010\n",
      "Epoch: 227 train_loss= 0.295115 train_acc=0.980542 val_loss= 0.569155 val_acc=0.963083 learning_rate=0.000010\n",
      "Epoch: 228 train_loss= 0.282192 train_acc=0.981604 val_loss= 0.604206 val_acc=0.960417 learning_rate=0.000010\n",
      "Epoch: 229 train_loss= 0.243793 train_acc=0.984271 val_loss= 0.548016 val_acc=0.964000 learning_rate=0.000010\n",
      "Epoch: 230 train_loss= 0.246808 train_acc=0.983979 val_loss= 0.563213 val_acc=0.963500 learning_rate=0.000010\n",
      "Epoch: 231 train_loss= 0.234726 train_acc=0.984542 val_loss= 0.550772 val_acc=0.964083 learning_rate=0.000010\n",
      "Epoch: 232 train_loss= 0.256063 train_acc=0.983229 val_loss= 0.548403 val_acc=0.964583 learning_rate=0.000010\n",
      "Epoch: 233 train_loss= 0.269243 train_acc=0.982125 val_loss= 0.586497 val_acc=0.961750 learning_rate=0.000010\n",
      "Epoch: 234 train_loss= 0.263041 train_acc=0.982562 val_loss= 0.541277 val_acc=0.964750 learning_rate=0.000010\n",
      "Epoch: 235 train_loss= 0.306879 train_acc=0.979479 val_loss= 0.632619 val_acc=0.958833 learning_rate=0.000010\n",
      "Epoch: 236 train_loss= 0.301400 train_acc=0.980271 val_loss= 0.630814 val_acc=0.959333 learning_rate=0.000010\n",
      "Epoch: 237 train_loss= 0.278830 train_acc=0.981687 val_loss= 0.596534 val_acc=0.960917 learning_rate=0.000010\n",
      "Epoch: 238 train_loss= 0.263168 train_acc=0.982917 val_loss= 0.562992 val_acc=0.963167 learning_rate=0.000010\n",
      "Epoch: 239 train_loss= 0.252241 train_acc=0.983375 val_loss= 0.563399 val_acc=0.963583 learning_rate=0.000010\n",
      "Epoch: 240 train_loss= 0.271835 train_acc=0.982083 val_loss= 0.544244 val_acc=0.964583 learning_rate=0.000010\n",
      "Epoch: 241 train_loss= 0.256732 train_acc=0.983083 val_loss= 0.552885 val_acc=0.964333 learning_rate=0.000010\n",
      "Epoch: 242 train_loss= 0.253593 train_acc=0.983437 val_loss= 0.560685 val_acc=0.963750 learning_rate=0.000010\n",
      "Epoch: 243 train_loss= 0.274311 train_acc=0.982250 val_loss= 0.565501 val_acc=0.962917 learning_rate=0.000010\n",
      "Epoch: 244 train_loss= 0.245750 train_acc=0.983958 val_loss= 0.541775 val_acc=0.964583 learning_rate=0.000010\n",
      "Epoch: 245 train_loss= 0.248995 train_acc=0.983354 val_loss= 0.550598 val_acc=0.963833 learning_rate=0.000010\n",
      "Epoch: 246 train_loss= 0.254157 train_acc=0.983479 val_loss= 0.564648 val_acc=0.963083 learning_rate=0.000010\n",
      "Epoch: 247 train_loss= 0.268863 train_acc=0.982313 val_loss= 0.559856 val_acc=0.963417 learning_rate=0.000010\n",
      "Epoch: 248 train_loss= 0.239159 train_acc=0.984646 val_loss= 0.577009 val_acc=0.962583 learning_rate=0.000010\n",
      "Epoch: 249 train_loss= 0.214627 train_acc=0.986250 val_loss= 0.540952 val_acc=0.964333 learning_rate=0.000010\n",
      "Epoch: 250 train_loss= 0.249198 train_acc=0.983583 val_loss= 0.550039 val_acc=0.964333 learning_rate=0.000010\n",
      "Epoch: 251 train_loss= 0.242074 train_acc=0.984125 val_loss= 0.579179 val_acc=0.963083 learning_rate=0.000010\n",
      "Epoch: 252 train_loss= 0.233830 train_acc=0.984979 val_loss= 0.554142 val_acc=0.964250 learning_rate=0.000010\n",
      "Epoch: 253 train_loss= 0.232506 train_acc=0.984729 val_loss= 0.536651 val_acc=0.965500 learning_rate=0.000010\n",
      "Epoch: 254 train_loss= 0.242427 train_acc=0.983938 val_loss= 0.567958 val_acc=0.963083 learning_rate=0.000010\n",
      "Epoch: 255 train_loss= 0.227348 train_acc=0.985208 val_loss= 0.523096 val_acc=0.966167 learning_rate=0.000010\n",
      "Epoch: 256 train_loss= 0.268411 train_acc=0.982333 val_loss= 0.571510 val_acc=0.962750 learning_rate=0.000010\n",
      "Epoch: 257 train_loss= 0.242584 train_acc=0.984250 val_loss= 0.579948 val_acc=0.962333 learning_rate=0.000010\n",
      "Epoch: 258 train_loss= 0.237147 train_acc=0.984521 val_loss= 0.542700 val_acc=0.965000 learning_rate=0.000010\n",
      "Epoch: 259 train_loss= 0.235303 train_acc=0.984688 val_loss= 0.518028 val_acc=0.966250 learning_rate=0.000010\n",
      "Epoch: 260 train_loss= 0.224324 train_acc=0.985146 val_loss= 0.523571 val_acc=0.965583 learning_rate=0.000010\n",
      "Epoch: 261 train_loss= 0.232515 train_acc=0.984896 val_loss= 0.540758 val_acc=0.964583 learning_rate=0.000010\n",
      "Epoch: 262 train_loss= 0.235283 train_acc=0.984729 val_loss= 0.538850 val_acc=0.965083 learning_rate=0.000010\n",
      "Epoch: 263 train_loss= 0.219630 train_acc=0.985667 val_loss= 0.520687 val_acc=0.965833 learning_rate=0.000010\n",
      "Epoch: 264 train_loss= 0.222469 train_acc=0.985521 val_loss= 0.526455 val_acc=0.966000 learning_rate=0.000010\n",
      "Epoch: 265 train_loss= 0.238846 train_acc=0.984417 val_loss= 0.538833 val_acc=0.964917 learning_rate=0.000010\n",
      "Epoch: 266 train_loss= 0.234854 train_acc=0.984729 val_loss= 0.522278 val_acc=0.966083 learning_rate=0.000010\n",
      "Epoch: 267 train_loss= 0.212436 train_acc=0.986271 val_loss= 0.508454 val_acc=0.966917 learning_rate=0.000010\n",
      "Epoch: 268 train_loss= 0.204703 train_acc=0.986667 val_loss= 0.488552 val_acc=0.967750 learning_rate=0.000010\n",
      "Epoch: 269 train_loss= 0.247831 train_acc=0.983688 val_loss= 0.551364 val_acc=0.963833 learning_rate=0.000010\n",
      "Epoch: 270 train_loss= 0.213095 train_acc=0.986188 val_loss= 0.506538 val_acc=0.967083 learning_rate=0.000010\n",
      "Epoch: 271 train_loss= 0.230458 train_acc=0.985125 val_loss= 0.557915 val_acc=0.963833 learning_rate=0.000010\n",
      "Epoch: 272 train_loss= 0.256086 train_acc=0.983417 val_loss= 0.575635 val_acc=0.962750 learning_rate=0.000010\n",
      "Epoch: 273 train_loss= 0.228078 train_acc=0.985187 val_loss= 0.559769 val_acc=0.964000 learning_rate=0.000010\n",
      "Epoch: 274 train_loss= 0.372271 train_acc=0.975708 val_loss= 0.679679 val_acc=0.955917 learning_rate=0.000010\n",
      "Epoch: 275 train_loss= 0.223897 train_acc=0.985396 val_loss= 0.523781 val_acc=0.966000 learning_rate=0.000010\n",
      "Epoch: 276 train_loss= 0.239287 train_acc=0.984354 val_loss= 0.509641 val_acc=0.967000 learning_rate=0.000010\n",
      "Epoch: 277 train_loss= 0.257415 train_acc=0.983146 val_loss= 0.572711 val_acc=0.962417 learning_rate=0.000010\n",
      "Epoch: 278 train_loss= 0.205581 train_acc=0.986750 val_loss= 0.511423 val_acc=0.966667 learning_rate=0.000010\n",
      "Epoch: 279 train_loss= 0.218158 train_acc=0.985500 val_loss= 0.516188 val_acc=0.966333 learning_rate=0.000010\n",
      "Epoch: 280 train_loss= 0.226327 train_acc=0.985271 val_loss= 0.524814 val_acc=0.965833 learning_rate=0.000010\n",
      "Epoch: 281 train_loss= 0.207046 train_acc=0.986583 val_loss= 0.515409 val_acc=0.966417 learning_rate=0.000010\n",
      "Epoch: 282 train_loss= 0.221205 train_acc=0.985438 val_loss= 0.547321 val_acc=0.963833 learning_rate=0.000010\n",
      "Epoch: 283 train_loss= 0.262050 train_acc=0.982646 val_loss= 0.581024 val_acc=0.962750 learning_rate=0.000010\n",
      "Epoch: 284 train_loss= 0.216047 train_acc=0.985917 val_loss= 0.517372 val_acc=0.966167 learning_rate=0.000010\n",
      "Epoch: 285 train_loss= 0.230052 train_acc=0.984896 val_loss= 0.514175 val_acc=0.966333 learning_rate=0.000010\n",
      "Epoch: 286 train_loss= 0.212140 train_acc=0.986229 val_loss= 0.507572 val_acc=0.966833 learning_rate=0.000010\n",
      "Epoch: 287 train_loss= 0.267446 train_acc=0.982229 val_loss= 0.554870 val_acc=0.963667 learning_rate=0.000010\n",
      "Epoch: 288 train_loss= 0.216265 train_acc=0.985958 val_loss= 0.522548 val_acc=0.966750 learning_rate=0.000010\n",
      "Epoch: 289 train_loss= 0.193337 train_acc=0.987521 val_loss= 0.489726 val_acc=0.968250 learning_rate=0.000010\n",
      "Epoch: 290 train_loss= 0.235988 train_acc=0.984688 val_loss= 0.526604 val_acc=0.965083 learning_rate=0.000010\n",
      "Epoch: 291 train_loss= 0.211354 train_acc=0.986313 val_loss= 0.501191 val_acc=0.967250 learning_rate=0.000010\n",
      "Epoch: 292 train_loss= 0.208977 train_acc=0.986417 val_loss= 0.522665 val_acc=0.966333 learning_rate=0.000010\n",
      "Epoch: 293 train_loss= 0.223495 train_acc=0.985521 val_loss= 0.553066 val_acc=0.964167 learning_rate=0.000010\n",
      "Epoch: 294 train_loss= 0.211194 train_acc=0.986354 val_loss= 0.530210 val_acc=0.965917 learning_rate=0.000010\n",
      "Epoch: 295 train_loss= 0.231263 train_acc=0.984896 val_loss= 0.549666 val_acc=0.964333 learning_rate=0.000010\n",
      "Epoch: 296 train_loss= 0.273590 train_acc=0.981875 val_loss= 0.582476 val_acc=0.962250 learning_rate=0.000010\n",
      "Epoch: 297 train_loss= 0.238239 train_acc=0.984417 val_loss= 0.556253 val_acc=0.963833 learning_rate=0.000010\n",
      "Epoch: 298 train_loss= 0.247917 train_acc=0.983750 val_loss= 0.553170 val_acc=0.964500 learning_rate=0.000010\n",
      "Epoch: 299 train_loss= 0.220901 train_acc=0.985479 val_loss= 0.541777 val_acc=0.965167 learning_rate=0.000010\n",
      "Epoch: 300 train_loss= 0.215139 train_acc=0.985958 val_loss= 0.538768 val_acc=0.964917 learning_rate=0.000010\n"
     ]
    },
    {
     "name": "stdout",
     "output_type": "stream",
     "text": [
      "Epoch: 301 train_loss= 0.281357 train_acc=0.981687 val_loss= 0.637088 val_acc=0.958333 learning_rate=0.000010\n",
      "Epoch: 302 train_loss= 0.246909 train_acc=0.983958 val_loss= 0.538487 val_acc=0.964833 learning_rate=0.000010\n",
      "Epoch: 303 train_loss= 0.260758 train_acc=0.982771 val_loss= 0.567468 val_acc=0.963250 learning_rate=0.000010\n",
      "Epoch: 304 train_loss= 0.201797 train_acc=0.986917 val_loss= 0.507419 val_acc=0.967167 learning_rate=0.000010\n",
      "Epoch: 305 train_loss= 0.215556 train_acc=0.985896 val_loss= 0.551495 val_acc=0.964333 learning_rate=0.000010\n",
      "Epoch: 306 train_loss= 0.212396 train_acc=0.986188 val_loss= 0.540222 val_acc=0.965083 learning_rate=0.000010\n",
      "Epoch: 307 train_loss= 0.267768 train_acc=0.982250 val_loss= 0.587141 val_acc=0.961250 learning_rate=0.000010\n",
      "Epoch: 308 train_loss= 0.228363 train_acc=0.985229 val_loss= 0.522741 val_acc=0.966083 learning_rate=0.000010\n",
      "Epoch: 309 train_loss= 0.226937 train_acc=0.985167 val_loss= 0.560838 val_acc=0.963750 learning_rate=0.000010\n",
      "Epoch: 310 train_loss= 0.171405 train_acc=0.988979 val_loss= 0.494524 val_acc=0.967833 learning_rate=0.000010\n",
      "Epoch: 311 train_loss= 0.238572 train_acc=0.984375 val_loss= 0.565201 val_acc=0.963417 learning_rate=0.000010\n",
      "Epoch: 312 train_loss= 0.207470 train_acc=0.986542 val_loss= 0.545724 val_acc=0.964667 learning_rate=0.000010\n",
      "Epoch: 313 train_loss= 0.204087 train_acc=0.986771 val_loss= 0.514273 val_acc=0.966500 learning_rate=0.000010\n",
      "Epoch: 314 train_loss= 0.199626 train_acc=0.986979 val_loss= 0.525907 val_acc=0.966000 learning_rate=0.000010\n",
      "Epoch: 315 train_loss= 0.176753 train_acc=0.988625 val_loss= 0.482661 val_acc=0.968667 learning_rate=0.000010\n",
      "Epoch: 316 train_loss= 0.197216 train_acc=0.987188 val_loss= 0.486585 val_acc=0.968083 learning_rate=0.000010\n",
      "Epoch: 317 train_loss= 0.191344 train_acc=0.987542 val_loss= 0.497001 val_acc=0.967500 learning_rate=0.000010\n",
      "Epoch: 318 train_loss= 0.182798 train_acc=0.988042 val_loss= 0.499143 val_acc=0.967250 learning_rate=0.000010\n",
      "Epoch: 319 train_loss= 0.213896 train_acc=0.985979 val_loss= 0.503821 val_acc=0.967417 learning_rate=0.000010\n",
      "Epoch: 320 train_loss= 0.226722 train_acc=0.985125 val_loss= 0.570798 val_acc=0.962917 learning_rate=0.000010\n",
      "Epoch: 321 train_loss= 0.242823 train_acc=0.984167 val_loss= 0.545547 val_acc=0.964750 learning_rate=0.000010\n",
      "Epoch: 322 train_loss= 0.204660 train_acc=0.986729 val_loss= 0.563348 val_acc=0.963667 learning_rate=0.000010\n",
      "Epoch: 323 train_loss= 0.190231 train_acc=0.987604 val_loss= 0.533698 val_acc=0.965167 learning_rate=0.000010\n",
      "Epoch: 324 train_loss= 0.182972 train_acc=0.988229 val_loss= 0.510025 val_acc=0.966917 learning_rate=0.000010\n",
      "Epoch: 325 train_loss= 0.200739 train_acc=0.986979 val_loss= 0.517323 val_acc=0.966750 learning_rate=0.000010\n",
      "Epoch: 326 train_loss= 0.267472 train_acc=0.982604 val_loss= 0.646533 val_acc=0.957583 learning_rate=0.000010\n",
      "Epoch: 327 train_loss= 0.184132 train_acc=0.988187 val_loss= 0.452728 val_acc=0.970667 learning_rate=0.000010\n",
      "Epoch: 328 train_loss= 0.194613 train_acc=0.987479 val_loss= 0.492058 val_acc=0.968000 learning_rate=0.000010\n",
      "Epoch: 329 train_loss= 0.243901 train_acc=0.983813 val_loss= 0.555685 val_acc=0.963917 learning_rate=0.000010\n",
      "Epoch: 330 train_loss= 0.189987 train_acc=0.987708 val_loss= 0.515808 val_acc=0.966583 learning_rate=0.000010\n",
      "Epoch: 331 train_loss= 0.192412 train_acc=0.987500 val_loss= 0.527546 val_acc=0.965917 learning_rate=0.000010\n",
      "Epoch: 332 train_loss= 0.371448 train_acc=0.975521 val_loss= 0.671615 val_acc=0.956833 learning_rate=0.000010\n",
      "Epoch: 333 train_loss= 0.214932 train_acc=0.986104 val_loss= 0.564697 val_acc=0.964000 learning_rate=0.000010\n",
      "Epoch: 334 train_loss= 0.176632 train_acc=0.988667 val_loss= 0.502788 val_acc=0.967333 learning_rate=0.000010\n",
      "Epoch: 335 train_loss= 0.188543 train_acc=0.987813 val_loss= 0.508977 val_acc=0.966833 learning_rate=0.000010\n",
      "Epoch: 336 train_loss= 0.204234 train_acc=0.986646 val_loss= 0.507970 val_acc=0.966917 learning_rate=0.000010\n",
      "Epoch: 337 train_loss= 0.176733 train_acc=0.988604 val_loss= 0.475845 val_acc=0.969500 learning_rate=0.000010\n",
      "Epoch: 338 train_loss= 0.213200 train_acc=0.985937 val_loss= 0.549901 val_acc=0.964333 learning_rate=0.000010\n",
      "Epoch: 339 train_loss= 0.195355 train_acc=0.987333 val_loss= 0.484884 val_acc=0.968167 learning_rate=0.000010\n",
      "Epoch: 340 train_loss= 0.218900 train_acc=0.985729 val_loss= 0.529221 val_acc=0.965667 learning_rate=0.000010\n",
      "Epoch: 341 train_loss= 0.203466 train_acc=0.986625 val_loss= 0.525115 val_acc=0.965917 learning_rate=0.000010\n",
      "Epoch: 342 train_loss= 0.240498 train_acc=0.984042 val_loss= 0.549880 val_acc=0.963833 learning_rate=0.000010\n",
      "Epoch: 343 train_loss= 0.175929 train_acc=0.988604 val_loss= 0.501811 val_acc=0.967750 learning_rate=0.000010\n",
      "Epoch: 344 train_loss= 0.204066 train_acc=0.986812 val_loss= 0.530106 val_acc=0.965917 learning_rate=0.000010\n",
      "Epoch: 345 train_loss= 0.175323 train_acc=0.988708 val_loss= 0.472242 val_acc=0.969333 learning_rate=0.000010\n",
      "Epoch: 346 train_loss= 0.184528 train_acc=0.987833 val_loss= 0.513201 val_acc=0.966167 learning_rate=0.000010\n",
      "Epoch: 347 train_loss= 0.187017 train_acc=0.987854 val_loss= 0.540647 val_acc=0.964917 learning_rate=0.000010\n",
      "Epoch: 348 train_loss= 0.196360 train_acc=0.987271 val_loss= 0.513242 val_acc=0.966667 learning_rate=0.000010\n",
      "Epoch: 349 train_loss= 0.262421 train_acc=0.982687 val_loss= 0.591426 val_acc=0.961583 learning_rate=0.000010\n",
      "Epoch: 350 train_loss= 0.174821 train_acc=0.988583 val_loss= 0.488762 val_acc=0.967917 learning_rate=0.000010\n",
      "Epoch: 351 train_loss= 0.172908 train_acc=0.988792 val_loss= 0.513366 val_acc=0.967167 learning_rate=0.000010\n",
      "Epoch: 352 train_loss= 0.181577 train_acc=0.988333 val_loss= 0.534407 val_acc=0.965083 learning_rate=0.000010\n",
      "Epoch: 353 train_loss= 0.216253 train_acc=0.985708 val_loss= 0.524964 val_acc=0.966000 learning_rate=0.000010\n",
      "Epoch: 354 train_loss= 0.213276 train_acc=0.986188 val_loss= 0.527969 val_acc=0.965750 learning_rate=0.000010\n",
      "Epoch: 355 train_loss= 0.189147 train_acc=0.987813 val_loss= 0.484177 val_acc=0.968583 learning_rate=0.000010\n",
      "Epoch: 356 train_loss= 0.175208 train_acc=0.988688 val_loss= 0.512723 val_acc=0.967167 learning_rate=0.000010\n",
      "Epoch: 357 train_loss= 0.183789 train_acc=0.988083 val_loss= 0.528368 val_acc=0.965917 learning_rate=0.000010\n",
      "Epoch: 358 train_loss= 0.199046 train_acc=0.986917 val_loss= 0.503912 val_acc=0.967167 learning_rate=0.000010\n",
      "Epoch: 359 train_loss= 0.201139 train_acc=0.986771 val_loss= 0.511388 val_acc=0.967083 learning_rate=0.000010\n",
      "Epoch: 360 train_loss= 0.212833 train_acc=0.985896 val_loss= 0.498788 val_acc=0.967500 learning_rate=0.000010\n",
      "Epoch: 361 train_loss= 0.200953 train_acc=0.987000 val_loss= 0.516890 val_acc=0.966417 learning_rate=0.000010\n",
      "Epoch: 362 train_loss= 0.205145 train_acc=0.986771 val_loss= 0.516264 val_acc=0.966667 learning_rate=0.000010\n",
      "Epoch: 363 train_loss= 0.174511 train_acc=0.988583 val_loss= 0.492363 val_acc=0.968250 learning_rate=0.000010\n",
      "Epoch: 364 train_loss= 0.195917 train_acc=0.987167 val_loss= 0.520732 val_acc=0.966000 learning_rate=0.000010\n",
      "Epoch: 365 train_loss= 0.184427 train_acc=0.988229 val_loss= 0.497901 val_acc=0.967333 learning_rate=0.000010\n",
      "Epoch: 366 train_loss= 0.178690 train_acc=0.988312 val_loss= 0.489626 val_acc=0.968333 learning_rate=0.000010\n",
      "Epoch: 367 train_loss= 0.182955 train_acc=0.988104 val_loss= 0.508653 val_acc=0.966583 learning_rate=0.000010\n",
      "Epoch: 368 train_loss= 0.188645 train_acc=0.987875 val_loss= 0.525960 val_acc=0.965917 learning_rate=0.000010\n",
      "Epoch: 369 train_loss= 0.191533 train_acc=0.987479 val_loss= 0.517333 val_acc=0.966833 learning_rate=0.000010\n",
      "Epoch: 370 train_loss= 0.174730 train_acc=0.988688 val_loss= 0.489251 val_acc=0.968083 learning_rate=0.000010\n",
      "Epoch: 371 train_loss= 0.175837 train_acc=0.988521 val_loss= 0.515767 val_acc=0.966583 learning_rate=0.000010\n",
      "Epoch: 372 train_loss= 0.232383 train_acc=0.984771 val_loss= 0.583207 val_acc=0.962250 learning_rate=0.000010\n",
      "Epoch: 373 train_loss= 0.175128 train_acc=0.988521 val_loss= 0.526587 val_acc=0.965583 learning_rate=0.000010\n",
      "Epoch: 374 train_loss= 0.199024 train_acc=0.987063 val_loss= 0.528152 val_acc=0.965667 learning_rate=0.000010\n",
      "Epoch: 375 train_loss= 0.198482 train_acc=0.986979 val_loss= 0.557173 val_acc=0.964083 learning_rate=0.000010\n"
     ]
    },
    {
     "name": "stdout",
     "output_type": "stream",
     "text": [
      "Epoch: 376 train_loss= 0.166983 train_acc=0.989125 val_loss= 0.507421 val_acc=0.967333 learning_rate=0.000010\n",
      "Epoch: 377 train_loss= 0.167355 train_acc=0.989271 val_loss= 0.511829 val_acc=0.966917 learning_rate=0.000010\n",
      "Epoch: 378 train_loss= 0.171925 train_acc=0.988750 val_loss= 0.520892 val_acc=0.965833 learning_rate=0.000010\n",
      "Epoch: 379 train_loss= 0.165334 train_acc=0.989354 val_loss= 0.512836 val_acc=0.966583 learning_rate=0.000010\n",
      "Epoch: 380 train_loss= 0.163936 train_acc=0.989479 val_loss= 0.480753 val_acc=0.968667 learning_rate=0.000010\n",
      "Epoch: 381 train_loss= 0.222664 train_acc=0.984979 val_loss= 0.571479 val_acc=0.962583 learning_rate=0.000010\n",
      "Epoch: 382 train_loss= 0.193336 train_acc=0.987521 val_loss= 0.521553 val_acc=0.966417 learning_rate=0.000010\n",
      "Epoch: 383 train_loss= 0.157278 train_acc=0.989875 val_loss= 0.493450 val_acc=0.967917 learning_rate=0.000010\n",
      "Epoch: 384 train_loss= 0.149343 train_acc=0.990354 val_loss= 0.482244 val_acc=0.968583 learning_rate=0.000010\n",
      "Epoch: 385 train_loss= 0.170983 train_acc=0.988792 val_loss= 0.516505 val_acc=0.966500 learning_rate=0.000010\n",
      "Epoch: 386 train_loss= 0.179502 train_acc=0.988333 val_loss= 0.516758 val_acc=0.966417 learning_rate=0.000010\n",
      "Epoch: 387 train_loss= 0.177936 train_acc=0.988396 val_loss= 0.536245 val_acc=0.965250 learning_rate=0.000010\n",
      "Epoch: 388 train_loss= 0.156727 train_acc=0.989937 val_loss= 0.486693 val_acc=0.968417 learning_rate=0.000010\n",
      "Epoch: 389 train_loss= 0.214938 train_acc=0.986083 val_loss= 0.537136 val_acc=0.965833 learning_rate=0.000010\n",
      "Epoch: 390 train_loss= 0.149115 train_acc=0.990417 val_loss= 0.452357 val_acc=0.970583 learning_rate=0.000010\n",
      "Epoch: 391 train_loss= 0.176035 train_acc=0.988583 val_loss= 0.553299 val_acc=0.963833 learning_rate=0.000010\n",
      "Epoch: 392 train_loss= 0.173085 train_acc=0.988937 val_loss= 0.467770 val_acc=0.969833 learning_rate=0.000010\n",
      "Epoch: 393 train_loss= 0.162568 train_acc=0.989604 val_loss= 0.455658 val_acc=0.970250 learning_rate=0.000010\n",
      "Epoch: 394 train_loss= 0.212621 train_acc=0.986042 val_loss= 0.525348 val_acc=0.965917 learning_rate=0.000010\n",
      "Epoch: 395 train_loss= 0.179633 train_acc=0.988521 val_loss= 0.499386 val_acc=0.967500 learning_rate=0.000010\n",
      "Epoch: 396 train_loss= 0.157325 train_acc=0.989937 val_loss= 0.524120 val_acc=0.966417 learning_rate=0.000010\n",
      "Epoch: 397 train_loss= 0.235230 train_acc=0.984333 val_loss= 0.562348 val_acc=0.963833 learning_rate=0.000010\n",
      "Epoch: 398 train_loss= 0.154102 train_acc=0.990062 val_loss= 0.499408 val_acc=0.967917 learning_rate=0.000010\n",
      "Epoch: 399 train_loss= 0.178979 train_acc=0.988333 val_loss= 0.535948 val_acc=0.965333 learning_rate=0.000010\n",
      "Epoch: 400 train_loss= 0.153352 train_acc=0.990021 val_loss= 0.471192 val_acc=0.969750 learning_rate=0.000010\n",
      "INFO:Train Finished!\n"
     ]
    }
   ],
   "source": [
    "total_step = int(train_num / batch_size)\n",
    "\n",
    "loss_list_train = []\n",
    "loss_list_valid = []\n",
    "acc_list_train = []\n",
    "acc_list_valid = []\n",
    "\n",
    "for epoch in range(epochs):\n",
    "    if epoch > 10:   \n",
    "        learning_rate = 0.00001 \n",
    "    for step in range(total_step):\n",
    "        xs = train_x[step * batch_size:(step + 1) * batch_size]\n",
    "        ys = train_y[step * batch_size:(step + 1) * batch_size]\n",
    "        \n",
    "        grads = grad(xs, ys, W, B)\n",
    "        optimizer.apply_gradients(zip(grads, W + B))\n",
    "    loss_train = loss(train_x, train_y, W, B).numpy()\n",
    "    loss_valid = loss(valid_x, valid_y, W, B).numpy()\n",
    "    acc_train = accuracy(train_x, train_y, W, B).numpy()\n",
    "    acc_valid = accuracy(valid_x, valid_y, W, B).numpy()\n",
    "    loss_list_train.append(loss_train)\n",
    "    loss_list_valid.append(loss_valid)\n",
    "    acc_list_train.append(acc_train)\n",
    "    acc_list_valid.append(acc_valid)\n",
    "    print('Epoch: {:03}'.format(epoch + 1),\n",
    "          'train_loss= %.6f' % loss_train,\n",
    "          'train_acc=%.6f' % acc_train,\n",
    "          'val_loss= %.6f' % loss_valid,\n",
    "          'val_acc=%.6f' % acc_valid,\n",
    "          'learning_rate=%.6f' % learning_rate)\n",
    "print('INFO:Train Finished!')"
   ]
  },
  {
   "cell_type": "markdown",
   "metadata": {},
   "source": [
    "### 损失率与准确率可视化"
   ]
  },
  {
   "cell_type": "code",
   "execution_count": 15,
   "metadata": {},
   "outputs": [
    {
     "data": {
      "image/png": "[encoded data removed]",
      "text/plain": [
       "<Figure size 720x360 with 2 Axes>"
      ]
     },
     "metadata": {
      "needs_background": "light"
     },
     "output_type": "display_data"
    }
   ],
   "source": [
    "fig = plt.gcf()\n",
    "fig.set_size_inches(10, 5)\n",
    "ax1 = fig.add_subplot(111)\n",
    "ax1.set_title('Train and Validation Picture')\n",
    "ax1.set_ylabel('Loss value')\n",
    "line1, = ax1.plot(loss_list_train, color=(0.5, 0.5, 1.0), label='Loss train')\n",
    "line2, = ax1.plot(loss_list_valid, color=(0.5, 1.0, 0.5), label='Loss valid')\n",
    "ax2 = ax1.twinx()\n",
    "ax2.set_ylabel('Accuracy value')\n",
    "line3, = ax2.plot(acc_list_train, color=(0.5, 0.5, 0.5), label='Accuracy train')\n",
    "line4, = ax2.plot(acc_list_valid, color=(1, 0, 0), label='Accuracy valid')\n",
    "plt.legend(handles=(line1, line2, line3, line4), loc='best')\n",
    "plt.show()"
   ]
  },
  {
   "cell_type": "markdown",
   "metadata": {},
   "source": [
    "### 模型评估"
   ]
  },
  {
   "cell_type": "code",
   "execution_count": 16,
   "metadata": {},
   "outputs": [
    {
     "name": "stdout",
     "output_type": "stream",
     "text": [
      "Test Accuracy: 0.9694\n"
     ]
    }
   ],
   "source": [
    "acc_test = accuracy(test_x, test_y, W, B).numpy()\n",
    "print('Test Accuracy:', acc_test)"
   ]
  }
 ],
 "metadata": {
  "kernelspec": {
   "display_name": "Python 3",
   "language": "python",
   "name": "python3"
  },
  "language_info": {
   "codemirror_mode": {
    "name": "ipython",
    "version": 3
   },
   "file_extension": ".py",
   "mimetype": "text/x-python",
   "name": "python",
   "nbconvert_exporter": "python",
   "pygments_lexer": "ipython3",
   "version": "3.6.2"
  }
 },
 "nbformat": 4,
 "nbformat_minor": 4
}
