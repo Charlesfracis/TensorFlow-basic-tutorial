{
 "cells": [
  {
   "cell_type": "markdown",
   "metadata": {},
   "source": [
    "## 以 mnist 手写数字识别为例\n",
    "为了简单方便，我们以 单个神经元为例进行"
   ]
  },
  {
   "cell_type": "code",
   "execution_count": 1,
   "metadata": {},
   "outputs": [
    {
     "name": "stdout",
     "output_type": "stream",
     "text": [
      "WARNING:tensorflow:From <ipython-input-1-02ec3ee9180e>:9: read_data_sets (from tensorflow.examples.tutorials.mnist.input_data) is deprecated and will be removed in a future version.\n",
      "Instructions for updating:\n",
      "Please use alternatives such as: tensorflow_datasets.load('mnist')\n",
      "WARNING:tensorflow:From e:\\anaconda3\\envs\\tensorflow1.x\\lib\\site-packages\\tensorflow_core\\examples\\tutorials\\mnist\\input_data.py:297: _maybe_download (from tensorflow.examples.tutorials.mnist.input_data) is deprecated and will be removed in a future version.\n",
      "Instructions for updating:\n",
      "Please write your own downloading logic.\n",
      "WARNING:tensorflow:From e:\\anaconda3\\envs\\tensorflow1.x\\lib\\site-packages\\tensorflow_core\\examples\\tutorials\\mnist\\input_data.py:299: _extract_images (from tensorflow.examples.tutorials.mnist.input_data) is deprecated and will be removed in a future version.\n",
      "Instructions for updating:\n",
      "Please use tf.data to implement this functionality.\n",
      "Extracting ./mnist_dataset/train-images-idx3-ubyte.gz\n",
      "WARNING:tensorflow:From e:\\anaconda3\\envs\\tensorflow1.x\\lib\\site-packages\\tensorflow_core\\examples\\tutorials\\mnist\\input_data.py:304: _extract_labels (from tensorflow.examples.tutorials.mnist.input_data) is deprecated and will be removed in a future version.\n",
      "Instructions for updating:\n",
      "Please use tf.data to implement this functionality.\n",
      "Extracting ./mnist_dataset/train-labels-idx1-ubyte.gz\n",
      "WARNING:tensorflow:From e:\\anaconda3\\envs\\tensorflow1.x\\lib\\site-packages\\tensorflow_core\\examples\\tutorials\\mnist\\input_data.py:112: _dense_to_one_hot (from tensorflow.examples.tutorials.mnist.input_data) is deprecated and will be removed in a future version.\n",
      "Instructions for updating:\n",
      "Please use tf.one_hot on tensors.\n",
      "Extracting ./mnist_dataset/t10k-images-idx3-ubyte.gz\n",
      "Extracting ./mnist_dataset/t10k-labels-idx1-ubyte.gz\n",
      "WARNING:tensorflow:From e:\\anaconda3\\envs\\tensorflow1.x\\lib\\site-packages\\tensorflow_core\\examples\\tutorials\\mnist\\input_data.py:328: _DataSet.__init__ (from tensorflow.examples.tutorials.mnist.input_data) is deprecated and will be removed in a future version.\n",
      "Instructions for updating:\n",
      "Please use alternatives such as official/mnist/_DataSet.py from tensorflow/models.\n"
     ]
    }
   ],
   "source": [
    "import tensorflow as tf\n",
    "import numpy as np\n",
    "from tensorflow.examples.tutorials.mnist import input_data\n",
    "import math\n",
    "import matplotlib.pyplot as plt\n",
    "import os\n",
    "\n",
    "\n",
    "mnist = input_data.read_data_sets('./mnist_dataset/', one_hot=True)"
   ]
  },
  {
   "cell_type": "markdown",
   "metadata": {},
   "source": [
    "### 模型建立与训练"
   ]
  },
  {
   "cell_type": "code",
   "execution_count": 2,
   "metadata": {},
   "outputs": [
    {
     "name": "stdout",
     "output_type": "stream",
     "text": [
      "Epoch:001 val_loss=6.032761 val_accuracy=0.251600 learning_rate=0.0100\n",
      "Epoch:002 val_loss=3.616500 val_accuracy=0.431600 learning_rate=0.0100\n",
      "Epoch:003 val_loss=2.586402 val_accuracy=0.540200 learning_rate=0.0100\n",
      "Epoch:004 val_loss=2.075874 val_accuracy=0.613400 learning_rate=0.0100\n",
      "Epoch:005 val_loss=1.780467 val_accuracy=0.658400 learning_rate=0.0100\n",
      "INFO:mnist_model_005.ckpt saved\n",
      "Epoch:006 val_loss=1.590022 val_accuracy=0.690600 learning_rate=0.0100\n",
      "Epoch:007 val_loss=1.453197 val_accuracy=0.712200 learning_rate=0.0100\n",
      "Epoch:008 val_loss=1.350329 val_accuracy=0.729800 learning_rate=0.0100\n",
      "Epoch:009 val_loss=1.270867 val_accuracy=0.743600 learning_rate=0.0100\n",
      "Epoch:010 val_loss=1.205626 val_accuracy=0.756400 learning_rate=0.0100\n",
      "INFO:mnist_model_010.ckpt saved\n",
      "Epoch:011 val_loss=1.151576 val_accuracy=0.768200 learning_rate=0.0100\n",
      "Epoch:012 val_loss=1.104758 val_accuracy=0.777400 learning_rate=0.0100\n",
      "Epoch:013 val_loss=1.066267 val_accuracy=0.786200 learning_rate=0.0100\n",
      "Epoch:014 val_loss=1.030643 val_accuracy=0.791200 learning_rate=0.0100\n",
      "Epoch:015 val_loss=1.001144 val_accuracy=0.797000 learning_rate=0.0100\n",
      "INFO:mnist_model_015.ckpt saved\n",
      "Epoch:016 val_loss=0.972817 val_accuracy=0.804000 learning_rate=0.0100\n",
      "Epoch:017 val_loss=0.949564 val_accuracy=0.806200 learning_rate=0.0100\n",
      "Epoch:018 val_loss=0.926714 val_accuracy=0.810000 learning_rate=0.0100\n",
      "Epoch:019 val_loss=0.907254 val_accuracy=0.814000 learning_rate=0.0100\n",
      "Epoch:020 val_loss=0.888866 val_accuracy=0.818600 learning_rate=0.0100\n",
      "INFO:mnist_model_020.ckpt saved\n",
      "Epoch:021 val_loss=0.871950 val_accuracy=0.821400 learning_rate=0.0100\n",
      "Epoch:022 val_loss=0.856807 val_accuracy=0.824600 learning_rate=0.0100\n",
      "Epoch:023 val_loss=0.841094 val_accuracy=0.829600 learning_rate=0.0100\n",
      "Epoch:024 val_loss=0.827137 val_accuracy=0.832200 learning_rate=0.0100\n",
      "Epoch:025 val_loss=0.814784 val_accuracy=0.834200 learning_rate=0.0100\n",
      "INFO:mnist_model_025.ckpt saved\n",
      "Epoch:026 val_loss=0.803482 val_accuracy=0.836200 learning_rate=0.0100\n",
      "Epoch:027 val_loss=0.791611 val_accuracy=0.839400 learning_rate=0.0100\n",
      "Epoch:028 val_loss=0.780419 val_accuracy=0.841400 learning_rate=0.0100\n",
      "Epoch:029 val_loss=0.770382 val_accuracy=0.843800 learning_rate=0.0100\n",
      "Epoch:030 val_loss=0.761716 val_accuracy=0.843600 learning_rate=0.0100\n",
      "WARNING:tensorflow:From e:\\anaconda3\\envs\\tensorflow1.x\\lib\\site-packages\\tensorflow_core\\python\\training\\saver.py:963: remove_checkpoint (from tensorflow.python.training.checkpoint_management) is deprecated and will be removed in a future version.\n",
      "Instructions for updating:\n",
      "Use standard file APIs to delete files with this prefix.\n",
      "INFO:mnist_model_030.ckpt saved\n",
      "Epoch:031 val_loss=0.752384 val_accuracy=0.845200 learning_rate=0.0100\n",
      "Epoch:032 val_loss=0.744918 val_accuracy=0.846200 learning_rate=0.0100\n",
      "Epoch:033 val_loss=0.735354 val_accuracy=0.847400 learning_rate=0.0100\n",
      "Epoch:034 val_loss=0.728225 val_accuracy=0.848200 learning_rate=0.0100\n",
      "Epoch:035 val_loss=0.721007 val_accuracy=0.849200 learning_rate=0.0100\n",
      "INFO:mnist_model_035.ckpt saved\n",
      "Epoch:036 val_loss=0.713271 val_accuracy=0.851400 learning_rate=0.0100\n",
      "Epoch:037 val_loss=0.706170 val_accuracy=0.852400 learning_rate=0.0100\n",
      "Epoch:038 val_loss=0.699817 val_accuracy=0.854600 learning_rate=0.0100\n",
      "Epoch:039 val_loss=0.693937 val_accuracy=0.856200 learning_rate=0.0100\n",
      "Epoch:040 val_loss=0.687838 val_accuracy=0.857600 learning_rate=0.0100\n",
      "INFO:mnist_model_040.ckpt saved\n",
      "Epoch:041 val_loss=0.681947 val_accuracy=0.858600 learning_rate=0.0100\n",
      "Epoch:042 val_loss=0.676845 val_accuracy=0.860600 learning_rate=0.0100\n",
      "Epoch:043 val_loss=0.671379 val_accuracy=0.861400 learning_rate=0.0100\n",
      "Epoch:044 val_loss=0.666430 val_accuracy=0.861000 learning_rate=0.0100\n",
      "Epoch:045 val_loss=0.661040 val_accuracy=0.862200 learning_rate=0.0100\n",
      "INFO:mnist_model_045.ckpt saved\n",
      "Epoch:046 val_loss=0.656307 val_accuracy=0.863200 learning_rate=0.0100\n",
      "Epoch:047 val_loss=0.651991 val_accuracy=0.864200 learning_rate=0.0100\n",
      "Epoch:048 val_loss=0.647302 val_accuracy=0.865400 learning_rate=0.0100\n",
      "Epoch:049 val_loss=0.642939 val_accuracy=0.866200 learning_rate=0.0100\n",
      "Epoch:050 val_loss=0.638687 val_accuracy=0.867200 learning_rate=0.0100\n",
      "INFO:mnist_model_050.ckpt saved\n",
      "Epoch:051 val_loss=0.634891 val_accuracy=0.867400 learning_rate=0.0100\n",
      "Epoch:052 val_loss=0.630448 val_accuracy=0.868200 learning_rate=0.0100\n",
      "Epoch:053 val_loss=0.626910 val_accuracy=0.868800 learning_rate=0.0100\n",
      "Epoch:054 val_loss=0.622863 val_accuracy=0.869400 learning_rate=0.0100\n",
      "Epoch:055 val_loss=0.619330 val_accuracy=0.869400 learning_rate=0.0100\n",
      "INFO:mnist_model_055.ckpt saved\n",
      "Epoch:056 val_loss=0.615840 val_accuracy=0.871200 learning_rate=0.0100\n",
      "Epoch:057 val_loss=0.612495 val_accuracy=0.872000 learning_rate=0.0100\n",
      "Epoch:058 val_loss=0.609048 val_accuracy=0.872000 learning_rate=0.0100\n",
      "Epoch:059 val_loss=0.605803 val_accuracy=0.872800 learning_rate=0.0100\n",
      "Epoch:060 val_loss=0.602757 val_accuracy=0.873200 learning_rate=0.0100\n",
      "INFO:mnist_model_060.ckpt saved\n",
      "Epoch:061 val_loss=0.599460 val_accuracy=0.874200 learning_rate=0.0100\n",
      "Epoch:062 val_loss=0.596782 val_accuracy=0.874600 learning_rate=0.0100\n",
      "Epoch:063 val_loss=0.593533 val_accuracy=0.876200 learning_rate=0.0100\n",
      "Epoch:064 val_loss=0.590777 val_accuracy=0.875600 learning_rate=0.0100\n",
      "Epoch:065 val_loss=0.587877 val_accuracy=0.876200 learning_rate=0.0100\n",
      "INFO:mnist_model_065.ckpt saved\n",
      "Epoch:066 val_loss=0.585188 val_accuracy=0.877000 learning_rate=0.0100\n",
      "Epoch:067 val_loss=0.582491 val_accuracy=0.877000 learning_rate=0.0100\n",
      "Epoch:068 val_loss=0.579930 val_accuracy=0.878000 learning_rate=0.0100\n",
      "Epoch:069 val_loss=0.577383 val_accuracy=0.878000 learning_rate=0.0100\n",
      "Epoch:070 val_loss=0.574624 val_accuracy=0.878800 learning_rate=0.0100\n",
      "INFO:mnist_model_070.ckpt saved\n",
      "Epoch:071 val_loss=0.572209 val_accuracy=0.878400 learning_rate=0.0100\n",
      "Epoch:072 val_loss=0.569703 val_accuracy=0.879600 learning_rate=0.0100\n",
      "Epoch:073 val_loss=0.567664 val_accuracy=0.879600 learning_rate=0.0100\n",
      "Epoch:074 val_loss=0.564944 val_accuracy=0.879600 learning_rate=0.0100\n",
      "Epoch:075 val_loss=0.563177 val_accuracy=0.879800 learning_rate=0.0100\n",
      "INFO:mnist_model_075.ckpt saved\n",
      "Epoch:076 val_loss=0.560795 val_accuracy=0.880200 learning_rate=0.0100\n",
      "Epoch:077 val_loss=0.558841 val_accuracy=0.880400 learning_rate=0.0100\n",
      "Epoch:078 val_loss=0.556416 val_accuracy=0.880400 learning_rate=0.0100\n",
      "Epoch:079 val_loss=0.554393 val_accuracy=0.880800 learning_rate=0.0100\n",
      "Epoch:080 val_loss=0.552384 val_accuracy=0.880600 learning_rate=0.0100\n",
      "INFO:mnist_model_080.ckpt saved\n",
      "Epoch:081 val_loss=0.550444 val_accuracy=0.881000 learning_rate=0.0100\n",
      "Epoch:082 val_loss=0.548490 val_accuracy=0.881600 learning_rate=0.0100\n",
      "Epoch:083 val_loss=0.546378 val_accuracy=0.882200 learning_rate=0.0100\n",
      "Epoch:084 val_loss=0.544601 val_accuracy=0.882400 learning_rate=0.0100\n",
      "Epoch:085 val_loss=0.542755 val_accuracy=0.882800 learning_rate=0.0100\n",
      "INFO:mnist_model_085.ckpt saved\n",
      "Epoch:086 val_loss=0.540885 val_accuracy=0.883800 learning_rate=0.0100\n",
      "Epoch:087 val_loss=0.539172 val_accuracy=0.882800 learning_rate=0.0100\n",
      "Epoch:088 val_loss=0.537330 val_accuracy=0.883600 learning_rate=0.0100\n",
      "Epoch:089 val_loss=0.535444 val_accuracy=0.884400 learning_rate=0.0100\n",
      "Epoch:090 val_loss=0.533857 val_accuracy=0.884600 learning_rate=0.0100\n",
      "INFO:mnist_model_090.ckpt saved\n",
      "Epoch:091 val_loss=0.532277 val_accuracy=0.883800 learning_rate=0.0100\n",
      "Epoch:092 val_loss=0.530567 val_accuracy=0.885800 learning_rate=0.0100\n",
      "Epoch:093 val_loss=0.528905 val_accuracy=0.885400 learning_rate=0.0100\n",
      "Epoch:094 val_loss=0.527362 val_accuracy=0.885600 learning_rate=0.0100\n",
      "Epoch:095 val_loss=0.525661 val_accuracy=0.884000 learning_rate=0.0100\n",
      "INFO:mnist_model_095.ckpt saved\n",
      "Epoch:096 val_loss=0.524464 val_accuracy=0.886400 learning_rate=0.0100\n",
      "Epoch:097 val_loss=0.522694 val_accuracy=0.886400 learning_rate=0.0100\n",
      "Epoch:098 val_loss=0.521264 val_accuracy=0.887600 learning_rate=0.0100\n",
      "Epoch:099 val_loss=0.519479 val_accuracy=0.886800 learning_rate=0.0100\n",
      "Epoch:100 val_loss=0.518293 val_accuracy=0.887600 learning_rate=0.0100\n",
      "INFO:mnist_model_100.ckpt saved\n",
      "INFO:Train Finished!\n"
     ]
    }
   ],
   "source": [
    "x = tf.placeholder(tf.float32, [None, 784], name='X')\n",
    "y = tf.placeholder(tf.float32, [None, 10], name='Y')\n",
    "image_shape_input = tf.reshape(x, [-1, 28, 28, 1])\n",
    "tf.summary.image('input', image_shape_input, 9)\n",
    "\n",
    "W = tf.Variable(tf.random_normal([784, 10]), name='W')\n",
    "b = tf.Variable(tf.zeros([10]), name='b')\n",
    "\n",
    "forward = tf.matmul(x, W) + b\n",
    "pred = tf.nn.softmax(forward)\n",
    "\n",
    "epochs = 100\n",
    "batch_size = 100\n",
    "total_batch = int(mnist.train.num_examples / batch_size)\n",
    "display_step = 1\n",
    "learning_rate = 0.01\n",
    "save_step = 5\n",
    "\n",
    "ckpt_dir = './mnist_Tensorboard_tutorial_ckpt'\n",
    "if not os.path.exists(ckpt_dir):\n",
    "    os.makedirs(ckpt_dir)\n",
    "\n",
    "loss_function = tf.reduce_mean(-tf.reduce_sum(y * tf.log(pred), reduction_indices=1))\n",
    "optimizer = tf.train.GradientDescentOptimizer(learning_rate).minimize(loss_function)\n",
    "\n",
    "correct_prediction = tf.equal(tf.argmax(pred, 1), tf.argmax(y, 1))\n",
    "accuracy = tf.reduce_mean(tf.cast(correct_prediction, tf.float32))\n",
    "\n",
    "tf.summary.histogram('forward', forward)\n",
    "tf.summary.scalar('loss', loss_function)\n",
    "tf.summary.scalar('accuracy', accuracy)\n",
    "\n",
    "saver = tf.train.Saver()\n",
    "sess = tf.Session()\n",
    "sess.run(tf.global_variables_initializer())\n",
    "merged_summary_op = tf.summary.merge_all()\n",
    "writer = tf.summary.FileWriter('./Tensorboard_tutorial_log', sess.graph)\n",
    "for epoch in range(epochs):\n",
    "    for batch in range(total_batch):\n",
    "        xs, ys = mnist.train.next_batch(batch_size)\n",
    "        summary_str = sess.run(merged_summary_op, feed_dict={x:xs, y:ys})\n",
    "        writer.add_summary(summary_str, epoch)\n",
    "        sess.run(optimizer, feed_dict={x:xs, y:ys})\n",
    "    val_loss, val_acc = sess.run([loss_function, accuracy],\n",
    "                         feed_dict={x:mnist.validation.images, y:mnist.validation.labels})\n",
    "    if (epoch + 1) % display_step == 0:\n",
    "        print('Epoch:{:03d}'.format(epoch + 1), \n",
    "              'val_loss=%6f' % val_loss, \n",
    "              'val_accuracy=%4f' % val_acc,\n",
    "              'learning_rate=%.4f' % learning_rate)\n",
    "    if (epoch + 1) % save_step == 0 or (epoch + 1) == epochs:\n",
    "        saver.save(sess, os.path.join(ckpt_dir, 'mnist_model_{0:03d}.ckpt'.format(epoch + 1)))\n",
    "        print('INFO:mnist_model_{0:03d}.ckpt saved'.format(epoch + 1))\n",
    "print('INFO:Train Finished!')"
   ]
  },
  {
   "cell_type": "code",
   "execution_count": 3,
   "metadata": {},
   "outputs": [
    {
     "name": "stdout",
     "output_type": "stream",
     "text": [
      "Test dataset accuracy: 0.877300\n"
     ]
    }
   ],
   "source": [
    "test_acc = sess.run(accuracy, feed_dict={x:mnist.test.images, y:mnist.test.labels})\n",
    "print('Test dataset accuracy: %f' % test_acc)"
   ]
  },
  {
   "cell_type": "markdown",
   "metadata": {},
   "source": [
    "### 模型读取恢复"
   ]
  },
  {
   "cell_type": "code",
   "execution_count": 4,
   "metadata": {},
   "outputs": [
    {
     "name": "stdout",
     "output_type": "stream",
     "text": [
      "INFO:tensorflow:Restoring parameters from ./mnist_Tensorboard_tutorial_ckpt\\mnist_model_100.ckpt\n",
      "Restore model from ./mnist_Tensorboard_tutorial_ckpt\\mnist_model_100.ckpt\n"
     ]
    }
   ],
   "source": [
    "saver = tf.train.Saver()\n",
    "\n",
    "sess = tf.Session()\n",
    "sess.run(tf.global_variables_initializer())\n",
    "\n",
    "ckpt_dir = './mnist_Tensorboard_tutorial_ckpt'\n",
    "ckpt = tf.train.get_checkpoint_state(ckpt_dir)\n",
    "\n",
    "if ckpt and ckpt.model_checkpoint_path:\n",
    "    saver.restore(sess, ckpt.model_checkpoint_path)\n",
    "    print('Restore model from ' + ckpt.model_checkpoint_path)"
   ]
  },
  {
   "cell_type": "code",
   "execution_count": 5,
   "metadata": {},
   "outputs": [
    {
     "name": "stdout",
     "output_type": "stream",
     "text": [
      "Test dataset accuracy: 0.877300\n"
     ]
    }
   ],
   "source": [
    "test_acc = sess.run(accuracy, feed_dict={x:mnist.test.images, y:mnist.test.labels})\n",
    "print('Test dataset accuracy: %f' % test_acc)"
   ]
  }
 ],
 "metadata": {
  "kernelspec": {
   "display_name": "Python 3",
   "language": "python",
   "name": "python3"
  },
  "language_info": {
   "codemirror_mode": {
    "name": "ipython",
    "version": 3
   },
   "file_extension": ".py",
   "mimetype": "text/x-python",
   "name": "python",
   "nbconvert_exporter": "python",
   "pygments_lexer": "ipython3",
   "version": "3.6.2"
  }
 },
 "nbformat": 4,
 "nbformat_minor": 4
}
