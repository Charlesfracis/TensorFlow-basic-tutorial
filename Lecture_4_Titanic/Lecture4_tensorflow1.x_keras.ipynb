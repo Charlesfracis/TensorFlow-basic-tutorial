{
 "cells": [
  {
   "cell_type": "markdown",
   "metadata": {},
   "source": [
    "## 导入必要的包"
   ]
  },
  {
   "cell_type": "code",
   "execution_count": 1,
   "metadata": {},
   "outputs": [
    {
     "data": {
      "text/plain": [
       "'1.15.2'"
      ]
     },
     "execution_count": 1,
     "metadata": {},
     "output_type": "execute_result"
    }
   ],
   "source": [
    "import numpy\n",
    "import pandas as pd\n",
    "import tensorflow as tf\n",
    "import urllib.request\n",
    "from sklearn import preprocessing\n",
    "import matplotlib.pyplot as plt\n",
    "import os\n",
    "import datetime\n",
    "\n",
    "\n",
    "tf.__version__"
   ]
  },
  {
   "cell_type": "markdown",
   "metadata": {},
   "source": [
    "## 定义预处理函数"
   ]
  },
  {
   "cell_type": "code",
   "execution_count": 2,
   "metadata": {},
   "outputs": [],
   "source": [
    "def prepare_data(df_data):\n",
    "    df = df_data.drop(['name'], axis=1)\n",
    "    age_mean = df['age'].mean()\n",
    "    df['age'] = df['age'].fillna(age_mean)\n",
    "    fare_mean = df['fare'].mean()\n",
    "    df['fare'] = df['fare'].fillna(fare_mean)\n",
    "    df['sex'] = df['sex'].map({'female':0, 'male':1}).astype(int)\n",
    "    df['embarked'] = df['embarked'].fillna('S')\n",
    "    df['embarked'] = df['embarked'].map({'C':0, 'Q':1, 'S':2}).astype(int)\n",
    "\n",
    "    ndarray_data = df.values\n",
    "\n",
    "    features = ndarray_data[:, 1:]\n",
    "    label = ndarray_data[:, 0]\n",
    "\n",
    "    minmax_scale = preprocessing.MinMaxScaler(feature_range=(0, 1))\n",
    "    norm_features = minmax_scale.fit_transform(features)\n",
    "\n",
    "    return norm_features, label"
   ]
  },
  {
   "cell_type": "markdown",
   "metadata": {},
   "source": [
    "## 读取数据，制作数据集"
   ]
  },
  {
   "cell_type": "code",
   "execution_count": 3,
   "metadata": {},
   "outputs": [],
   "source": [
    "dataframe = pd.read_excel('./data/titanic3.xls')\n",
    "selected_cols= ['survived', 'name', 'pclass', 'sex', 'age', 'sibsp', 'parch', 'fare', 'embarked']\n",
    "selected_dataframe = dataframe[selected_cols].copy()\n",
    "selected_dataframe = selected_dataframe.sample(frac=1)\n",
    "\n",
    "x_data, y_data = prepare_data(selected_dataframe)\n",
    "\n",
    "train_size = int(len(x_data) * 0.8)\n",
    "\n",
    "x_train = x_data[:train_size]\n",
    "y_train = y_data[:train_size]\n",
    "\n",
    "x_test = x_data[train_size:]\n",
    "y_test = y_data[train_size:]"
   ]
  },
  {
   "cell_type": "markdown",
   "metadata": {},
   "source": [
    "## 搭建模型"
   ]
  },
  {
   "cell_type": "code",
   "execution_count": 4,
   "metadata": {},
   "outputs": [
    {
     "name": "stdout",
     "output_type": "stream",
     "text": [
      "WARNING:tensorflow:From e:\\anaconda3\\envs\\tensorflow1.x\\lib\\site-packages\\tensorflow_core\\python\\keras\\initializers.py:119: calling RandomUniform.__init__ (from tensorflow.python.ops.init_ops) with dtype is deprecated and will be removed in a future version.\n",
      "Instructions for updating:\n",
      "Call initializer instance with the dtype argument instead of passing it to the constructor\n",
      "WARNING:tensorflow:From e:\\anaconda3\\envs\\tensorflow1.x\\lib\\site-packages\\tensorflow_core\\python\\ops\\resource_variable_ops.py:1630: calling BaseResourceVariable.__init__ (from tensorflow.python.ops.resource_variable_ops) with constraint is deprecated and will be removed in a future version.\n",
      "Instructions for updating:\n",
      "If using Keras pass *_constraint arguments to layers.\n"
     ]
    }
   ],
   "source": [
    "model = tf.keras.models.Sequential([\n",
    "    tf.keras.layers.Dense(units=64,\n",
    "                          input_dim=7,\n",
    "                          use_bias=True,\n",
    "                          kernel_initializer='uniform',\n",
    "                          bias_initializer='zeros',\n",
    "                          activation='relu'),\n",
    "    tf.keras.layers.Dropout(rate=0.3),\n",
    "    tf.keras.layers.Dense(units=32, activation='sigmoid'),\n",
    "    tf.keras.layers.Dropout(rate=0.3),\n",
    "    tf.keras.layers.Dense(units=1, activation='sigmoid')\n",
    "])"
   ]
  },
  {
   "cell_type": "code",
   "execution_count": 5,
   "metadata": {},
   "outputs": [
    {
     "name": "stdout",
     "output_type": "stream",
     "text": [
      "Model: \"sequential\"\n",
      "_________________________________________________________________\n",
      "Layer (type)                 Output Shape              Param #   \n",
      "=================================================================\n",
      "dense (Dense)                (None, 64)                512       \n",
      "_________________________________________________________________\n",
      "dropout (Dropout)            (None, 64)                0         \n",
      "_________________________________________________________________\n",
      "dense_1 (Dense)              (None, 32)                2080      \n",
      "_________________________________________________________________\n",
      "dropout_1 (Dropout)          (None, 32)                0         \n",
      "_________________________________________________________________\n",
      "dense_2 (Dense)              (None, 1)                 33        \n",
      "=================================================================\n",
      "Total params: 2,625\n",
      "Trainable params: 2,625\n",
      "Non-trainable params: 0\n",
      "_________________________________________________________________\n"
     ]
    }
   ],
   "source": [
    "model.summary()"
   ]
  },
  {
   "cell_type": "code",
   "execution_count": 6,
   "metadata": {},
   "outputs": [
    {
     "name": "stdout",
     "output_type": "stream",
     "text": [
      "WARNING:tensorflow:From e:\\anaconda3\\envs\\tensorflow1.x\\lib\\site-packages\\tensorflow_core\\python\\ops\\nn_impl.py:183: where (from tensorflow.python.ops.array_ops) is deprecated and will be removed in a future version.\n",
      "Instructions for updating:\n",
      "Use tf.where in 2.0, which has the same broadcast rule as np.where\n"
     ]
    }
   ],
   "source": [
    "model.compile(optimizer=tf.keras.optimizers.Adam(0.003),\n",
    "              loss='binary_crossentropy',\n",
    "              metrics=['accuracy'])"
   ]
  },
  {
   "cell_type": "code",
   "execution_count": 7,
   "metadata": {},
   "outputs": [
    {
     "name": "stdout",
     "output_type": "stream",
     "text": [
      "WARNING:tensorflow:`period` argument is deprecated. Please use `save_freq` to specify the frequency in number of samples seen.\n"
     ]
    }
   ],
   "source": [
    "log_dir = os.path.join(\n",
    "    'logs1.x',\n",
    "    'train',\n",
    "    'plugins',\n",
    "    'profile',\n",
    "    datetime.datetime.now().strftime('%Y-%m-%d_%H-%M-%S'))\n",
    "\n",
    "checkpoint_path = './checkpoint1.x/Titanic_{epoch:02d}-{val_loss:.2f}.ckpt'\n",
    "\n",
    "\n",
    "callbacks = [tf.keras.callbacks.TensorBoard(log_dir=log_dir,\n",
    "                         histogram_freq=2),\n",
    "       tf.keras.callbacks.ModelCheckpoint(filepath=checkpoint_path,\n",
    "                         save_weights_only=True,\n",
    "                         verbose=1,\n",
    "                         period=5)]"
   ]
  },
  {
   "cell_type": "markdown",
   "metadata": {},
   "source": [
    "## 开始训练"
   ]
  },
  {
   "cell_type": "code",
   "execution_count": 8,
   "metadata": {},
   "outputs": [
    {
     "name": "stdout",
     "output_type": "stream",
     "text": [
      "Train on 837 samples, validate on 210 samples\n",
      "Epoch 1/100\n",
      "837/837 - 1s - loss: 0.6804 - acc: 0.6022 - val_loss: 0.6441 - val_acc: 0.6000\n",
      "Epoch 2/100\n",
      "837/837 - 0s - loss: 0.6234 - acc: 0.6619 - val_loss: 0.5819 - val_acc: 0.7048\n",
      "Epoch 3/100\n",
      "837/837 - 0s - loss: 0.5672 - acc: 0.7312 - val_loss: 0.5260 - val_acc: 0.7762\n",
      "Epoch 4/100\n",
      "837/837 - 0s - loss: 0.5147 - acc: 0.7742 - val_loss: 0.5072 - val_acc: 0.7762\n",
      "Epoch 5/100\n",
      "\n",
      "Epoch 00005: saving model to ./checkpoint1.x/Titanic_05-0.50.ckpt\n",
      "837/837 - 1s - loss: 0.4926 - acc: 0.7706 - val_loss: 0.4968 - val_acc: 0.7762\n",
      "Epoch 6/100\n",
      "837/837 - 0s - loss: 0.5006 - acc: 0.7682 - val_loss: 0.4946 - val_acc: 0.7810\n",
      "Epoch 7/100\n",
      "837/837 - 0s - loss: 0.4795 - acc: 0.8029 - val_loss: 0.4902 - val_acc: 0.7810\n",
      "Epoch 8/100\n",
      "837/837 - 0s - loss: 0.4751 - acc: 0.7838 - val_loss: 0.4884 - val_acc: 0.7810\n",
      "Epoch 9/100\n",
      "837/837 - 0s - loss: 0.4727 - acc: 0.7861 - val_loss: 0.4943 - val_acc: 0.7905\n",
      "Epoch 10/100\n",
      "\n",
      "Epoch 00010: saving model to ./checkpoint1.x/Titanic_10-0.49.ckpt\n",
      "837/837 - 0s - loss: 0.4714 - acc: 0.7969 - val_loss: 0.4861 - val_acc: 0.7714\n",
      "Epoch 11/100\n",
      "837/837 - 0s - loss: 0.4684 - acc: 0.7981 - val_loss: 0.5000 - val_acc: 0.7762\n",
      "Epoch 12/100\n",
      "837/837 - 0s - loss: 0.4735 - acc: 0.7993 - val_loss: 0.4871 - val_acc: 0.7857\n",
      "Epoch 13/100\n",
      "837/837 - 0s - loss: 0.4662 - acc: 0.8005 - val_loss: 0.4872 - val_acc: 0.7857\n",
      "Epoch 14/100\n",
      "837/837 - 0s - loss: 0.4721 - acc: 0.7957 - val_loss: 0.4859 - val_acc: 0.8000\n",
      "Epoch 15/100\n",
      "\n",
      "Epoch 00015: saving model to ./checkpoint1.x/Titanic_15-0.48.ckpt\n",
      "837/837 - 0s - loss: 0.4701 - acc: 0.7981 - val_loss: 0.4835 - val_acc: 0.7905\n",
      "Epoch 16/100\n",
      "837/837 - 0s - loss: 0.4602 - acc: 0.7981 - val_loss: 0.4835 - val_acc: 0.7905\n",
      "Epoch 17/100\n",
      "837/837 - 0s - loss: 0.4526 - acc: 0.7873 - val_loss: 0.4844 - val_acc: 0.7857\n",
      "Epoch 18/100\n",
      "837/837 - 0s - loss: 0.4453 - acc: 0.8065 - val_loss: 0.4849 - val_acc: 0.7952\n",
      "Epoch 19/100\n",
      "837/837 - 0s - loss: 0.4671 - acc: 0.8017 - val_loss: 0.4810 - val_acc: 0.7857\n",
      "Epoch 20/100\n",
      "\n",
      "Epoch 00020: saving model to ./checkpoint1.x/Titanic_20-0.49.ckpt\n",
      "837/837 - 0s - loss: 0.4545 - acc: 0.8088 - val_loss: 0.4854 - val_acc: 0.7905\n",
      "Epoch 21/100\n",
      "837/837 - 0s - loss: 0.4562 - acc: 0.7873 - val_loss: 0.4810 - val_acc: 0.7905\n",
      "Epoch 22/100\n",
      "837/837 - 0s - loss: 0.4603 - acc: 0.7921 - val_loss: 0.4899 - val_acc: 0.7810\n",
      "Epoch 23/100\n",
      "837/837 - 0s - loss: 0.4603 - acc: 0.7981 - val_loss: 0.4803 - val_acc: 0.7905\n",
      "Epoch 24/100\n",
      "837/837 - 0s - loss: 0.4599 - acc: 0.7969 - val_loss: 0.4827 - val_acc: 0.7905\n",
      "Epoch 25/100\n",
      "\n",
      "Epoch 00025: saving model to ./checkpoint1.x/Titanic_25-0.48.ckpt\n",
      "837/837 - 0s - loss: 0.4602 - acc: 0.7981 - val_loss: 0.4842 - val_acc: 0.7857\n",
      "Epoch 26/100\n",
      "837/837 - 0s - loss: 0.4491 - acc: 0.8076 - val_loss: 0.4798 - val_acc: 0.7857\n",
      "Epoch 27/100\n",
      "837/837 - 0s - loss: 0.4513 - acc: 0.7957 - val_loss: 0.4861 - val_acc: 0.7857\n",
      "Epoch 28/100\n",
      "837/837 - 0s - loss: 0.4454 - acc: 0.7957 - val_loss: 0.4816 - val_acc: 0.7905\n",
      "Epoch 29/100\n",
      "837/837 - 0s - loss: 0.4516 - acc: 0.8136 - val_loss: 0.4806 - val_acc: 0.7857\n",
      "Epoch 30/100\n",
      "\n",
      "Epoch 00030: saving model to ./checkpoint1.x/Titanic_30-0.49.ckpt\n",
      "837/837 - 0s - loss: 0.4573 - acc: 0.7945 - val_loss: 0.4864 - val_acc: 0.7857\n",
      "Epoch 31/100\n",
      "837/837 - 0s - loss: 0.4581 - acc: 0.7981 - val_loss: 0.4811 - val_acc: 0.7905\n",
      "Epoch 32/100\n",
      "837/837 - 0s - loss: 0.4529 - acc: 0.7921 - val_loss: 0.4788 - val_acc: 0.7857\n",
      "Epoch 33/100\n",
      "837/837 - 0s - loss: 0.4488 - acc: 0.8017 - val_loss: 0.4827 - val_acc: 0.7905\n",
      "Epoch 34/100\n",
      "837/837 - 0s - loss: 0.4343 - acc: 0.8184 - val_loss: 0.4805 - val_acc: 0.7857\n",
      "Epoch 35/100\n",
      "\n",
      "Epoch 00035: saving model to ./checkpoint1.x/Titanic_35-0.48.ckpt\n",
      "837/837 - 0s - loss: 0.4541 - acc: 0.7921 - val_loss: 0.4821 - val_acc: 0.7905\n",
      "Epoch 36/100\n",
      "837/837 - 0s - loss: 0.4485 - acc: 0.7969 - val_loss: 0.4773 - val_acc: 0.7762\n",
      "Epoch 37/100\n",
      "837/837 - 0s - loss: 0.4398 - acc: 0.8076 - val_loss: 0.4792 - val_acc: 0.7905\n",
      "Epoch 38/100\n",
      "837/837 - 0s - loss: 0.4490 - acc: 0.8065 - val_loss: 0.4821 - val_acc: 0.7810\n",
      "Epoch 39/100\n",
      "837/837 - 0s - loss: 0.4567 - acc: 0.8017 - val_loss: 0.4758 - val_acc: 0.7857\n",
      "Epoch 40/100\n",
      "\n",
      "Epoch 00040: saving model to ./checkpoint1.x/Titanic_40-0.48.ckpt\n",
      "837/837 - 0s - loss: 0.4506 - acc: 0.8076 - val_loss: 0.4793 - val_acc: 0.7905\n",
      "Epoch 41/100\n",
      "837/837 - 0s - loss: 0.4430 - acc: 0.8053 - val_loss: 0.4807 - val_acc: 0.8000\n",
      "Epoch 42/100\n",
      "837/837 - 0s - loss: 0.4569 - acc: 0.7945 - val_loss: 0.4785 - val_acc: 0.7952\n",
      "Epoch 43/100\n",
      "837/837 - 0s - loss: 0.4557 - acc: 0.7921 - val_loss: 0.4764 - val_acc: 0.7857\n",
      "Epoch 44/100\n",
      "837/837 - 0s - loss: 0.4489 - acc: 0.7826 - val_loss: 0.4817 - val_acc: 0.7762\n",
      "Epoch 45/100\n",
      "\n",
      "Epoch 00045: saving model to ./checkpoint1.x/Titanic_45-0.48.ckpt\n",
      "837/837 - 0s - loss: 0.4481 - acc: 0.8005 - val_loss: 0.4816 - val_acc: 0.8000\n",
      "Epoch 46/100\n",
      "837/837 - 0s - loss: 0.4519 - acc: 0.7933 - val_loss: 0.4785 - val_acc: 0.8048\n",
      "Epoch 47/100\n",
      "837/837 - 0s - loss: 0.4422 - acc: 0.8053 - val_loss: 0.4772 - val_acc: 0.7810\n",
      "Epoch 48/100\n",
      "837/837 - 0s - loss: 0.4464 - acc: 0.7957 - val_loss: 0.4771 - val_acc: 0.7952\n",
      "Epoch 49/100\n",
      "837/837 - 0s - loss: 0.4433 - acc: 0.8065 - val_loss: 0.4791 - val_acc: 0.8048\n",
      "Epoch 50/100\n",
      "\n",
      "Epoch 00050: saving model to ./checkpoint1.x/Titanic_50-0.48.ckpt\n",
      "837/837 - 0s - loss: 0.4463 - acc: 0.8076 - val_loss: 0.4791 - val_acc: 0.8048\n",
      "Epoch 51/100\n",
      "837/837 - 0s - loss: 0.4535 - acc: 0.7969 - val_loss: 0.4766 - val_acc: 0.7905\n",
      "Epoch 52/100\n",
      "837/837 - 0s - loss: 0.4407 - acc: 0.8112 - val_loss: 0.4746 - val_acc: 0.7810\n",
      "Epoch 53/100\n",
      "837/837 - 0s - loss: 0.4418 - acc: 0.8041 - val_loss: 0.4812 - val_acc: 0.7810\n",
      "Epoch 54/100\n",
      "837/837 - 0s - loss: 0.4490 - acc: 0.7993 - val_loss: 0.4756 - val_acc: 0.8000\n",
      "Epoch 55/100\n",
      "\n",
      "Epoch 00055: saving model to ./checkpoint1.x/Titanic_55-0.48.ckpt\n",
      "837/837 - 0s - loss: 0.4410 - acc: 0.8017 - val_loss: 0.4781 - val_acc: 0.7905\n",
      "Epoch 56/100\n",
      "837/837 - 0s - loss: 0.4356 - acc: 0.7945 - val_loss: 0.4753 - val_acc: 0.7952\n",
      "Epoch 57/100\n",
      "837/837 - 0s - loss: 0.4419 - acc: 0.7969 - val_loss: 0.4733 - val_acc: 0.8000\n",
      "Epoch 58/100\n",
      "837/837 - 0s - loss: 0.4465 - acc: 0.8017 - val_loss: 0.4739 - val_acc: 0.8000\n",
      "Epoch 59/100\n",
      "837/837 - 0s - loss: 0.4464 - acc: 0.7921 - val_loss: 0.4729 - val_acc: 0.8000\n",
      "Epoch 60/100\n",
      "\n",
      "Epoch 00060: saving model to ./checkpoint1.x/Titanic_60-0.47.ckpt\n",
      "837/837 - 0s - loss: 0.4425 - acc: 0.8029 - val_loss: 0.4735 - val_acc: 0.8000\n",
      "Epoch 61/100\n",
      "837/837 - 0s - loss: 0.4405 - acc: 0.8065 - val_loss: 0.4725 - val_acc: 0.7810\n",
      "Epoch 62/100\n",
      "837/837 - 0s - loss: 0.4479 - acc: 0.7993 - val_loss: 0.4764 - val_acc: 0.7905\n",
      "Epoch 63/100\n",
      "837/837 - 0s - loss: 0.4453 - acc: 0.8076 - val_loss: 0.4724 - val_acc: 0.7952\n",
      "Epoch 64/100\n",
      "837/837 - 0s - loss: 0.4374 - acc: 0.8017 - val_loss: 0.4734 - val_acc: 0.7952\n",
      "Epoch 65/100\n",
      "\n",
      "Epoch 00065: saving model to ./checkpoint1.x/Titanic_65-0.47.ckpt\n",
      "837/837 - 0s - loss: 0.4444 - acc: 0.8076 - val_loss: 0.4730 - val_acc: 0.8000\n",
      "Epoch 66/100\n",
      "837/837 - 0s - loss: 0.4354 - acc: 0.8148 - val_loss: 0.4708 - val_acc: 0.7857\n",
      "Epoch 67/100\n",
      "837/837 - 0s - loss: 0.4461 - acc: 0.8053 - val_loss: 0.4771 - val_acc: 0.7857\n",
      "Epoch 68/100\n",
      "837/837 - 0s - loss: 0.4363 - acc: 0.8112 - val_loss: 0.4703 - val_acc: 0.8000\n",
      "Epoch 69/100\n",
      "837/837 - 0s - loss: 0.4454 - acc: 0.7969 - val_loss: 0.4703 - val_acc: 0.8000\n",
      "Epoch 70/100\n",
      "\n",
      "Epoch 00070: saving model to ./checkpoint1.x/Titanic_70-0.47.ckpt\n",
      "837/837 - 0s - loss: 0.4356 - acc: 0.8124 - val_loss: 0.4699 - val_acc: 0.8048\n",
      "Epoch 71/100\n",
      "837/837 - 0s - loss: 0.4393 - acc: 0.8136 - val_loss: 0.4703 - val_acc: 0.7952\n",
      "Epoch 72/100\n",
      "837/837 - 0s - loss: 0.4376 - acc: 0.8112 - val_loss: 0.4721 - val_acc: 0.8000\n",
      "Epoch 73/100\n",
      "837/837 - 0s - loss: 0.4319 - acc: 0.8053 - val_loss: 0.4697 - val_acc: 0.8000\n",
      "Epoch 74/100\n",
      "837/837 - 0s - loss: 0.4449 - acc: 0.8053 - val_loss: 0.4683 - val_acc: 0.8048\n",
      "Epoch 75/100\n",
      "\n",
      "Epoch 00075: saving model to ./checkpoint1.x/Titanic_75-0.47.ckpt\n",
      "837/837 - 0s - loss: 0.4364 - acc: 0.7993 - val_loss: 0.4732 - val_acc: 0.7762\n",
      "Epoch 76/100\n",
      "837/837 - 0s - loss: 0.4381 - acc: 0.8053 - val_loss: 0.4678 - val_acc: 0.7905\n",
      "Epoch 77/100\n",
      "837/837 - 0s - loss: 0.4374 - acc: 0.8100 - val_loss: 0.4681 - val_acc: 0.7952\n",
      "Epoch 78/100\n",
      "837/837 - 0s - loss: 0.4395 - acc: 0.8124 - val_loss: 0.4694 - val_acc: 0.7952\n"
     ]
    },
    {
     "name": "stdout",
     "output_type": "stream",
     "text": [
      "Epoch 79/100\n",
      "837/837 - 0s - loss: 0.4398 - acc: 0.8124 - val_loss: 0.4671 - val_acc: 0.7857\n",
      "Epoch 80/100\n",
      "\n",
      "Epoch 00080: saving model to ./checkpoint1.x/Titanic_80-0.47.ckpt\n",
      "837/837 - 0s - loss: 0.4360 - acc: 0.8076 - val_loss: 0.4673 - val_acc: 0.7857\n",
      "Epoch 81/100\n",
      "837/837 - 0s - loss: 0.4307 - acc: 0.8005 - val_loss: 0.4703 - val_acc: 0.7905\n",
      "Epoch 82/100\n",
      "837/837 - 0s - loss: 0.4401 - acc: 0.7981 - val_loss: 0.4666 - val_acc: 0.8000\n",
      "Epoch 83/100\n",
      "837/837 - 0s - loss: 0.4311 - acc: 0.8017 - val_loss: 0.4678 - val_acc: 0.7952\n",
      "Epoch 84/100\n",
      "837/837 - 0s - loss: 0.4296 - acc: 0.8172 - val_loss: 0.4673 - val_acc: 0.8000\n",
      "Epoch 85/100\n",
      "\n",
      "Epoch 00085: saving model to ./checkpoint1.x/Titanic_85-0.46.ckpt\n",
      "837/837 - 0s - loss: 0.4384 - acc: 0.8029 - val_loss: 0.4634 - val_acc: 0.7857\n",
      "Epoch 86/100\n",
      "837/837 - 0s - loss: 0.4345 - acc: 0.8076 - val_loss: 0.4666 - val_acc: 0.7905\n",
      "Epoch 87/100\n",
      "837/837 - 0s - loss: 0.4307 - acc: 0.8053 - val_loss: 0.4650 - val_acc: 0.8000\n",
      "Epoch 88/100\n",
      "837/837 - 0s - loss: 0.4394 - acc: 0.8148 - val_loss: 0.4638 - val_acc: 0.8000\n",
      "Epoch 89/100\n",
      "837/837 - 0s - loss: 0.4355 - acc: 0.8053 - val_loss: 0.4648 - val_acc: 0.8000\n",
      "Epoch 90/100\n",
      "\n",
      "Epoch 00090: saving model to ./checkpoint1.x/Titanic_90-0.46.ckpt\n",
      "837/837 - 0s - loss: 0.4326 - acc: 0.8100 - val_loss: 0.4623 - val_acc: 0.8000\n",
      "Epoch 91/100\n",
      "837/837 - 0s - loss: 0.4387 - acc: 0.8029 - val_loss: 0.4658 - val_acc: 0.7905\n",
      "Epoch 92/100\n",
      "837/837 - 0s - loss: 0.4285 - acc: 0.8065 - val_loss: 0.4613 - val_acc: 0.7905\n",
      "Epoch 93/100\n",
      "837/837 - 0s - loss: 0.4355 - acc: 0.8088 - val_loss: 0.4656 - val_acc: 0.7905\n",
      "Epoch 94/100\n",
      "837/837 - 0s - loss: 0.4318 - acc: 0.8136 - val_loss: 0.4629 - val_acc: 0.7952\n",
      "Epoch 95/100\n",
      "\n",
      "Epoch 00095: saving model to ./checkpoint1.x/Titanic_95-0.46.ckpt\n",
      "837/837 - 0s - loss: 0.4386 - acc: 0.7981 - val_loss: 0.4639 - val_acc: 0.8000\n",
      "Epoch 96/100\n",
      "837/837 - 0s - loss: 0.4346 - acc: 0.8041 - val_loss: 0.4647 - val_acc: 0.7857\n",
      "Epoch 97/100\n",
      "837/837 - 0s - loss: 0.4256 - acc: 0.8160 - val_loss: 0.4608 - val_acc: 0.8048\n",
      "Epoch 98/100\n",
      "837/837 - 0s - loss: 0.4357 - acc: 0.8029 - val_loss: 0.4613 - val_acc: 0.8000\n",
      "Epoch 99/100\n",
      "837/837 - 0s - loss: 0.4265 - acc: 0.8041 - val_loss: 0.4614 - val_acc: 0.7952\n",
      "Epoch 100/100\n",
      "\n",
      "Epoch 00100: saving model to ./checkpoint1.x/Titanic_100-0.46.ckpt\n",
      "837/837 - 0s - loss: 0.4243 - acc: 0.8148 - val_loss: 0.4611 - val_acc: 0.8000\n"
     ]
    }
   ],
   "source": [
    "train_history = model.fit(x=x_train,\n",
    "              y=y_train,\n",
    "              validation_split=0.2,\n",
    "              epochs=100,\n",
    "              batch_size=40,\n",
    "              callbacks=callbacks,\n",
    "              verbose=2)"
   ]
  },
  {
   "cell_type": "markdown",
   "metadata": {},
   "source": [
    "## 训练可视化"
   ]
  },
  {
   "cell_type": "code",
   "execution_count": 9,
   "metadata": {},
   "outputs": [
    {
     "data": {
      "image/png": "[encoded data removed]",
      "text/plain": [
       "<Figure size 720x360 with 2 Axes>"
      ]
     },
     "metadata": {
      "needs_background": "light"
     },
     "output_type": "display_data"
    }
   ],
   "source": [
    "fig = plt.gcf()\n",
    "fig.set_size_inches(10, 5)\n",
    "ax1 = fig.add_subplot(111)\n",
    "ax1.set_title('Train and Validation Picture')\n",
    "ax1.set_ylabel('Loss value')\n",
    "line1, = ax1.plot(train_history.history['loss'], color=(0.5, 0.5, 1.0), label='Loss train')\n",
    "line2, = ax1.plot(train_history.history['val_loss'], color=(0.5, 1.0, 0.5), label='Loss valid')\n",
    "ax2 = ax1.twinx()\n",
    "ax2.set_ylabel('Accuracy value')\n",
    "line3, = ax2.plot(train_history.history['acc'], color=(0.5, 0.5, 0.5), label='Accuracy train')\n",
    "line4, = ax2.plot(train_history.history['val_acc'], color=(1, 0, 0), label='Accuracy valid')\n",
    "plt.legend(handles=(line1, line2, line3, line4), loc='best')\n",
    "plt.show()"
   ]
  },
  {
   "cell_type": "markdown",
   "metadata": {},
   "source": [
    "## 模型预测"
   ]
  },
  {
   "cell_type": "code",
   "execution_count": 10,
   "metadata": {},
   "outputs": [
    {
     "name": "stdout",
     "output_type": "stream",
     "text": [
      "Rose survived probability: 0.9762004 \n",
      "Jack survived probability: 0.10789904\n"
     ]
    }
   ],
   "source": [
    "Jack_info = [0, 'Jack', 3, 'male', 23, 1, 0, 5.0000, 'S']\n",
    "Rose_info = [1, 'Rose', 1, 'female', 20, 1, 0, 100.0000, 'S']\n",
    "\n",
    "new_passenger_pd = pd.DataFrame([Jack_info, Rose_info], columns=selected_cols)\n",
    "all_passenger_pd = selected_dataframe.append(new_passenger_pd)\n",
    "\n",
    "pred = model.predict(prepare_data(all_passenger_pd)[0])\n",
    "\n",
    "print('Rose survived probability:', pred[-1:][0][0],\n",
    "      '\\nJack survived probability:', pred[-2:][0][0])"
   ]
  },
  {
   "cell_type": "markdown",
   "metadata": {},
   "source": [
    "## 加载模型进行预测"
   ]
  },
  {
   "cell_type": "code",
   "execution_count": 11,
   "metadata": {},
   "outputs": [],
   "source": [
    "model = tf.keras.models.Sequential([\n",
    "    tf.keras.layers.Dense(units=64,\n",
    "                          input_dim=7,\n",
    "                          use_bias=True,\n",
    "                          kernel_initializer='uniform',\n",
    "                          bias_initializer='zeros',\n",
    "                          activation='relu'),\n",
    "    tf.keras.layers.Dropout(rate=0.3),\n",
    "    tf.keras.layers.Dense(units=32, activation='sigmoid'),\n",
    "    tf.keras.layers.Dropout(rate=0.3),\n",
    "    tf.keras.layers.Dense(units=1, activation='sigmoid')\n",
    "])\n",
    "\n",
    "model.compile(optimizer=tf.keras.optimizers.Adam(0.003),\n",
    "              loss='binary_crossentropy',\n",
    "              metrics=['accuracy'])"
   ]
  },
  {
   "cell_type": "code",
   "execution_count": 12,
   "metadata": {},
   "outputs": [
    {
     "data": {
      "text/plain": [
       "<tensorflow.python.training.tracking.util.CheckpointLoadStatus at 0x1f9aa2a0a20>"
      ]
     },
     "execution_count": 12,
     "metadata": {},
     "output_type": "execute_result"
    }
   ],
   "source": [
    "checkpoint_dir = os.path.dirname(checkpoint_path)\n",
    "latest = tf.train.latest_checkpoint(checkpoint_dir)\n",
    "model.load_weights(latest)"
   ]
  },
  {
   "cell_type": "code",
   "execution_count": 13,
   "metadata": {},
   "outputs": [
    {
     "name": "stdout",
     "output_type": "stream",
     "text": [
      "262/262 [==============================] - 0s 244us/sample - loss: 0.4393 - acc: 0.7977\n"
     ]
    }
   ],
   "source": [
    "loss, acc = model.evaluate(x_test, y_test)"
   ]
  }
 ],
 "metadata": {
  "kernelspec": {
   "display_name": "Python 3",
   "language": "python",
   "name": "python3"
  },
  "language_info": {
   "codemirror_mode": {
    "name": "ipython",
    "version": 3
   },
   "file_extension": ".py",
   "mimetype": "text/x-python",
   "name": "python",
   "nbconvert_exporter": "python",
   "pygments_lexer": "ipython3",
   "version": "3.6.2"
  }
 },
 "nbformat": 4,
 "nbformat_minor": 4
}
