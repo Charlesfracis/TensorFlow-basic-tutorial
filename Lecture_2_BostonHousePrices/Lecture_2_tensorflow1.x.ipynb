{
 "cells": [
  {
   "cell_type": "markdown",
   "metadata": {},
   "source": [
    "## 知识储备\n",
    "### numpy 简易矩阵运算"
   ]
  },
  {
   "cell_type": "code",
   "execution_count": 1,
   "metadata": {},
   "outputs": [],
   "source": [
    "import numpy as np"
   ]
  },
  {
   "cell_type": "markdown",
   "metadata": {},
   "source": [
    "### 向量属于矩阵范畴，至少两个维度，如下两个 cell 均为数组\n",
    "#### 数组"
   ]
  },
  {
   "cell_type": "code",
   "execution_count": 2,
   "metadata": {},
   "outputs": [
    {
     "name": "stdout",
     "output_type": "stream",
     "text": [
      "scalar_value type: <class 'int'>\n",
      "scalar_value: 520\n",
      "INFO:'int' object has no attribute 'shape'\n",
      "INFO:transform scalar to array, we get scalar_np as a array\n",
      "scalar_np type : <class 'numpy.ndarray'>\n",
      "scalar_np shape: ()\n",
      "scalar_np value: 520\n"
     ]
    }
   ],
   "source": [
    "scalar_value = 520\n",
    "print('scalar_value type:',type(scalar_value))\n",
    "print('scalar_value:',scalar_value)\n",
    "try:\n",
    "    print('scalar_value shape:',scalar_value.shape)\n",
    "except AttributeError:\n",
    "    print('INFO:\\'int\\' object has no attribute \\'shape\\'')\n",
    "finally:\n",
    "    scalar_np = np.array(scalar_value)\n",
    "    print('INFO:transform scalar to array, we get scalar_np as a array')\n",
    "print('scalar_np type :', type(scalar_np))\n",
    "print('scalar_np shape:', scalar_np.shape)\n",
    "print('scalar_np value:', scalar_np)"
   ]
  },
  {
   "cell_type": "code",
   "execution_count": 3,
   "metadata": {},
   "outputs": [
    {
     "name": "stdout",
     "output_type": "stream",
     "text": [
      "vector_value type: <class 'list'>\n",
      "vector_value: [520, 521, 1314]\n",
      "INFO:'list' object has no attribute 'shape'\n",
      "INFO:transform list to array, we get vector_np as a array\n",
      "vector_np type : <class 'numpy.ndarray'>\n",
      "vector_np shape: (3,)\n",
      "vector_np value: [ 520  521 1314]\n"
     ]
    }
   ],
   "source": [
    "vector_value = [520, 521, 1314]\n",
    "print('vector_value type:',type(vector_value))\n",
    "print('vector_value:',vector_value)\n",
    "try:\n",
    "    print('scalar_value shape:',vector_value.shape)\n",
    "except AttributeError:\n",
    "    print('INFO:\\'list\\' object has no attribute \\'shape\\'')\n",
    "finally:\n",
    "    vector_np = np.array(vector_value)\n",
    "    print('INFO:transform list to array, we get vector_np as a array')\n",
    "print('vector_np type :', type(vector_np))\n",
    "print('vector_np shape:', vector_np.shape)\n",
    "print('vector_np value:', vector_np)"
   ]
  },
  {
   "cell_type": "markdown",
   "metadata": {},
   "source": [
    "#### 矩阵"
   ]
  },
  {
   "cell_type": "code",
   "execution_count": 4,
   "metadata": {},
   "outputs": [
    {
     "name": "stdout",
     "output_type": "stream",
     "text": [
      "matrix_value type: <class 'list'>\n",
      "matrix_value type: [[520, 521, 1314], [5.2, 5.21, 1.314]]\n",
      "INFO:'list' object has no attribute 'shape'\n",
      "INFO:transform list to matrix, we get matrix_np as a matrix\n",
      "matrix_np type : <class 'numpy.ndarray'>\n",
      "matrix_np shape: (2, 3)\n",
      "matrix_np value:\n",
      " [[ 520.     521.    1314.   ]\n",
      " [   5.2      5.21     1.314]]\n"
     ]
    }
   ],
   "source": [
    "matrix_value = [[520, 521, 1314], [5.20, 5.21, 1.314]]\n",
    "print('matrix_value type:',type(matrix_value))\n",
    "print('matrix_value type:',matrix_value)\n",
    "try:\n",
    "    print('scalar_value shape:',matrix_value.shape)\n",
    "except AttributeError:\n",
    "    print('INFO:\\'list\\' object has no attribute \\'shape\\'')\n",
    "finally:\n",
    "    matrix_np = np.array(matrix_value)\n",
    "    print('INFO:transform list to matrix, we get matrix_np as a matrix')\n",
    "print('matrix_np type :', type(matrix_np))\n",
    "print('matrix_np shape:', matrix_np.shape)\n",
    "print('matrix_np value:\\n', matrix_np)"
   ]
  },
  {
   "cell_type": "markdown",
   "metadata": {},
   "source": [
    "#### 行向量"
   ]
  },
  {
   "cell_type": "code",
   "execution_count": 5,
   "metadata": {},
   "outputs": [
    {
     "name": "stdout",
     "output_type": "stream",
     "text": [
      "[[1 2 3]] shape= (1, 3)\n"
     ]
    }
   ],
   "source": [
    "vector_row = np.array([[1, 2, 3]])\n",
    "print(vector_row, 'shape=', vector_row.shape)"
   ]
  },
  {
   "cell_type": "markdown",
   "metadata": {},
   "source": [
    "#### 列向量"
   ]
  },
  {
   "cell_type": "code",
   "execution_count": 6,
   "metadata": {},
   "outputs": [
    {
     "name": "stdout",
     "output_type": "stream",
     "text": [
      "[[1]\n",
      " [2]\n",
      " [3]] shape= (3, 1)\n"
     ]
    }
   ],
   "source": [
    "vector_column = np.array([[1], [2], [3]])\n",
    "print(vector_column, 'shape=', vector_column.shape)"
   ]
  },
  {
   "cell_type": "markdown",
   "metadata": {},
   "source": [
    "#### 行列转置，使用 numpy.T 进行转置，对任意维度矩阵适用"
   ]
  },
  {
   "cell_type": "code",
   "execution_count": 7,
   "metadata": {},
   "outputs": [
    {
     "name": "stdout",
     "output_type": "stream",
     "text": [
      "[[1 2 3]] shape= (1, 3) \n",
      " *******line*******\n",
      " [[1]\n",
      " [2]\n",
      " [3]] Tshape= (3, 1)\n"
     ]
    }
   ],
   "source": [
    "print(vector_row, 'shape=', vector_row.shape, '\\n',\n",
    "      '*******line*******\\n',\n",
    "      vector_row.T, 'Tshape=', vector_row.T.shape)"
   ]
  },
  {
   "cell_type": "code",
   "execution_count": 8,
   "metadata": {},
   "outputs": [
    {
     "name": "stdout",
     "output_type": "stream",
     "text": [
      "raw matrix:\n",
      " [[1 2 3]\n",
      " [4 5 6]] \n",
      "raw matrix shape: (2, 3) \n",
      "Tmatrix:\n",
      " [[1 4]\n",
      " [2 5]\n",
      " [3 6]] \n",
      "Tmatrix shape: (3, 2)\n"
     ]
    }
   ],
   "source": [
    "matrix = np.array([[1, 2, 3], [4, 5, 6]])\n",
    "print('raw matrix:\\n', matrix,\n",
    "      '\\nraw matrix shape:', matrix.shape,\n",
    "     '\\nTmatrix:\\n', matrix.T,\n",
    "     '\\nTmatrix shape:', matrix.T.shape)"
   ]
  },
  {
   "cell_type": "code",
   "execution_count": 9,
   "metadata": {},
   "outputs": [
    {
     "name": "stdout",
     "output_type": "stream",
     "text": [
      "raw matrix:\n",
      " [[[1 2 3]\n",
      "  [4 5 6]]\n",
      "\n",
      " [[2 5 6]\n",
      "  [2 3 9]]] \n",
      "raw matrix shape: (2, 2, 3) \n",
      "Tmatrix:\n",
      " [[[1 2]\n",
      "  [4 2]]\n",
      "\n",
      " [[2 5]\n",
      "  [5 3]]\n",
      "\n",
      " [[3 6]\n",
      "  [6 9]]] \n",
      "Tmatrix shape: (3, 2, 2)\n"
     ]
    }
   ],
   "source": [
    "matrix = np.array([[[1, 2, 3], [4, 5, 6]], [[2, 5, 6], [2, 3, 9]]])\n",
    "print('raw matrix:\\n', matrix,\n",
    "      '\\nraw matrix shape:', matrix.shape,\n",
    "     '\\nTmatrix:\\n', matrix.T,\n",
    "     '\\nTmatrix shape:', matrix.T.shape)"
   ]
  },
  {
   "cell_type": "markdown",
   "metadata": {},
   "source": [
    "#### 矩阵运算仅讨论矩阵乘除，加减太易舍去  \n",
    "#### 点乘有两种方式 ，* & numpy.multiply"
   ]
  },
  {
   "cell_type": "code",
   "execution_count": 10,
   "metadata": {},
   "outputs": [
    {
     "name": "stdout",
     "output_type": "stream",
     "text": [
      "matrix_result_1 is equal to matrix_result_2\n",
      "matrix_1 multiply matrix_2 is:\n",
      " [[ 1  4  9]\n",
      " [16 25 36]]\n"
     ]
    }
   ],
   "source": [
    "matrix_1 = np.array([[1, 2, 3], [4, 5, 6]])\n",
    "matrix_2 = np.array([[1, 2, 3], [4, 5, 6]])\n",
    "matrix_result_1 = matrix_1 * matrix_2\n",
    "matrix_result_2 = np.multiply(matrix_1, matrix_2)\n",
    "if (matrix_result_1==matrix_result_2).all():\n",
    "    print('matrix_result_1 is equal to matrix_result_2')\n",
    "print('matrix_1 multiply matrix_2 is:\\n', matrix_result_1)"
   ]
  },
  {
   "cell_type": "markdown",
   "metadata": {},
   "source": [
    "#### 叉乘只有 matmul 一种计算方式，是线性代数，机器学习，图像处理较为默认的乘法"
   ]
  },
  {
   "cell_type": "code",
   "execution_count": 11,
   "metadata": {},
   "outputs": [
    {
     "name": "stdout",
     "output_type": "stream",
     "text": [
      "matrix_1 matmul matrix_2 is:\n",
      " [[22 28]\n",
      " [49 64]]\n"
     ]
    }
   ],
   "source": [
    "matrix_1 = np.array([[1, 2, 3], [4, 5, 6]])\n",
    "matrix_2 = np.array([[1, 2], [3, 4], [5, 6]])\n",
    "matrix_result_3 = np.matmul(matrix_1, matrix_2)\n",
    "print('matrix_1 matmul matrix_2 is:\\n', matrix_result_3)"
   ]
  },
  {
   "cell_type": "markdown",
   "metadata": {},
   "source": [
    "#### numpy 拓展部分，判断矩阵是否相等\n",
    "any() 用于每一个元素相对应判断，存在元素相等，则相等  \n",
    "all() 用于判断矩阵是否全等，全部元素相等则相等  \n",
    "判断两个矩阵相等时，最好需要维度相同，维度不同会报严重警告(elementwise comparison failed; this will raise an error in the future)，甚至引起程序崩溃"
   ]
  },
  {
   "cell_type": "code",
   "execution_count": 12,
   "metadata": {},
   "outputs": [],
   "source": [
    "matrix_1 = np.array([[1, 2, 3], [4, 5, 6]])\n",
    "matrix_2 = np.array([[1, 3, 2], [4, 5, 7]])"
   ]
  },
  {
   "cell_type": "markdown",
   "metadata": {},
   "source": [
    "矩阵比较返回元素为 bool 值的矩阵"
   ]
  },
  {
   "cell_type": "code",
   "execution_count": 13,
   "metadata": {},
   "outputs": [
    {
     "name": "stdout",
     "output_type": "stream",
     "text": [
      "bool_matrix:\n",
      " [[ True False False]\n",
      " [ True  True False]]\n"
     ]
    }
   ],
   "source": [
    "bool_matrix = matrix_1==matrix_2\n",
    "print('bool_matrix:\\n', bool_matrix)"
   ]
  },
  {
   "cell_type": "code",
   "execution_count": 14,
   "metadata": {},
   "outputs": [
    {
     "name": "stdout",
     "output_type": "stream",
     "text": [
      "matrix_1 is equal to matrix_2 in some positions\n",
      "bool_matrix.any(): True\n",
      "matrix_1 is not equal to matrix_2 in all positions\n",
      "bool_matrix.all(): False\n"
     ]
    }
   ],
   "source": [
    "print('matrix_1 is equal to matrix_2 in some positions')\n",
    "print('bool_matrix.any():', bool_matrix.any())\n",
    "print('matrix_1 is not equal to matrix_2 in all positions')\n",
    "print('bool_matrix.all():', bool_matrix.all())"
   ]
  },
  {
   "cell_type": "markdown",
   "metadata": {},
   "source": [
    "### 前请函数解释\n",
    "#### pd.read_csv()\n",
    "官方文档详解函数：[pd.read_csv()](https://pandas.pydata.org/docs/reference/api/pandas.read_csv.html?highlight=read_csv)  \n",
    "这里主要介绍其中 header 参数，header 表示第几行作为标题，采用的 CSV 示例文件如下  \n",
    "<img style=\"float: left;\" src=\"data/demo_frame.png\">"
   ]
  },
  {
   "cell_type": "code",
   "execution_count": 15,
   "metadata": {},
   "outputs": [],
   "source": [
    "import pandas as pd"
   ]
  },
  {
   "cell_type": "code",
   "execution_count": 16,
   "metadata": {},
   "outputs": [
    {
     "name": "stdout",
     "output_type": "stream",
     "text": [
      "header = 0\n",
      "   title A title A.1 title A.2\n",
      "0  title B   title B   title B\n",
      "1  title C   title C   title C\n",
      "*******----*******\n",
      "header = 1\n",
      "   title B title B.1 title B.2\n",
      "0  title C   title C   title C\n",
      "*******----*******\n",
      "header = 2\n",
      "Empty DataFrame\n",
      "Columns: [title C, title C.1, title C.2]\n",
      "Index: []\n"
     ]
    }
   ],
   "source": [
    "for i in range(0, 3):\n",
    "    demo_frame = pd.read_csv('./data/demo.csv', header=i)\n",
    "    print('header = %d' % i)\n",
    "    print(demo_frame)\n",
    "    if i < 2:\n",
    "        print('*******----*******')"
   ]
  },
  {
   "cell_type": "markdown",
   "metadata": {},
   "source": [
    "#### random_normal 函数解析\n",
    "tensorflow.random_normal(shape, mean=0.0, stddev=1.0, dtype=tf.float32, seed=None, name=None)\n",
    "从正态分布中输出随机值  \n",
    "参数:  \n",
    "&ensp;&ensp;&ensp;&ensp;shape: 一维的张量，也是输出的张量  \n",
    "&ensp;&ensp;&ensp;&ensp;mean: 正态分布的均值  \n",
    "&ensp;&ensp;&ensp;&ensp;stddev: 正态分布的标准差  \n",
    "&ensp;&ensp;&ensp;&ensp;dtype: 输出的类型  \n",
    "&ensp;&ensp;&ensp;&ensp;seed: 一个整数，当设置之后，每次生成的随机数都一样  \n",
    "&ensp;&ensp;&ensp;&ensp;name: 操作的名字  \n",
    "下面展示了生成一个 N(0, 1)分布的数据"
   ]
  },
  {
   "cell_type": "code",
   "execution_count": 17,
   "metadata": {},
   "outputs": [],
   "source": [
    "import tensorflow as tf\n",
    "import matplotlib.pyplot as plt\n",
    "\n",
    "\n",
    "demo_value=tf.random.normal([1000, 1], mean=0, stddev=1)"
   ]
  },
  {
   "cell_type": "code",
   "execution_count": 18,
   "metadata": {},
   "outputs": [
    {
     "data": {
      "image/png": "[encoded data removed]",
      "text/plain": [
       "<Figure size 432x288 with 1 Axes>"
      ]
     },
     "metadata": {
      "needs_background": "light"
     },
     "output_type": "display_data"
    }
   ],
   "source": [
    "with tf.Session() as sess:\n",
    "    value = sess.run(demo_value)\n",
    "\n",
    "x_value = []\n",
    "y_value = []\n",
    "step = 0.1\n",
    "neg_boundary = -3\n",
    "pos_boundary = 3\n",
    "for i in range(int((pos_boundary - neg_boundary) /step)):\n",
    "    y =((neg_boundary + i * step < value) & (value < neg_boundary + (i + 1) * step)).sum()\n",
    "    x_value.append(round((neg_boundary + i * step + step / 2), 3))\n",
    "    y_value.append(y)\n",
    "\n",
    "plt.bar(x_value, y_value, width=0.1)\n",
    "plt.title('Standard normal distribution')\n",
    "plt.show()"
   ]
  },
  {
   "cell_type": "markdown",
   "metadata": {},
   "source": [
    "### numpy 随机整数生成\n",
    "numpy.random.randint(low, high=None, size=None, dtype=int)  \n",
    "参数：  \n",
    "&ensp;&ensp;&ensp;&ensp;low：从分布中得出的最低（带符号）整数（除非 high=None，在这种情况下此参数比最高整数高1）  \n",
    "&ensp;&ensp;&ensp;&ensp;high：如果设置，则从分布中得出的最大（有符号）整数之上（如果 high=None，则参照上述），如果是数组，则必须包含整数值  \n",
    "&ensp;&ensp;&ensp;&ensp;size：输出形状。 如果给定的形状是例如（m，n，k），则绘制m * n * k个样本。 默认值为无，在这种情况下，将返回单个值。  \n",
    "&ensp;&ensp;&ensp;&ensp;dtype：可选，默认值为int。  \n",
    "返回值：  \n",
    "&ensp;&ensp;&ensp;&ensp;整数的 int 或 ndarray 如果未提供大小，则为单个这样的随机整数"
   ]
  },
  {
   "cell_type": "code",
   "execution_count": 19,
   "metadata": {},
   "outputs": [
    {
     "name": "stdout",
     "output_type": "stream",
     "text": [
      "return value: 8\n"
     ]
    }
   ],
   "source": [
    "intb = np.random.randint(1, 10)\n",
    "\n",
    "print('return value:', intb)"
   ]
  },
  {
   "cell_type": "markdown",
   "metadata": {},
   "source": [
    "### 多元线性回归模型\n",
    "#### 房价和多个特征变量相关，波士顿房价采用多元线性回归进行建模，结果可以由不同特征的输入值和对应的权重相乘求和，加上偏置项计算求解  \n",
    "$Y = x1*w1 + x2*w2 + … + xn*wn + b$  \n",
    "\n",
    "$Y = \\sum_{k=0}^nx_k*w_k+b$  \n",
    "\n",
    "&ensp;&ensp;&ensp;&ensp;&ensp;&ensp;&ensp;&ensp;&ensp;&ensp;&ensp;&ensp;&ensp;&ensp;&ensp;&ensp;&ensp;&ensp;&ensp;&ensp;&ensp;&ensp;&ensp;&ensp;&ensp;&ensp;&ensp;&ensp;&ensp;&ensp;&ensp;&ensp;&ensp;&ensp;&ensp;&ensp;&ensp;&ensp;&ensp;&ensp;&ensp;&ensp;&ensp;&ensp;&ensp;&ensp;&ensp;&ensp;&ensp;&ensp;&ensp;&ensp;&ensp;&ensp;&ensp;&ensp;&ensp;&ensp;&ensp;**用矩阵表示为**  \n",
    "\n",
    "$\n",
    "\\begin{matrix}\n",
    "     Y &  & X &  & W &  & bias\\\\\n",
    "    \\begin{matrix}\n",
    "        Y\n",
    "    \\end{matrix} &\n",
    "   = &\n",
    "    \\left[\\begin{array}{rr}\n",
    "        x_1\n",
    "        x_2\n",
    "       \\cdots\n",
    "        x_n\n",
    "    \\end{array}\\right] &\n",
    "   × &\n",
    "    \\left[\\begin{array}{rr}\n",
    "        w_1\\\\\n",
    "        w_2\\\\\n",
    "       \\vdots \\\\\n",
    "        w_n\n",
    "    \\end{array}\\right] &\n",
    "    + &\n",
    "    \\begin{matrix}\n",
    "        b\n",
    "    \\end{matrix}\n",
    "\\end{matrix}\n",
    "$\n",
    "<img style=\"float: left;\" src=\"data/Neurons.png\">  \n",
    "<br /><br /><br /><br /><br /><br /><br /><br />\n",
    "**结果由不同特征值的输入值和对应的权重相乘求和，加上偏置项计算求解**"
   ]
  },
  {
   "cell_type": "markdown",
   "metadata": {},
   "source": [
    "### 导入必要的包"
   ]
  },
  {
   "cell_type": "code",
   "execution_count": 20,
   "metadata": {},
   "outputs": [],
   "source": [
    "import tensorflow as tf\n",
    "import matplotlib.pyplot as plt\n",
    "import numpy as np\n",
    "import pandas as pd\n",
    "from sklearn.utils import shuffle\n",
    "import os"
   ]
  },
  {
   "cell_type": "markdown",
   "metadata": {},
   "source": [
    "### 数据读取\n",
    "等同于 pd.read_csv('boston.csv', header=0)"
   ]
  },
  {
   "cell_type": "code",
   "execution_count": 21,
   "metadata": {},
   "outputs": [],
   "source": [
    "data_frame = pd.read_csv('./data/boston.csv')"
   ]
  },
  {
   "cell_type": "markdown",
   "metadata": {},
   "source": [
    "### 数据描述"
   ]
  },
  {
   "cell_type": "code",
   "execution_count": 22,
   "metadata": {},
   "outputs": [
    {
     "data": {
      "text/html": [
       "<div>\n",
       "<style scoped>\n",
       "    .dataframe tbody tr th:only-of-type {\n",
       "        vertical-align: middle;\n",
       "    }\n",
       "\n",
       "    .dataframe tbody tr th {\n",
       "        vertical-align: top;\n",
       "    }\n",
       "\n",
       "    .dataframe thead th {\n",
       "        text-align: right;\n",
       "    }\n",
       "</style>\n",
       "<table border=\"1\" class=\"dataframe\">\n",
       "  <thead>\n",
       "    <tr style=\"text-align: right;\">\n",
       "      <th></th>\n",
       "      <th>CRIM</th>\n",
       "      <th>ZN</th>\n",
       "      <th>INDUS</th>\n",
       "      <th>CHAS</th>\n",
       "      <th>NOX</th>\n",
       "      <th>RM</th>\n",
       "      <th>AGE</th>\n",
       "      <th>DIS</th>\n",
       "      <th>RAD</th>\n",
       "      <th>TAX</th>\n",
       "      <th>PTRATIO</th>\n",
       "      <th>LSTAT</th>\n",
       "      <th>MEDV</th>\n",
       "    </tr>\n",
       "  </thead>\n",
       "  <tbody>\n",
       "    <tr>\n",
       "      <th>count</th>\n",
       "      <td>506.000000</td>\n",
       "      <td>506.000000</td>\n",
       "      <td>506.000000</td>\n",
       "      <td>506.000000</td>\n",
       "      <td>506.000000</td>\n",
       "      <td>506.000000</td>\n",
       "      <td>506.000000</td>\n",
       "      <td>506.000000</td>\n",
       "      <td>506.000000</td>\n",
       "      <td>506.000000</td>\n",
       "      <td>506.000000</td>\n",
       "      <td>506.000000</td>\n",
       "      <td>506.000000</td>\n",
       "    </tr>\n",
       "    <tr>\n",
       "      <th>mean</th>\n",
       "      <td>3.613524</td>\n",
       "      <td>11.363636</td>\n",
       "      <td>11.136779</td>\n",
       "      <td>0.069170</td>\n",
       "      <td>0.554695</td>\n",
       "      <td>6.284634</td>\n",
       "      <td>68.574901</td>\n",
       "      <td>3.795043</td>\n",
       "      <td>9.549407</td>\n",
       "      <td>408.237154</td>\n",
       "      <td>18.455534</td>\n",
       "      <td>12.653063</td>\n",
       "      <td>22.532806</td>\n",
       "    </tr>\n",
       "    <tr>\n",
       "      <th>std</th>\n",
       "      <td>8.601545</td>\n",
       "      <td>23.322453</td>\n",
       "      <td>6.860353</td>\n",
       "      <td>0.253994</td>\n",
       "      <td>0.115878</td>\n",
       "      <td>0.702617</td>\n",
       "      <td>28.148861</td>\n",
       "      <td>2.105710</td>\n",
       "      <td>8.707259</td>\n",
       "      <td>168.537116</td>\n",
       "      <td>2.164946</td>\n",
       "      <td>7.141062</td>\n",
       "      <td>9.197104</td>\n",
       "    </tr>\n",
       "    <tr>\n",
       "      <th>min</th>\n",
       "      <td>0.006320</td>\n",
       "      <td>0.000000</td>\n",
       "      <td>0.460000</td>\n",
       "      <td>0.000000</td>\n",
       "      <td>0.385000</td>\n",
       "      <td>3.561000</td>\n",
       "      <td>2.900000</td>\n",
       "      <td>1.129600</td>\n",
       "      <td>1.000000</td>\n",
       "      <td>187.000000</td>\n",
       "      <td>12.600000</td>\n",
       "      <td>1.730000</td>\n",
       "      <td>5.000000</td>\n",
       "    </tr>\n",
       "    <tr>\n",
       "      <th>25%</th>\n",
       "      <td>0.082045</td>\n",
       "      <td>0.000000</td>\n",
       "      <td>5.190000</td>\n",
       "      <td>0.000000</td>\n",
       "      <td>0.449000</td>\n",
       "      <td>5.885500</td>\n",
       "      <td>45.025000</td>\n",
       "      <td>2.100175</td>\n",
       "      <td>4.000000</td>\n",
       "      <td>279.000000</td>\n",
       "      <td>17.400000</td>\n",
       "      <td>6.950000</td>\n",
       "      <td>17.025000</td>\n",
       "    </tr>\n",
       "    <tr>\n",
       "      <th>50%</th>\n",
       "      <td>0.256510</td>\n",
       "      <td>0.000000</td>\n",
       "      <td>9.690000</td>\n",
       "      <td>0.000000</td>\n",
       "      <td>0.538000</td>\n",
       "      <td>6.208500</td>\n",
       "      <td>77.500000</td>\n",
       "      <td>3.207450</td>\n",
       "      <td>5.000000</td>\n",
       "      <td>330.000000</td>\n",
       "      <td>19.050000</td>\n",
       "      <td>11.360000</td>\n",
       "      <td>21.200000</td>\n",
       "    </tr>\n",
       "    <tr>\n",
       "      <th>75%</th>\n",
       "      <td>3.677082</td>\n",
       "      <td>12.500000</td>\n",
       "      <td>18.100000</td>\n",
       "      <td>0.000000</td>\n",
       "      <td>0.624000</td>\n",
       "      <td>6.623500</td>\n",
       "      <td>94.075000</td>\n",
       "      <td>5.188425</td>\n",
       "      <td>24.000000</td>\n",
       "      <td>666.000000</td>\n",
       "      <td>20.200000</td>\n",
       "      <td>16.955000</td>\n",
       "      <td>25.000000</td>\n",
       "    </tr>\n",
       "    <tr>\n",
       "      <th>max</th>\n",
       "      <td>88.976200</td>\n",
       "      <td>100.000000</td>\n",
       "      <td>27.740000</td>\n",
       "      <td>1.000000</td>\n",
       "      <td>0.871000</td>\n",
       "      <td>8.780000</td>\n",
       "      <td>100.000000</td>\n",
       "      <td>12.126500</td>\n",
       "      <td>24.000000</td>\n",
       "      <td>711.000000</td>\n",
       "      <td>22.000000</td>\n",
       "      <td>37.970000</td>\n",
       "      <td>50.000000</td>\n",
       "    </tr>\n",
       "  </tbody>\n",
       "</table>\n",
       "</div>"
      ],
      "text/plain": [
       "             CRIM         ZN       INDUS         CHAS         NOX          RM  \\\n",
       "count  506.000000  506.000000  506.000000  506.000000  506.000000  506.000000   \n",
       "mean     3.613524   11.363636   11.136779    0.069170    0.554695    6.284634   \n",
       "std      8.601545   23.322453    6.860353    0.253994    0.115878    0.702617   \n",
       "min      0.006320    0.000000    0.460000    0.000000    0.385000    3.561000   \n",
       "25%      0.082045    0.000000    5.190000    0.000000    0.449000    5.885500   \n",
       "50%      0.256510    0.000000    9.690000    0.000000    0.538000    6.208500   \n",
       "75%      3.677082   12.500000   18.100000    0.000000    0.624000    6.623500   \n",
       "max     88.976200  100.000000   27.740000    1.000000    0.871000    8.780000   \n",
       "\n",
       "              AGE         DIS         RAD         TAX     PTRATIO       LSTAT  \\\n",
       "count  506.000000  506.000000  506.000000  506.000000  506.000000  506.000000   \n",
       "mean    68.574901    3.795043    9.549407  408.237154   18.455534   12.653063   \n",
       "std     28.148861    2.105710    8.707259  168.537116    2.164946    7.141062   \n",
       "min      2.900000    1.129600    1.000000  187.000000   12.600000    1.730000   \n",
       "25%     45.025000    2.100175    4.000000  279.000000   17.400000    6.950000   \n",
       "50%     77.500000    3.207450    5.000000  330.000000   19.050000   11.360000   \n",
       "75%     94.075000    5.188425   24.000000  666.000000   20.200000   16.955000   \n",
       "max    100.000000   12.126500   24.000000  711.000000   22.000000   37.970000   \n",
       "\n",
       "             MEDV  \n",
       "count  506.000000  \n",
       "mean    22.532806  \n",
       "std      9.197104  \n",
       "min      5.000000  \n",
       "25%     17.025000  \n",
       "50%     21.200000  \n",
       "75%     25.000000  \n",
       "max     50.000000  "
      ]
     },
     "execution_count": 22,
     "metadata": {},
     "output_type": "execute_result"
    }
   ],
   "source": [
    "data_frame.describe()"
   ]
  },
  {
   "cell_type": "markdown",
   "metadata": {},
   "source": [
    "### 查看数据值并转为 numpy 格式\n",
    "使用 pandas 中的 values 与 numpy.array 等价"
   ]
  },
  {
   "cell_type": "code",
   "execution_count": 23,
   "metadata": {},
   "outputs": [
    {
     "data": {
      "text/plain": [
       "array([[6.3200e-03, 1.8000e+01, 2.3100e+00, ..., 1.5300e+01, 4.9800e+00,\n",
       "        2.4000e+01],\n",
       "       [2.7310e-02, 0.0000e+00, 7.0700e+00, ..., 1.7800e+01, 9.1400e+00,\n",
       "        2.1600e+01],\n",
       "       [2.7290e-02, 0.0000e+00, 7.0700e+00, ..., 1.7800e+01, 4.0300e+00,\n",
       "        3.4700e+01],\n",
       "       ...,\n",
       "       [6.0760e-02, 0.0000e+00, 1.1930e+01, ..., 2.1000e+01, 5.6400e+00,\n",
       "        2.3900e+01],\n",
       "       [1.0959e-01, 0.0000e+00, 1.1930e+01, ..., 2.1000e+01, 6.4800e+00,\n",
       "        2.2000e+01],\n",
       "       [4.7410e-02, 0.0000e+00, 1.1930e+01, ..., 2.1000e+01, 7.8800e+00,\n",
       "        1.1900e+01]])"
      ]
     },
     "execution_count": 23,
     "metadata": {},
     "output_type": "execute_result"
    }
   ],
   "source": [
    "data_frame.values"
   ]
  },
  {
   "cell_type": "code",
   "execution_count": 24,
   "metadata": {},
   "outputs": [],
   "source": [
    "data_frame = np.array(data_frame)"
   ]
  },
  {
   "cell_type": "code",
   "execution_count": 25,
   "metadata": {},
   "outputs": [
    {
     "data": {
      "text/plain": [
       "array([[6.3200e-03, 1.8000e+01, 2.3100e+00, ..., 1.5300e+01, 4.9800e+00,\n",
       "        2.4000e+01],\n",
       "       [2.7310e-02, 0.0000e+00, 7.0700e+00, ..., 1.7800e+01, 9.1400e+00,\n",
       "        2.1600e+01],\n",
       "       [2.7290e-02, 0.0000e+00, 7.0700e+00, ..., 1.7800e+01, 4.0300e+00,\n",
       "        3.4700e+01],\n",
       "       ...,\n",
       "       [6.0760e-02, 0.0000e+00, 1.1930e+01, ..., 2.1000e+01, 5.6400e+00,\n",
       "        2.3900e+01],\n",
       "       [1.0959e-01, 0.0000e+00, 1.1930e+01, ..., 2.1000e+01, 6.4800e+00,\n",
       "        2.2000e+01],\n",
       "       [4.7410e-02, 0.0000e+00, 1.1930e+01, ..., 2.1000e+01, 7.8800e+00,\n",
       "        1.1900e+01]])"
      ]
     },
     "execution_count": 25,
     "metadata": {},
     "output_type": "execute_result"
    }
   ],
   "source": [
    "data_frame"
   ]
  },
  {
   "cell_type": "markdown",
   "metadata": {},
   "source": [
    "### 数据归一化，防止训练权值越界"
   ]
  },
  {
   "cell_type": "code",
   "execution_count": 26,
   "metadata": {},
   "outputs": [],
   "source": [
    "for i in range(data_frame.shape[1] - 1):\n",
    "    data_frame[:, i] = data_frame[:, i] / (data_frame[:, i].max() - data_frame[:, i].min())"
   ]
  },
  {
   "cell_type": "markdown",
   "metadata": {},
   "source": [
    "### 获取数据集  \n",
    "前 11 列作为输入数据 X，最后一列作为预测值 Y"
   ]
  },
  {
   "cell_type": "code",
   "execution_count": 27,
   "metadata": {},
   "outputs": [],
   "source": [
    "x_data = data_frame[:, :12]\n",
    "y_data = data_frame[:, 12]"
   ]
  },
  {
   "cell_type": "code",
   "execution_count": 28,
   "metadata": {},
   "outputs": [
    {
     "name": "stdout",
     "output_type": "stream",
     "text": [
      "x_data:\n",
      " [[7.10352762e-05 1.80000000e-01 8.46774194e-02 ... 5.64885496e-01\n",
      "  1.62765957e+00 1.37417219e-01]\n",
      " [3.06957815e-04 0.00000000e+00 2.59164223e-01 ... 4.61832061e-01\n",
      "  1.89361702e+00 2.52207506e-01]\n",
      " [3.06733020e-04 0.00000000e+00 2.59164223e-01 ... 4.61832061e-01\n",
      "  1.89361702e+00 1.11203091e-01]\n",
      " ...\n",
      " [6.82927750e-04 0.00000000e+00 4.37316716e-01 ... 5.20992366e-01\n",
      "  2.23404255e+00 1.55629139e-01]\n",
      " [1.23176518e-03 0.00000000e+00 4.37316716e-01 ... 5.20992366e-01\n",
      "  2.23404255e+00 1.78807947e-01]\n",
      " [5.32876969e-04 0.00000000e+00 4.37316716e-01 ... 5.20992366e-01\n",
      "  2.23404255e+00 2.17439294e-01]] \n",
      " x_data shape: (506, 12) \n",
      "y_data:\n",
      " [24.  21.6 34.7 33.4 36.2 28.7 22.9 27.1 16.5 18.9 15.  18.9 21.7 20.4\n",
      " 18.2 19.9 23.1 17.5 20.2 18.2 13.6 19.6 15.2 14.5 15.6 13.9 16.6 14.8\n",
      " 18.4 21.  12.7 14.5 13.2 13.1 13.5 18.9 20.  21.  24.7 30.8 34.9 26.6\n",
      " 25.3 24.7 21.2 19.3 20.  16.6 14.4 19.4 19.7 20.5 25.  23.4 18.9 35.4\n",
      " 24.7 31.6 23.3 19.6 18.7 16.  22.2 25.  33.  23.5 19.4 22.  17.4 20.9\n",
      " 24.2 21.7 22.8 23.4 24.1 21.4 20.  20.8 21.2 20.3 28.  23.9 24.8 22.9\n",
      " 23.9 26.6 22.5 22.2 23.6 28.7 22.6 22.  22.9 25.  20.6 28.4 21.4 38.7\n",
      " 43.8 33.2 27.5 26.5 18.6 19.3 20.1 19.5 19.5 20.4 19.8 19.4 21.7 22.8\n",
      " 18.8 18.7 18.5 18.3 21.2 19.2 20.4 19.3 22.  20.3 20.5 17.3 18.8 21.4\n",
      " 15.7 16.2 18.  14.3 19.2 19.6 23.  18.4 15.6 18.1 17.4 17.1 13.3 17.8\n",
      " 14.  14.4 13.4 15.6 11.8 13.8 15.6 14.6 17.8 15.4 21.5 19.6 15.3 19.4\n",
      " 17.  15.6 13.1 41.3 24.3 23.3 27.  50.  50.  50.  22.7 25.  50.  23.8\n",
      " 23.8 22.3 17.4 19.1 23.1 23.6 22.6 29.4 23.2 24.6 29.9 37.2 39.8 36.2\n",
      " 37.9 32.5 26.4 29.6 50.  32.  29.8 34.9 37.  30.5 36.4 31.1 29.1 50.\n",
      " 33.3 30.3 34.6 34.9 32.9 24.1 42.3 48.5 50.  22.6 24.4 22.5 24.4 20.\n",
      " 21.7 19.3 22.4 28.1 23.7 25.  23.3 28.7 21.5 23.  26.7 21.7 27.5 30.1\n",
      " 44.8 50.  37.6 31.6 46.7 31.5 24.3 31.7 41.7 48.3 29.  24.  25.1 31.5\n",
      " 23.7 23.3 22.  20.1 22.2 23.7 17.6 18.5 24.3 20.5 24.5 26.2 24.4 24.8\n",
      " 29.6 42.8 21.9 20.9 44.  50.  36.  30.1 33.8 43.1 48.8 31.  36.5 22.8\n",
      " 30.7 50.  43.5 20.7 21.1 25.2 24.4 35.2 32.4 32.  33.2 33.1 29.1 35.1\n",
      " 45.4 35.4 46.  50.  32.2 22.  20.1 23.2 22.3 24.8 28.5 37.3 27.9 23.9\n",
      " 21.7 28.6 27.1 20.3 22.5 29.  24.8 22.  26.4 33.1 36.1 28.4 33.4 28.2\n",
      " 22.8 20.3 16.1 22.1 19.4 21.6 23.8 16.2 17.8 19.8 23.1 21.  23.8 23.1\n",
      " 20.4 18.5 25.  24.6 23.  22.2 19.3 22.6 19.8 17.1 19.4 22.2 20.7 21.1\n",
      " 19.5 18.5 20.6 19.  18.7 32.7 16.5 23.9 31.2 17.5 17.2 23.1 24.5 26.6\n",
      " 22.9 24.1 18.6 30.1 18.2 20.6 17.8 21.7 22.7 22.6 25.  19.9 20.8 16.8\n",
      " 21.9 27.5 21.9 23.1 50.  50.  50.  50.  50.  13.8 13.8 15.  13.9 13.3\n",
      " 13.1 10.2 10.4 10.9 11.3 12.3  8.8  7.2 10.5  7.4 10.2 11.5 15.1 23.2\n",
      "  9.7 13.8 12.7 13.1 12.5  8.5  5.   6.3  5.6  7.2 12.1  8.3  8.5  5.\n",
      " 11.9 27.9 17.2 27.5 15.  17.2 17.9 16.3  7.   7.2  7.5 10.4  8.8  8.4\n",
      " 16.7 14.2 20.8 13.4 11.7  8.3 10.2 10.9 11.   9.5 14.5 14.1 16.1 14.3\n",
      " 11.7 13.4  9.6  8.7  8.4 12.8 10.5 17.1 18.4 15.4 10.8 11.8 14.9 12.6\n",
      " 14.1 13.  13.4 15.2 16.1 17.8 14.9 14.1 12.7 13.5 14.9 20.  16.4 17.7\n",
      " 19.5 20.2 21.4 19.9 19.  19.1 19.1 20.1 19.9 19.6 23.2 29.8 13.8 13.3\n",
      " 16.7 12.  14.6 21.4 23.  23.7 25.  21.8 20.6 21.2 19.1 20.6 15.2  7.\n",
      "  8.1 13.6 20.1 21.8 24.5 23.1 19.7 18.3 21.2 17.5 16.8 22.4 20.6 23.9\n",
      " 22.  11.9] \n",
      " y_data shape: (506,)\n"
     ]
    }
   ],
   "source": [
    "print('x_data:\\n', x_data, '\\n x_data shape:', x_data.shape,\n",
    "      '\\ny_data:\\n', y_data, '\\n y_data shape:', y_data.shape)"
   ]
  },
  {
   "cell_type": "markdown",
   "metadata": {},
   "source": [
    "### 定义占位符"
   ]
  },
  {
   "cell_type": "code",
   "execution_count": 29,
   "metadata": {},
   "outputs": [],
   "source": [
    "x = tf.placeholder(tf.float32, [None, 12], name='X')\n",
    "y = tf.placeholder(tf.float32, [None, 1], name='Y')"
   ]
  },
  {
   "cell_type": "markdown",
   "metadata": {},
   "source": [
    "### 定义命名空间 Model 与 构建模型函数\n",
    "定义命名空间可以打包节点，让计算图结构更清晰"
   ]
  },
  {
   "cell_type": "code",
   "execution_count": 30,
   "metadata": {},
   "outputs": [],
   "source": [
    "with tf.name_scope('Model'):\n",
    "    w = tf.Variable(tf.random_normal([12, 1], stddev=0.01), name='W')\n",
    "    b = tf.Variable(1.0, name='b')\n",
    "    \n",
    "    def model(x, w, b):\n",
    "        return tf.matmul(x, w) + b\n",
    "    \n",
    "    pred = model(x, w ,b)"
   ]
  },
  {
   "cell_type": "markdown",
   "metadata": {},
   "source": [
    "### 定义损失函数"
   ]
  },
  {
   "cell_type": "code",
   "execution_count": 31,
   "metadata": {},
   "outputs": [],
   "source": [
    "with tf.name_scope('LossFunction'):\n",
    "    loss_function = tf.reduce_mean(tf.pow(y - pred, 2))"
   ]
  },
  {
   "cell_type": "markdown",
   "metadata": {},
   "source": [
    "### 设置训练参数"
   ]
  },
  {
   "cell_type": "code",
   "execution_count": 32,
   "metadata": {},
   "outputs": [],
   "source": [
    "epochs = 50\n",
    "learning_rate = 0.01"
   ]
  },
  {
   "cell_type": "markdown",
   "metadata": {},
   "source": [
    "### 定义优化器"
   ]
  },
  {
   "cell_type": "code",
   "execution_count": 33,
   "metadata": {},
   "outputs": [
    {
     "name": "stdout",
     "output_type": "stream",
     "text": [
      "WARNING:tensorflow:From e:\\anaconda3\\envs\\tensorflow1.x\\lib\\site-packages\\tensorflow_core\\python\\ops\\math_grad.py:1375: where (from tensorflow.python.ops.array_ops) is deprecated and will be removed in a future version.\n",
      "Instructions for updating:\n",
      "Use tf.where in 2.0, which has the same broadcast rule as np.where\n"
     ]
    }
   ],
   "source": [
    "optimizer = tf.train.GradientDescentOptimizer(learning_rate).minimize(loss_function)"
   ]
  },
  {
   "cell_type": "markdown",
   "metadata": {},
   "source": [
    "### 开始训练\n",
    "#### 涵盖 Tensorboard"
   ]
  },
  {
   "cell_type": "code",
   "execution_count": 34,
   "metadata": {},
   "outputs": [
    {
     "name": "stdout",
     "output_type": "stream",
     "text": [
      "Epoch= 1/50 loss= 44.36376162181637 b= 3.6082392 w [[-0.61358154]\n",
      " [ 1.3902991 ]\n",
      " [-0.78287196]\n",
      " [ 0.49665412]\n",
      " [ 2.5197265 ]\n",
      " [ 7.1593394 ]\n",
      " [-0.04586804]\n",
      " [ 0.7978922 ]\n",
      " [ 0.38454556]\n",
      " [ 0.33141565]\n",
      " [ 2.3138394 ]\n",
      " [-4.384208  ]]\n",
      "Epoch= 2/50 loss= 32.05423488627696 b= 3.9966288 w [[-1.1634868 ]\n",
      " [ 1.9710737 ]\n",
      " [-1.5125314 ]\n",
      " [ 0.8511441 ]\n",
      " [ 2.8942776 ]\n",
      " [10.59934   ]\n",
      " [-0.81460434]\n",
      " [ 0.35743412]\n",
      " [ 0.6326702 ]\n",
      " [-0.26026857]\n",
      " [ 1.1513541 ]\n",
      " [-8.102988  ]]\n",
      "Epoch= 3/50 loss= 27.350397844739224 b= 4.2778187 w [[ -1.6615973 ]\n",
      " [  2.1865597 ]\n",
      " [ -1.9621956 ]\n",
      " [  1.0607146 ]\n",
      " [  3.174087  ]\n",
      " [ 13.197606  ]\n",
      " [ -1.1921828 ]\n",
      " [ -0.17588389]\n",
      " [  0.93867946]\n",
      " [ -0.76183224]\n",
      " [  0.22019048]\n",
      " [-10.961069  ]]\n",
      "Epoch= 4/50 loss= 24.67874733553951 b= 4.499357 w [[ -2.1191452 ]\n",
      " [  2.2116997 ]\n",
      " [ -2.2387874 ]\n",
      " [  1.155407  ]\n",
      " [  3.3569262 ]\n",
      " [ 15.18931   ]\n",
      " [ -1.3551385 ]\n",
      " [ -0.720205  ]\n",
      " [  1.2623832 ]\n",
      " [ -1.1940883 ]\n",
      " [ -0.51334757]\n",
      " [-13.183671  ]]\n",
      "Epoch= 5/50 loss= 23.108708636053727 b= 4.688322 w [[ -2.5437162]\n",
      " [  2.1445124]\n",
      " [ -2.4058952]\n",
      " [  1.1696162]\n",
      " [  3.4524512]\n",
      " [ 16.733997 ]\n",
      " [ -1.4021738]\n",
      " [ -1.2365769]\n",
      " [  1.5825466]\n",
      " [ -1.5713823]\n",
      " [ -1.0837208]\n",
      " [-14.92653  ]]\n",
      "Epoch= 6/50 loss= 22.162980492065845 b= 4.8601446 w [[ -2.9405851]\n",
      " [  2.039186 ]\n",
      " [ -2.502025 ]\n",
      " [  1.1326731]\n",
      " [  3.4745092]\n",
      " [ 17.943005 ]\n",
      " [ -1.3883893]\n",
      " [ -1.7089293]\n",
      " [  1.8886471]\n",
      " [ -1.9039292]\n",
      " [ -1.5223482]\n",
      " [-16.300667 ]]\n",
      "Epoch= 7/50 loss= 21.582078033593156 b= 5.0235963 w [[ -3.3135514]\n",
      " [  1.9249107]\n",
      " [ -2.5509856]\n",
      " [  1.0665686]\n",
      " [  3.437385 ]\n",
      " [ 18.89612  ]\n",
      " [ -1.3444384]\n",
      " [ -2.1330624]\n",
      " [  2.1761227]\n",
      " [ -2.199256 ]\n",
      " [ -1.8562623]\n",
      " [-17.387499 ]]\n",
      "Epoch= 8/50 loss= 21.21858796253521 b= 5.1836114 w [[ -3.6654427]\n",
      " [  1.8166763]\n",
      " [ -2.5678675]\n",
      " [  0.9865053]\n",
      " [  3.3541408]\n",
      " [ 19.651827 ]\n",
      " [ -1.287248 ]\n",
      " [ -2.5106244]\n",
      " [  2.4436452]\n",
      " [ -2.4631138]\n",
      " [ -2.1079454]\n",
      " [-18.248072 ]]\n",
      "Epoch= 9/50 loss= 20.98609608583309 b= 5.34291 w [[ -3.9984372]\n",
      " [  1.7214592]\n",
      " [ -2.562476 ]\n",
      " [  0.9023268]\n",
      " [  3.2360077]\n",
      " [ 20.25381  ]\n",
      " [ -1.2260355]\n",
      " [ -2.8458622]\n",
      " [  2.6915743]\n",
      " [ -2.7000332]\n",
      " [ -2.295686 ]\n",
      " [-18.92911  ]]\n",
      "Epoch=10/50 loss= 20.83289614906839 b= 5.502944 w [[ -4.3142633]\n",
      " [  1.6417857]\n",
      " [ -2.541376 ]\n",
      " [  0.8199827]\n",
      " [  3.0922706]\n",
      " [ 20.735264 ]\n",
      " [ -1.1656926]\n",
      " [ -3.1439083]\n",
      " [  2.9210706]\n",
      " [ -2.9136877]\n",
      " [ -2.434161 ]\n",
      " [-19.46687  ]]\n",
      "Epoch=11/50 loss= 20.727674358863045 b= 5.6644297 w [[ -4.614333 ]\n",
      " [  1.5777926]\n",
      " [ -2.5090876]\n",
      " [  0.7427619]\n",
      " [  2.9304273]\n",
      " [ 21.121683 ]\n",
      " [ -1.1087097]\n",
      " [ -3.4099085]\n",
      " [  3.1336062]\n",
      " [ -3.107125 ]\n",
      " [ -2.5350118]\n",
      " [-19.88983  ]]\n",
      "Epoch=12/50 loss= 20.65136029172561 b= 5.827638 w [[ -4.8998303 ]\n",
      " [  1.5283986 ]\n",
      " [ -2.4688056 ]\n",
      " [  0.67221755]\n",
      " [  2.7564192 ]\n",
      " [ 21.432867  ]\n",
      " [ -1.0562254 ]\n",
      " [ -3.6486173 ]\n",
      " [  3.3307195 ]\n",
      " [ -3.282915  ]\n",
      " [ -2.6073923 ]\n",
      " [-20.220572  ]]\n",
      "Epoch=13/50 loss= 20.59234089270691 b= 5.992631 w [[ -5.171767  ]\n",
      " [  1.4919808 ]\n",
      " [ -2.4228518 ]\n",
      " [  0.60882646]\n",
      " [  2.5748923 ]\n",
      " [ 21.684288  ]\n",
      " [ -1.0086495 ]\n",
      " [ -3.8642356 ]\n",
      " [  3.513876  ]\n",
      " [ -3.4432528 ]\n",
      " [ -2.6584709 ]\n",
      " [-20.477106  ]]\n",
      "Epoch=14/50 loss= 20.543594519594674 b= 6.159311 w [[ -5.4310265]\n",
      " [  1.4667425]\n",
      " [ -2.3729525]\n",
      " [  0.5524365]\n",
      " [  2.389399 ]\n",
      " [ 21.888142 ]\n",
      " [ -0.9659982]\n",
      " [ -4.060365 ]\n",
      " [  3.6844156]\n",
      " [ -3.5900328]\n",
      " [ -2.6938102]\n",
      " [-20.67386  ]]\n",
      "Epoch=15/50 loss= 20.500907251999408 b= 6.3275228 w [[ -5.678387 ]\n",
      " [  1.4509208]\n",
      " [ -2.3204195]\n",
      " [  0.5025619]\n",
      " [  2.2026575]\n",
      " [ 22.054035 ]\n",
      " [ -0.9280768]\n",
      " [ -4.240055 ]\n",
      " [  3.8435261]\n",
      " [ -3.7248847]\n",
      " [ -2.7177062]\n",
      " [-20.822517 ]]\n",
      "Epoch=16/50 loss= 20.46181149938205 b= 6.497078 w [[ -5.914539  ]\n",
      " [  1.4428834 ]\n",
      " [ -2.2662497 ]\n",
      " [  0.45856166]\n",
      " [  2.016688  ]\n",
      " [ 22.189545  ]\n",
      " [ -0.89459103]\n",
      " [ -4.405856  ]\n",
      " [  3.992256  ]\n",
      " [ -3.8492289 ]\n",
      " [ -2.7334433 ]\n",
      " [-20.9324    ]]\n",
      "Epoch=17/50 loss= 20.424895686599342 b= 6.667768 w [[ -6.140114  ]\n",
      " [  1.44118   ]\n",
      " [ -2.2112324 ]\n",
      " [  0.4197528 ]\n",
      " [  1.8329719 ]\n",
      " [ 22.30077   ]\n",
      " [ -0.86521435]\n",
      " [ -4.5598893 ]\n",
      " [  4.1315184 ]\n",
      " [ -3.9643128 ]\n",
      " [ -2.7435496 ]\n",
      " [-21.011127  ]]\n",
      "Epoch=18/50 loss= 20.389364116952457 b= 6.839404 w [[ -6.3556843 ]\n",
      " [  1.4445462 ]\n",
      " [ -2.1559808 ]\n",
      " [  0.38547453]\n",
      " [  1.6525749 ]\n",
      " [ 22.392462  ]\n",
      " [ -0.83959806]\n",
      " [ -4.7038846 ]\n",
      " [  4.262114  ]\n",
      " [ -4.0712013 ]\n",
      " [ -2.7499154 ]\n",
      " [-21.064856  ]]\n",
      "Epoch=19/50 loss= 20.354819105177846 b= 7.011788 w [[ -6.5617666]\n",
      " [  1.4519032]\n",
      " [ -2.1009734]\n",
      " [  0.3551197]\n",
      " [  1.4762262]\n",
      " [ 22.468447 ]\n",
      " [ -0.817409 ]\n",
      " [ -4.839278 ]\n",
      " [  4.384739 ]\n",
      " [ -4.1708407]\n",
      " [ -2.7539678]\n",
      " [-21.098518 ]]\n",
      "Epoch=20/50 loss= 20.321066230368274 b= 7.1847377 w [[ -6.758847  ]\n",
      " [  1.462344  ]\n",
      " [ -2.046592  ]\n",
      " [  0.32815012]\n",
      " [  1.3044137 ]\n",
      " [ 22.531757  ]\n",
      " [ -0.7983255 ]\n",
      " [ -4.9672527 ]\n",
      " [  4.5000086 ]\n",
      " [ -4.2640495 ]\n",
      " [ -2.7567577 ]\n",
      " [-21.116165  ]]\n",
      "Epoch=21/50 loss= 20.288045121062584 b= 7.3580875 w [[ -6.947371  ]\n",
      " [  1.4751091 ]\n",
      " [ -1.9931383 ]\n",
      " [  0.30409428]\n",
      " [  1.1374224 ]\n",
      " [ 22.58484   ]\n",
      " [ -0.7820485 ]\n",
      " [ -5.0887733 ]\n",
      " [  4.608472  ]\n",
      " [ -4.3515277 ]\n",
      " [ -2.7590597 ]\n",
      " [-21.121138  ]]\n",
      "Epoch=22/50 loss= 20.25575161660507 b= 7.53168 w [[ -7.127748  ]\n",
      " [  1.4895691 ]\n",
      " [ -1.9408408 ]\n",
      " [  0.28254932]\n",
      " [  0.9753977 ]\n",
      " [ 22.629616  ]\n",
      " [ -0.7682964 ]\n",
      " [ -5.20463   ]\n",
      " [  4.710611  ]\n",
      " [ -4.4339075 ]\n",
      " [ -2.7614305 ]\n",
      " [-21.116035  ]]\n",
      "Epoch=23/50 loss= 20.224188989165743 b= 7.705372 w [[ -7.300362  ]\n",
      " [  1.5052154 ]\n",
      " [ -1.8898816 ]\n",
      " [  0.26317504]\n",
      " [  0.81838757]\n",
      " [ 22.667591  ]\n",
      " [ -0.7568089 ]\n",
      " [ -5.315471  ]\n",
      " [  4.8068624 ]\n",
      " [ -4.511719  ]\n",
      " [ -2.7642472 ]\n",
      " [-21.10302   ]]\n",
      "Epoch=24/50 loss= 20.19340851470419 b= 7.8790417 w [[ -7.4655867 ]\n",
      " [  1.5216309 ]\n",
      " [ -1.840389  ]\n",
      " [  0.24568199]\n",
      " [  0.66634226]\n",
      " [ 22.700012  ]\n",
      " [ -0.747349  ]\n",
      " [ -5.4218373 ]\n",
      " [  4.897623  ]\n",
      " [ -4.5854354 ]\n",
      " [ -2.7677746 ]\n",
      " [-21.083885  ]]\n",
      "Epoch=25/50 loss= 20.163421265417604 b= 8.052558 w [[ -7.62375   ]\n",
      " [  1.5384773 ]\n",
      " [ -1.7924659 ]\n",
      " [  0.22982806]\n",
      " [  0.5191712 ]\n",
      " [ 22.727842  ]\n",
      " [ -0.73969495]\n",
      " [ -5.524183  ]\n",
      " [  4.983246  ]\n",
      " [ -4.6554537 ]\n",
      " [ -2.772175  ]\n",
      " [-21.060022  ]]\n",
      "Epoch=26/50 loss= 20.134258326489224 b= 8.225821 w [[ -7.7751727 ]\n",
      " [  1.5554901 ]\n",
      " [ -1.7461786 ]\n",
      " [  0.21540861]\n",
      " [  0.37673625]\n",
      " [ 22.751858  ]\n",
      " [ -0.73364747]\n",
      " [ -5.622858  ]\n",
      " [  5.0640645 ]\n",
      " [ -4.722145  ]\n",
      " [ -2.7775433 ]\n",
      " [-21.032585  ]]\n",
      "Epoch=27/50 loss= 20.105925555436453 b= 8.39873 w [[ -7.920153  ]\n",
      " [  1.5724577 ]\n",
      " [ -1.7015723 ]\n",
      " [  0.20225331]\n",
      " [  0.23887931]\n",
      " [ 22.772667  ]\n",
      " [ -0.7290201 ]\n",
      " [ -5.7181883 ]\n",
      " [  5.140381  ]\n",
      " [ -4.7857957 ]\n",
      " [ -2.7839186 ]\n",
      " [-21.00253   ]]\n",
      "Epoch=28/50 loss= 20.078425887850496 b= 8.571204 w [[ -8.05898   ]\n",
      " [  1.589217  ]\n",
      " [ -1.6586695 ]\n",
      " [  0.19021748]\n",
      " [  0.10542111]\n",
      " [ 22.790745  ]\n",
      " [ -0.72564715]\n",
      " [ -5.8104167 ]\n",
      " [  5.212481  ]\n",
      " [ -4.8466783 ]\n",
      " [ -2.7913082 ]\n",
      " [-20.970558  ]]\n",
      "Epoch=29/50 loss= 20.0517621841335 b= 8.74316 w [[ -8.1919155 ]\n",
      " [  1.6056422 ]\n",
      " [ -1.6174786 ]\n",
      " [  0.17917821]\n",
      " [ -0.02382718]\n",
      " [ 22.806507  ]\n",
      " [ -0.7233785 ]\n",
      " [ -5.899774  ]\n",
      " [  5.2806277 ]\n",
      " [ -4.905032  ]\n",
      " [ -2.7996893 ]\n",
      " [-20.937336  ]]\n",
      "Epoch=30/50 loss= 20.02592395081357 b= 8.914511 w [[ -8.319214  ]\n",
      " [  1.6216383 ]\n",
      " [ -1.5779915 ]\n",
      " [  0.16903299]\n",
      " [ -0.1490524 ]\n",
      " [ 22.820246  ]\n",
      " [ -0.72207385]\n",
      " [ -5.9864345 ]\n",
      " [  5.3450737 ]\n",
      " [ -4.961058  ]\n",
      " [ -2.809013  ]\n",
      " [-20.903328  ]]\n",
      "Epoch=31/50 loss= 20.000896898726523 b= 9.085213 w [[ -8.441134  ]\n",
      " [  1.6371353 ]\n",
      " [ -1.5401899 ]\n",
      " [  0.15969308]\n",
      " [ -0.27044353]\n",
      " [ 22.832201  ]\n",
      " [ -0.72160834]\n",
      " [ -6.070565  ]\n",
      " [  5.40603   ]\n",
      " [ -5.014933  ]\n",
      " [ -2.8192334 ]\n",
      " [-20.868929  ]]\n",
      "Epoch=32/50 loss= 19.97665891190261 b= 9.255196 w [[ -8.557898  ]\n",
      " [  1.6520857 ]\n",
      " [ -1.5040495 ]\n",
      " [  0.15108235]\n",
      " [ -0.38818836]\n",
      " [ 22.842588  ]\n",
      " [ -0.7218718 ]\n",
      " [ -6.1523085 ]\n",
      " [  5.463731  ]\n",
      " [ -5.0668206 ]\n",
      " [ -2.8302908 ]\n",
      " [-20.834446  ]]\n",
      "Epoch=33/50 loss= 19.95319578549893 b= 9.424397 w [[ -8.669727  ]\n",
      " [  1.6664575 ]\n",
      " [ -1.4695336 ]\n",
      " [  0.14313462]\n",
      " [ -0.5024625 ]\n",
      " [ 22.851566  ]\n",
      " [ -0.7227611 ]\n",
      " [ -6.2317796 ]\n",
      " [  5.518368  ]\n",
      " [ -5.1168423 ]\n",
      " [ -2.8421173 ]\n",
      " [-20.800175  ]]\n",
      "Epoch=34/50 loss= 19.93047733632358 b= 9.592768 w [[ -8.776834  ]\n",
      " [  1.6802297 ]\n",
      " [ -1.4366028 ]\n",
      " [  0.1357941 ]\n",
      " [ -0.6134418 ]\n",
      " [ 22.859257  ]\n",
      " [ -0.72418535]\n",
      " [ -6.309089  ]\n",
      " [  5.5701194 ]\n",
      " [ -5.1651335 ]\n",
      " [ -2.854647  ]\n",
      " [-20.766262  ]]\n",
      "Epoch=35/50 loss= 19.90847829670731 b= 9.760281 w [[ -8.879423  ]\n",
      " [  1.6933943 ]\n",
      " [ -1.4052128 ]\n",
      " [  0.1290096 ]\n",
      " [ -0.7212885 ]\n",
      " [ 22.865751  ]\n",
      " [ -0.72606295]\n",
      " [ -6.384329  ]\n",
      " [  5.6191764 ]\n",
      " [ -5.2118006 ]\n",
      " [ -2.8678143 ]\n",
      " [-20.732899  ]]\n"
     ]
    },
    {
     "name": "stdout",
     "output_type": "stream",
     "text": [
      "Epoch=36/50 loss= 19.887178841751577 b= 9.926888 w [[ -8.977676  ]\n",
      " [  1.7059516 ]\n",
      " [ -1.3753171 ]\n",
      " [  0.12273783]\n",
      " [ -0.82615954]\n",
      " [ 22.87114   ]\n",
      " [ -0.7283195 ]\n",
      " [ -6.4575963 ]\n",
      " [  5.6656938 ]\n",
      " [ -5.256926  ]\n",
      " [ -2.8815567 ]\n",
      " [-20.700203  ]]\n",
      "Epoch=37/50 loss= 19.866550607122903 b= 10.092561 w [[ -9.071771  ]\n",
      " [  1.7179054 ]\n",
      " [ -1.3468691 ]\n",
      " [  0.11693829]\n",
      " [ -0.92820954]\n",
      " [ 22.87553   ]\n",
      " [ -0.7308962 ]\n",
      " [ -6.528964  ]\n",
      " [  5.7098308 ]\n",
      " [ -5.300618  ]\n",
      " [ -2.8958268 ]\n",
      " [-20.668247  ]]\n",
      "Epoch=38/50 loss= 19.846562185365336 b= 10.257248 w [[ -9.161888  ]\n",
      " [  1.7292677 ]\n",
      " [ -1.3198135 ]\n",
      " [  0.11157613]\n",
      " [ -1.0275695 ]\n",
      " [ 22.878937  ]\n",
      " [ -0.73372877]\n",
      " [ -6.598504  ]\n",
      " [  5.7517457 ]\n",
      " [ -5.3429365 ]\n",
      " [ -2.910549  ]\n",
      " [-20.637123  ]]\n",
      "Epoch=39/50 loss= 19.827195532827655 b= 10.420934 w [[ -9.248191  ]\n",
      " [  1.7400534 ]\n",
      " [ -1.2940989 ]\n",
      " [  0.10662012]\n",
      " [ -1.1243746 ]\n",
      " [ 22.881428  ]\n",
      " [ -0.73676914]\n",
      " [ -6.6662917 ]\n",
      " [  5.791565  ]\n",
      " [ -5.38396   ]\n",
      " [ -2.925676  ]\n",
      " [-20.606867  ]]\n",
      "Epoch=40/50 loss= 19.80841644869758 b= 10.58359 w [[ -9.330835  ]\n",
      " [  1.7502772 ]\n",
      " [ -1.2696745 ]\n",
      " [  0.10204167]\n",
      " [ -1.2187498 ]\n",
      " [ 22.883041  ]\n",
      " [ -0.7399728 ]\n",
      " [ -6.7323856 ]\n",
      " [  5.829422  ]\n",
      " [ -5.423742  ]\n",
      " [ -2.9411614 ]\n",
      " [-20.577486  ]]\n",
      "Epoch=41/50 loss= 19.79020370984422 b= 10.745205 w [[ -9.409984  ]\n",
      " [  1.7599581 ]\n",
      " [ -1.2464854 ]\n",
      " [  0.09781305]\n",
      " [ -1.3108102 ]\n",
      " [ 22.883825  ]\n",
      " [ -0.7433003 ]\n",
      " [ -6.7968554 ]\n",
      " [  5.865436  ]\n",
      " [ -5.462348  ]\n",
      " [ -2.9569616 ]\n",
      " [-20.54905   ]]\n",
      "Epoch=42/50 loss= 19.772543159846954 b= 10.905749 w [[ -9.485776  ]\n",
      " [  1.7691169 ]\n",
      " [ -1.2244828 ]\n",
      " [  0.09391159]\n",
      " [ -1.4006693 ]\n",
      " [ 22.883839  ]\n",
      " [ -0.7467206 ]\n",
      " [ -6.8597417 ]\n",
      " [  5.8997173 ]\n",
      " [ -5.499835  ]\n",
      " [ -2.97304   ]\n",
      " [-20.521564  ]]\n",
      "Epoch=43/50 loss= 19.755398881337236 b= 11.06519 w [[ -9.5583515 ]\n",
      " [  1.7777725 ]\n",
      " [ -1.2036098 ]\n",
      " [  0.09031531]\n",
      " [ -1.4884212 ]\n",
      " [ 22.883072  ]\n",
      " [ -0.7501945 ]\n",
      " [ -6.9211125 ]\n",
      " [  5.9323754 ]\n",
      " [ -5.53624   ]\n",
      " [ -2.989338  ]\n",
      " [-20.495018  ]]\n",
      "Epoch=44/50 loss= 19.738761900302382 b= 11.223539 w [[ -9.627854  ]\n",
      " [  1.7859466 ]\n",
      " [ -1.1838226 ]\n",
      " [  0.08700228]\n",
      " [ -1.5741724 ]\n",
      " [ 22.881598  ]\n",
      " [ -0.7537053 ]\n",
      " [ -6.98101   ]\n",
      " [  5.963507  ]\n",
      " [ -5.5716147 ]\n",
      " [ -3.0058444 ]\n",
      " [-20.469423  ]]\n",
      "Epoch=45/50 loss= 19.722597667626808 b= 11.380757 w [[ -9.694396  ]\n",
      " [  1.7936593 ]\n",
      " [ -1.16507   ]\n",
      " [  0.08395504]\n",
      " [ -1.6580088 ]\n",
      " [ 22.879427  ]\n",
      " [ -0.75722593]\n",
      " [ -7.0394974 ]\n",
      " [  5.993214  ]\n",
      " [ -5.6059985 ]\n",
      " [ -3.022516  ]\n",
      " [-20.444736  ]]\n",
      "Epoch=46/50 loss= 19.706890646352054 b= 11.536841 w [[ -9.75812   ]\n",
      " [  1.8009328 ]\n",
      " [ -1.1473005 ]\n",
      " [  0.08115605]\n",
      " [ -1.7400098 ]\n",
      " [ 22.876568  ]\n",
      " [ -0.76073337]\n",
      " [ -7.0966077 ]\n",
      " [  6.021573  ]\n",
      " [ -5.639438  ]\n",
      " [ -3.0393136 ]\n",
      " [-20.420984  ]]\n",
      "Epoch=47/50 loss= 19.691629594227987 b= 11.691801 w [[ -9.819139  ]\n",
      " [  1.8077872 ]\n",
      " [ -1.1304704 ]\n",
      " [  0.07859011]\n",
      " [ -1.8202585 ]\n",
      " [ 22.87306   ]\n",
      " [ -0.76421165]\n",
      " [ -7.1523952 ]\n",
      " [  6.0486703 ]\n",
      " [ -5.6719646 ]\n",
      " [ -3.0562222 ]\n",
      " [-20.39817   ]]\n",
      "Epoch=48/50 loss= 19.676788920826354 b= 11.8455925 w [[ -9.877559  ]\n",
      " [  1.814242  ]\n",
      " [ -1.1145364 ]\n",
      " [  0.07624044]\n",
      " [ -1.898832  ]\n",
      " [ 22.868958  ]\n",
      " [ -0.76764995]\n",
      " [ -7.206896  ]\n",
      " [  6.0745893 ]\n",
      " [ -5.7036195 ]\n",
      " [ -3.0732188 ]\n",
      " [-20.376238  ]]\n",
      "Epoch=49/50 loss= 19.662351876186804 b= 11.998237 w [[ -9.933487  ]\n",
      " [  1.8203168 ]\n",
      " [ -1.0994513 ]\n",
      " [  0.07409383]\n",
      " [ -1.9757991 ]\n",
      " [ 22.864248  ]\n",
      " [ -0.77103287]\n",
      " [ -7.260162  ]\n",
      " [  6.09939   ]\n",
      " [ -5.7344313 ]\n",
      " [ -3.090277  ]\n",
      " [-20.355164  ]]\n",
      "Epoch=50/50 loss= 19.648305257320043 b= 12.149709 w [[ -9.987032  ]\n",
      " [  1.8260295 ]\n",
      " [ -1.0851728 ]\n",
      " [  0.07213799]\n",
      " [ -2.0512192 ]\n",
      " [ 22.858953  ]\n",
      " [ -0.77434844]\n",
      " [ -7.312225  ]\n",
      " [  6.1231446 ]\n",
      " [ -5.764425  ]\n",
      " [ -3.1073725 ]\n",
      " [-20.33495   ]]\n"
     ]
    }
   ],
   "source": [
    "init = tf.global_variables_initializer()\n",
    "\n",
    "logdir='./boston_logs'\n",
    "\n",
    "if not os.path.exists(logdir):\n",
    "    os.mkdir(logdir)\n",
    "\n",
    "sum_loss_op = tf.summary.scalar('loss', loss_function)\n",
    "merged = tf.summary.merge_all()\n",
    "\n",
    "loss_list = []\n",
    "with tf.Session() as sess:\n",
    "    writer = tf.summary.FileWriter(logdir, sess.graph)\n",
    "    sess.run(init)\n",
    "    for epoch in range(epochs):\n",
    "        loss_sum = 0\n",
    "        for xs, ys in zip(x_data, y_data):\n",
    "            xs = xs.reshape(1, 12)\n",
    "            ys = ys.reshape(1, 1)\n",
    "            \n",
    "            _, summary_str, loss = sess.run([optimizer, sum_loss_op, loss_function], feed_dict={x:xs, y:ys})\n",
    "            writer.add_summary(summary_str, epoch)\n",
    "            loss_sum += loss\n",
    "        xvalues, yvalues = shuffle(x_data, y_data)\n",
    "        b0temp = b.eval()\n",
    "        w0temp = w.eval()\n",
    "        loss_average = loss_sum / len(y_data)\n",
    "        loss_list.append(loss_average)\n",
    "        print('Epoch=%2d/%d' % (epoch + 1, epochs), 'loss=', loss_average, 'b=', b0temp, 'w', w0temp)"
   ]
  },
  {
   "cell_type": "markdown",
   "metadata": {},
   "source": [
    "### 可视化模型损失值"
   ]
  },
  {
   "cell_type": "code",
   "execution_count": 35,
   "metadata": {},
   "outputs": [
    {
     "data": {
      "image/png": "[encoded data removed]",
      "text/plain": [
       "<Figure size 432x288 with 1 Axes>"
      ]
     },
     "metadata": {
      "needs_background": "light"
     },
     "output_type": "display_data"
    }
   ],
   "source": [
    "plt.plot(loss_list)\n",
    "plt.title('model loss value')\n",
    "plt.show()"
   ]
  },
  {
   "cell_type": "markdown",
   "metadata": {},
   "source": [
    "### 模型预测\n",
    "如果从重新读入的 CSV 文件数据，记得 归一化选出来的值"
   ]
  },
  {
   "cell_type": "code",
   "execution_count": 36,
   "metadata": {},
   "outputs": [
    {
     "name": "stdout",
     "output_type": "stream",
     "text": [
      "The data in boston.csv is the line: 88\n",
      "Predict value:17.862059\n",
      "Target  value:22.500000\n"
     ]
    }
   ],
   "source": [
    "choose_n = np.random.randint(506)\n",
    "\n",
    "x_test = x_data[choose_n]\n",
    "x_test = x_test.reshape(1, 12)\n",
    "\n",
    "print('The data in boston.csv is the line:', choose_n + 2)\n",
    "predict = np.matmul(x_test, w0temp) + b0temp\n",
    "print('Predict value:%f' % predict)\n",
    "\n",
    "targrt = y_data[choose_n]\n",
    "print('Target  value:%f' % targrt)"
   ]
  }
 ],
 "metadata": {
  "kernelspec": {
   "display_name": "Python 3",
   "language": "python",
   "name": "python3"
  },
  "language_info": {
   "codemirror_mode": {
    "name": "ipython",
    "version": 3
   },
   "file_extension": ".py",
   "mimetype": "text/x-python",
   "name": "python",
   "nbconvert_exporter": "python",
   "pygments_lexer": "ipython3",
   "version": "3.6.2"
  }
 },
 "nbformat": 4,
 "nbformat_minor": 4
}
