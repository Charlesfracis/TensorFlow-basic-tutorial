{
 "cells": [
  {
   "cell_type": "markdown",
   "metadata": {},
   "source": [
    "# TensorFlow 2.0模式\n",
    "#### Eager Execution(动态图执行机制)"
   ]
  },
  {
   "cell_type": "markdown",
   "metadata": {},
   "source": [
    "### 版本号"
   ]
  },
  {
   "cell_type": "code",
   "execution_count": 1,
   "metadata": {},
   "outputs": [
    {
     "data": {
      "text/plain": [
       "'2.0.0'"
      ]
     },
     "execution_count": 1,
     "metadata": {},
     "output_type": "execute_result"
    }
   ],
   "source": [
    "import tensorflow as tf\n",
    "\n",
    "tf.__version__"
   ]
  },
  {
   "cell_type": "markdown",
   "metadata": {},
   "source": [
    "### 定义节点"
   ]
  },
  {
   "cell_type": "code",
   "execution_count": 2,
   "metadata": {},
   "outputs": [],
   "source": [
    "node1 = tf.constant([[3.0, 1.5], [2.5, 6.0]], tf.float32)\n",
    "node2 = tf.constant([[4.0, 1.0], [5.0, 2.5]], tf.float32)\n",
    "node3 = tf.add(node1, node2)"
   ]
  },
  {
   "cell_type": "markdown",
   "metadata": {},
   "source": [
    "### 查看节点信息"
   ]
  },
  {
   "cell_type": "code",
   "execution_count": 3,
   "metadata": {},
   "outputs": [
    {
     "data": {
      "text/plain": [
       "<tf.Tensor: id=0, shape=(2, 2), dtype=float32, numpy=\n",
       "array([[3. , 1.5],\n",
       "       [2.5, 6. ]], dtype=float32)>"
      ]
     },
     "execution_count": 3,
     "metadata": {},
     "output_type": "execute_result"
    }
   ],
   "source": [
    "node1"
   ]
  },
  {
   "cell_type": "code",
   "execution_count": 4,
   "metadata": {},
   "outputs": [
    {
     "data": {
      "text/plain": [
       "<tf.Tensor: id=1, shape=(2, 2), dtype=float32, numpy=\n",
       "array([[4. , 1. ],\n",
       "       [5. , 2.5]], dtype=float32)>"
      ]
     },
     "execution_count": 4,
     "metadata": {},
     "output_type": "execute_result"
    }
   ],
   "source": [
    "node2"
   ]
  },
  {
   "cell_type": "code",
   "execution_count": 5,
   "metadata": {},
   "outputs": [
    {
     "data": {
      "text/plain": [
       "<tf.Tensor: id=2, shape=(2, 2), dtype=float32, numpy=\n",
       "array([[7. , 2.5],\n",
       "       [7.5, 8.5]], dtype=float32)>"
      ]
     },
     "execution_count": 5,
     "metadata": {},
     "output_type": "execute_result"
    }
   ],
   "source": [
    "node3"
   ]
  },
  {
   "cell_type": "markdown",
   "metadata": {},
   "source": [
    "### Tensor 转 Numpy"
   ]
  },
  {
   "cell_type": "code",
   "execution_count": 6,
   "metadata": {},
   "outputs": [
    {
     "name": "stdout",
     "output_type": "stream",
     "text": [
      "Class: <class 'numpy.ndarray'> \n",
      "Value:\n",
      " [[7.  2.5]\n",
      " [7.5 8.5]] \n",
      "Shape: (2, 2) \n",
      "Dtype: <dtype: 'float32'>\n"
     ]
    }
   ],
   "source": [
    "print('Class:', type(node3.numpy()),\n",
    "      '\\nValue:\\n', node3.numpy(),\n",
    "      '\\nShape:', node3.shape,\n",
    "      '\\nDtype:', node3.dtype)"
   ]
  },
  {
   "cell_type": "markdown",
   "metadata": {},
   "source": [
    "### 张量形状\n",
    "shape 与 get_shape()具有相同的作用"
   ]
  },
  {
   "cell_type": "code",
   "execution_count": 7,
   "metadata": {},
   "outputs": [
    {
     "name": "stdout",
     "output_type": "stream",
     "text": [
      "scalar shape     : ()\n",
      "vector shape     : (5,)\n",
      "matrix shape     : (2, 3)\n",
      "cube_matrix shape: (3, 3, 1)\n"
     ]
    }
   ],
   "source": [
    "scalar = tf.constant(100)\n",
    "vector = tf.constant([1, 2, 3, 4, 5])\n",
    "matrix = tf.constant([[1, 2, 3], [4, 5, 6]])\n",
    "cube_matrix = tf.constant([[[1], [2], [3]], [[4], [5], [6]], [[7], [8], [9]]])\n",
    "\n",
    "print('scalar shape', ' ' * 3, ':', scalar.shape)\n",
    "print('vector shape', ' ' * 3, ':',  vector.shape)\n",
    "print('matrix shape', ' ' * 3, ':',  matrix.shape)\n",
    "print('cube_matrix shape:', cube_matrix.get_shape())"
   ]
  },
  {
   "cell_type": "markdown",
   "metadata": {},
   "source": [
    "### 通过下标获取值"
   ]
  },
  {
   "cell_type": "code",
   "execution_count": 8,
   "metadata": {},
   "outputs": [
    {
     "name": "stdout",
     "output_type": "stream",
     "text": [
      "A value in cube_matrix[1, 2, 0]: 6\n"
     ]
    }
   ],
   "source": [
    "print('A value in cube_matrix[1, 2, 0]:', cube_matrix.numpy()[1, 2, 0])"
   ]
  },
  {
   "cell_type": "markdown",
   "metadata": {},
   "source": [
    "### TensorFlow 严控数据类型\n",
    "tf.constant(  \n",
    "&ensp;&ensp;&ensp;&ensp;value,  \n",
    "&ensp;&ensp;&ensp;&ensp;dtype=None,  \n",
    "&ensp;&ensp;&ensp;&ensp;shape=None,  \n",
    "&ensp;&ensp;&ensp;&ensp;name='Const'  \n",
    "&ensp;&ensp;&ensp;&ensp;)"
   ]
  },
  {
   "cell_type": "code",
   "execution_count": 9,
   "metadata": {},
   "outputs": [
    {
     "name": "stdout",
     "output_type": "stream",
     "text": [
      "INFO:cannot compute Add as input #1(zero-based) was expected to be a int32 tensor but is a float tensor [Op:Add]\n",
      "INFO:you'd, transform the dtype\n",
      "Result: tf.Tensor([4. 6.], shape=(2,), dtype=float32) \n",
      "Value: [4. 6.]\n"
     ]
    }
   ],
   "source": [
    "node_a = tf.constant([1, 2], dtype=tf.int32)\n",
    "node_b = tf.constant([3.0, 4.0], dtype=tf.float32)\n",
    "\n",
    "try:\n",
    "    node_result = tf.add(node_a, node_b)\n",
    "except:\n",
    "    print('INFO:cannot compute Add as input #1(zero-based) was expected to be a int32 tensor but is a float tensor [Op:Add]')\n",
    "    print('INFO:you\\'d, transform the dtype')\n",
    "finally:\n",
    "    node_cast_a = tf.cast(node_a, tf.float32)\n",
    "    node_result = tf.add(node_cast_a, node_b)\n",
    "    print('Result:', node_result,\n",
    "         '\\nValue:', node_result.numpy())"
   ]
  },
  {
   "cell_type": "markdown",
   "metadata": {},
   "source": [
    "### TensorFlow 变量\n",
    "tf.Variable(  \n",
    "&ensp;&ensp;&ensp;&ensp;initial_value,  \n",
    "&ensp;&ensp;&ensp;&ensp;dtype=None,  \n",
    "&ensp;&ensp;&ensp;&ensp;shape=None,  \n",
    "&ensp;&ensp;&ensp;&ensp;trainable=True,  \n",
    "&ensp;&ensp;&ensp;&ensp;name='Variable',  \n",
    "&ensp;&ensp;&ensp;&ensp;)  \n",
    "TensorFlow 变量一般用于机器迭代自动修改值，但人工也可以主动进行修改，变量创建必须指定初始值，像定义常量一样，变量的类型由初始值确定，如下"
   ]
  },
  {
   "cell_type": "code",
   "execution_count": 10,
   "metadata": {},
   "outputs": [
    {
     "data": {
      "text/plain": [
       "(<tf.Variable 'Variable:0' shape=(2,) dtype=int32, numpy=array([1, 2])>,\n",
       " <tf.Variable 'Variable:0' shape=(2,) dtype=int32, numpy=array([3, 4])>)"
      ]
     },
     "execution_count": 10,
     "metadata": {},
     "output_type": "execute_result"
    }
   ],
   "source": [
    "variable_1 = tf.Variable([1, 2])\n",
    "variable_2 = tf.Variable([3, 4], tf.float32)\n",
    "\n",
    "variable_1, variable_2"
   ]
  },
  {
   "cell_type": "markdown",
   "metadata": {},
   "source": [
    "可以使用张量作为初始值"
   ]
  },
  {
   "cell_type": "code",
   "execution_count": 11,
   "metadata": {},
   "outputs": [
    {
     "data": {
      "text/plain": [
       "(<tf.Tensor: id=28, shape=(), dtype=float32, numpy=1.0>,\n",
       " <tf.Variable 'Variable:0' shape=() dtype=float32, numpy=1.0>)"
      ]
     },
     "execution_count": 11,
     "metadata": {},
     "output_type": "execute_result"
    }
   ],
   "source": [
    "variable_3 = tf.constant(1, dtype=tf.float32)\n",
    "variable_4 = tf.Variable(variable_3)\n",
    "\n",
    "variable_3, variable_4"
   ]
  },
  {
   "cell_type": "markdown",
   "metadata": {},
   "source": [
    "特殊情况需要人工更新，可用变量赋值语句 assign() 实现，比如在断点续训例子中，将会用到这个功能，TensorFlow 2.x提供 assign_add()、assign_sub()实现变量加减"
   ]
  },
  {
   "cell_type": "code",
   "execution_count": 12,
   "metadata": {},
   "outputs": [
    {
     "name": "stdout",
     "output_type": "stream",
     "text": [
      "variable_5 + 1: <tf.Variable 'Variable:0' shape=() dtype=int32, numpy=6> \n",
      "variable_6 + 1: <tf.Variable 'Variable:0' shape=() dtype=int32, numpy=6> \n",
      "variable_7 + 1: <tf.Variable 'Variable:0' shape=() dtype=int32, numpy=6>\n"
     ]
    }
   ],
   "source": [
    "variable_5 = tf.Variable(5)\n",
    "variable_6 = tf.Variable(5)\n",
    "variable_7 = tf.Variable(7)\n",
    "\n",
    "variable_5.assign(variable_5 + 1)\n",
    "variable_6.assign_add(1)\n",
    "variable_7.assign_sub(1)\n",
    "print('variable_5 + 1:', variable_5,\n",
    "      '\\nvariable_6 + 1:', variable_6,\n",
    "      '\\nvariable_7 + 1:', variable_7)"
   ]
  },
  {
   "cell_type": "markdown",
   "metadata": {},
   "source": [
    "# TensorFlow 2.0 实现 1.x模式\n",
    "#### Graph Execution(静态图执行机制)\n",
    "`compat` 中文意思为`兼容`，v1指 `tensorflow 1.x`，`tensorflow.compat.v1` 含义则是兼容 `tensorflow 1.x` 的接口，实际上，`tensorflow 2.x` 将 `tensorflow 1.x` 全部接口写入了 `tensorflow.compat.v1`"
   ]
  },
  {
   "cell_type": "code",
   "execution_count": 13,
   "metadata": {},
   "outputs": [],
   "source": [
    "import tensorflow.compat.v1 as tf\n",
    "\n",
    "tf.disable_eager_execution()"
   ]
  },
  {
   "cell_type": "code",
   "execution_count": 14,
   "metadata": {},
   "outputs": [
    {
     "data": {
      "text/plain": [
       "<tf.Tensor 'Add:0' shape=() dtype=float32>"
      ]
     },
     "execution_count": 14,
     "metadata": {},
     "output_type": "execute_result"
    }
   ],
   "source": [
    "node1 = tf.constant(3.0, tf.float32, name='node1')\n",
    "node2 = tf.constant(3.0, tf.float32, name='node2')\n",
    "node3 = tf.add(node1, node2)\n",
    "\n",
    "node3"
   ]
  },
  {
   "cell_type": "markdown",
   "metadata": {},
   "source": [
    "**tf.Session()创建一个会话，当上下文管理器退出时会话关闭和资源释放自动完成**  \n",
    "**tf.Session().as_default()创建一个默认会话，当上下文管理器退出时会话没有关闭，还可以通过调用会话进行run()和eval()操作**  \n",
    "**在管理器内部直接使用 eval()，在管理器外部[未启用 sess.close()]，使用 eval(session=sess)**  \n",
    "**在非 with 结构也需要使用 eval(session=sess)**"
   ]
  },
  {
   "cell_type": "code",
   "execution_count": 15,
   "metadata": {},
   "outputs": [
    {
     "name": "stdout",
     "output_type": "stream",
     "text": [
      "node1 result: 3.0\n",
      "node2 result: 3.0\n",
      "node3 result: 6.0\n",
      "node3 eval: 6.0\n",
      "RuntimeError:attempted to use a closed Session.\n",
      "session done\n"
     ]
    }
   ],
   "source": [
    "with tf.Session() as sess:\n",
    "    print('node1 result:', sess.run(node1))\n",
    "    print('node2 result:', sess.run(node2))\n",
    "    print('node3 result:', sess.run(node3))\n",
    "    print('node3 eval:', node3.eval())\n",
    "\n",
    "try:\n",
    "    print('Even out with session, the node3 value is:', node3.eval(session=sess))\n",
    "except RuntimeError:\n",
    "    print('RuntimeError:attempted to use a closed Session.')\n",
    "finally:\n",
    "    print('session done')"
   ]
  },
  {
   "cell_type": "code",
   "execution_count": 16,
   "metadata": {},
   "outputs": [
    {
     "name": "stdout",
     "output_type": "stream",
     "text": [
      "node1 result: 3.0\n",
      "node2 result: 3.0\n",
      "node3 result: 6.0\n",
      "node3 eval: 6.0\n",
      "Even out with session, the node3 value is: 6.0\n",
      "session done\n",
      "RuntimeError:attempted to use a closed Session.\n",
      "Session done, cause I use sess.close()\n"
     ]
    }
   ],
   "source": [
    "with tf.Session().as_default() as sess:\n",
    "    print('node1 result:', sess.run(node1))\n",
    "    print('node2 result:', sess.run(node2))\n",
    "    print('node3 result:', sess.run(node3))\n",
    "    print('node3 eval:', node3.eval())\n",
    "\n",
    "try:\n",
    "    print('Even out with session, the node3 value is:', node3.eval(session=sess))\n",
    "except RuntimeError:\n",
    "    print('RuntimeError:attempted to use a closed Session.')\n",
    "finally:\n",
    "    print('session done')\n",
    "    \n",
    "sess.close()\n",
    "try:\n",
    "    print('Closed session, the node3 value is:', node3.eval(session=sess))\n",
    "except RuntimeError:\n",
    "    print('RuntimeError:attempted to use a closed Session.')\n",
    "finally:\n",
    "    print('Session done, cause I use sess.close()')"
   ]
  },
  {
   "cell_type": "code",
   "execution_count": 17,
   "metadata": {},
   "outputs": [
    {
     "name": "stdout",
     "output_type": "stream",
     "text": [
      "Cannot evaluate tensor using `eval()`: No default session is registered.Use `with sess.as_default()` or pass an explicit session to `eval(session=sess)`\n",
      "node3.eval() value: 6.0\n"
     ]
    }
   ],
   "source": [
    "sess = tf.Session()\n",
    "try:\n",
    "    print('node3.eval() value', node3.eval())\n",
    "except ValueError:\n",
    "    print(('Cannot evaluate tensor using `eval()`: No default session is registered.'\n",
    "            'Use `with sess.as_default()` or pass an explicit session to `eval(session=sess)`'))\n",
    "finally:\n",
    "    print('node3.eval() value:', node3.eval(session=sess))"
   ]
  },
  {
   "cell_type": "markdown",
   "metadata": {},
   "source": [
    "**在交互式环境下，`Python` 脚本或者 `Jupyter` 编辑器下，通过设置默认会话来获取张量的取值更加方便**  \n",
    "**`tf.InteractiveSession` 这个函数会自动将生成的会话注册为默认会话**"
   ]
  },
  {
   "cell_type": "code",
   "execution_count": 18,
   "metadata": {},
   "outputs": [
    {
     "name": "stdout",
     "output_type": "stream",
     "text": [
      "node3 InteractiveSession value: 6.0\n"
     ]
    }
   ],
   "source": [
    "sess = tf.InteractiveSession()\n",
    "\n",
    "print('node3 InteractiveSession value:', node3.eval())\n",
    "sess.close()"
   ]
  },
  {
   "cell_type": "markdown",
   "metadata": {},
   "source": [
    "#### TensorFlow 1.x Variable\n",
    "变量 Variable 在 Tensorflow 中需进行初始化操作：  \n",
    "name_variable = tf.Variable(value, name)  \n",
    "init_op = name_variable.initializer()&ensp;&ensp;&ensp;&ensp;个别变量初始化  \n",
    "init_op = tf.global_variables_initializer() 所有变量初始化"
   ]
  },
  {
   "cell_type": "code",
   "execution_count": 19,
   "metadata": {},
   "outputs": [
    {
     "name": "stdout",
     "output_type": "stream",
     "text": [
      "WARNING:tensorflow:From e:\\anaconda3\\envs\\tensorflow2.x\\lib\\site-packages\\tensorflow_core\\python\\ops\\resource_variable_ops.py:1630: calling BaseResourceVariable.__init__ (from tensorflow.python.ops.resource_variable_ops) with constraint is deprecated and will be removed in a future version.\n",
      "Instructions for updating:\n",
      "If using Keras pass *_constraint arguments to layers.\n",
      "sess.run(result) value: 6.0\n",
      "Variables must be initialized\n"
     ]
    }
   ],
   "source": [
    "node1 = tf.Variable(3.0, tf.float32, name='node1')\n",
    "node2 = tf.Variable(3.0, tf.float32, name='node2')\n",
    "result = tf.add(node1, node2)\n",
    "\n",
    "try:\n",
    "    sess = tf.Session()\n",
    "    print('sess.run(result) value:', sess.run(result))\n",
    "except:\n",
    "    init = tf.global_variables_initializer()\n",
    "    sess = tf.Session()\n",
    "    sess.run(init)\n",
    "    print('sess.run(result) value:', sess.run(result))\n",
    "finally:\n",
    "    print('Variables must be initialized')\n",
    "    sess.close()"
   ]
  },
  {
   "cell_type": "markdown",
   "metadata": {},
   "source": [
    "#### 变量复制案例  \n",
    "tf.assign(variable_to_be_updated, new_value)，将 new_value 的值赋给 variable_to_be_updated"
   ]
  },
  {
   "cell_type": "code",
   "execution_count": 20,
   "metadata": {},
   "outputs": [
    {
     "name": "stdout",
     "output_type": "stream",
     "text": [
      "result:1 2 3 4 5 6 7 8 9 10 "
     ]
    }
   ],
   "source": [
    "import os\n",
    "\n",
    "\n",
    "tf.reset_default_graph()\n",
    "\n",
    "value = tf.Variable(0, name='value')\n",
    "one = tf.constant(1)\n",
    "new_value = tf.add(value, one)\n",
    "update_value = tf.assign(value, new_value)\n",
    "\n",
    "init = tf.global_variables_initializer()\n",
    "print('result:', end='')\n",
    "\n",
    "with tf.Session() as sess:\n",
    "    sess.run(init)\n",
    "    for _ in range(10):\n",
    "        sess.run(update_value)\n",
    "        print(sess.run(value),end=' ')\n",
    "\n",
    "logdir='TensorFlow_2.x_tutorial_logs'\n",
    "\n",
    "if not os.path.exists(logdir):\n",
    "    os.mkdir(logdir)\n",
    "\n",
    "writer = tf.summary.FileWriter(logdir, tf.get_default_graph())\n",
    "writer.close()"
   ]
  },
  {
   "cell_type": "markdown",
   "metadata": {},
   "source": [
    "### 思考题\n",
    "#### TensorFlow 表示"
   ]
  },
  {
   "cell_type": "code",
   "execution_count": 21,
   "metadata": {},
   "outputs": [
    {
     "name": "stdout",
     "output_type": "stream",
     "text": [
      "Result:1+2+3+4+5+6+7+8+9+10=55\n"
     ]
    }
   ],
   "source": [
    "sum_value = tf.Variable(0, name='sum_value')\n",
    "num_value = tf.Variable(0, name='num_value')\n",
    "one = tf.constant(1, name='one')\n",
    "\n",
    "new_num_value = tf.add(num_value, one)\n",
    "new_sum_value = tf.add(sum_value, num_value)\n",
    "update_num_value = tf.assign(num_value, new_num_value)\n",
    "update_sum_value = tf.assign(sum_value, new_sum_value)\n",
    "\n",
    "init = tf.global_variables_initializer()\n",
    "print('Result:1+2+3+4+5+6+7+8+9+10=', end='')\n",
    "with tf.Session() as sess:\n",
    "    sess.run(init)\n",
    "    for i in range(10):\n",
    "        sess.run(update_num_value)\n",
    "        sess.run(update_sum_value)\n",
    "    print(sess.run(sum_value))"
   ]
  },
  {
   "cell_type": "markdown",
   "metadata": {},
   "source": [
    "#### 基础 Python 表示"
   ]
  },
  {
   "cell_type": "code",
   "execution_count": 22,
   "metadata": {},
   "outputs": [
    {
     "name": "stdout",
     "output_type": "stream",
     "text": [
      "Result:1+2+3+4+5+6+7+8+9+10=55\n"
     ]
    }
   ],
   "source": [
    "List = [i for i in range(1, 11)]\n",
    "result_value = sum(List)\n",
    "print('Result:1+2+3+4+5+6+7+8+9+10=%d' % result_value)"
   ]
  },
  {
   "cell_type": "markdown",
   "metadata": {},
   "source": [
    "### Tensorflow 基本运算\n",
    "#### TensorFlow 数据喂入 feed 与占位符 placeholder\n",
    "tf.placeholder(dtype, shape=None, name=None)  \n",
    "未用到变量 `tf.Variable()` 可以不用初始化，注释 `sess.run(init)` 与 `init` 不会报错"
   ]
  },
  {
   "cell_type": "code",
   "execution_count": 23,
   "metadata": {},
   "outputs": [
    {
     "name": "stdout",
     "output_type": "stream",
     "text": [
      "sess.run caculate c value: 68.328\n",
      "c.eval caculate c value: 68.328\n"
     ]
    }
   ],
   "source": [
    "a = tf.placeholder(tf.float32, name='a')\n",
    "b = tf.placeholder(tf.float32, name='b')\n",
    "c = tf.multiply(a, b, name='c')\n",
    "\n",
    "init = tf.global_variables_initializer()\n",
    "\n",
    "with tf.Session() as sess:\n",
    "    sess.run(init)\n",
    "    result_sess_run = sess.run(c, feed_dict={a:5.20, b:13.14})\n",
    "    result_eval = c.eval(feed_dict={a:5.20, b:13.14})\n",
    "    print('sess.run caculate c value:', result_sess_run)\n",
    "    print('c.eval caculate c value:', result_eval)"
   ]
  },
  {
   "cell_type": "markdown",
   "metadata": {},
   "source": [
    "计算多个值"
   ]
  },
  {
   "cell_type": "code",
   "execution_count": 24,
   "metadata": {},
   "outputs": [
    {
     "name": "stdout",
     "output_type": "stream",
     "text": [
      "value: [array([ 4., 10., 18.], dtype=float32), array([-3., -3., -3.], dtype=float32)]\n",
      "first value: [ 4. 10. 18.]\n",
      "*******the another pattern*******\n",
      "result_1: [ 4. 10. 18.]\n",
      "result_2: [-3. -3. -3.]\n"
     ]
    }
   ],
   "source": [
    "a = tf.placeholder(tf.float32, name='a')\n",
    "b = tf.placeholder(tf.float32, name='b')\n",
    "c = tf.multiply(a, b, name='c')\n",
    "d = tf.subtract(a, b, name='d')\n",
    "\n",
    "init = tf.global_variables_initializer()\n",
    "\n",
    "with tf.Session() as sess:\n",
    "    sess.run(init)\n",
    "    result = sess.run([c, d], feed_dict={a:[1, 2, 3], b:[4, 5, 6]})\n",
    "    print('value:', result)\n",
    "    print('first value:', result[0])\n",
    "print('*******the another pattern*******')\n",
    "with tf.Session() as sess:\n",
    "    sess.run(init)\n",
    "    result_1, result_2 = sess.run([c, d], feed_dict={a:[1, 2, 3], b:[4, 5, 6]})\n",
    "    print('result_1:', result_1)\n",
    "    print('result_2:', result_2)"
   ]
  },
  {
   "cell_type": "markdown",
   "metadata": {},
   "source": [
    "### Tensorboard 基本可视化操作"
   ]
  },
  {
   "cell_type": "markdown",
   "metadata": {},
   "source": [
    "#### 基本函数介绍\n",
    "#### tf.add_n(inputs, name=None)\n",
    "A Tensor. Has the same type as inputs.Add all input tensors element wise.  \n",
    "inputs: A list of at least 1 Tensor objects of the same type in: float32, float64, int64, int32, uint8, int16, int8, complex64, qint8, quint8, qint32. Must all be the same size and shape.  \n",
    "name: A name for the operation (optional).  \n",
    "Returns:A Tensor. Has the same type as inputs.\n",
    "输入是一个列表，里面包含了一些 tensor(数据类型必须相同)，用于将列表中的 tensor 求和并返回\n",
    "#### tf.random_uniform(  \n",
    "&ensp;&ensp;&ensp;&ensp;&ensp;&ensp;shape,  \n",
    "&ensp;&ensp;&ensp;&ensp;&ensp;&ensp;minval=0,  \n",
    "&ensp;&ensp;&ensp;&ensp;&ensp;&ensp;maxval=None,  \n",
    "&ensp;&ensp;&ensp;&ensp;&ensp;&ensp;dtype=tf.float32,  \n",
    "&ensp;&ensp;&ensp;&ensp;&ensp;&ensp;seed=None,  \n",
    "&ensp;&ensp;&ensp;&ensp;&ensp;&ensp;name=None  \n",
    "#### &ensp;&ensp;&ensp;&ensp;&ensp;&ensp;)  \n",
    "从均匀分布中输出随机值。生成的值在该 [minval, maxval)范围内遵循均匀分布.下限 minval 包含在范围内,而上限 maxval 被排除在外。对于浮点数,默认范围是 [0, 1)。对于整数，至少 maxval 必须明确地指定。在整数情况下，随机整数稍有偏差，除非 maxval - minval 是 2 的精确幂。对于maxval - minval 的值，偏差很小，明显小于输出(2^32 或者 2^64)的范围。\n",
    "参数：  \n",
    "shape：一维整数张量或 Python 数组.输出张量的形状.  \n",
    "minval：dtype 类型的 0-D 张量或 Python 值；生成的随机值范围的下限；默认为0.  \n",
    "maxval：dtype 类型的 0-D 张量或 Python 值.要生成的随机值范围的上限.如果 dtype 是浮点,则默认为1 .  \n",
    "dtype：输出的类型：float16、float32、float64、int32、orint64.  \n",
    "seed：一个 Python 整数.用于为分布创建一个随机种子.查看 tf.set_random_seed 行为.  \n",
    "name：操作的名称(可选).  \n",
    "返回值：  \n",
    "用于填充随机均匀值的指定形状的张量.  \n",
    "可能引发的异常：  \n",
    "ValueError：如果 dtype 是整数并且 maxval 没有被指定.  "
   ]
  },
  {
   "cell_type": "code",
   "execution_count": 25,
   "metadata": {},
   "outputs": [],
   "source": [
    "tf.reset_default_graph()\n",
    "\n",
    "logdir='./Tensorboard_basic_operation_logs'\n",
    "\n",
    "if not os.path.exists(logdir):\n",
    "    os.mkdir(logdir)\n",
    "\n",
    "input1 = tf.constant([1.0, 2.0, 3.0], name='input1')\n",
    "\n",
    "# input2\n",
    "input2 = tf.Variable(tf.random_uniform([3]), name='input2')\n",
    "output = tf.add_n([input1, input2], name='add')\n",
    "\n",
    "writer = tf.summary.FileWriter(logdir, tf.get_default_graph())\n",
    "writer.close()"
   ]
  },
  {
   "cell_type": "markdown",
   "metadata": {},
   "source": [
    "上述 input2 采用 tf.random_uniform() 生成随机数，从输入参数可以表明其为一个具有三个元素的一维数组"
   ]
  },
  {
   "cell_type": "code",
   "execution_count": 26,
   "metadata": {},
   "outputs": [
    {
     "name": "stdout",
     "output_type": "stream",
     "text": [
      "class: <class 'numpy.ndarray'>\n",
      "value: [0.47037327 0.18372178 0.57085156]\n"
     ]
    }
   ],
   "source": [
    "sess = tf.Session()\n",
    "sess.run(tf.global_variables_initializer())\n",
    "print('class:', type(sess.run(input2)))\n",
    "print('value:', sess.run(input2))\n",
    "\n",
    "sess.close()"
   ]
  },
  {
   "cell_type": "code",
   "execution_count": 30,
   "metadata": {},
   "outputs": [
    {
     "name": "stdout",
     "output_type": "stream",
     "text": [
      "The tensorboard extension is already loaded. To reload it, use:\n",
      "  %reload_ext tensorboard\n"
     ]
    }
   ],
   "source": [
    "%load_ext tensorboard"
   ]
  },
  {
   "cell_type": "code",
   "execution_count": 31,
   "metadata": {},
   "outputs": [
    {
     "data": {
      "text/plain": [
       "Reusing TensorBoard on port 6006 (pid 10720), started 0:00:14 ago. (Use '!kill 10720' to kill it.)"
      ]
     },
     "metadata": {},
     "output_type": "display_data"
    },
    {
     "data": {
      "text/html": [
       "\n",
       "      <iframe id=\"tensorboard-frame-ed2edfb8bcefc7b1\" width=\"100%\" height=\"800\" frameborder=\"0\">\n",
       "      </iframe>\n",
       "      <script>\n",
       "        (function() {\n",
       "          const frame = document.getElementById(\"tensorboard-frame-ed2edfb8bcefc7b1\");\n",
       "          const url = new URL(\"/\", window.location);\n",
       "          url.port = 6006;\n",
       "          frame.src = url;\n",
       "        })();\n",
       "      </script>\n",
       "  "
      ],
      "text/plain": [
       "<IPython.core.display.HTML object>"
      ]
     },
     "metadata": {},
     "output_type": "display_data"
    }
   ],
   "source": [
    "%tensorboard --logdir Tensorboard_basic_operation_logs --host localhost"
   ]
  },
  {
   "cell_type": "code",
   "execution_count": null,
   "metadata": {},
   "outputs": [],
   "source": []
  }
 ],
 "metadata": {
  "kernelspec": {
   "display_name": "Python 3",
   "language": "python",
   "name": "python3"
  },
  "language_info": {
   "codemirror_mode": {
    "name": "ipython",
    "version": 3
   },
   "file_extension": ".py",
   "mimetype": "text/x-python",
   "name": "python",
   "nbconvert_exporter": "python",
   "pygments_lexer": "ipython3",
   "version": "3.6.2"
  }
 },
 "nbformat": 4,
 "nbformat_minor": 4
}
