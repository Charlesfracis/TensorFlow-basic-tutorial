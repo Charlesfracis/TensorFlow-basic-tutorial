{
 "cells": [
  {
   "cell_type": "markdown",
   "metadata": {},
   "source": [
    "# 函数解析  \n",
    "### numpy.random.randn 生成符合标准正太分布的矩阵\n",
    "numpy.random.randn(d0, d1, … ,dn)，括号中为生成矩阵的维度，均值为0，方差为1，记为`N(0, 1)`，下面在 cell 部分验证此函数是否按照标准正太分布生成数据"
   ]
  },
  {
   "cell_type": "code",
   "execution_count": 1,
   "metadata": {},
   "outputs": [
    {
     "data": {
      "image/png": "[encoded data removed]",
      "text/plain": [
       "<Figure size 432x288 with 1 Axes>"
      ]
     },
     "metadata": {
      "needs_background": "light"
     },
     "output_type": "display_data"
    }
   ],
   "source": [
    "%matplotlib inline\n",
    "\n",
    "import matplotlib.pyplot as plt\n",
    "import numpy as np\n",
    "import tensorflow.compat.v1 as tf\n",
    "\n",
    "tf.disable_eager_execution()\n",
    "\n",
    "\n",
    "x_1 = np.random.randn(1000)\n",
    "x_value = []\n",
    "y_value = []\n",
    "step = 0.1\n",
    "neg_boundary = -3\n",
    "pos_boundary = 3\n",
    "for i in range(int((pos_boundary - neg_boundary) /step)):\n",
    "    y =((neg_boundary + i * step < x_1) & (x_1 < neg_boundary + (i + 1) * step)).sum()\n",
    "    x_value.append(round((neg_boundary + i * step + step / 2), 3))\n",
    "    y_value.append(y)\n",
    "\n",
    "plt.bar(x_value, y_value, width=0.1)\n",
    "plt.title('Standard normal distribution')\n",
    "plt.show()"
   ]
  },
  {
   "cell_type": "markdown",
   "metadata": {},
   "source": [
    "## python字符 * 和 ** 的拆包（打散）功能\n",
    "### * 与 ** 能够进行拆包与打散功能\n",
    "下面列举了 Tuple List String Dict"
   ]
  },
  {
   "cell_type": "code",
   "execution_count": 2,
   "metadata": {},
   "outputs": [
    {
     "name": "stdout",
     "output_type": "stream",
     "text": [
      "*******Tuple break up*******\n",
      "Tuple: (1, 2, 3, 4)\n",
      "Tuple break up: 1 2 3 4\n",
      "*******List break up*******\n",
      "List: ['a', 'b', 'c']\n",
      "List break up: a b c\n",
      "*******String break up*******\n",
      "String: hello\n",
      "String break up h e l l o\n",
      "*******Dictionary break up*******\n",
      "Qhao 20\n",
      "Qhao 20\n",
      "'name' is an invalid keyword argument for this function\n"
     ]
    }
   ],
   "source": [
    "# Tuple break up\n",
    "print('*******Tuple break up*******')\n",
    "Tuple = (1, 2, 3, 4)\n",
    "print('Tuple:', Tuple)\n",
    "print('Tuple break up:', *Tuple)\n",
    "print('*******List break up*******')\n",
    "\n",
    "# List break up\n",
    "List = ['a', 'b', 'c']\n",
    "print('List:', List)\n",
    "print('List break up:', *List)\n",
    "\n",
    "# String break up\n",
    "print('*******String break up*******')\n",
    "String = 'hello'\n",
    "print('String:', String)\n",
    "print('String break up', *String)\n",
    "\n",
    "# Dictionary break u\n",
    "print('*******Dictionary break up*******')\n",
    "def func_dic(name, age):\n",
    "    print(name, age)\n",
    "\n",
    "Dict = {'name':'Qhao', 'age':20}\n",
    "\n",
    "# Only the value is broken up, and this sentence\n",
    "# is equivalent to func_dic(name='Qhao', age=20)\n",
    "func_dic(**Dict)\n",
    "\n",
    "func_dic(name='Qhao', age=20)\n",
    "\n",
    "try:\n",
    "    print(**Dict)  # 报错\n",
    "except TypeError:\n",
    "    print('\\'name\\' is an invalid keyword argument for this function')\n"
   ]
  },
  {
   "cell_type": "markdown",
   "metadata": {},
   "source": [
    "## zip 函数  \n",
    "zip 函数可以理解其为一个月老，专门为两组数据进行配对"
   ]
  },
  {
   "cell_type": "code",
   "execution_count": 3,
   "metadata": {},
   "outputs": [
    {
     "name": "stdout",
     "output_type": "stream",
     "text": [
      "They are a pair now: 1 a\n",
      "They are a pair now: 2 b\n",
      "They are a pair now: 3 c\n",
      "They are a pair now: 4 d\n",
      "They are a pair now: 5 e\n"
     ]
    }
   ],
   "source": [
    "x_group = [1, 2, 3, 4, 5]\n",
    "y_group = ['a', 'b', 'c', 'd', 'e']\n",
    "x_love_y = zip(x_group, y_group)\n",
    "for x_single_dog, y_single_cat in x_love_y:\n",
    "    print('They are a pair now:', x_single_dog, y_single_cat)"
   ]
  },
  {
   "cell_type": "markdown",
   "metadata": {},
   "source": [
    "# 正式开始"
   ]
  },
  {
   "cell_type": "code",
   "execution_count": 4,
   "metadata": {},
   "outputs": [],
   "source": [
    "%matplotlib inline\n",
    "\n",
    "import matplotlib.pyplot as plt\n",
    "import numpy as np\n",
    "import sys\n",
    "\n",
    "\n",
    "# Set a random seed\n",
    "np.random.seed(5)"
   ]
  },
  {
   "cell_type": "code",
   "execution_count": 5,
   "metadata": {},
   "outputs": [],
   "source": [
    "x_data = np.linspace(-1, 1, 100)\n",
    "\n",
    "# numpy.random.randn() Standard normal distribution data\n",
    "y_data = 2 * x_data + 1.0 + np.random.randn(*x_data.shape) * 0.4"
   ]
  },
  {
   "cell_type": "markdown",
   "metadata": {},
   "source": [
    "### 绘图可视化"
   ]
  },
  {
   "cell_type": "code",
   "execution_count": 6,
   "metadata": {},
   "outputs": [
    {
     "data": {
      "image/png": "[encoded data removed]",
      "text/plain": [
       "<Figure size 432x288 with 1 Axes>"
      ]
     },
     "metadata": {
      "needs_background": "light"
     },
     "output_type": "display_data"
    }
   ],
   "source": [
    "plt.scatter(x_data, y_data)\n",
    "plt.plot(x_data, 2 * x_data + 1.0, color='red', linewidth=3)\n",
    "plt.show()"
   ]
  },
  {
   "cell_type": "markdown",
   "metadata": {},
   "source": [
    "### 定义占位符"
   ]
  },
  {
   "cell_type": "code",
   "execution_count": 7,
   "metadata": {},
   "outputs": [],
   "source": [
    "x = tf.placeholder('float', name='x')\n",
    "y = tf.placeholder('float', name='y')"
   ]
  },
  {
   "cell_type": "markdown",
   "metadata": {},
   "source": [
    "### 模型构建"
   ]
  },
  {
   "cell_type": "code",
   "execution_count": 8,
   "metadata": {},
   "outputs": [],
   "source": [
    "def model(x, w, b):\n",
    "    return tf.multiply(x, w) + b"
   ]
  },
  {
   "cell_type": "markdown",
   "metadata": {},
   "source": [
    "### 创建变量\n",
    "Tensorflow变量声明函数 tf.Variable  \n",
    "tf.Variable 作用是保存和更新参数  \n",
    "变量初始值可以是随机数、常数、或者通过其他变量初始值计算而来  "
   ]
  },
  {
   "cell_type": "code",
   "execution_count": 9,
   "metadata": {},
   "outputs": [
    {
     "name": "stdout",
     "output_type": "stream",
     "text": [
      "WARNING:tensorflow:From e:\\anaconda3\\envs\\tensorflow2.x\\lib\\site-packages\\tensorflow_core\\python\\ops\\resource_variable_ops.py:1630: calling BaseResourceVariable.__init__ (from tensorflow.python.ops.resource_variable_ops) with constraint is deprecated and will be removed in a future version.\n",
      "Instructions for updating:\n",
      "If using Keras pass *_constraint arguments to layers.\n"
     ]
    }
   ],
   "source": [
    "w = tf.Variable(0.0, name='w0')\n",
    "b = tf.Variable(0.0, name='b0')\n",
    "\n",
    "pred = model(x, w, b)"
   ]
  },
  {
   "cell_type": "markdown",
   "metadata": {},
   "source": [
    "### 训练模型  \n",
    "设置参数"
   ]
  },
  {
   "cell_type": "code",
   "execution_count": 10,
   "metadata": {},
   "outputs": [],
   "source": [
    "epochs = 20\n",
    "learning_rate = 0.01\n",
    "\n",
    "loss_function = tf.reduce_mean(tf.square(y - pred))\n",
    "optimizer = tf.train.GradientDescentOptimizer(learning_rate).minimize(loss_function)"
   ]
  },
  {
   "cell_type": "code",
   "execution_count": 11,
   "metadata": {},
   "outputs": [
    {
     "name": "stdout",
     "output_type": "stream",
     "text": [
      "Epoch:  0/20 Step:  10  loss:0.326533\n",
      "Epoch:  0/20 Step:  20  loss:0.083921\n",
      "Epoch:  0/20 Step:  30  loss:0.106941\n",
      "Epoch:  0/20 Step:  40  loss:1.567816\n",
      "Epoch:  0/20 Step:  50  loss:0.629396\n",
      "Epoch:  0/20 Step:  60  loss:1.122309\n",
      "Epoch:  0/20 Step:  70  loss:2.202857\n",
      "Epoch:  0/20 Step:  80  loss:1.303079\n",
      "Epoch:  0/20 Step:  90  loss:0.781420\n",
      "Epoch:  0/20 Step: 100  loss:1.611664\n",
      "Epoch:  1/20 Step: 110  loss:1.301215\n",
      "Epoch:  1/20 Step: 120  loss:0.074411\n",
      "Epoch:  1/20 Step: 130  loss:0.071832\n",
      "Epoch:  1/20 Step: 140  loss:0.365316\n",
      "Epoch:  1/20 Step: 150  loss:0.007724\n",
      "Epoch:  1/20 Step: 160  loss:0.093617\n",
      "Epoch:  1/20 Step: 170  loss:0.500769\n",
      "Epoch:  1/20 Step: 180  loss:0.144085\n",
      "Epoch:  1/20 Step: 190  loss:0.032798\n",
      "Epoch:  1/20 Step: 200  loss:0.444599\n",
      "Epoch:  2/20 Step: 210  loss:0.596913\n",
      "Epoch:  2/20 Step: 220  loss:0.008338\n",
      "Epoch:  2/20 Step: 230  loss:0.045711\n",
      "Epoch:  2/20 Step: 240  loss:0.315487\n",
      "Epoch:  2/20 Step: 250  loss:0.001139\n",
      "Epoch:  2/20 Step: 260  loss:0.014411\n",
      "Epoch:  2/20 Step: 270  loss:0.224335\n",
      "Epoch:  2/20 Step: 280  loss:0.013804\n",
      "Epoch:  2/20 Step: 290  loss:0.007370\n",
      "Epoch:  2/20 Step: 300  loss:0.174940\n",
      "Epoch:  3/20 Step: 310  loss:0.250118\n",
      "Epoch:  3/20 Step: 320  loss:0.003795\n",
      "Epoch:  3/20 Step: 330  loss:0.019587\n",
      "Epoch:  3/20 Step: 340  loss:0.333085\n",
      "Epoch:  3/20 Step: 350  loss:0.004205\n",
      "Epoch:  3/20 Step: 360  loss:0.002609\n",
      "Epoch:  3/20 Step: 370  loss:0.141011\n",
      "Epoch:  3/20 Step: 380  loss:0.000000\n",
      "Epoch:  3/20 Step: 390  loss:0.044038\n",
      "Epoch:  3/20 Step: 400  loss:0.089642\n",
      "Epoch:  4/20 Step: 410  loss:0.122847\n",
      "Epoch:  4/20 Step: 420  loss:0.021678\n",
      "Epoch:  4/20 Step: 430  loss:0.009292\n",
      "Epoch:  4/20 Step: 440  loss:0.347883\n",
      "Epoch:  4/20 Step: 450  loss:0.005879\n",
      "Epoch:  4/20 Step: 460  loss:0.000374\n",
      "Epoch:  4/20 Step: 470  loss:0.107797\n",
      "Epoch:  4/20 Step: 480  loss:0.003240\n",
      "Epoch:  4/20 Step: 490  loss:0.073651\n",
      "Epoch:  4/20 Step: 500  loss:0.057571\n",
      "Epoch:  5/20 Step: 510  loss:0.074517\n",
      "Epoch:  5/20 Step: 520  loss:0.036785\n",
      "Epoch:  5/20 Step: 530  loss:0.005398\n",
      "Epoch:  5/20 Step: 540  loss:0.356277\n",
      "Epoch:  5/20 Step: 550  loss:0.006752\n",
      "Epoch:  5/20 Step: 560  loss:0.000013\n",
      "Epoch:  5/20 Step: 570  loss:0.092829\n",
      "Epoch:  5/20 Step: 580  loss:0.007367\n",
      "Epoch:  5/20 Step: 590  loss:0.091495\n",
      "Epoch:  5/20 Step: 600  loss:0.044029\n",
      "Epoch:  6/20 Step: 610  loss:0.054463\n",
      "Epoch:  6/20 Step: 620  loss:0.046047\n",
      "Epoch:  6/20 Step: 630  loss:0.003808\n",
      "Epoch:  6/20 Step: 640  loss:0.360682\n",
      "Epoch:  6/20 Step: 650  loss:0.007207\n",
      "Epoch:  6/20 Step: 660  loss:0.000019\n",
      "Epoch:  6/20 Step: 670  loss:0.085674\n",
      "Epoch:  6/20 Step: 680  loss:0.010099\n",
      "Epoch:  6/20 Step: 690  loss:0.101293\n",
      "Epoch:  6/20 Step: 700  loss:0.037845\n",
      "Epoch:  7/20 Step: 710  loss:0.045459\n",
      "Epoch:  7/20 Step: 720  loss:0.051163\n",
      "Epoch:  7/20 Step: 730  loss:0.003104\n",
      "Epoch:  7/20 Step: 740  loss:0.362945\n",
      "Epoch:  7/20 Step: 750  loss:0.007443\n",
      "Epoch:  7/20 Step: 760  loss:0.000070\n",
      "Epoch:  7/20 Step: 770  loss:0.082149\n",
      "Epoch:  7/20 Step: 780  loss:0.011652\n",
      "Epoch:  7/20 Step: 790  loss:0.106464\n",
      "Epoch:  7/20 Step: 800  loss:0.034880\n",
      "Epoch:  8/20 Step: 810  loss:0.041191\n",
      "Epoch:  8/20 Step: 820  loss:0.053869\n",
      "Epoch:  8/20 Step: 830  loss:0.002774\n",
      "Epoch:  8/20 Step: 840  loss:0.364100\n",
      "Epoch:  8/20 Step: 850  loss:0.007564\n",
      "Epoch:  8/20 Step: 860  loss:0.000108\n",
      "Epoch:  8/20 Step: 870  loss:0.080385\n",
      "Epoch:  8/20 Step: 880  loss:0.012485\n",
      "Epoch:  8/20 Step: 890  loss:0.109143\n",
      "Epoch:  8/20 Step: 900  loss:0.033419\n",
      "Epoch:  9/20 Step: 910  loss:0.039101\n",
      "Epoch:  9/20 Step: 920  loss:0.055272\n",
      "Epoch:  9/20 Step: 930  loss:0.002613\n",
      "Epoch:  9/20 Step: 940  loss:0.364688\n",
      "Epoch:  9/20 Step: 950  loss:0.007626\n",
      "Epoch:  9/20 Step: 960  loss:0.000131\n",
      "Epoch:  9/20 Step: 970  loss:0.079496\n",
      "Epoch:  9/20 Step: 980  loss:0.012919\n",
      "Epoch:  9/20 Step: 990  loss:0.110518\n",
      "Epoch:  9/20 Step:1000  loss:0.032688\n",
      "Epoch: 10/20 Step:1010  loss:0.038060\n",
      "Epoch: 10/20 Step:1020  loss:0.055992\n",
      "Epoch: 10/20 Step:1030  loss:0.002533\n",
      "Epoch: 10/20 Step:1040  loss:0.364987\n",
      "Epoch: 10/20 Step:1050  loss:0.007658\n",
      "Epoch: 10/20 Step:1060  loss:0.000143\n",
      "Epoch: 10/20 Step:1070  loss:0.079046\n",
      "Epoch: 10/20 Step:1080  loss:0.013143\n",
      "Epoch: 10/20 Step:1090  loss:0.111220\n",
      "Epoch: 10/20 Step:1100  loss:0.032320\n",
      "Epoch: 11/20 Step:1110  loss:0.037535\n",
      "Epoch: 11/20 Step:1120  loss:0.056360\n",
      "Epoch: 11/20 Step:1130  loss:0.002493\n",
      "Epoch: 11/20 Step:1140  loss:0.365140\n",
      "Epoch: 11/20 Step:1150  loss:0.007674\n",
      "Epoch: 11/20 Step:1160  loss:0.000150\n",
      "Epoch: 11/20 Step:1170  loss:0.078817\n",
      "Epoch: 11/20 Step:1180  loss:0.013257\n",
      "Epoch: 11/20 Step:1190  loss:0.111578\n",
      "Epoch: 11/20 Step:1200  loss:0.032133\n",
      "Epoch: 12/20 Step:1210  loss:0.037270\n",
      "Epoch: 12/20 Step:1220  loss:0.056548\n",
      "Epoch: 12/20 Step:1230  loss:0.002473\n",
      "Epoch: 12/20 Step:1240  loss:0.365217\n",
      "Epoch: 12/20 Step:1250  loss:0.007682\n",
      "Epoch: 12/20 Step:1260  loss:0.000153\n",
      "Epoch: 12/20 Step:1270  loss:0.078701\n",
      "Epoch: 12/20 Step:1280  loss:0.013316\n",
      "Epoch: 12/20 Step:1290  loss:0.111761\n",
      "Epoch: 12/20 Step:1300  loss:0.032038\n",
      "Epoch: 13/20 Step:1310  loss:0.037135\n",
      "Epoch: 13/20 Step:1320  loss:0.056643\n",
      "Epoch: 13/20 Step:1330  loss:0.002462\n",
      "Epoch: 13/20 Step:1340  loss:0.365257\n",
      "Epoch: 13/20 Step:1350  loss:0.007686\n",
      "Epoch: 13/20 Step:1360  loss:0.000155\n",
      "Epoch: 13/20 Step:1370  loss:0.078642\n",
      "Epoch: 13/20 Step:1380  loss:0.013345\n",
      "Epoch: 13/20 Step:1390  loss:0.111853\n",
      "Epoch: 13/20 Step:1400  loss:0.031990\n",
      "Epoch: 14/20 Step:1410  loss:0.037067\n",
      "Epoch: 14/20 Step:1420  loss:0.056692\n",
      "Epoch: 14/20 Step:1430  loss:0.002457\n",
      "Epoch: 14/20 Step:1440  loss:0.365276\n",
      "Epoch: 14/20 Step:1450  loss:0.007688\n",
      "Epoch: 14/20 Step:1460  loss:0.000156\n",
      "Epoch: 14/20 Step:1470  loss:0.078612\n",
      "Epoch: 14/20 Step:1480  loss:0.013360\n",
      "Epoch: 14/20 Step:1490  loss:0.111901\n",
      "Epoch: 14/20 Step:1500  loss:0.031966\n",
      "Epoch: 15/20 Step:1510  loss:0.037032\n",
      "Epoch: 15/20 Step:1520  loss:0.056717\n",
      "Epoch: 15/20 Step:1530  loss:0.002454\n",
      "Epoch: 15/20 Step:1540  loss:0.365287\n",
      "Epoch: 15/20 Step:1550  loss:0.007689\n",
      "Epoch: 15/20 Step:1560  loss:0.000156\n",
      "Epoch: 15/20 Step:1570  loss:0.078597\n",
      "Epoch: 15/20 Step:1580  loss:0.013368\n",
      "Epoch: 15/20 Step:1590  loss:0.111924\n",
      "Epoch: 15/20 Step:1600  loss:0.031953\n",
      "Epoch: 16/20 Step:1610  loss:0.037015\n",
      "Epoch: 16/20 Step:1620  loss:0.056729\n",
      "Epoch: 16/20 Step:1630  loss:0.002453\n",
      "Epoch: 16/20 Step:1640  loss:0.365292\n",
      "Epoch: 16/20 Step:1650  loss:0.007690\n",
      "Epoch: 16/20 Step:1660  loss:0.000156\n",
      "Epoch: 16/20 Step:1670  loss:0.078589\n",
      "Epoch: 16/20 Step:1680  loss:0.013372\n",
      "Epoch: 16/20 Step:1690  loss:0.111937\n",
      "Epoch: 16/20 Step:1700  loss:0.031947\n",
      "Epoch: 17/20 Step:1710  loss:0.037006\n",
      "Epoch: 17/20 Step:1720  loss:0.056735\n",
      "Epoch: 17/20 Step:1730  loss:0.002452\n",
      "Epoch: 17/20 Step:1740  loss:0.365294\n",
      "Epoch: 17/20 Step:1750  loss:0.007690\n",
      "Epoch: 17/20 Step:1760  loss:0.000156\n",
      "Epoch: 17/20 Step:1770  loss:0.078586\n",
      "Epoch: 17/20 Step:1780  loss:0.013374\n",
      "Epoch: 17/20 Step:1790  loss:0.111943\n",
      "Epoch: 17/20 Step:1800  loss:0.031944\n",
      "Epoch: 18/20 Step:1810  loss:0.037001\n",
      "Epoch: 18/20 Step:1820  loss:0.056739\n",
      "Epoch: 18/20 Step:1830  loss:0.002452\n",
      "Epoch: 18/20 Step:1840  loss:0.365296\n",
      "Epoch: 18/20 Step:1850  loss:0.007690\n",
      "Epoch: 18/20 Step:1860  loss:0.000156\n",
      "Epoch: 18/20 Step:1870  loss:0.078584\n",
      "Epoch: 18/20 Step:1880  loss:0.013375\n",
      "Epoch: 18/20 Step:1890  loss:0.111946\n",
      "Epoch: 18/20 Step:1900  loss:0.031942\n",
      "Epoch: 19/20 Step:1910  loss:0.036999\n",
      "Epoch: 19/20 Step:1920  loss:0.056740\n",
      "Epoch: 19/20 Step:1930  loss:0.002452\n",
      "Epoch: 19/20 Step:1940  loss:0.365296\n",
      "Epoch: 19/20 Step:1950  loss:0.007690\n",
      "Epoch: 19/20 Step:1960  loss:0.000156\n",
      "Epoch: 19/20 Step:1970  loss:0.078583\n",
      "Epoch: 19/20 Step:1980  loss:0.013375\n",
      "Epoch: 19/20 Step:1990  loss:0.111947\n",
      "Epoch: 19/20 Step:2000  loss:0.031942\n",
      "w: 1.9927102\n",
      "b: 1.0359117\n"
     ]
    }
   ],
   "source": [
    "sess = tf.Session()\n",
    "init = tf.global_variables_initializer()\n",
    "sess.run(init)\n",
    "\n",
    "step = 0\n",
    "display_step = 10\n",
    "loss_list = []\n",
    "for epoch in range(epochs):\n",
    "    for xs, ys in zip(x_data, y_data):\n",
    "        _, loss = sess.run([optimizer, loss_function], feed_dict={x:xs, y:ys})\n",
    "        loss_list.append(loss)\n",
    "        step += 1\n",
    "        if step % display_step == 0:\n",
    "            print('Epoch:%3d/%d' % (epoch + 1, epochs), 'Step:{:4}'.format(step), ' loss:%f' % loss)\n",
    "\n",
    "w_value = sess.run(w)\n",
    "b_value = sess.run(b)\n",
    "print('w:', w_value)\n",
    "print('b:', b_value)"
   ]
  },
  {
   "cell_type": "markdown",
   "metadata": {},
   "source": [
    "### 可视化  \n",
    "比较训练出来的模型与实际模型"
   ]
  },
  {
   "cell_type": "code",
   "execution_count": 12,
   "metadata": {},
   "outputs": [
    {
     "data": {
      "image/png": "[encoded data removed]",
      "text/plain": [
       "<Figure size 432x288 with 1 Axes>"
      ]
     },
     "metadata": {
      "needs_background": "light"
     },
     "output_type": "display_data"
    }
   ],
   "source": [
    "plt.scatter(x_data, y_data, label='Original data')\n",
    "plt.plot(x_data, x_data * w_value + b_value, label='model line', color='r')\n",
    "plt.plot(x_data, x_data * 2.0 + 1.0, label='Original line', color='y')\n",
    "plt.legend(loc='best')\n",
    "\n",
    "plt.show()"
   ]
  },
  {
   "cell_type": "markdown",
   "metadata": {},
   "source": [
    "可视化查看 loss 值"
   ]
  },
  {
   "cell_type": "code",
   "execution_count": 13,
   "metadata": {},
   "outputs": [
    {
     "data": {
      "image/png": "[encoded data removed]",
      "text/plain": [
       "<Figure size 1440x360 with 2 Axes>"
      ]
     },
     "metadata": {
      "needs_background": "light"
     },
     "output_type": "display_data"
    }
   ],
   "source": [
    "fig = plt.gcf()\n",
    "fig.set_size_inches(20, 5)\n",
    "ax_1 = plt.subplot(1, 2, 1)\n",
    "ax_1.plot(loss_list, 'b')\n",
    "title = 'loss value'\n",
    "ax_1.set_title(title)\n",
    "ax_2 = plt.subplot(1, 2, 2)\n",
    "ax_2.plot(loss_list, 'r+')\n",
    "ax_2.set_title(title)\n",
    "plt.show()"
   ]
  },
  {
   "cell_type": "markdown",
   "metadata": {},
   "source": [
    "### 利用模型预测\n",
    "1.直接利用前向传播定义的 pred"
   ]
  },
  {
   "cell_type": "code",
   "execution_count": 14,
   "metadata": {},
   "outputs": [
    {
     "name": "stdout",
     "output_type": "stream",
     "text": [
      "Predict Value:11.398005\n",
      "Target Value:11.400000\n"
     ]
    }
   ],
   "source": [
    "x_test = 5.20\n",
    "\n",
    "predict = sess.run(pred, feed_dict={x:x_test})\n",
    "print('Predict Value:%f' % predict)\n",
    "\n",
    "target = 2.0 * x_test + 1.0\n",
    "print('Target Value:%f' % target)"
   ]
  },
  {
   "cell_type": "markdown",
   "metadata": {},
   "source": [
    "2.利用计算模式"
   ]
  },
  {
   "cell_type": "code",
   "execution_count": 15,
   "metadata": {},
   "outputs": [
    {
     "name": "stdout",
     "output_type": "stream",
     "text": [
      "Predict Value:11.398005\n",
      "Target Value:11.400000\n"
     ]
    }
   ],
   "source": [
    "x_test = 5.20\n",
    "\n",
    "predict = sess.run(w) * x_test + sess.run(b)\n",
    "print('Predict Value:%f' % predict)\n",
    "\n",
    "target = 2.0 * x_test + 1.0\n",
    "print('Target Value:%f' % target)\n",
    "\n",
    "sess.close()"
   ]
  }
 ],
 "metadata": {
  "kernelspec": {
   "display_name": "Python 3",
   "language": "python",
   "name": "python3"
  },
  "language_info": {
   "codemirror_mode": {
    "name": "ipython",
    "version": 3
   },
   "file_extension": ".py",
   "mimetype": "text/x-python",
   "name": "python",
   "nbconvert_exporter": "python",
   "pygments_lexer": "ipython3",
   "version": "3.6.2"
  }
 },
 "nbformat": 4,
 "nbformat_minor": 4
}
