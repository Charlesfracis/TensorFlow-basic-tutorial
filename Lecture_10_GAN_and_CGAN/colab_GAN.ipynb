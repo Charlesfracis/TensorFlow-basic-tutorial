version https://git-lfs.github.com/spec/v1
oid sha256:87d765b0945a629348258aa3a54795a8948508961df288709077b0c4cb2ea0c0
size 3044550
