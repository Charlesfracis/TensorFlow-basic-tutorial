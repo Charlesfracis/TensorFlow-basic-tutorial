version https://git-lfs.github.com/spec/v1
oid sha256:0a3c6a1bb335e1c37305091a5e0cd1eb74608a397d9af1b59e72e85c586527e7
size 25428
