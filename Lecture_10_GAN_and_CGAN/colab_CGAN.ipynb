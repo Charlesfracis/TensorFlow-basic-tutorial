version https://git-lfs.github.com/spec/v1
oid sha256:a09f9db7f5628a18e9104a4e3f99d8181b21a01d34641790ce3160095a86c0f7
size 18512625
