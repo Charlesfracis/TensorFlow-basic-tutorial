{
  "nbformat": 4,
  "nbformat_minor": 0,
  "metadata": {
    "colab": {
      "name": "Run TensorBoard 1-2-3.ipynb",
      "provenance": [],
      "collapsed_sections": []
    },
    "kernelspec": {
      "name": "python2",
      "display_name": "Python 2"
    }
  },
  "cells": [
    {
      "cell_type": "markdown",
      "metadata": {
        "id": "Sm-lt17hn448",
        "colab_type": "text"
      },
      "source": [
        "## 1"
      ]
    },
    {
      "cell_type": "markdown",
      "metadata": {
        "id": "VzvNnWaTxHN3",
        "colab_type": "text"
      },
      "source": [
        "Get TensorBoard running in the background. \n",
        "*(Inspired by [this answer](https://stackoverflow.com/a/33838211/5222402).)*"
      ]
    },
    {
      "cell_type": "code",
      "metadata": {
        "id": "pgK30pG6mIV5",
        "colab_type": "code",
        "colab": {}
      },
      "source": [
        "LOG_DIR = '/tmp/log'\n",
        "get_ipython().system_raw(\n",
        "    'tensorboard --logdir {} --host 0.0.0.0 --port 6006 &'\n",
        "    .format(LOG_DIR)\n",
        ")"
      ],
      "execution_count": 0,
      "outputs": []
    },
    {
      "cell_type": "markdown",
      "metadata": {
        "id": "Y0-rdu9coS3x",
        "colab_type": "text"
      },
      "source": [
        "Make sure we're able to connect to the TensorBoard service."
      ]
    },
    {
      "cell_type": "code",
      "metadata": {
        "id": "8lvWb8psoNpp",
        "colab_type": "code",
        "colab": {}
      },
      "source": [
        "! curl http://localhost:6006"
      ],
      "execution_count": 0,
      "outputs": []
    },
    {
      "cell_type": "markdown",
      "metadata": {
        "id": "en41EjrfmPQW",
        "colab_type": "text"
      },
      "source": [
        "## 2"
      ]
    },
    {
      "cell_type": "markdown",
      "metadata": {
        "id": "PEnDoJ7pxNEh",
        "colab_type": "text"
      },
      "source": [
        "Download and unzip [ngrok](https://ngrok.com)."
      ]
    },
    {
      "cell_type": "code",
      "metadata": {
        "id": "S8_cQrgFmOp6",
        "colab_type": "code",
        "colab": {}
      },
      "source": [
        "! wget https://bin.equinox.io/c/4VmDzA7iaHb/ngrok-stable-linux-amd64.zip > /dev/null 2>&1\n",
        "! unzip ngrok-stable-linux-amd64.zip > /dev/null 2>&1"
      ],
      "execution_count": 0,
      "outputs": []
    },
    {
      "cell_type": "markdown",
      "metadata": {
        "id": "K0hezlH-qQ8c",
        "colab_type": "text"
      },
      "source": [
        "## 3"
      ]
    },
    {
      "cell_type": "markdown",
      "metadata": {
        "id": "W3iEH4K1xQ3R",
        "colab_type": "text"
      },
      "source": [
        "Launch ngrok background process..."
      ]
    },
    {
      "cell_type": "code",
      "metadata": {
        "id": "j8sNRB_Pqe0I",
        "colab_type": "code",
        "colab": {}
      },
      "source": [
        "get_ipython().system_raw('./ngrok http 6006 &')"
      ],
      "execution_count": 0,
      "outputs": []
    },
    {
      "cell_type": "markdown",
      "metadata": {
        "id": "2UDlUOHdqhAI",
        "colab_type": "text"
      },
      "source": [
        "...and retrieve public url. ([Source](https://stackoverflow.com/a/1955555/5222402))"
      ]
    },
    {
      "cell_type": "code",
      "metadata": {
        "id": "8Z7zYcLen0_M",
        "colab_type": "code",
        "colab": {}
      },
      "source": [
        "! curl -s http://localhost:4040/api/tunnels | python3 -c \\\n",
        "    \"import sys, json; print(json.load(sys.stdin)['tunnels'][0]['public_url'])\""
      ],
      "execution_count": 0,
      "outputs": []
    },
    {
      "cell_type": "markdown",
      "metadata": {
        "id": "ABtkL6Mgq7KN",
        "colab_type": "text"
      },
      "source": [
        "## Note"
      ]
    },
    {
      "cell_type": "markdown",
      "metadata": {
        "id": "8H0LbsDqq-3d",
        "colab_type": "text"
      },
      "source": [
        "I was running against ngrok rate limits. Instead, I'm giving [localtunnel](https://github.com/localtunnel/localtunnel) a go:"
      ]
    },
    {
      "cell_type": "code",
      "metadata": {
        "id": "-i7HIAnG-Vlm",
        "colab_type": "code",
        "colab": {}
      },
      "source": [
        "# Install\n",
        "! npm install -g localtunnel"
      ],
      "execution_count": 0,
      "outputs": []
    },
    {
      "cell_type": "code",
      "metadata": {
        "id": "Dh_SPR9erLMP",
        "colab_type": "code",
        "colab": {}
      },
      "source": [
        "# Tunnel port 6006 (TensorBoard assumed running)\n",
        "get_ipython().system_raw('lt --port 6006 >> url.txt 2>&1 &')"
      ],
      "execution_count": 0,
      "outputs": []
    },
    {
      "cell_type": "code",
      "metadata": {
        "id": "TYjEv8bYrNhK",
        "colab_type": "code",
        "colab": {}
      },
      "source": [
        "# Get url\n",
        "! cat url.txt"
      ],
      "execution_count": 0,
      "outputs": []
    }
  ]
}