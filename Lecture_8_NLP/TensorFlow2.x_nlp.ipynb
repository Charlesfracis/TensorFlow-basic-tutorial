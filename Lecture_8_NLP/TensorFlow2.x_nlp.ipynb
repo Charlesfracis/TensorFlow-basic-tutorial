{
 "cells": [
  {
   "cell_type": "markdown",
   "metadata": {},
   "source": [
    "## 前情函数"
   ]
  },
  {
   "cell_type": "markdown",
   "metadata": {},
   "source": [
    "### tf.keras.preprocessing.sequence.pad_sequences"
   ]
  },
  {
   "cell_type": "markdown",
   "metadata": {},
   "source": [
    "tf.keras.preprocessing.sequence.pad_sequences(  \n",
    "&ensp;&ensp;&ensp;&ensp;sequences, maxlen=None, dtype='int32', padding='pre', truncating='pre',  \n",
    "&ensp;&ensp;&ensp;&ensp;value=0.0  \n",
    ")  \n",
    "此函数将一个整数列表转换为维度为 2D 的 Numpy 数组，maxlen 变量值确定列表中最长序列的长度，若序列是短于指定长度将被填充到指定长度，若序列的长度长于指定长度将被截取到指定长度，填充或截断发生的位置分别由参数 padding 和决定 truncating。默认填充是从序列开始处预填充或删除值  \n",
    "<br>\n",
    "参数:  \n",
    "&ensp;&ensp;&ensp;&ensp;sequences：序列列表（每个序列都必须是整数列表）  \n",
    "&ensp;&ensp;&ensp;&ensp;maxlen：可选Int，所有序列的最大长度。如果未提供，则将序列填充为最长的单个序列的长度  \n",
    "&ensp;&ensp;&ensp;&ensp;dtype：（可选，默认为int32）。输出序列的类型。要填充长度可变的字符串序列，可以使用object  \n",
    "&ensp;&ensp;&ensp;&ensp;padding：字符串，pre 或 post（可选，默认为 pre）：在每个序列之前或之后填充  \n",
    "&ensp;&ensp;&ensp;&ensp;truncating：字符串，pre 或 post（可选，默认为 pre）：从序列中大于 maxlen 或等于的序列的开头或结尾删除值，post 则是从末尾操作  \n",
    "&ensp;&ensp;&ensp;&ensp;value：浮点型或字符串型，填充值。（可选，默认为0。）  \n",
    "返回值:  \n",
    "&ensp;&ensp;&ensp;&ensp;Numpy 数组，shape=(len(sequences), maxlen)"
   ]
  },
  {
   "cell_type": "markdown",
   "metadata": {},
   "source": [
    "默认选取**最长的列表元素为准**  \n",
    "默认**填充值为 0**  \n",
    "默认**填充方式为 pre**（从前填充）"
   ]
  },
  {
   "cell_type": "code",
   "execution_count": 1,
   "metadata": {},
   "outputs": [],
   "source": [
    "import tensorflow as tf"
   ]
  },
  {
   "cell_type": "code",
   "execution_count": 2,
   "metadata": {},
   "outputs": [
    {
     "data": {
      "text/plain": [
       "array([[0, 0, 1],\n",
       "       [0, 2, 3],\n",
       "       [4, 5, 6]])"
      ]
     },
     "execution_count": 2,
     "metadata": {},
     "output_type": "execute_result"
    }
   ],
   "source": [
    "sequence = [[1], [2, 3], [4, 5, 6]] \n",
    "tf.keras.preprocessing.sequence.pad_sequences(sequence)"
   ]
  },
  {
   "cell_type": "markdown",
   "metadata": {},
   "source": [
    "指定填充 -1"
   ]
  },
  {
   "cell_type": "code",
   "execution_count": 3,
   "metadata": {},
   "outputs": [
    {
     "data": {
      "text/plain": [
       "array([[-1, -1,  1],\n",
       "       [-1,  2,  3],\n",
       "       [ 4,  5,  6]])"
      ]
     },
     "execution_count": 3,
     "metadata": {},
     "output_type": "execute_result"
    }
   ],
   "source": [
    "tf.keras.preprocessing.sequence.pad_sequences(sequence, value=-1) "
   ]
  },
  {
   "cell_type": "markdown",
   "metadata": {},
   "source": [
    "指定填充模式为从后填充"
   ]
  },
  {
   "cell_type": "code",
   "execution_count": 4,
   "metadata": {},
   "outputs": [
    {
     "data": {
      "text/plain": [
       "array([[1, 0, 0],\n",
       "       [2, 3, 0],\n",
       "       [4, 5, 6]])"
      ]
     },
     "execution_count": 4,
     "metadata": {},
     "output_type": "execute_result"
    }
   ],
   "source": [
    "tf.keras.preprocessing.sequence.pad_sequences(sequence, padding='post') "
   ]
  },
  {
   "cell_type": "markdown",
   "metadata": {},
   "source": [
    "指定最大序列长度为 2 且截断方式为 post，截断尾部操作，若为默认的 pre 操作，输出为  \n",
    "array([[0, 1],  \n",
    "&ensp;&ensp;&ensp;&ensp;&ensp;&ensp;[2, 3],  \n",
    "&ensp;&ensp;&ensp;&ensp;&ensp;&ensp;[4, 5]])"
   ]
  },
  {
   "cell_type": "code",
   "execution_count": 5,
   "metadata": {},
   "outputs": [
    {
     "data": {
      "text/plain": [
       "array([[0, 1],\n",
       "       [2, 3],\n",
       "       [4, 5]])"
      ]
     },
     "execution_count": 5,
     "metadata": {},
     "output_type": "execute_result"
    }
   ],
   "source": [
    "tf.keras.preprocessing.sequence.pad_sequences(sequence, maxlen=2, truncating='post') "
   ]
  },
  {
   "cell_type": "markdown",
   "metadata": {},
   "source": [
    "### tf.keras.datasets.imdb.load_data\n",
    "tf.keras.datasets.imdb.load_data(  \n",
    "&ensp;&ensp;&ensp;&ensp;path='imdb.npz', num_words=None, skip_top=0, maxlen=None, seed=113,  \n",
    "&ensp;&ensp;&ensp;&ensp;start_char=1, oov_char=2, index_from=3, \\*\\*kwargs  \n",
    ")  \n",
    "**这里仅做简单介绍**  \n",
    "参数:  \n",
    "&ensp;&ensp;&ensp;&ensp;path：数据的缓存位置（相对于~/.keras/dataset）  \n",
    "&ensp;&ensp;&ensp;&ensp;num_words：整数或无。根据单词出现的频率（在训练集中）对单词进行排名，并且仅保留 num_words 个最频繁出现的单词。频率较低的单词将在序列数据中显示为 oov_char 值。如果为None，将保留所有单词。(默认为无，因此保留所有单词)  \n",
    "&ensp;&ensp;&ensp;&ensp;skip_top：跳过前N个最频繁出现的单词（可能没有参考意义）。这些单词将oov_char在数据集中显示为 值。默认值为0，因此不会跳过任何单词  \n",
    "&ensp;&ensp;&ensp;&ensp;maxlen：int或无。最大序列长度。更长的序列将被截断。默认为无，表示没有截断  \n",
    "&ensp;&ensp;&ensp;&ensp;seed：int 随机种子，用于随机打乱数据    \n",
    "&ensp;&ensp;&ensp;&ensp;start_char：int 序列的开始将以该字符标记。默认为1，因为 0 通常是填充字符  \n",
    "&ensp;&ensp;&ensp;&ensp;oov_char：int 言外之意。由于 num_words 或 skip_top限制而被删掉的单词将被替换为该字符  \n",
    "&ensp;&ensp;&ensp;&ensp;index_from：int 用此索引和更高的索引索引实际单词  \n",
    "&ensp;&ensp;&ensp;&ensp;**kwargs：用于向后兼容  \n",
    "\n",
    "返回值:  \n",
    "&ensp;&ensp;&ensp;&ensp;&ensp;&ensp;Numpy数组的元组：(x_train, y_train), (x_test, y_test)\n",
    "<br>\n",
    "我们只需要**指定 num_words 的值**就行了，英文常用词汇大概在3000~5000，所以我们在读取数据时设定值为 5000，其中截长补短部分也可直接在数据读入时进行，但为了较统计学方式的设定值，我们利用 75% 的值作为 maxlen 的取值"
   ]
  },
  {
   "cell_type": "code",
   "execution_count": 6,
   "metadata": {},
   "outputs": [],
   "source": [
    "# 统一文本长度，截长补短处代码\n",
    "# x_train = tf.keras.preprocessing.sequence.pad_sequences(train_data,\n",
    "#                              padding='post',\n",
    "#                              truncating='post',\n",
    "#                              maxlen=length)\n",
    "# x_test = tf.keras.preprocessing.sequence.pad_sequences(test_data,\n",
    "#                              padding='post',\n",
    "#                              truncating='post',\n",
    "#                              maxlen=length)"
   ]
  },
  {
   "cell_type": "markdown",
   "metadata": {},
   "source": [
    "### 中文分词词库 jieba 使用初步\n",
    "jieba 的命名是一个有趣的故事，跟‘结巴’同音，因为结巴说话就是结结巴巴一个词一个词的突出，首次使用时可使用`!pip install jieba`在 jupyter 实现安装  \n",
    "<br>\n",
    "**三种分词模式:**  \n",
    "① 精确模式：试图将句子最精确地切开，适合文本分析  \n",
    "② 全模式：把句子中所有的可以成词的词语都扫描出来, 速度非常快，但是不能解决歧义  \n",
    "③ 搜索引擎模式：在精确模式的基础上，对长词再次切分，提高召回率，适合用于搜索引擎分词  \n",
    "<br>\n",
    "**特点:**  \n",
    "• 支持繁体分词  \n",
    "• 支持自定义词典  \n",
    "<br>\n",
    "其中`支持自定义词典`优点尤为突出，在处理一些特定情境会话时可以将专业名词划分出来  \n",
    "  \n",
    "**结巴分词使用**  \n",
    "• jieba.cut 方法接受三个输入参数: 需要分词的字符串；cut_all 参数用来控制是否采用全模式；HMM 参数用来控制是否使用 HMM 模型  \n",
    "• jieba.cut_for_search 方法接受两个参数：需要分词的字符串；是否使用 HMM 模型。该方法适合用于搜索引擎构建倒排索引的分词  \n",
    "• jieba.cut 以及 jieba.cut_for_search 返回的结构都是一个可迭代的 generator，可以使用 for 循环来获得分词后得到的每一个词语，或者用jieba.lcut 以及 jieba.lcut_for_search 直接返回 list  "
   ]
  },
  {
   "cell_type": "code",
   "execution_count": 7,
   "metadata": {},
   "outputs": [],
   "source": [
    "import jieba"
   ]
  },
  {
   "cell_type": "code",
   "execution_count": 8,
   "metadata": {},
   "outputs": [
    {
     "name": "stdout",
     "output_type": "stream",
     "text": [
      "文本信息: 我本科毕业于电子科技大学，现在已被保送电子科技大学硕士研究生\n"
     ]
    }
   ],
   "source": [
    "text = '我本科毕业于电子科技大学，现在已被保送电子科技大学硕士研究生'\n",
    "print('文本信息:', text)"
   ]
  },
  {
   "cell_type": "markdown",
   "metadata": {},
   "source": [
    "**注意:** 直接使用 `jieba.cut` 需要 `list` 操作将 generator 转换为列表形式"
   ]
  },
  {
   "cell_type": "code",
   "execution_count": 9,
   "metadata": {},
   "outputs": [
    {
     "name": "stderr",
     "output_type": "stream",
     "text": [
      "Building prefix dict from the default dictionary ...\n",
      "Loading model from cache C:\\Users\\ADMINI~1\\AppData\\Local\\Temp\\jieba.cache\n",
      "Loading model cost 0.799 seconds.\n",
      "Prefix dict has been built successfully.\n"
     ]
    },
    {
     "name": "stdout",
     "output_type": "stream",
     "text": [
      "['我', '本科毕业', '于', '电子科技', '大学', '，', '现在', '已', '被', '保送', '电子科技', '大学', '硕士', '研究生']\n"
     ]
    }
   ],
   "source": [
    "word_list = jieba.cut(text)\n",
    "print(list(word_list))"
   ]
  },
  {
   "cell_type": "markdown",
   "metadata": {},
   "source": [
    "使用 `join` 可以很好的适配 generator，精准模式直接分割文本信息"
   ]
  },
  {
   "cell_type": "code",
   "execution_count": 10,
   "metadata": {},
   "outputs": [
    {
     "name": "stdout",
     "output_type": "stream",
     "text": [
      "精准模式分词结果为:我/本科毕业/于/电子科技/大学/，/现在/已/被/保送/电子科技/大学/硕士/研究生\n"
     ]
    }
   ],
   "source": [
    "word_list = jieba.cut(text, cut_all=False)\n",
    "print(\"精准模式分词结果为:\" + \"/\".join(word_list))"
   ]
  },
  {
   "cell_type": "markdown",
   "metadata": {},
   "source": [
    "全模式会把文本信息的每个词的所有可能组合进行输出"
   ]
  },
  {
   "cell_type": "code",
   "execution_count": 11,
   "metadata": {},
   "outputs": [
    {
     "name": "stdout",
     "output_type": "stream",
     "text": [
      "全模式分词结果为:我/本科/本科毕业/毕业/于/电子/电子科/电子科技/科技/大学/，/现在/已/被/保送/送电/电子/电子科/电子科技/科技/大学/硕士/研究/研究生\n"
     ]
    }
   ],
   "source": [
    "word_list = jieba.cut(text, cut_all=True)\n",
    "print(\"全模式分词结果为:\" + \"/\".join(word_list))"
   ]
  },
  {
   "cell_type": "markdown",
   "metadata": {},
   "source": [
    "`lcut` 操作会把生成的 generator 自动转换为列表"
   ]
  },
  {
   "cell_type": "code",
   "execution_count": 12,
   "metadata": {},
   "outputs": [
    {
     "name": "stdout",
     "output_type": "stream",
     "text": [
      "['我', '本科毕业', '于', '电子科技', '大学', '，', '现在', '已', '被', '保送', '电子科技', '大学', '硕士', '研究生']\n"
     ]
    }
   ],
   "source": [
    "word_list = jieba.lcut(text)\n",
    "print(word_list)"
   ]
  },
  {
   "cell_type": "markdown",
   "metadata": {},
   "source": [
    "搜索引擎模式，类似搜索引擎一样组合并提取关键词"
   ]
  },
  {
   "cell_type": "code",
   "execution_count": 13,
   "metadata": {},
   "outputs": [
    {
     "name": "stdout",
     "output_type": "stream",
     "text": [
      "['我', '本科', '毕业', '本科毕业', '于', '电子', '科技', '电子科', '电子科技', '大学', '，', '现在', '已', '被', '保送', '电子', '科技', '电子科', '电子科技', '大学', '硕士', '研究', '研究生']\n"
     ]
    }
   ],
   "source": [
    "word_list = jieba.lcut_for_search(text)\n",
    "print(word_list)"
   ]
  },
  {
   "cell_type": "markdown",
   "metadata": {},
   "source": [
    "为了将<font face=\"楷体\" color=red size=5>电子科技大学</font>作为一个专业名词采取**自定义字典模式**，其中也包括`本科毕业`词汇"
   ]
  },
  {
   "cell_type": "code",
   "execution_count": 14,
   "metadata": {},
   "outputs": [],
   "source": [
    "with open('mydict.txt', 'w', encoding='utf-8') as file:\n",
    "    file.write('电子科技大学\\n本科毕业')"
   ]
  },
  {
   "cell_type": "code",
   "execution_count": 15,
   "metadata": {},
   "outputs": [
    {
     "name": "stdout",
     "output_type": "stream",
     "text": [
      "['我', '本科毕业', '于', '电子科技大学', '，', '现在', '已', '被', '保送', '电子科技大学', '硕士', '研究生']\n"
     ]
    }
   ],
   "source": [
    "jieba.load_userdict('mydict.txt')\n",
    "\n",
    "word_list = jieba.lcut(text)\n",
    "print(word_list)"
   ]
  },
  {
   "cell_type": "markdown",
   "metadata": {},
   "source": [
    "## 全连接网络实现正式开始"
   ]
  },
  {
   "cell_type": "code",
   "execution_count": 16,
   "metadata": {},
   "outputs": [
    {
     "data": {
      "text/plain": [
       "'2.0.0'"
      ]
     },
     "execution_count": 16,
     "metadata": {},
     "output_type": "execute_result"
    }
   ],
   "source": [
    "import tensorflow as tf\n",
    "import numpy as np\n",
    "import matplotlib.pyplot as plt\n",
    "\n",
    "\n",
    "tf.__version__"
   ]
  },
  {
   "cell_type": "markdown",
   "metadata": {},
   "source": [
    "### 下载并装载数据集\n",
    "TensorFlow2.x 读取的数据是已经装载并映射好的数据集，有关数据集的格式参见 **RNN(LSTM)实现正式开始** 如何将文字信息与数字信息映射的方法与步骤"
   ]
  },
  {
   "cell_type": "code",
   "execution_count": 17,
   "metadata": {},
   "outputs": [],
   "source": [
    "imdb = tf.keras.datasets.imdb\n",
    "(train_data, train_labels), (test_data, test_labels) = imdb.load_data(num_words=5000)"
   ]
  },
  {
   "cell_type": "code",
   "execution_count": 18,
   "metadata": {},
   "outputs": [
    {
     "name": "stdout",
     "output_type": "stream",
     "text": [
      "Training entries:25000, labels:25000\n"
     ]
    }
   ],
   "source": [
    "print('Training entries:{}, labels:{}'.format(len(train_data), len(train_labels)))"
   ]
  },
  {
   "cell_type": "markdown",
   "metadata": {},
   "source": [
    "可以发现数据集为数字列表，共有 25000 个元素，当然测试数据也是如此"
   ]
  },
  {
   "cell_type": "code",
   "execution_count": 19,
   "metadata": {},
   "outputs": [
    {
     "name": "stdout",
     "output_type": "stream",
     "text": [
      "train detaset first value:\n",
      " [1, 14, 22, 16, 43, 530, 973, 1622, 1385, 65, 458, 4468, 66, 3941, 4, 173, 36, 256, 5, 25, 100, 43, 838, 112, 50, 670, 2, 9, 35, 480, 284, 5, 150, 4, 172, 112, 167, 2, 336, 385, 39, 4, 172, 4536, 1111, 17, 546, 38, 13, 447, 4, 192, 50, 16, 6, 147, 2025, 19, 14, 22, 4, 1920, 4613, 469, 4, 22, 71, 87, 12, 16, 43, 530, 38, 76, 15, 13, 1247, 4, 22, 17, 515, 17, 12, 16, 626, 18, 2, 5, 62, 386, 12, 8, 316, 8, 106, 5, 4, 2223, 2, 16, 480, 66, 3785, 33, 4, 130, 12, 16, 38, 619, 5, 25, 124, 51, 36, 135, 48, 25, 1415, 33, 6, 22, 12, 215, 28, 77, 52, 5, 14, 407, 16, 82, 2, 8, 4, 107, 117, 2, 15, 256, 4, 2, 7, 3766, 5, 723, 36, 71, 43, 530, 476, 26, 400, 317, 46, 7, 4, 2, 1029, 13, 104, 88, 4, 381, 15, 297, 98, 32, 2071, 56, 26, 141, 6, 194, 2, 18, 4, 226, 22, 21, 134, 476, 26, 480, 5, 144, 30, 2, 18, 51, 36, 28, 224, 92, 25, 104, 4, 226, 65, 16, 38, 1334, 88, 12, 16, 283, 5, 16, 4472, 113, 103, 32, 15, 16, 2, 19, 178, 32] \n",
      "train detaset first label: 1 \n",
      "test detaset first value:\n",
      " [1, 591, 202, 14, 31, 6, 717, 10, 10, 2, 2, 5, 4, 360, 7, 4, 177, 2, 394, 354, 4, 123, 9, 1035, 1035, 1035, 10, 10, 13, 92, 124, 89, 488, 2, 100, 28, 1668, 14, 31, 23, 27, 2, 29, 220, 468, 8, 124, 14, 286, 170, 8, 157, 46, 5, 27, 239, 16, 179, 2, 38, 32, 25, 2, 451, 202, 14, 6, 717] \n",
      "test detaset first label: 0\n"
     ]
    }
   ],
   "source": [
    "print('train detaset first value:\\n', train_data[0],\n",
    "      '\\ntrain detaset first label:', train_labels[0],\n",
    "      '\\ntest detaset first value:\\n', test_data[0],\n",
    "      '\\ntest detaset first label:', test_labels[0],)"
   ]
  },
  {
   "cell_type": "markdown",
   "metadata": {},
   "source": [
    "### 数据集预处理\n",
    "由于网络输入数据必须是同维度，因此需要将得到的数据集或切割或填充的方法统一维度(也就是每一个数据列表的元素个数必须相同)  "
   ]
  },
  {
   "cell_type": "markdown",
   "metadata": {},
   "source": [
    "获取训练集列表元素排位在 75% 的长度，以此作为输入的维度"
   ]
  },
  {
   "cell_type": "code",
   "execution_count": 20,
   "metadata": {},
   "outputs": [
    {
     "name": "stdout",
     "output_type": "stream",
     "text": [
      "75% length is: 291\n"
     ]
    }
   ],
   "source": [
    "total = []\n",
    "for i in range(len(train_data)):\n",
    "    total.append(len(train_data[i]))\n",
    "\n",
    "sorted_total = sorted(total)\n",
    "length = sorted_total[int(len(sorted_total) * 0.75)]\n",
    "del total, sorted_total\n",
    "\n",
    "print('75% length is:', length)"
   ]
  },
  {
   "cell_type": "markdown",
   "metadata": {},
   "source": [
    "统一文本长度，截长补短"
   ]
  },
  {
   "cell_type": "code",
   "execution_count": 21,
   "metadata": {},
   "outputs": [],
   "source": [
    "x_train = tf.keras.preprocessing.sequence.pad_sequences(train_data,\n",
    "                             padding='post',\n",
    "                             truncating='post',\n",
    "                             maxlen=length)\n",
    "x_test = tf.keras.preprocessing.sequence.pad_sequences(test_data,\n",
    "                             padding='post',\n",
    "                             truncating='post',\n",
    "                             maxlen=length)"
   ]
  },
  {
   "cell_type": "code",
   "execution_count": 22,
   "metadata": {},
   "outputs": [
    {
     "name": "stdout",
     "output_type": "stream",
     "text": [
      "x_train.shape: (25000, 291) \n",
      "x_test.shape: (25000, 291)\n"
     ]
    }
   ],
   "source": [
    "print('x_train.shape:', x_train.shape,\n",
    "      '\\nx_test.shape:', x_test.shape)"
   ]
  },
  {
   "cell_type": "code",
   "execution_count": 23,
   "metadata": {},
   "outputs": [
    {
     "name": "stdout",
     "output_type": "stream",
     "text": [
      "After padding and truncating：\n",
      " [   1   14   22   16   43  530  973 1622 1385   65  458 4468   66 3941\n",
      "    4  173   36  256    5   25  100   43  838  112   50  670    2    9\n",
      "   35  480  284    5  150    4  172  112  167    2  336  385   39    4\n",
      "  172 4536 1111   17  546   38   13  447    4  192   50   16    6  147\n",
      " 2025   19   14   22    4 1920 4613  469    4   22   71   87   12   16\n",
      "   43  530   38   76   15   13 1247    4   22   17  515   17   12   16\n",
      "  626   18    2    5   62  386   12    8  316    8  106    5    4 2223\n",
      "    2   16  480   66 3785   33    4  130   12   16   38  619    5   25\n",
      "  124   51   36  135   48   25 1415   33    6   22   12  215   28   77\n",
      "   52    5   14  407   16   82    2    8    4  107  117    2   15  256\n",
      "    4    2    7 3766    5  723   36   71   43  530  476   26  400  317\n",
      "   46    7    4    2 1029   13  104   88    4  381   15  297   98   32\n",
      " 2071   56   26  141    6  194    2   18    4  226   22   21  134  476\n",
      "   26  480    5  144   30    2   18   51   36   28  224   92   25  104\n",
      "    4  226   65   16   38 1334   88   12   16  283    5   16 4472  113\n",
      "  103   32   15   16    2   19  178   32    0    0    0    0    0    0\n",
      "    0    0    0    0    0    0    0    0    0    0    0    0    0    0\n",
      "    0    0    0    0    0    0    0    0    0    0    0    0    0    0\n",
      "    0    0    0    0    0    0    0    0    0    0    0    0    0    0\n",
      "    0    0    0    0    0    0    0    0    0    0    0    0    0    0\n",
      "    0    0    0    0    0    0    0    0    0    0    0]\n"
     ]
    }
   ],
   "source": [
    "print(\"After padding and truncating：\\n\", x_train[0])"
   ]
  },
  {
   "cell_type": "markdown",
   "metadata": {},
   "source": [
    "### 全连接模型构建"
   ]
  },
  {
   "cell_type": "code",
   "execution_count": 24,
   "metadata": {},
   "outputs": [],
   "source": [
    "model = tf.keras.models.Sequential()"
   ]
  },
  {
   "cell_type": "code",
   "execution_count": 25,
   "metadata": {},
   "outputs": [],
   "source": [
    "model.add(tf.keras.layers.Embedding(output_dim=32,\n",
    "                  input_dim=5000,\n",
    "                  input_length=length))"
   ]
  },
  {
   "cell_type": "markdown",
   "metadata": {},
   "source": [
    "`model.add(tf.keras.layers.Flatten())` 功能与下行一样，属于平坦化操作，在前一篇博客中有`tf.keras.layers.GlobalAveragePooling2D()`代替全连接层，全局池化在神经网络的全连接层具有一定的优越性"
   ]
  },
  {
   "cell_type": "code",
   "execution_count": 26,
   "metadata": {},
   "outputs": [],
   "source": [
    "model.add(tf.keras.layers.GlobalAveragePooling1D())"
   ]
  },
  {
   "cell_type": "code",
   "execution_count": 27,
   "metadata": {},
   "outputs": [],
   "source": [
    "model.add(tf.keras.layers.Dense(units=256, activation='relu'))\n",
    "model.add(tf.keras.layers.Dropout(0.3))\n",
    "model.add(tf.keras.layers.Dense(units=2, activation='softmax'))"
   ]
  },
  {
   "cell_type": "code",
   "execution_count": 28,
   "metadata": {},
   "outputs": [
    {
     "name": "stdout",
     "output_type": "stream",
     "text": [
      "Model: \"sequential\"\n",
      "_________________________________________________________________\n",
      "Layer (type)                 Output Shape              Param #   \n",
      "=================================================================\n",
      "embedding (Embedding)        (None, 291, 32)           160000    \n",
      "_________________________________________________________________\n",
      "global_average_pooling1d (Gl (None, 32)                0         \n",
      "_________________________________________________________________\n",
      "dense (Dense)                (None, 256)               8448      \n",
      "_________________________________________________________________\n",
      "dropout (Dropout)            (None, 256)               0         \n",
      "_________________________________________________________________\n",
      "dense_1 (Dense)              (None, 2)                 514       \n",
      "=================================================================\n",
      "Total params: 168,962\n",
      "Trainable params: 168,962\n",
      "Non-trainable params: 0\n",
      "_________________________________________________________________\n"
     ]
    }
   ],
   "source": [
    "model.summary()"
   ]
  },
  {
   "cell_type": "markdown",
   "metadata": {},
   "source": [
    "未启用独热编码，我们使用 `sparse_categorical_crossentropy` 作为损失函数"
   ]
  },
  {
   "cell_type": "code",
   "execution_count": 29,
   "metadata": {},
   "outputs": [],
   "source": [
    "model.compile(optimizer='adam',\n",
    "       loss='sparse_categorical_crossentropy',\n",
    "       metrics=['accuracy'])"
   ]
  },
  {
   "cell_type": "code",
   "execution_count": 30,
   "metadata": {},
   "outputs": [
    {
     "name": "stdout",
     "output_type": "stream",
     "text": [
      "Train on 20000 samples, validate on 5000 samples\n",
      "Epoch 1/10\n",
      "20000/20000 [==============================] - 3s 174us/sample - loss: 0.6029 - accuracy: 0.6894 - val_loss: 0.3947 - val_accuracy: 0.8488\n",
      "Epoch 2/10\n",
      "20000/20000 [==============================] - 2s 111us/sample - loss: 0.3189 - accuracy: 0.8715 - val_loss: 0.3129 - val_accuracy: 0.8756\n",
      "Epoch 3/10\n",
      "20000/20000 [==============================] - 2s 112us/sample - loss: 0.2525 - accuracy: 0.9010 - val_loss: 0.3045 - val_accuracy: 0.8828\n",
      "Epoch 4/10\n",
      "20000/20000 [==============================] - 2s 113us/sample - loss: 0.2214 - accuracy: 0.9160 - val_loss: 0.3211 - val_accuracy: 0.8714\n",
      "Epoch 5/10\n",
      "20000/20000 [==============================] - 2s 111us/sample - loss: 0.2006 - accuracy: 0.9232 - val_loss: 0.3089 - val_accuracy: 0.8806\n",
      "Epoch 6/10\n",
      "20000/20000 [==============================] - 2s 111us/sample - loss: 0.1836 - accuracy: 0.9316 - val_loss: 0.3241 - val_accuracy: 0.8760\n",
      "Epoch 7/10\n",
      "20000/20000 [==============================] - 2s 111us/sample - loss: 0.1720 - accuracy: 0.9369 - val_loss: 0.3338 - val_accuracy: 0.8776\n",
      "Epoch 8/10\n",
      "20000/20000 [==============================] - 2s 112us/sample - loss: 0.1644 - accuracy: 0.9398 - val_loss: 0.3503 - val_accuracy: 0.8742\n",
      "Epoch 9/10\n",
      "20000/20000 [==============================] - 2s 115us/sample - loss: 0.1553 - accuracy: 0.9434 - val_loss: 0.3614 - val_accuracy: 0.8740\n",
      "Epoch 10/10\n",
      "20000/20000 [==============================] - 3s 165us/sample - loss: 0.1478 - accuracy: 0.9471 - val_loss: 0.3870 - val_accuracy: 0.8690\n"
     ]
    }
   ],
   "source": [
    "history = model.fit(x_train,\n",
    "            train_labels,\n",
    "            validation_split=0.2,\n",
    "            epochs=10,\n",
    "            batch_size=128,\n",
    "            verbose=1)"
   ]
  },
  {
   "cell_type": "markdown",
   "metadata": {},
   "source": [
    "### 训练可视化\n",
    "可以发现明显过拟合了"
   ]
  },
  {
   "cell_type": "code",
   "execution_count": 31,
   "metadata": {},
   "outputs": [
    {
     "data": {
      "image/png": "[encoded data removed]",
      "text/plain": [
       "<Figure size 720x360 with 2 Axes>"
      ]
     },
     "metadata": {
      "needs_background": "light"
     },
     "output_type": "display_data"
    }
   ],
   "source": [
    "fig = plt.gcf()\n",
    "fig.set_size_inches(10, 5)\n",
    "ax1 = fig.add_subplot(111)\n",
    "ax1.set_title('Train and Validation Picture')\n",
    "ax1.set_ylabel('Loss value')\n",
    "line1, = ax1.plot(history.history['loss'], color=(0.5, 0.5, 1.0), label='Loss train')\n",
    "line2, = ax1.plot(history.history['val_loss'], color=(0.5, 1.0, 0.5), label='Loss valid')\n",
    "ax2 = ax1.twinx()\n",
    "ax2.set_ylabel('Accuracy value')\n",
    "line3, = ax2.plot(history.history['accuracy'], color=(0.5, 0.5, 0.5), label='Accuracy train')\n",
    "line4, = ax2.plot(history.history['val_accuracy'], color=(1, 0, 0), label='Accuracy valid')\n",
    "plt.legend(handles=(line1, line2, line3, line4), loc='best')\n",
    "plt.xlim(-1, 10)\n",
    "plt.show()"
   ]
  },
  {
   "cell_type": "markdown",
   "metadata": {},
   "source": [
    "### 准确率评估\n",
    "**我们发现利用已包装好的文件只能预测已包装好的文本，无法对现场摘取的文本进行预测，因为我们不知道其单词与数字的对应关系**，在后面的 RNN(LSTM)我们将使用手动处理数据集方式"
   ]
  },
  {
   "cell_type": "code",
   "execution_count": 32,
   "metadata": {},
   "outputs": [
    {
     "name": "stdout",
     "output_type": "stream",
     "text": [
      "25000/1 - 3s - loss: 0.3215 - accuracy: 0.8564\n",
      "Test accuracy： 0.85644\n"
     ]
    }
   ],
   "source": [
    "test_loss, test_acc = model.evaluate(x_test, test_labels, verbose=2)\n",
    "print('Test accuracy：', test_acc)"
   ]
  },
  {
   "cell_type": "markdown",
   "metadata": {},
   "source": [
    "### 利用模型预测外部评论"
   ]
  },
  {
   "cell_type": "markdown",
   "metadata": {},
   "source": [
    "选取[星球大战](https://www.imdb.com/title/tt0080684/reviews)中的一则评论:  \n",
    "<br>\n",
    "《星球大战前传V-帝国反击战》于1980年上映，距今取得了巨大成功。要说《帝国反击战》向《新希望》伸张正义，那就是轻描淡写，因为这部电影以各种可能的方式提高了赌注。更长更好的战斗（例如完美无缺的霍斯之战），更黑暗，更成熟的情节，是有史以来**最令人难忘**（且被引用）的曲折之一，AT-AT步行者，Yoda的推出是一些原因为什么《帝国反击战》是完美的续集。与《新希望》不同，这部电影不是乔治·卢卡斯执导的，而是欧文·克什纳执导的，在他应得的荣誉中，他表现出色。克什纳（Kershner）还设法从演员阵容中获得最佳表现，尤其是哈米尔（Hamill），自上一部电影以来，他的性格发生了巨大变化。我们还看到了更多的维达及其疯狂而近乎动物的性格，詹姆斯·厄尔·琼斯的嗓音再次完美地展现了这一点。**《帝国反击战》确实是完美的续集**，因为它充实了乔治·卢卡斯的元素，并且大量继承了自己的作品。**最终成绩-9 + / 10**  \n",
    "<br>\n",
    "中文翻译来源 [Google Translate](https://translate.google.com/?um=1&ie=UTF-8&hl=zh-CN&client=tw-ob#en/zh-CN/)  \n",
    "<br>\n",
    "可以看出这是一则好评"
   ]
  },
  {
   "cell_type": "code",
   "execution_count": 33,
   "metadata": {},
   "outputs": [],
   "source": [
    "review_text='''Star Wars Episode V - The Empire Strikes Back was released in 1980, three years after its overwhelmingly successful predecessor.\n",
    "        To say The Empire Strikes Back does justice to A New Hope is a massive understatement as this film ups the ante in every way possible. Longer and better battles (such as the immaculate Battle of Hoth), a much darker and more mature plot with one of the most memorable (and quoted) twists of all time, AT-AT walkers, the introduction of Yoda are some of the reasons why Empire Strikes Back is the perfect sequel.\n",
    "        Unlike A New Hope, this film was not directed by George Lucas but Irvin Kershner and to give credit where credit is due he did just as good of a job. Kershner also manages to get the best possible performances out of his cast, especially Hamill whose character changed drastically since the last film. We also see more of Vader and his deranged and almost animalistic character which is again perfectly displayed by James Earl Jones's vocals.\n",
    "        Empire Strikes Back truly is the perfect sequel as it flourishes on George Lucas's elements as well as bringing in many more of its own in great succession.\n",
    "        Final Grade - 9+/10\n",
    "      '''"
   ]
  },
  {
   "cell_type": "code",
   "execution_count": 34,
   "metadata": {},
   "outputs": [],
   "source": [
    "text_to_list = tf.keras.preprocessing.text.text_to_word_sequence(\n",
    "    review_text\n",
    ")\n",
    "\n",
    "word_index = imdb.get_word_index()\n",
    "NUM_list = [word_index[key]+3 for key in text_to_list]\n",
    "num_list = NUM_list.copy()\n",
    "\n",
    "for i in range(len(num_list)):\n",
    "    if num_list[i] >= 5000:\n",
    "        num_list[i] = 2\n",
    "\n",
    "test_list = tf.keras.preprocessing.sequence.pad_sequences([num_list],\n",
    "                             padding='post',\n",
    "                             truncating='post',\n",
    "                             maxlen=length)"
   ]
  },
  {
   "cell_type": "markdown",
   "metadata": {},
   "source": [
    "在 TensorFlow2.x 中，Imdb 数据集 1 代表 positive，0 代表 negtive，[说明链接](https://books.google.com/books?id=xR2CDwAAQBAJ&pg=PA181&lpg=PA181&dq=IMDB.npz%EF%BC%8C0+is+positive+or+1+is+positive&source=bl&ots=yVBozSgIXI&sig=ACfU3U2C7eUj7_ouiwvaXXn916GzXtva3g&hl=zh-CN&sa=X&ved=2ahUKEwjI27XGhqHpAhVloXIEHX23DjgQ6AEwAHoECAoQAQ#v=onepage&q&f=false)"
   ]
  },
  {
   "cell_type": "code",
   "execution_count": 35,
   "metadata": {},
   "outputs": [
    {
     "name": "stdout",
     "output_type": "stream",
     "text": [
      "predict value: pos\n"
     ]
    }
   ],
   "source": [
    "sentiment_dict = {1:'pos', 0:'neg'}\n",
    "\n",
    "pred = model.predict(test_list)\n",
    "print('predict value:', sentiment_dict[np.argmax(pred)])"
   ]
  },
  {
   "cell_type": "markdown",
   "metadata": {},
   "source": [
    "### 文本还原\n",
    "获取字典，注意需要输入原始数据集，而不是截长补短后的"
   ]
  },
  {
   "cell_type": "code",
   "execution_count": 36,
   "metadata": {},
   "outputs": [
    {
     "name": "stdout",
     "output_type": "stream",
     "text": [
      "train_data[0] revert:\n",
      " ['?', 'this', 'film', 'was', 'just', 'brilliant', 'casting', 'location', 'scenery', 'story', 'direction', \"everyone's\", 'really', 'suited', 'the', 'part', 'they', 'played', 'and', 'you', 'could', 'just', 'imagine', 'being', 'there', 'robert', '?', 'is', 'an', 'amazing', 'actor', 'and', 'now', 'the', 'same', 'being', 'director', '?', 'father', 'came', 'from', 'the', 'same', 'scottish', 'island', 'as', 'myself', 'so', 'i', 'loved', 'the', 'fact', 'there', 'was', 'a', 'real', 'connection', 'with', 'this', 'film', 'the', 'witty', 'remarks', 'throughout', 'the', 'film', 'were', 'great', 'it', 'was', 'just', 'brilliant', 'so', 'much', 'that', 'i', 'bought', 'the', 'film', 'as', 'soon', 'as', 'it', 'was', 'released', 'for', '?', 'and', 'would', 'recommend', 'it', 'to', 'everyone', 'to', 'watch', 'and', 'the', 'fly', '?', 'was', 'amazing', 'really', 'cried', 'at', 'the', 'end', 'it', 'was', 'so', 'sad', 'and', 'you', 'know', 'what', 'they', 'say', 'if', 'you', 'cry', 'at', 'a', 'film', 'it', 'must', 'have', 'been', 'good', 'and', 'this', 'definitely', 'was', 'also', '?', 'to', 'the', 'two', 'little', '?', 'that', 'played', 'the', '?', 'of', 'norman', 'and', 'paul', 'they', 'were', 'just', 'brilliant', 'children', 'are', 'often', 'left', 'out', 'of', 'the', '?', 'list', 'i', 'think', 'because', 'the', 'stars', 'that', 'play', 'them', 'all', 'grown', 'up', 'are', 'such', 'a', 'big', '?', 'for', 'the', 'whole', 'film', 'but', 'these', 'children', 'are', 'amazing', 'and', 'should', 'be', '?', 'for', 'what', 'they', 'have', 'done', \"don't\", 'you', 'think', 'the', 'whole', 'story', 'was', 'so', 'lovely', 'because', 'it', 'was', 'true', 'and', 'was', \"someone's\", 'life', 'after', 'all', 'that', 'was', '?', 'with', 'us', 'all']\n"
     ]
    }
   ],
   "source": [
    "word_index = imdb.get_word_index()\n",
    "reverse_word_index = dict([(value, key) for (key, value) in word_index.items()])\n",
    "\n",
    "review = [reverse_word_index.get(i-3, \"?\") for i in train_data[0]]\n",
    "\n",
    "print('train_data[0] revert:\\n', review)"
   ]
  },
  {
   "cell_type": "markdown",
   "metadata": {},
   "source": [
    "train_data[0] 在 Imdb 数据集对应着 `aclImdb/train/pos/576_10.txt` 这个文件，读取这个文件并做对比"
   ]
  },
  {
   "cell_type": "code",
   "execution_count": 37,
   "metadata": {},
   "outputs": [
    {
     "name": "stdout",
     "output_type": "stream",
     "text": [
      "this film was just brilliant,casting,location scenery,story,direction,everyone's really suited the part they played,and you could just imagine being there,Robert Redford's is an amazing actor and now the same being director,Norman's father came from the same Scottish island as myself,so i loved the fact there was a real connection with this film,the witty remarks throughout the film were great,it was just brilliant,so much that i bought the film as soon as it was released for retail and would recommend it to everyone to watch,and the fly-fishing was amazing,really cried at the end it was so sad,and you know what they say if you cry at a film it must have been good,and this definitely was, also congratulations to the two little boy's that played the part's of Norman and Paul they were just brilliant,children are often left out of the praising list i think, because the stars that play them all grown up are such a big profile for the whole film,but these children are amazing and should be praised for what they have done, don't you think? the whole story was so lovely because it was true and was someone's life after all that was shared with us all.\n"
     ]
    }
   ],
   "source": [
    "with open('./data/aclImdb/train/pos/576_10.txt', 'r') as file:\n",
    "    message = file.readline()\n",
    "    print(message)"
   ]
  },
  {
   "cell_type": "markdown",
   "metadata": {},
   "source": [
    "星球大战评论还原，使用未处理的 NUM_list"
   ]
  },
  {
   "cell_type": "code",
   "execution_count": 38,
   "metadata": {},
   "outputs": [
    {
     "name": "stdout",
     "output_type": "stream",
     "text": [
      "NUM_list revert:\n",
      " ['star', 'wars', 'episode', 'v', 'the', 'empire', 'strikes', 'back', 'was', 'released', 'in', '1980', 'three', 'years', 'after', 'its', 'overwhelmingly', 'successful', 'predecessor', 'to', 'say', 'the', 'empire', 'strikes', 'back', 'does', 'justice', 'to', 'a', 'new', 'hope', 'is', 'a', 'massive', 'understatement', 'as', 'this', 'film', 'ups', 'the', 'ante', 'in', 'every', 'way', 'possible', 'longer', 'and', 'better', 'battles', 'such', 'as', 'the', 'immaculate', 'battle', 'of', 'hoth', 'a', 'much', 'darker', 'and', 'more', 'mature', 'plot', 'with', 'one', 'of', 'the', 'most', 'memorable', 'and', 'quoted', 'twists', 'of', 'all', 'time', 'at', 'at', 'walkers', 'the', 'introduction', 'of', 'yoda', 'are', 'some', 'of', 'the', 'reasons', 'why', 'empire', 'strikes', 'back', 'is', 'the', 'perfect', 'sequel', 'unlike', 'a', 'new', 'hope', 'this', 'film', 'was', 'not', 'directed', 'by', 'george', 'lucas', 'but', 'irvin', 'kershner', 'and', 'to', 'give', 'credit', 'where', 'credit', 'is', 'due', 'he', 'did', 'just', 'as', 'good', 'of', 'a', 'job', 'kershner', 'also', 'manages', 'to', 'get', 'the', 'best', 'possible', 'performances', 'out', 'of', 'his', 'cast', 'especially', 'hamill', 'whose', 'character', 'changed', 'drastically', 'since', 'the', 'last', 'film', 'we', 'also', 'see', 'more', 'of', 'vader', 'and', 'his', 'deranged', 'and', 'almost', 'animalistic', 'character', 'which', 'is', 'again', 'perfectly', 'displayed', 'by', 'james', 'earl', \"jones's\", 'vocals', 'empire', 'strikes', 'back', 'truly', 'is', 'the', 'perfect', 'sequel', 'as', 'it', 'flourishes', 'on', 'george', \"lucas's\", 'elements', 'as', 'well', 'as', 'bringing', 'in', 'many', 'more', 'of', 'its', 'own', 'in', 'great', 'succession', 'final', 'grade', '9', '10']\n"
     ]
    }
   ],
   "source": [
    "word_index = imdb.get_word_index()\n",
    "reverse_word_index = dict([(value, key) for (key, value) in word_index.items()])\n",
    "\n",
    "review = [reverse_word_index.get(i-3, \"?\") for i in NUM_list]\n",
    "\n",
    "print('NUM_list revert:\\n', review)"
   ]
  },
  {
   "cell_type": "markdown",
   "metadata": {},
   "source": [
    "### 思考\n",
    "先看这几个参数(前面已有中文释义)  \n",
    "•skip_top: skip the top N most frequently occurring words (which may not be informative).  \n",
    "•start_char: The start of a sequence will be marked with this character. Set to 1 because 0 is usually the padding character.  \n",
    "•oov_char: words that were cut out because of the num_words or skip_top limit will be replaced with this character.  \n",
    "\n",
    "那么**对星球大战评论预处理方式正确吗**？其实是**不正确的**，虽然能够还原，但在处理时忽略了一些参数的设置，从  \n",
    "tf.keras.datasets.imdb.load_data(path='imdb.npz', num_words=None, skip_top=0, maxlen=None, seed=113,  \n",
    "&ensp;&ensp;&ensp;&ensp;start_char=1, oov_char=2, index_from=3, \\*\\*kwargs)参数设置  \n",
    "    与实际打印出的训练数据的值，可以发现，训练数据第一个数值都是 1，这是根据 start_char 参数设定的，在数字列表超过阈值（这里读取设定为 5000），将超过的值用 skip_top 与 oov_char 替换，甚至还有 index_from 参数，而我们仅仅将超过 5000 的阈值用 skip_top=0 代替，这不免与原始数据集有一些误差，但是 TensorFlow2.x 也未提供如何将新的文本转换为数字列表，所以也就只有将就了"
   ]
  },
  {
   "cell_type": "markdown",
   "metadata": {},
   "source": [
    "## RNN(LSTM)实现正式开始"
   ]
  },
  {
   "cell_type": "markdown",
   "metadata": {},
   "source": [
    "### 导入必要包"
   ]
  },
  {
   "cell_type": "code",
   "execution_count": 58,
   "metadata": {},
   "outputs": [],
   "source": [
    "import numpy as np\n",
    "import datetime\n",
    "import os\n",
    "import re"
   ]
  },
  {
   "cell_type": "markdown",
   "metadata": {},
   "source": [
    "### 必要函数定义\n",
    "文件获取函数"
   ]
  },
  {
   "cell_type": "code",
   "execution_count": 40,
   "metadata": {},
   "outputs": [],
   "source": [
    "def read_files(filetype):\n",
    "    path = './data/aclImdb/'\n",
    "    file_list = []\n",
    "\n",
    "    positive_path = path + filetype + \"/pos/\"\n",
    "    for f in os.listdir(positive_path):\n",
    "        file_list += [positive_path + f]\n",
    "    pos_files_num = len(file_list)\n",
    "\n",
    "    negative_path = path + filetype + '/neg/'\n",
    "    for f in os.listdir(negative_path):\n",
    "        file_list += [negative_path + f]\n",
    "    neg_files_num = len(file_list) - pos_files_num\n",
    "\n",
    "    print('read', filetype, 'files:', len(file_list))\n",
    "    print(pos_files_num, 'pos files in', filetype, 'files')\n",
    "    print(neg_files_num, 'neg files in', filetype, 'files')\n",
    "\n",
    "    all_labels = ([[1, 0]] * pos_files_num + [[0, 1]] * neg_files_num)\n",
    "    all_texts = []\n",
    "    for fi in file_list:\n",
    "        with open(fi, encoding='utf8') as file_input:\n",
    "            all_texts += [remove_tags(\" \".join(file_input.readlines()))]\n",
    "\n",
    "    return all_labels, all_texts"
   ]
  },
  {
   "cell_type": "markdown",
   "metadata": {},
   "source": [
    "数据特殊字符处理(主要针对 html 残留格式)"
   ]
  },
  {
   "cell_type": "code",
   "execution_count": 41,
   "metadata": {},
   "outputs": [],
   "source": [
    "def remove_tags(text):\n",
    "    re_tag = re.compile(r'<[^>]+>')\n",
    "    return re_tag.sub('', text)"
   ]
  },
  {
   "cell_type": "code",
   "execution_count": 42,
   "metadata": {},
   "outputs": [
    {
     "name": "stdout",
     "output_type": "stream",
     "text": [
      "read train files: 25000\n",
      "12500 pos files in train files\n",
      "12500 neg files in train files\n",
      "read test files: 25000\n",
      "12500 pos files in test files\n",
      "12500 neg files in test files\n"
     ]
    }
   ],
   "source": [
    "train_labels, train_texts = read_files(\"train\")\n",
    "test_labels, test_texts = read_files(\"test\")"
   ]
  },
  {
   "cell_type": "code",
   "execution_count": 43,
   "metadata": {},
   "outputs": [
    {
     "name": "stdout",
     "output_type": "stream",
     "text": [
      "训练数据，正面评价例子 文本： Bromwell High is a cartoon comedy. It ran at the same time as some other programs about school life, such as \"Teachers\". My 35 years in the teaching profession lead me to believe that Bromwell High's satire is much closer to reality than is \"Teachers\". The scramble to survive financially, the insightful students who can see right through their pathetic teachers' pomp, the pettiness of the whole situation, all remind me of the schools I knew and their students. When I saw the episode in which a student repeatedly tried to burn down the school, I immediately recalled ......... at .......... High. A classic line: INSPECTOR: I'm here to sack one of your teachers. STUDENT: Welcome to Bromwell High. I expect that many adults of my age think that Bromwell High is far fetched. What a pity that it isn't!\n",
      "训练数据，正面评价例子 标签： [1, 0]\n",
      "训练数据，负面评价例子 文本： Story of a man who has unnatural feelings for a pig. Starts out with a opening scene that is a terrific example of absurd comedy. A formal orchestra audience is turned into an insane, violent mob by the crazy chantings of it's singers. Unfortunately it stays absurd the WHOLE time with no general narrative eventually making it just too off putting. Even those from the era should be turned off. The cryptic dialogue would make Shakespeare seem easy to a third grader. On a technical level it's better than you might think with some good cinematography by future great Vilmos Zsigmond. Future stars Sally Kirkland and Frederic Forrest can be seen briefly.\n",
      "训练数据，负面评价例子 标签： [0, 1]\n",
      "测试数据，正面评价例子 文本： I went and saw this movie last night after being coaxed to by a few friends of mine. I'll admit that I was reluctant to see it because from what I knew of Ashton Kutcher he was only able to do comedy. I was wrong. Kutcher played the character of Jake Fischer very well, and Kevin Costner played Ben Randall with such professionalism. The sign of a good movie is that it can toy with our emotions. This one did exactly that. The entire theater (which was sold out) was overcome by laughter during the first half of the movie, and were moved to tears during the second half. While exiting the theater I not only saw many women in tears, but many full grown men as well, trying desperately not to let anyone see them crying. This movie was great, and I suggest that you go see it before you judge.\n",
      "测试数据，正面评价例子 标签： [1, 0]\n",
      "测试数据，负面评价例子 文本： Once again Mr. Costner has dragged out a movie for far longer than necessary. Aside from the terrific sea rescue sequences, of which there are very few I just did not care about any of the characters. Most of us have ghosts in the closet, and Costner's character are realized early on, and then forgotten until much later, by which time I did not care. The character we should really care about is a very cocky, overconfident Ashton Kutcher. The problem is he comes off as kid who thinks he's better than anyone else around him and shows no signs of a cluttered closet. His only obstacle appears to be winning over Costner. Finally when we are well past the half way point of this stinker, Costner tells us all about Kutcher's ghosts. We are told why Kutcher is driven to be the best with no prior inkling or foreshadowing. No magic here, it was all I could do to keep from turning it off an hour in.\n",
      "测试数据，负面评价例子 标签： [0, 1]\n"
     ]
    }
   ],
   "source": [
    "print(\"训练数据，正面评价例子 文本：\", train_texts[0])\n",
    "print(\"训练数据，正面评价例子 标签：\", train_labels[0])\n",
    "print(\"训练数据，负面评价例子 文本：\", train_texts[12500])\n",
    "print(\"训练数据，负面评价例子 标签：\", train_labels[12500])\n",
    "\n",
    "print(\"测试数据，正面评价例子 文本：\", test_texts[0])\n",
    "print(\"测试数据，正面评价例子 标签：\", test_labels[0])\n",
    "print(\"测试数据，负面评价例子 文本：\", test_texts[12500])\n",
    "print(\"测试数据，负面评价例子 标签：\", test_labels[12500])"
   ]
  },
  {
   "cell_type": "markdown",
   "metadata": {},
   "source": [
    "### 建立词汇词典"
   ]
  },
  {
   "cell_type": "code",
   "execution_count": 44,
   "metadata": {},
   "outputs": [],
   "source": [
    "token = tf.keras.preprocessing.text.Tokenizer(num_words=5000)\n",
    "\n",
    "token.fit_on_texts(train_texts)"
   ]
  },
  {
   "cell_type": "markdown",
   "metadata": {},
   "source": [
    "查看读取文档数"
   ]
  },
  {
   "cell_type": "code",
   "execution_count": 45,
   "metadata": {},
   "outputs": [
    {
     "name": "stdout",
     "output_type": "stream",
     "text": [
      "Files read 25000\n"
     ]
    }
   ],
   "source": [
    "print('Files read', token.document_count)"
   ]
  },
  {
   "cell_type": "markdown",
   "metadata": {},
   "source": [
    "单词映射排名或索引"
   ]
  },
  {
   "cell_type": "code",
   "execution_count": null,
   "metadata": {},
   "outputs": [],
   "source": [
    "print('Word index', token.word_index)"
   ]
  },
  {
   "cell_type": "markdown",
   "metadata": {},
   "source": [
    "单词映射为训练期间所出现文档或文本数量"
   ]
  },
  {
   "cell_type": "code",
   "execution_count": 47,
   "metadata": {},
   "outputs": [],
   "source": [
    "print(token.word_docs)"
   ]
  },
  {
   "cell_type": "markdown",
   "metadata": {},
   "source": [
    "获取各词出现频率"
   ]
  },
  {
   "cell_type": "code",
   "execution_count": null,
   "metadata": {},
   "outputs": [],
   "source": [
    "print(token.word_counts)"
   ]
  },
  {
   "cell_type": "markdown",
   "metadata": {},
   "source": [
    "### 文字转数字列表"
   ]
  },
  {
   "cell_type": "code",
   "execution_count": 49,
   "metadata": {},
   "outputs": [
    {
     "name": "stdout",
     "output_type": "stream",
     "text": [
      "文本信息：\n",
      " Bromwell High is a cartoon comedy. It ran at the same time as some other programs about school life, such as \"Teachers\". My 35 years in the teaching profession lead me to believe that Bromwell High's satire is much closer to reality than is \"Teachers\". The scramble to survive financially, the insightful students who can see right through their pathetic teachers' pomp, the pettiness of the whole situation, all remind me of the schools I knew and their students. When I saw the episode in which a student repeatedly tried to burn down the school, I immediately recalled ......... at .......... High. A classic line: INSPECTOR: I'm here to sack one of your teachers. STUDENT: Welcome to Bromwell High. I expect that many adults of my age think that Bromwell High is far fetched. What a pity that it isn't!\n",
      "对应数字信息：\n",
      " [308, 6, 3, 1068, 208, 8, 2160, 29, 1, 168, 54, 13, 45, 81, 40, 391, 109, 137, 13, 57, 4445, 149, 7, 1, 4986, 481, 68, 5, 260, 11, 2000, 6, 72, 2422, 5, 631, 70, 6, 1, 5, 2001, 1, 1530, 33, 66, 63, 204, 139, 64, 1229, 1, 4, 1, 222, 899, 28, 3021, 68, 4, 1, 9, 693, 2, 64, 1530, 50, 9, 215, 1, 386, 7, 59, 3, 1470, 3710, 798, 5, 3509, 176, 1, 391, 9, 1235, 29, 308, 3, 352, 343, 2970, 142, 129, 5, 27, 4, 125, 1470, 2372, 5, 308, 9, 532, 11, 107, 1466, 4, 57, 554, 100, 11, 308, 6, 226, 4173, 47, 3, 2231, 11, 8, 214]\n"
     ]
    }
   ],
   "source": [
    "train_sequences = token.texts_to_sequences(train_texts)\n",
    "test_sequences = token.texts_to_sequences(test_texts)\n",
    "\n",
    "print(\"文本信息：\\n\", train_texts[0])\n",
    "print(\"对应数字信息：\\n\", train_sequences[0])"
   ]
  },
  {
   "cell_type": "markdown",
   "metadata": {},
   "source": [
    "### 文本截长补短\n",
    "以 300 为例"
   ]
  },
  {
   "cell_type": "code",
   "execution_count": 50,
   "metadata": {},
   "outputs": [],
   "source": [
    "x_train = tf.keras.preprocessing.sequence.pad_sequences(train_sequences,\n",
    "                             padding='post',\n",
    "                             truncating='post',\n",
    "                             maxlen=300)\n",
    "x_test = tf.keras.preprocessing.sequence.pad_sequences(test_sequences,\n",
    "                             padding='post',\n",
    "                             truncating='post',\n",
    "                             maxlen=300)"
   ]
  },
  {
   "cell_type": "code",
   "execution_count": 51,
   "metadata": {},
   "outputs": [
    {
     "data": {
      "text/plain": [
       "(25000, 300)"
      ]
     },
     "execution_count": 51,
     "metadata": {},
     "output_type": "execute_result"
    }
   ],
   "source": [
    "x_train.shape"
   ]
  },
  {
   "cell_type": "code",
   "execution_count": 52,
   "metadata": {},
   "outputs": [],
   "source": [
    "y_train = np.array(train_labels)\n",
    "y_test = np.array(test_labels)"
   ]
  },
  {
   "cell_type": "code",
   "execution_count": 53,
   "metadata": {},
   "outputs": [
    {
     "name": "stdout",
     "output_type": "stream",
     "text": [
      "填充后数字列表：\n",
      " [ 308    6    3 1068  208    8 2160   29    1  168   54   13   45   81\n",
      "   40  391  109  137   13   57 4445  149    7    1 4986  481   68    5\n",
      "  260   11 2000    6   72 2422    5  631   70    6    1    5 2001    1\n",
      " 1530   33   66   63  204  139   64 1229    1    4    1  222  899   28\n",
      " 3021   68    4    1    9  693    2   64 1530   50    9  215    1  386\n",
      "    7   59    3 1470 3710  798    5 3509  176    1  391    9 1235   29\n",
      "  308    3  352  343 2970  142  129    5   27    4  125 1470 2372    5\n",
      "  308    9  532   11  107 1466    4   57  554  100   11  308    6  226\n",
      " 4173   47    3 2231   11    8  214    0    0    0    0    0    0    0\n",
      "    0    0    0    0    0    0    0    0    0    0    0    0    0    0\n",
      "    0    0    0    0    0    0    0    0    0    0    0    0    0    0\n",
      "    0    0    0    0    0    0    0    0    0    0    0    0    0    0\n",
      "    0    0    0    0    0    0    0    0    0    0    0    0    0    0\n",
      "    0    0    0    0    0    0    0    0    0    0    0    0    0    0\n",
      "    0    0    0    0    0    0    0    0    0    0    0    0    0    0\n",
      "    0    0    0    0    0    0    0    0    0    0    0    0    0    0\n",
      "    0    0    0    0    0    0    0    0    0    0    0    0    0    0\n",
      "    0    0    0    0    0    0    0    0    0    0    0    0    0    0\n",
      "    0    0    0    0    0    0    0    0    0    0    0    0    0    0\n",
      "    0    0    0    0    0    0    0    0    0    0    0    0    0    0\n",
      "    0    0    0    0    0    0    0    0    0    0    0    0    0    0\n",
      "    0    0    0    0    0    0]\n"
     ]
    }
   ],
   "source": [
    "print(\"填充后数字列表：\\n\", x_train[0])"
   ]
  },
  {
   "cell_type": "markdown",
   "metadata": {},
   "source": [
    "### 模型构建"
   ]
  },
  {
   "cell_type": "code",
   "execution_count": 54,
   "metadata": {},
   "outputs": [],
   "source": [
    "model = tf.keras.models.Sequential()"
   ]
  },
  {
   "cell_type": "markdown",
   "metadata": {},
   "source": [
    "在前一篇博客中有`tf.keras.layers.GlobalAveragePooling2D()`代替全连接层，全局池化在神经网络的全连接层具有一定的优越性，上面已使用一次，这里使用`tf.keras.layers.Flatten()`"
   ]
  },
  {
   "cell_type": "code",
   "execution_count": 55,
   "metadata": {},
   "outputs": [
    {
     "name": "stdout",
     "output_type": "stream",
     "text": [
      "Model: \"sequential_1\"\n",
      "_________________________________________________________________\n",
      "Layer (type)                 Output Shape              Param #   \n",
      "=================================================================\n",
      "embedding_1 (Embedding)      (None, 300, 32)           160000    \n",
      "_________________________________________________________________\n",
      "flatten (Flatten)            (None, 9600)              0         \n",
      "_________________________________________________________________\n",
      "dense_2 (Dense)              (None, 256)               2457856   \n",
      "_________________________________________________________________\n",
      "dropout_1 (Dropout)          (None, 256)               0         \n",
      "_________________________________________________________________\n",
      "dense_3 (Dense)              (None, 2)                 514       \n",
      "=================================================================\n",
      "Total params: 2,618,370\n",
      "Trainable params: 2,618,370\n",
      "Non-trainable params: 0\n",
      "_________________________________________________________________\n"
     ]
    }
   ],
   "source": [
    "model.add(tf.keras.layers.Embedding(output_dim=32,\n",
    "                  input_dim=5000,\n",
    "                  input_length=300))\n",
    "\n",
    "model.add(tf.keras.layers.Flatten())\n",
    "model.add(tf.keras.layers.Dense(units=256, activation='relu'))\n",
    "model.add(tf.keras.layers.Dropout(0.3))\n",
    "model.add(tf.keras.layers.Dense(units=2, activation='softmax'))\n",
    "\n",
    "model.summary()"
   ]
  },
  {
   "cell_type": "code",
   "execution_count": 56,
   "metadata": {},
   "outputs": [],
   "source": [
    "model.compile(optimizer='adam',\n",
    "       loss='categorical_crossentropy',\n",
    "       metrics=['accuracy'])"
   ]
  },
  {
   "cell_type": "code",
   "execution_count": 62,
   "metadata": {},
   "outputs": [],
   "source": [
    "log_dir = os.path.join(\n",
    "    'logs2.x',\n",
    "    'train',\n",
    "    'plugins',\n",
    "    'profile',\n",
    "    datetime.datetime.now().strftime('%Y-%m-%d_%H-%M-%S'))\n",
    "\n",
    "checkpoint_path = './checkpoint2.x/nlp.{epoch:02d}.h5'\n",
    "\n",
    "if not os.path.exists('./checkpoint2.x'):\n",
    "    os.mkdir('./checkpoint2.x')\n",
    "\n",
    "\n",
    "callbacks = [\n",
    "    tf.keras.callbacks.TensorBoard(log_dir=log_dir,\n",
    "                         histogram_freq=2),\n",
    "    tf.keras.callbacks.ModelCheckpoint(filepath=checkpoint_path,\n",
    "                                       save_weights_only=True,\n",
    "                                       verbose=0,\n",
    "                                       save_freq='epoch'),\n",
    "    tf.keras.callbacks.EarlyStopping(monitor='val_accuracy', patience=5)\n",
    "]"
   ]
  },
  {
   "cell_type": "code",
   "execution_count": 63,
   "metadata": {},
   "outputs": [
    {
     "name": "stdout",
     "output_type": "stream",
     "text": [
      "Train on 20000 samples, validate on 5000 samples\n",
      "Epoch 1/20\n",
      "20000/20000 [==============================] - 3s 147us/sample - loss: 5.4748e-04 - accuracy: 1.0000 - val_loss: 1.2081 - val_accuracy: 0.7682\n",
      "Epoch 2/20\n",
      "20000/20000 [==============================] - 3s 130us/sample - loss: 3.3104e-04 - accuracy: 1.0000 - val_loss: 1.1862 - val_accuracy: 0.7804\n",
      "Epoch 3/20\n",
      "20000/20000 [==============================] - 3s 142us/sample - loss: 2.4753e-04 - accuracy: 1.0000 - val_loss: 1.2905 - val_accuracy: 0.7690\n",
      "Epoch 4/20\n",
      "20000/20000 [==============================] - 3s 138us/sample - loss: 1.7880e-04 - accuracy: 1.0000 - val_loss: 1.2901 - val_accuracy: 0.7726\n",
      "Epoch 5/20\n",
      "20000/20000 [==============================] - 3s 151us/sample - loss: 1.3524e-04 - accuracy: 1.0000 - val_loss: 1.3295 - val_accuracy: 0.7720\n",
      "Epoch 6/20\n",
      "20000/20000 [==============================] - 3s 130us/sample - loss: 1.0861e-04 - accuracy: 1.0000 - val_loss: 1.3143 - val_accuracy: 0.7790\n",
      "Epoch 7/20\n",
      "20000/20000 [==============================] - 3s 140us/sample - loss: 9.1809e-05 - accuracy: 1.0000 - val_loss: 1.3301 - val_accuracy: 0.7800\n"
     ]
    }
   ],
   "source": [
    "history = model.fit(x_train,\n",
    "            y_train,\n",
    "            validation_split=0.2,\n",
    "            epochs=20,\n",
    "            batch_size=128,\n",
    "            callbacks=callbacks,\n",
    "            verbose=1)"
   ]
  },
  {
   "cell_type": "markdown",
   "metadata": {},
   "source": [
    "### 训练可视乎\n",
    "由于加入了监控 val_accuracy 的早停参数，训练 7 轮截至"
   ]
  },
  {
   "cell_type": "code",
   "execution_count": 64,
   "metadata": {},
   "outputs": [
    {
     "data": {
      "image/png": "[encoded data removed]",
      "text/plain": [
       "<Figure size 720x360 with 2 Axes>"
      ]
     },
     "metadata": {
      "needs_background": "light"
     },
     "output_type": "display_data"
    }
   ],
   "source": [
    "fig = plt.gcf()\n",
    "fig.set_size_inches(10, 5)\n",
    "ax1 = fig.add_subplot(111)\n",
    "ax1.set_title('Train and Validation Picture')\n",
    "ax1.set_ylabel('Loss value')\n",
    "line1, = ax1.plot(history.history['loss'], color=(0.5, 0.5, 1.0), label='Loss train')\n",
    "line2, = ax1.plot(history.history['val_loss'], color=(0.5, 1.0, 0.5), label='Loss valid')\n",
    "ax2 = ax1.twinx()\n",
    "ax2.set_ylabel('Accuracy value')\n",
    "line3, = ax2.plot(history.history['accuracy'], color=(0.5, 0.5, 0.5), label='Accuracy train')\n",
    "line4, = ax2.plot(history.history['val_accuracy'], color=(1, 0, 0), label='Accuracy valid')\n",
    "plt.legend(handles=(line1, line2, line3, line4), loc='best')\n",
    "plt.show()"
   ]
  },
  {
   "cell_type": "markdown",
   "metadata": {},
   "source": [
    "### 模型评估"
   ]
  },
  {
   "cell_type": "code",
   "execution_count": 65,
   "metadata": {},
   "outputs": [
    {
     "name": "stdout",
     "output_type": "stream",
     "text": [
      "25000/1 - 8s - loss: 2.1999 - accuracy: 0.8380\n",
      "Test accuracy： 0.83804\n"
     ]
    }
   ],
   "source": [
    "test_loss, test_acc = model.evaluate(x_test, y_test, verbose=2)\n",
    "print('Test accuracy：', test_acc)"
   ]
  },
  {
   "cell_type": "markdown",
   "metadata": {},
   "source": [
    "### 利用模型预测外部评论"
   ]
  },
  {
   "cell_type": "code",
   "execution_count": 66,
   "metadata": {},
   "outputs": [],
   "source": [
    "review_text='''Star Wars Episode V - The Empire Strikes Back was released in 1980, three years after its overwhelmingly successful predecessor.\n",
    "        To say The Empire Strikes Back does justice to A New Hope is a massive understatement as this film ups the ante in every way possible. Longer and better battles (such as the immaculate Battle of Hoth), a much darker and more mature plot with one of the most memorable (and quoted) twists of all time, AT-AT walkers, the introduction of Yoda are some of the reasons why Empire Strikes Back is the perfect sequel.\n",
    "        Unlike A New Hope, this film was not directed by George Lucas but Irvin Kershner and to give credit where credit is due he did just as good of a job. Kershner also manages to get the best possible performances out of his cast, especially Hamill whose character changed drastically since the last film. We also see more of Vader and his deranged and almost animalistic character which is again perfectly displayed by James Earl Jones's vocals.\n",
    "        Empire Strikes Back truly is the perfect sequel as it flourishes on George Lucas's elements as well as bringing in many more of its own in great succession.\n",
    "        Final Grade - 9+/10\n",
    "      '''"
   ]
  },
  {
   "cell_type": "code",
   "execution_count": 67,
   "metadata": {},
   "outputs": [],
   "source": [
    "sentiment_dict = {0:'pos', 1:'neg'}\n",
    "\n",
    "def display_text_sentiment(text):\n",
    "    print(text)\n",
    "    input_seq = token.texts_to_sequences([text])\n",
    "    pad_input_seq = tf.keras.preprocessing.sequence.pad_sequences(input_seq,\n",
    "                                  padding='post',\n",
    "                                  truncating='post',\n",
    "                                  maxlen=300)\n",
    "    pred = model.predict(pad_input_seq)\n",
    "    print('predict value:', sentiment_dict[np.argmax(pred)])"
   ]
  },
  {
   "cell_type": "code",
   "execution_count": 68,
   "metadata": {},
   "outputs": [
    {
     "name": "stdout",
     "output_type": "stream",
     "text": [
      "Star Wars Episode V - The Empire Strikes Back was released in 1980, three years after its overwhelmingly successful predecessor.\n",
      "        To say The Empire Strikes Back does justice to A New Hope is a massive understatement as this film ups the ante in every way possible. Longer and better battles (such as the immaculate Battle of Hoth), a much darker and more mature plot with one of the most memorable (and quoted) twists of all time, AT-AT walkers, the introduction of Yoda are some of the reasons why Empire Strikes Back is the perfect sequel.\n",
      "        Unlike A New Hope, this film was not directed by George Lucas but Irvin Kershner and to give credit where credit is due he did just as good of a job. Kershner also manages to get the best possible performances out of his cast, especially Hamill whose character changed drastically since the last film. We also see more of Vader and his deranged and almost animalistic character which is again perfectly displayed by James Earl Jones's vocals.\n",
      "        Empire Strikes Back truly is the perfect sequel as it flourishes on George Lucas's elements as well as bringing in many more of its own in great succession.\n",
      "        Final Grade - 9+/10\n",
      "      \n",
      "predict value: pos\n"
     ]
    }
   ],
   "source": [
    "display_text_sentiment(review_text)"
   ]
  },
  {
   "cell_type": "markdown",
   "metadata": {},
   "source": [
    "### 导入已存储模型进行识别\n",
    "注意`tf.train.latest_checkpoint`只适用于`ckpt`形式"
   ]
  },
  {
   "cell_type": "code",
   "execution_count": 74,
   "metadata": {},
   "outputs": [
    {
     "name": "stdout",
     "output_type": "stream",
     "text": [
      "Star Wars Episode V - The Empire Strikes Back was released in 1980, three years after its overwhelmingly successful predecessor.\n",
      "        To say The Empire Strikes Back does justice to A New Hope is a massive understatement as this film ups the ante in every way possible. Longer and better battles (such as the immaculate Battle of Hoth), a much darker and more mature plot with one of the most memorable (and quoted) twists of all time, AT-AT walkers, the introduction of Yoda are some of the reasons why Empire Strikes Back is the perfect sequel.\n",
      "        Unlike A New Hope, this film was not directed by George Lucas but Irvin Kershner and to give credit where credit is due he did just as good of a job. Kershner also manages to get the best possible performances out of his cast, especially Hamill whose character changed drastically since the last film. We also see more of Vader and his deranged and almost animalistic character which is again perfectly displayed by James Earl Jones's vocals.\n",
      "        Empire Strikes Back truly is the perfect sequel as it flourishes on George Lucas's elements as well as bringing in many more of its own in great succession.\n",
      "        Final Grade - 9+/10\n",
      "      \n",
      "predict value: pos\n"
     ]
    }
   ],
   "source": [
    "model.load_weights('./checkpoint2.x/nlp.07.h5')\n",
    "\n",
    "display_text_sentiment(review_text)"
   ]
  }
 ],
 "metadata": {
  "kernelspec": {
   "display_name": "Python 3",
   "language": "python",
   "name": "python3"
  },
  "language_info": {
   "codemirror_mode": {
    "name": "ipython",
    "version": 3
   },
   "file_extension": ".py",
   "mimetype": "text/x-python",
   "name": "python",
   "nbconvert_exporter": "python",
   "pygments_lexer": "ipython3",
   "version": "3.6.2"
  }
 },
 "nbformat": 4,
 "nbformat_minor": 4
}
